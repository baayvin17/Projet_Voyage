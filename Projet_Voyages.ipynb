{
 "cells": [
  {
   "cell_type": "markdown",
   "metadata": {},
   "source": [
    "# <font color=\"red\">Comment les caractéristiques des voyageurs et leurs choix d'hébergement et de transport affectent-ils la durée et le coût de leurs voyages ?</font>\n"
   ]
  },
  {
   "cell_type": "markdown",
   "metadata": {},
   "source": [
    "#### Dans ce projet, nous explorerons comment les différentes caractéristiques des voyageurs, ainsi que leurs choix en matière d'hébergement et de transport, influencent à la fois la durée et le coût de leurs voyages, en analysant des données provenant de diverses sources pour identifier des patterns et des facteurs déterminants"
   ]
  },
  {
   "cell_type": "markdown",
   "metadata": {},
   "source": [
    "Pour cela nous avons choisi un dataset trouvé sur kaggle https://www.kaggle.com/datasets/delcdiotivane/travel-details-dataset\n",
    " qui contient des informations détaillées sur les voyages effectués par divers voyageurs, incluant des données sur leur destination, la durée du voyage, les coûts d'hébergement et de transport, ainsi que des caractéristiques démographiques telles que l'âge, la nationalité et le sexe des voyageurs, ainsi que leurs choix d'hébergement et de transport\n",
    "\n",
    "Voici ce que chaque colonne représente dans ton fichier CSV :\n",
    "\n",
    "Trip ID : Identifiant unique pour chaque voyage.     \n",
    "Destination : Lieu de destination du voyage      \n",
    "Start date : Date de début du voyage.     \n",
    "End date : Date de fin du voyage.     \n",
    "Duration (days) : Durée du voyage en jours.     \n",
    "Traveler name : Nom du voyageur.     \n",
    "Traveler age : Âge du voyageur.     \n",
    "Traveler nationality : Nationalité du voyageur.     \n",
    "Accommodation cost : Coût de l'hébergement durant le voyage.     \n",
    "Transportation cost : Coût du transport durant le voyage.     \n",
    "Accommodation type : Type d'hébergement choisi (ex. Hotel, Airbnb..).     \n",
    "Traveler gender : Sexe du voyageur (Male ou Female).     \n",
    "Transportation type : Type de transport utilisé durant le voyage (ex. Plane, Car rental, Train, etc.) "
   ]
  },
  {
   "cell_type": "markdown",
   "metadata": {},
   "source": [
    "### Importation des packages :"
   ]
  },
  {
   "cell_type": "code",
   "execution_count": 26,
   "metadata": {},
   "outputs": [],
   "source": [
    "import pandas as pd\n",
    "import plotly.express as px  \n",
    "import re\n",
    "import plotly.graph_objects as go"
   ]
  },
  {
   "cell_type": "markdown",
   "metadata": {},
   "source": [
    "### Traitement de données "
   ]
  },
  {
   "cell_type": "code",
   "execution_count": 27,
   "metadata": {},
   "outputs": [],
   "source": [
    "df = pd.read_csv('travel_data_modified.csv')\n"
   ]
  },
  {
   "cell_type": "code",
   "execution_count": 28,
   "metadata": {},
   "outputs": [
    {
     "data": {
      "text/html": [
       "<div>\n",
       "<style scoped>\n",
       "    .dataframe tbody tr th:only-of-type {\n",
       "        vertical-align: middle;\n",
       "    }\n",
       "\n",
       "    .dataframe tbody tr th {\n",
       "        vertical-align: top;\n",
       "    }\n",
       "\n",
       "    .dataframe thead th {\n",
       "        text-align: right;\n",
       "    }\n",
       "</style>\n",
       "<table border=\"1\" class=\"dataframe\">\n",
       "  <thead>\n",
       "    <tr style=\"text-align: right;\">\n",
       "      <th></th>\n",
       "      <th>Trip ID</th>\n",
       "      <th>Destination</th>\n",
       "      <th>Start date</th>\n",
       "      <th>End date</th>\n",
       "      <th>Duration (days)</th>\n",
       "      <th>Traveler name</th>\n",
       "      <th>Traveler age</th>\n",
       "      <th>Traveler gender</th>\n",
       "      <th>Traveler nationality</th>\n",
       "      <th>Accommodation type</th>\n",
       "      <th>Accommodation cost</th>\n",
       "      <th>Transportation type</th>\n",
       "      <th>Transportation cost</th>\n",
       "    </tr>\n",
       "  </thead>\n",
       "  <tbody>\n",
       "    <tr>\n",
       "      <th>0</th>\n",
       "      <td>1</td>\n",
       "      <td>Istanbul</td>\n",
       "      <td>2023-07-12 00:00:00</td>\n",
       "      <td>2023-07-15</td>\n",
       "      <td>3</td>\n",
       "      <td>Emily Nelson</td>\n",
       "      <td>58</td>\n",
       "      <td>Female</td>\n",
       "      <td>Spanish</td>\n",
       "      <td>Airbnb</td>\n",
       "      <td>352.81</td>\n",
       "      <td>Plane</td>\n",
       "      <td>42.36</td>\n",
       "    </tr>\n",
       "    <tr>\n",
       "      <th>1</th>\n",
       "      <td>2</td>\n",
       "      <td>Miami</td>\n",
       "      <td>2023-06-11 00:00:00</td>\n",
       "      <td>2023-06-28</td>\n",
       "      <td>17</td>\n",
       "      <td>Ashley Short</td>\n",
       "      <td>33</td>\n",
       "      <td>Male</td>\n",
       "      <td>Brazilian</td>\n",
       "      <td>Hotel</td>\n",
       "      <td>507.17</td>\n",
       "      <td>Bus</td>\n",
       "      <td>502.06</td>\n",
       "    </tr>\n",
       "    <tr>\n",
       "      <th>2</th>\n",
       "      <td>3</td>\n",
       "      <td>Bangkok</td>\n",
       "      <td>2024-08-01 00:00:00</td>\n",
       "      <td>2024-08-26</td>\n",
       "      <td>25</td>\n",
       "      <td>Madeline Hood</td>\n",
       "      <td>48</td>\n",
       "      <td>Male</td>\n",
       "      <td>Mexican</td>\n",
       "      <td>Hotel</td>\n",
       "      <td>177.19</td>\n",
       "      <td>Bus</td>\n",
       "      <td>253.9</td>\n",
       "    </tr>\n",
       "    <tr>\n",
       "      <th>3</th>\n",
       "      <td>4</td>\n",
       "      <td>Rome</td>\n",
       "      <td>2024-08-13 00:00:00</td>\n",
       "      <td>2024-08-30</td>\n",
       "      <td>17</td>\n",
       "      <td>Kelsey Mcclure</td>\n",
       "      <td>52</td>\n",
       "      <td>Male</td>\n",
       "      <td>German</td>\n",
       "      <td>Resort</td>\n",
       "      <td>162.32</td>\n",
       "      <td>Bus</td>\n",
       "      <td>969.8</td>\n",
       "    </tr>\n",
       "    <tr>\n",
       "      <th>4</th>\n",
       "      <td>5</td>\n",
       "      <td>Sydney</td>\n",
       "      <td>2023-08-18 00:00:00</td>\n",
       "      <td>2023-09-06</td>\n",
       "      <td>19</td>\n",
       "      <td>Mark Cuevas</td>\n",
       "      <td>77</td>\n",
       "      <td>Female</td>\n",
       "      <td>Norwegian</td>\n",
       "      <td>Hotel</td>\n",
       "      <td>432.8</td>\n",
       "      <td>Train</td>\n",
       "      <td>697.69</td>\n",
       "    </tr>\n",
       "  </tbody>\n",
       "</table>\n",
       "</div>"
      ],
      "text/plain": [
       "   Trip ID Destination           Start date    End date  Duration (days)  \\\n",
       "0        1    Istanbul  2023-07-12 00:00:00  2023-07-15                3   \n",
       "1        2       Miami  2023-06-11 00:00:00  2023-06-28               17   \n",
       "2        3     Bangkok  2024-08-01 00:00:00  2024-08-26               25   \n",
       "3        4        Rome  2024-08-13 00:00:00  2024-08-30               17   \n",
       "4        5      Sydney  2023-08-18 00:00:00  2023-09-06               19   \n",
       "\n",
       "    Traveler name  Traveler age Traveler gender Traveler nationality  \\\n",
       "0    Emily Nelson            58          Female              Spanish   \n",
       "1    Ashley Short            33            Male            Brazilian   \n",
       "2   Madeline Hood            48            Male              Mexican   \n",
       "3  Kelsey Mcclure            52            Male               German   \n",
       "4     Mark Cuevas            77          Female            Norwegian   \n",
       "\n",
       "  Accommodation type Accommodation cost Transportation type  \\\n",
       "0             Airbnb             352.81               Plane   \n",
       "1              Hotel             507.17                 Bus   \n",
       "2              Hotel             177.19                 Bus   \n",
       "3             Resort             162.32                 Bus   \n",
       "4              Hotel              432.8               Train   \n",
       "\n",
       "  Transportation cost  \n",
       "0               42.36  \n",
       "1              502.06  \n",
       "2               253.9  \n",
       "3               969.8  \n",
       "4              697.69  "
      ]
     },
     "execution_count": 28,
     "metadata": {},
     "output_type": "execute_result"
    }
   ],
   "source": [
    "df.head()"
   ]
  },
  {
   "cell_type": "code",
   "execution_count": 29,
   "metadata": {},
   "outputs": [
    {
     "name": "stdout",
     "output_type": "stream",
     "text": [
      "<class 'pandas.core.frame.DataFrame'>\n",
      "RangeIndex: 1916 entries, 0 to 1915\n",
      "Data columns (total 13 columns):\n",
      " #   Column                Non-Null Count  Dtype \n",
      "---  ------                --------------  ----- \n",
      " 0   Trip ID               1916 non-null   int64 \n",
      " 1   Destination           1916 non-null   object\n",
      " 2   Start date            1916 non-null   object\n",
      " 3   End date              1824 non-null   object\n",
      " 4   Duration (days)       1916 non-null   int64 \n",
      " 5   Traveler name         1916 non-null   object\n",
      " 6   Traveler age          1916 non-null   int64 \n",
      " 7   Traveler gender       1916 non-null   object\n",
      " 8   Traveler nationality  1916 non-null   object\n",
      " 9   Accommodation type    1916 non-null   object\n",
      " 10  Accommodation cost    1865 non-null   object\n",
      " 11  Transportation type   1916 non-null   object\n",
      " 12  Transportation cost   1871 non-null   object\n",
      "dtypes: int64(3), object(10)\n",
      "memory usage: 194.7+ KB\n"
     ]
    }
   ],
   "source": [
    "df.info()"
   ]
  },
  {
   "cell_type": "markdown",
   "metadata": {},
   "source": [
    "**Nous pouvons voir que la date de début et de fin sont dans le type de données objet. nous allons résoudre ce problème afin de pouvoir l'utiliser dans des graphiques sans aucun problème.**"
   ]
  },
  {
   "cell_type": "code",
   "execution_count": 30,
   "metadata": {},
   "outputs": [
    {
     "name": "stdout",
     "output_type": "stream",
     "text": [
      "Dates modifiées dans le format approprié\n",
      "<class 'pandas.core.frame.DataFrame'>\n",
      "RangeIndex: 1916 entries, 0 to 1915\n",
      "Data columns (total 13 columns):\n",
      " #   Column                Non-Null Count  Dtype         \n",
      "---  ------                --------------  -----         \n",
      " 0   Trip ID               1916 non-null   int64         \n",
      " 1   Destination           1916 non-null   object        \n",
      " 2   Start date            792 non-null    datetime64[ns]\n",
      " 3   End date              1824 non-null   datetime64[ns]\n",
      " 4   Duration (days)       1916 non-null   int64         \n",
      " 5   Traveler name         1916 non-null   object        \n",
      " 6   Traveler age          1916 non-null   int64         \n",
      " 7   Traveler gender       1916 non-null   object        \n",
      " 8   Traveler nationality  1916 non-null   object        \n",
      " 9   Accommodation type    1916 non-null   object        \n",
      " 10  Accommodation cost    1865 non-null   object        \n",
      " 11  Transportation type   1916 non-null   object        \n",
      " 12  Transportation cost   1871 non-null   object        \n",
      "dtypes: datetime64[ns](2), int64(3), object(8)\n",
      "memory usage: 194.7+ KB\n"
     ]
    },
    {
     "name": "stderr",
     "output_type": "stream",
     "text": [
      "C:\\Users\\baayv\\AppData\\Local\\Temp\\ipykernel_18468\\1741203798.py:3: UserWarning:\n",
      "\n",
      "Parsing dates in %Y-%m-%d format when dayfirst=True was specified. Pass `dayfirst=False` or specify a format to silence this warning.\n",
      "\n"
     ]
    }
   ],
   "source": [
    "# Convertir les dates, en essayant différents formats\n",
    "df['Start date'] = pd.to_datetime(df['Start date'], errors='coerce', dayfirst=True)\n",
    "df['End date'] = pd.to_datetime(df['End date'], errors='coerce', dayfirst=True)\n",
    "\n",
    "print(\"Dates modifiées dans le format approprié\")\n",
    "df.info()\n"
   ]
  },
  {
   "cell_type": "markdown",
   "metadata": {},
   "source": [
    "### Vérification des valeurs nulles"
   ]
  },
  {
   "cell_type": "code",
   "execution_count": 31,
   "metadata": {},
   "outputs": [
    {
     "data": {
      "text/plain": [
       "Trip ID                    0\n",
       "Destination                0\n",
       "Start date              1124\n",
       "End date                  92\n",
       "Duration (days)            0\n",
       "Traveler name              0\n",
       "Traveler age               0\n",
       "Traveler gender            0\n",
       "Traveler nationality       0\n",
       "Accommodation type         0\n",
       "Accommodation cost        51\n",
       "Transportation type        0\n",
       "Transportation cost       45\n",
       "dtype: int64"
      ]
     },
     "execution_count": 31,
     "metadata": {},
     "output_type": "execute_result"
    }
   ],
   "source": [
    "df.isna().sum()"
   ]
  },
  {
   "cell_type": "markdown",
   "metadata": {},
   "source": [
    "Il y a quelques données manquantes dans l'ensemble du jeu de données, donc on va les supprimer. \n"
   ]
  },
  {
   "cell_type": "code",
   "execution_count": 32,
   "metadata": {},
   "outputs": [
    {
     "name": "stdout",
     "output_type": "stream",
     "text": [
      "Total des valeurs nulles: 0\n"
     ]
    }
   ],
   "source": [
    "df=df.dropna()\n",
    "\n",
    "# Obtenir le compte des valeurs non nulles pour chaque colonne\n",
    "non_null_counts = df.count()\n",
    "\n",
    "# Vérifier si toutes les colonnes ont le même compte de valeurs non nulles\n",
    "if non_null_counts.nunique() == 1:\n",
    "    print(\"Total des valeurs nulles:\", df.isnull().sum().sum())\n",
    "else:\n",
    "    print(\"Les colonnes qui ont des nombres différents de valeurs non nulles.\")"
   ]
  },
  {
   "cell_type": "code",
   "execution_count": 33,
   "metadata": {},
   "outputs": [
    {
     "data": {
      "text/plain": [
       "['352.81',\n",
       " '507.17',\n",
       " '177.19',\n",
       " '696.49',\n",
       " '446.87',\n",
       " '852.78',\n",
       " '210.07',\n",
       " '769.74',\n",
       " '364.02',\n",
       " '253.22',\n",
       " '784.85',\n",
       " '982.97',\n",
       " '610.13',\n",
       " '$910.75',\n",
       " '870.71',\n",
       " '353.64',\n",
       " '158.01',\n",
       " '966.53',\n",
       " '614.3',\n",
       " '270.17']"
      ]
     },
     "execution_count": 33,
     "metadata": {},
     "output_type": "execute_result"
    }
   ],
   "source": [
    "list(df['Accommodation cost'].head(20))"
   ]
  },
  {
   "cell_type": "markdown",
   "metadata": {},
   "source": [
    "Nettoyage des données en convertissant les colonnes \"Accommodation cost\" et \"Transportation cost\" en valeurs numériques, puis suppression des lignes contenant des valeurs manquantes ou non valides dans ces colonnes."
   ]
  },
  {
   "cell_type": "code",
   "execution_count": 34,
   "metadata": {},
   "outputs": [
    {
     "name": "stdout",
     "output_type": "stream",
     "text": [
      "    Accommodation cost  Transportation cost\n",
      "0               352.81                42.36\n",
      "1               507.17               502.06\n",
      "2               177.19               253.90\n",
      "6               696.49               422.36\n",
      "9               446.87               354.56\n",
      "13              852.78               769.83\n",
      "18              210.07                80.01\n",
      "19              769.74              1331.58\n",
      "21              364.02               668.79\n",
      "26              253.22               837.25\n",
      "30              784.85               558.69\n",
      "31              982.97              1140.19\n",
      "32              610.13                53.98\n",
      "33              910.75               866.69\n",
      "34              870.71              1155.04\n",
      "35              353.64               684.28\n",
      "36              158.01              1056.97\n",
      "37              966.53               592.10\n",
      "38              614.30               976.30\n",
      "45              270.17              1368.41\n"
     ]
    }
   ],
   "source": [
    "# Modèle d'expression régulière pour extraire les nombres\n",
    "pattern = re.compile(r'\\d+(?:,\\d+)*\\.?\\d*')\n",
    "\n",
    "# Nettoyage des colonnes 'Accommodation cost' et 'Transportation cost'\n",
    "df['Accommodation cost'] = df['Accommodation cost'].apply(\n",
    "    lambda x: float(pattern.search(str(x)).group().replace(',', '')) if pd.notna(x) and pattern.search(str(x)) else None\n",
    ")\n",
    "\n",
    "df['Transportation cost'] = df['Transportation cost'].apply(\n",
    "    lambda x: float(pattern.search(str(x)).group().replace(',', '')) if pd.notna(x) and pattern.search(str(x)) else None\n",
    ")\n",
    "\n",
    "print(df[['Accommodation cost', 'Transportation cost']].head(20))\n"
   ]
  },
  {
   "cell_type": "code",
   "execution_count": 35,
   "metadata": {},
   "outputs": [
    {
     "name": "stdout",
     "output_type": "stream",
     "text": [
      "<class 'pandas.core.frame.DataFrame'>\n",
      "Index: 726 entries, 0 to 1913\n",
      "Data columns (total 13 columns):\n",
      " #   Column                Non-Null Count  Dtype         \n",
      "---  ------                --------------  -----         \n",
      " 0   Trip ID               726 non-null    int64         \n",
      " 1   Destination           726 non-null    object        \n",
      " 2   Start date            726 non-null    datetime64[ns]\n",
      " 3   End date              726 non-null    datetime64[ns]\n",
      " 4   Duration (days)       726 non-null    int64         \n",
      " 5   Traveler name         726 non-null    object        \n",
      " 6   Traveler age          726 non-null    int64         \n",
      " 7   Traveler gender       726 non-null    object        \n",
      " 8   Traveler nationality  726 non-null    object        \n",
      " 9   Accommodation type    726 non-null    object        \n",
      " 10  Accommodation cost    726 non-null    float64       \n",
      " 11  Transportation type   726 non-null    object        \n",
      " 12  Transportation cost   726 non-null    float64       \n",
      "dtypes: datetime64[ns](2), float64(2), int64(3), object(6)\n",
      "memory usage: 79.4+ KB\n"
     ]
    }
   ],
   "source": [
    "df.info()"
   ]
  },
  {
   "cell_type": "markdown",
   "metadata": {},
   "source": [
    "Nettoyage des données en convertissant les colonnes \"Accommodation cost\" et \"Transportation cost\" en valeurs numériques, puis suppression des lignes contenant des valeurs manquantes ou non valides dans ces colonnes."
   ]
  },
  {
   "cell_type": "code",
   "execution_count": 36,
   "metadata": {},
   "outputs": [
    {
     "name": "stdout",
     "output_type": "stream",
     "text": [
      "Accommodation cost     float64\n",
      "Transportation cost    float64\n",
      "dtype: object\n",
      "    Accommodation cost  Transportation cost\n",
      "0               352.81                42.36\n",
      "1               507.17               502.06\n",
      "2               177.19               253.90\n",
      "6               696.49               422.36\n",
      "9               446.87               354.56\n",
      "13              852.78               769.83\n",
      "18              210.07                80.01\n",
      "19              769.74              1331.58\n",
      "21              364.02               668.79\n",
      "26              253.22               837.25\n",
      "30              784.85               558.69\n",
      "31              982.97              1140.19\n",
      "32              610.13                53.98\n",
      "33              910.75               866.69\n",
      "34              870.71              1155.04\n",
      "35              353.64               684.28\n",
      "36              158.01              1056.97\n",
      "37              966.53               592.10\n",
      "38              614.30               976.30\n",
      "45              270.17              1368.41\n"
     ]
    }
   ],
   "source": [
    "# Conversion des colonnes 'Accommodation cost' et 'Transportation cost' en nombres\n",
    "df['Accommodation cost'] = pd.to_numeric(df['Accommodation cost'], errors='coerce')\n",
    "df['Transportation cost'] = pd.to_numeric(df['Transportation cost'], errors='coerce')\n",
    "\n",
    "# Supprimer les lignes avec des valeurs manquantes dans ces colonnes\n",
    "df = df.dropna(subset=['Accommodation cost', 'Transportation cost'])\n",
    "\n",
    "# Vérification : s'assurer que les colonnes sont bien numériques après nettoyage\n",
    "print(df[['Accommodation cost', 'Transportation cost']].dtypes)\n",
    "\n",
    "# Vérification de l'échantillon\n",
    "print(df[['Accommodation cost', 'Transportation cost']].head(20))\n"
   ]
  },
  {
   "cell_type": "markdown",
   "metadata": {},
   "source": [
    "Ici convertit la colonne \"Duration (days)\" en valeurs numériques et supprime les lignes où l'une des colonnes \"Duration (days)\", \"Accommodation cost\" ou \"Transportation cost\" contient des valeurs manquantes."
   ]
  },
  {
   "cell_type": "code",
   "execution_count": 37,
   "metadata": {},
   "outputs": [],
   "source": [
    "# Convertir 'Duration (days)' en nombre\n",
    "df['Duration (days)'] = pd.to_numeric(df['Duration (days)'], errors='coerce')\n",
    "\n",
    "\n",
    "# Supprimer les lignes où l'une de ces colonnes contient des NaN\n",
    "df_cleaned = df.dropna(subset=['Duration (days)', 'Accommodation cost', 'Transportation cost'])"
   ]
  },
  {
   "cell_type": "markdown",
   "metadata": {},
   "source": [
    "## Visualisations : "
   ]
  },
  {
   "cell_type": "markdown",
   "metadata": {},
   "source": [
    "### ***Nombre de voyages par destination***"
   ]
  },
  {
   "cell_type": "markdown",
   "metadata": {},
   "source": [
    "Compter le nombre de voyages par destination permet d'identifier les destinations populaires, ce qui peut influencer les choix d'hébergement et de transport, et ainsi affecter la durée et le coût des voyages en fonction des préférences des voyageurs."
   ]
  },
  {
   "cell_type": "code",
   "execution_count": 38,
   "metadata": {},
   "outputs": [
    {
     "data": {
      "application/vnd.plotly.v1+json": {
       "config": {
        "plotlyServerURL": "https://plot.ly"
       },
       "data": [
        {
         "marker": {
          "color": "skyblue"
         },
         "type": "bar",
         "x": [
          "Bangkok",
          "Berlin",
          "London",
          "Miami",
          "Rome",
          "Toronto",
          "Los Angeles",
          "Barcelona",
          "Prague",
          "New York",
          "Dubai",
          "Paris",
          "Sydney",
          "Lisbon",
          "Tokyo",
          "Seoul",
          "Amsterdam",
          "Istanbul",
          "Singapore",
          "Dublin",
          "Oslo",
          "Cairo",
          "Athens",
          "Moscow",
          "Cape Town",
          "Buenos Aires",
          "Hanoi",
          "Jakarta",
          "Lima",
          "Zurich"
         ],
         "y": [
          105,
          95,
          95,
          93,
          92,
          90,
          89,
          88,
          86,
          85,
          83,
          83,
          83,
          82,
          81,
          79,
          78,
          76,
          72,
          62,
          35,
          33,
          31,
          25,
          24,
          24,
          19,
          12,
          9,
          7
         ]
        }
       ],
       "layout": {
        "template": {
         "data": {
          "bar": [
           {
            "error_x": {
             "color": "#2a3f5f"
            },
            "error_y": {
             "color": "#2a3f5f"
            },
            "marker": {
             "line": {
              "color": "#E5ECF6",
              "width": 0.5
             },
             "pattern": {
              "fillmode": "overlay",
              "size": 10,
              "solidity": 0.2
             }
            },
            "type": "bar"
           }
          ],
          "barpolar": [
           {
            "marker": {
             "line": {
              "color": "#E5ECF6",
              "width": 0.5
             },
             "pattern": {
              "fillmode": "overlay",
              "size": 10,
              "solidity": 0.2
             }
            },
            "type": "barpolar"
           }
          ],
          "carpet": [
           {
            "aaxis": {
             "endlinecolor": "#2a3f5f",
             "gridcolor": "white",
             "linecolor": "white",
             "minorgridcolor": "white",
             "startlinecolor": "#2a3f5f"
            },
            "baxis": {
             "endlinecolor": "#2a3f5f",
             "gridcolor": "white",
             "linecolor": "white",
             "minorgridcolor": "white",
             "startlinecolor": "#2a3f5f"
            },
            "type": "carpet"
           }
          ],
          "choropleth": [
           {
            "colorbar": {
             "outlinewidth": 0,
             "ticks": ""
            },
            "type": "choropleth"
           }
          ],
          "contour": [
           {
            "colorbar": {
             "outlinewidth": 0,
             "ticks": ""
            },
            "colorscale": [
             [
              0,
              "#0d0887"
             ],
             [
              0.1111111111111111,
              "#46039f"
             ],
             [
              0.2222222222222222,
              "#7201a8"
             ],
             [
              0.3333333333333333,
              "#9c179e"
             ],
             [
              0.4444444444444444,
              "#bd3786"
             ],
             [
              0.5555555555555556,
              "#d8576b"
             ],
             [
              0.6666666666666666,
              "#ed7953"
             ],
             [
              0.7777777777777778,
              "#fb9f3a"
             ],
             [
              0.8888888888888888,
              "#fdca26"
             ],
             [
              1,
              "#f0f921"
             ]
            ],
            "type": "contour"
           }
          ],
          "contourcarpet": [
           {
            "colorbar": {
             "outlinewidth": 0,
             "ticks": ""
            },
            "type": "contourcarpet"
           }
          ],
          "heatmap": [
           {
            "colorbar": {
             "outlinewidth": 0,
             "ticks": ""
            },
            "colorscale": [
             [
              0,
              "#0d0887"
             ],
             [
              0.1111111111111111,
              "#46039f"
             ],
             [
              0.2222222222222222,
              "#7201a8"
             ],
             [
              0.3333333333333333,
              "#9c179e"
             ],
             [
              0.4444444444444444,
              "#bd3786"
             ],
             [
              0.5555555555555556,
              "#d8576b"
             ],
             [
              0.6666666666666666,
              "#ed7953"
             ],
             [
              0.7777777777777778,
              "#fb9f3a"
             ],
             [
              0.8888888888888888,
              "#fdca26"
             ],
             [
              1,
              "#f0f921"
             ]
            ],
            "type": "heatmap"
           }
          ],
          "heatmapgl": [
           {
            "colorbar": {
             "outlinewidth": 0,
             "ticks": ""
            },
            "colorscale": [
             [
              0,
              "#0d0887"
             ],
             [
              0.1111111111111111,
              "#46039f"
             ],
             [
              0.2222222222222222,
              "#7201a8"
             ],
             [
              0.3333333333333333,
              "#9c179e"
             ],
             [
              0.4444444444444444,
              "#bd3786"
             ],
             [
              0.5555555555555556,
              "#d8576b"
             ],
             [
              0.6666666666666666,
              "#ed7953"
             ],
             [
              0.7777777777777778,
              "#fb9f3a"
             ],
             [
              0.8888888888888888,
              "#fdca26"
             ],
             [
              1,
              "#f0f921"
             ]
            ],
            "type": "heatmapgl"
           }
          ],
          "histogram": [
           {
            "marker": {
             "pattern": {
              "fillmode": "overlay",
              "size": 10,
              "solidity": 0.2
             }
            },
            "type": "histogram"
           }
          ],
          "histogram2d": [
           {
            "colorbar": {
             "outlinewidth": 0,
             "ticks": ""
            },
            "colorscale": [
             [
              0,
              "#0d0887"
             ],
             [
              0.1111111111111111,
              "#46039f"
             ],
             [
              0.2222222222222222,
              "#7201a8"
             ],
             [
              0.3333333333333333,
              "#9c179e"
             ],
             [
              0.4444444444444444,
              "#bd3786"
             ],
             [
              0.5555555555555556,
              "#d8576b"
             ],
             [
              0.6666666666666666,
              "#ed7953"
             ],
             [
              0.7777777777777778,
              "#fb9f3a"
             ],
             [
              0.8888888888888888,
              "#fdca26"
             ],
             [
              1,
              "#f0f921"
             ]
            ],
            "type": "histogram2d"
           }
          ],
          "histogram2dcontour": [
           {
            "colorbar": {
             "outlinewidth": 0,
             "ticks": ""
            },
            "colorscale": [
             [
              0,
              "#0d0887"
             ],
             [
              0.1111111111111111,
              "#46039f"
             ],
             [
              0.2222222222222222,
              "#7201a8"
             ],
             [
              0.3333333333333333,
              "#9c179e"
             ],
             [
              0.4444444444444444,
              "#bd3786"
             ],
             [
              0.5555555555555556,
              "#d8576b"
             ],
             [
              0.6666666666666666,
              "#ed7953"
             ],
             [
              0.7777777777777778,
              "#fb9f3a"
             ],
             [
              0.8888888888888888,
              "#fdca26"
             ],
             [
              1,
              "#f0f921"
             ]
            ],
            "type": "histogram2dcontour"
           }
          ],
          "mesh3d": [
           {
            "colorbar": {
             "outlinewidth": 0,
             "ticks": ""
            },
            "type": "mesh3d"
           }
          ],
          "parcoords": [
           {
            "line": {
             "colorbar": {
              "outlinewidth": 0,
              "ticks": ""
             }
            },
            "type": "parcoords"
           }
          ],
          "pie": [
           {
            "automargin": true,
            "type": "pie"
           }
          ],
          "scatter": [
           {
            "fillpattern": {
             "fillmode": "overlay",
             "size": 10,
             "solidity": 0.2
            },
            "type": "scatter"
           }
          ],
          "scatter3d": [
           {
            "line": {
             "colorbar": {
              "outlinewidth": 0,
              "ticks": ""
             }
            },
            "marker": {
             "colorbar": {
              "outlinewidth": 0,
              "ticks": ""
             }
            },
            "type": "scatter3d"
           }
          ],
          "scattercarpet": [
           {
            "marker": {
             "colorbar": {
              "outlinewidth": 0,
              "ticks": ""
             }
            },
            "type": "scattercarpet"
           }
          ],
          "scattergeo": [
           {
            "marker": {
             "colorbar": {
              "outlinewidth": 0,
              "ticks": ""
             }
            },
            "type": "scattergeo"
           }
          ],
          "scattergl": [
           {
            "marker": {
             "colorbar": {
              "outlinewidth": 0,
              "ticks": ""
             }
            },
            "type": "scattergl"
           }
          ],
          "scattermapbox": [
           {
            "marker": {
             "colorbar": {
              "outlinewidth": 0,
              "ticks": ""
             }
            },
            "type": "scattermapbox"
           }
          ],
          "scatterpolar": [
           {
            "marker": {
             "colorbar": {
              "outlinewidth": 0,
              "ticks": ""
             }
            },
            "type": "scatterpolar"
           }
          ],
          "scatterpolargl": [
           {
            "marker": {
             "colorbar": {
              "outlinewidth": 0,
              "ticks": ""
             }
            },
            "type": "scatterpolargl"
           }
          ],
          "scatterternary": [
           {
            "marker": {
             "colorbar": {
              "outlinewidth": 0,
              "ticks": ""
             }
            },
            "type": "scatterternary"
           }
          ],
          "surface": [
           {
            "colorbar": {
             "outlinewidth": 0,
             "ticks": ""
            },
            "colorscale": [
             [
              0,
              "#0d0887"
             ],
             [
              0.1111111111111111,
              "#46039f"
             ],
             [
              0.2222222222222222,
              "#7201a8"
             ],
             [
              0.3333333333333333,
              "#9c179e"
             ],
             [
              0.4444444444444444,
              "#bd3786"
             ],
             [
              0.5555555555555556,
              "#d8576b"
             ],
             [
              0.6666666666666666,
              "#ed7953"
             ],
             [
              0.7777777777777778,
              "#fb9f3a"
             ],
             [
              0.8888888888888888,
              "#fdca26"
             ],
             [
              1,
              "#f0f921"
             ]
            ],
            "type": "surface"
           }
          ],
          "table": [
           {
            "cells": {
             "fill": {
              "color": "#EBF0F8"
             },
             "line": {
              "color": "white"
             }
            },
            "header": {
             "fill": {
              "color": "#C8D4E3"
             },
             "line": {
              "color": "white"
             }
            },
            "type": "table"
           }
          ]
         },
         "layout": {
          "annotationdefaults": {
           "arrowcolor": "#2a3f5f",
           "arrowhead": 0,
           "arrowwidth": 1
          },
          "autotypenumbers": "strict",
          "coloraxis": {
           "colorbar": {
            "outlinewidth": 0,
            "ticks": ""
           }
          },
          "colorscale": {
           "diverging": [
            [
             0,
             "#8e0152"
            ],
            [
             0.1,
             "#c51b7d"
            ],
            [
             0.2,
             "#de77ae"
            ],
            [
             0.3,
             "#f1b6da"
            ],
            [
             0.4,
             "#fde0ef"
            ],
            [
             0.5,
             "#f7f7f7"
            ],
            [
             0.6,
             "#e6f5d0"
            ],
            [
             0.7,
             "#b8e186"
            ],
            [
             0.8,
             "#7fbc41"
            ],
            [
             0.9,
             "#4d9221"
            ],
            [
             1,
             "#276419"
            ]
           ],
           "sequential": [
            [
             0,
             "#0d0887"
            ],
            [
             0.1111111111111111,
             "#46039f"
            ],
            [
             0.2222222222222222,
             "#7201a8"
            ],
            [
             0.3333333333333333,
             "#9c179e"
            ],
            [
             0.4444444444444444,
             "#bd3786"
            ],
            [
             0.5555555555555556,
             "#d8576b"
            ],
            [
             0.6666666666666666,
             "#ed7953"
            ],
            [
             0.7777777777777778,
             "#fb9f3a"
            ],
            [
             0.8888888888888888,
             "#fdca26"
            ],
            [
             1,
             "#f0f921"
            ]
           ],
           "sequentialminus": [
            [
             0,
             "#0d0887"
            ],
            [
             0.1111111111111111,
             "#46039f"
            ],
            [
             0.2222222222222222,
             "#7201a8"
            ],
            [
             0.3333333333333333,
             "#9c179e"
            ],
            [
             0.4444444444444444,
             "#bd3786"
            ],
            [
             0.5555555555555556,
             "#d8576b"
            ],
            [
             0.6666666666666666,
             "#ed7953"
            ],
            [
             0.7777777777777778,
             "#fb9f3a"
            ],
            [
             0.8888888888888888,
             "#fdca26"
            ],
            [
             1,
             "#f0f921"
            ]
           ]
          },
          "colorway": [
           "#636efa",
           "#EF553B",
           "#00cc96",
           "#ab63fa",
           "#FFA15A",
           "#19d3f3",
           "#FF6692",
           "#B6E880",
           "#FF97FF",
           "#FECB52"
          ],
          "font": {
           "color": "#2a3f5f"
          },
          "geo": {
           "bgcolor": "white",
           "lakecolor": "white",
           "landcolor": "#E5ECF6",
           "showlakes": true,
           "showland": true,
           "subunitcolor": "white"
          },
          "hoverlabel": {
           "align": "left"
          },
          "hovermode": "closest",
          "mapbox": {
           "style": "light"
          },
          "paper_bgcolor": "white",
          "plot_bgcolor": "#E5ECF6",
          "polar": {
           "angularaxis": {
            "gridcolor": "white",
            "linecolor": "white",
            "ticks": ""
           },
           "bgcolor": "#E5ECF6",
           "radialaxis": {
            "gridcolor": "white",
            "linecolor": "white",
            "ticks": ""
           }
          },
          "scene": {
           "xaxis": {
            "backgroundcolor": "#E5ECF6",
            "gridcolor": "white",
            "gridwidth": 2,
            "linecolor": "white",
            "showbackground": true,
            "ticks": "",
            "zerolinecolor": "white"
           },
           "yaxis": {
            "backgroundcolor": "#E5ECF6",
            "gridcolor": "white",
            "gridwidth": 2,
            "linecolor": "white",
            "showbackground": true,
            "ticks": "",
            "zerolinecolor": "white"
           },
           "zaxis": {
            "backgroundcolor": "#E5ECF6",
            "gridcolor": "white",
            "gridwidth": 2,
            "linecolor": "white",
            "showbackground": true,
            "ticks": "",
            "zerolinecolor": "white"
           }
          },
          "shapedefaults": {
           "line": {
            "color": "#2a3f5f"
           }
          },
          "ternary": {
           "aaxis": {
            "gridcolor": "white",
            "linecolor": "white",
            "ticks": ""
           },
           "baxis": {
            "gridcolor": "white",
            "linecolor": "white",
            "ticks": ""
           },
           "bgcolor": "#E5ECF6",
           "caxis": {
            "gridcolor": "white",
            "linecolor": "white",
            "ticks": ""
           }
          },
          "title": {
           "x": 0.05
          },
          "xaxis": {
           "automargin": true,
           "gridcolor": "white",
           "linecolor": "white",
           "ticks": "",
           "title": {
            "standoff": 15
           },
           "zerolinecolor": "white",
           "zerolinewidth": 2
          },
          "yaxis": {
           "automargin": true,
           "gridcolor": "white",
           "linecolor": "white",
           "ticks": "",
           "title": {
            "standoff": 15
           },
           "zerolinecolor": "white",
           "zerolinewidth": 2
          }
         }
        },
        "title": {
         "text": "Nombre de voyages par destination"
        },
        "xaxis": {
         "tickangle": -45,
         "title": {
          "text": "Destination"
         }
        },
        "yaxis": {
         "title": {
          "text": "Nombre de voyages"
         }
        }
       }
      }
     },
     "metadata": {},
     "output_type": "display_data"
    }
   ],
   "source": [
    "df = pd.read_csv('travel_data_modified.csv')\n",
    "\n",
    "# Compter le nombre de voyages par destination\n",
    "destination_counts = df['Destination'].value_counts().reset_index()\n",
    "destination_counts.columns = ['Destination', 'Count']\n",
    "\n",
    "# Créer un graphique à barres\n",
    "fig = go.Figure(data=[go.Bar(x=destination_counts['Destination'], y=destination_counts['Count'], marker=dict(color='skyblue'))])\n",
    "\n",
    "fig.update_layout(\n",
    "    title='Nombre de voyages par destination',\n",
    "    xaxis_title='Destination',\n",
    "    yaxis_title='Nombre de voyages',\n",
    "    xaxis_tickangle=-45  # Pour éviter que les étiquettes des destinations se chevauchent\n",
    ")\n",
    "\n",
    "# Afficher le graphique\n",
    "fig.show()\n"
   ]
  },
  {
   "cell_type": "markdown",
   "metadata": {},
   "source": [
    "Cette visualisation représente le nombre de voyages effectués vers différentes destinations. On remarque que les destinations les plus populaires sont Bangkok, Londres, et Berlin, avec un nombre de voyages supérieur à 90. En revanche, des destinations comme Zurich et Lima sont moins populaires, avec moins de 20 voyages.\n",
    "\n",
    "### <font color=\"red\">Conclusion </font>\n",
    "\n",
    "\n",
    "Les destinations asiatiques et européennes, telles que Bangkok et Londres, semblent attirer un plus grand nombre de voyageurs, tandis que certaines destinations moins fréquentées, comme Zurich et Lima, connaissent moins de visites"
   ]
  },
  {
   "cell_type": "markdown",
   "metadata": {},
   "source": [
    "### ***Répartition des types d'hébergement***"
   ]
  },
  {
   "cell_type": "markdown",
   "metadata": {},
   "source": [
    "La répartition des types d'hébergement permet d'analyser quels types d'hébergement (hotel, Airbnb, vila...) sont préférés par les voyageurs. Cela peut révéler des tendances liées aux choix d'hébergement en fonction des caractéristiques des voyageurs (âge, nationalité, sexe) et influencer la durée et le coût des voyages. Par exemple, certaines options d'hébergement peuvent être plus coûteuses ou affecter la durée du séjour, offrant ainsi des insights sur les comportements et préférences des voyageurs."
   ]
  },
  {
   "cell_type": "code",
   "execution_count": 39,
   "metadata": {},
   "outputs": [
    {
     "data": {
      "application/vnd.plotly.v1+json": {
       "config": {
        "plotlyServerURL": "https://plot.ly"
       },
       "data": [
        {
         "domain": {
          "x": [
           0,
           1
          ],
          "y": [
           0,
           1
          ]
         },
         "hovertemplate": "label=%{label}<br>value=%{value}<extra></extra>",
         "labels": [
          "Hotel",
          "Airbnb",
          "Resort",
          "Hostel",
          "Villa",
          "Guesthouse",
          "Riad"
         ],
         "legendgroup": "",
         "name": "",
         "showlegend": true,
         "type": "pie",
         "values": [
          751,
          594,
          281,
          181,
          75,
          18,
          16
         ]
        }
       ],
       "layout": {
        "legend": {
         "tracegroupgap": 0
        },
        "template": {
         "data": {
          "bar": [
           {
            "error_x": {
             "color": "#2a3f5f"
            },
            "error_y": {
             "color": "#2a3f5f"
            },
            "marker": {
             "line": {
              "color": "#E5ECF6",
              "width": 0.5
             },
             "pattern": {
              "fillmode": "overlay",
              "size": 10,
              "solidity": 0.2
             }
            },
            "type": "bar"
           }
          ],
          "barpolar": [
           {
            "marker": {
             "line": {
              "color": "#E5ECF6",
              "width": 0.5
             },
             "pattern": {
              "fillmode": "overlay",
              "size": 10,
              "solidity": 0.2
             }
            },
            "type": "barpolar"
           }
          ],
          "carpet": [
           {
            "aaxis": {
             "endlinecolor": "#2a3f5f",
             "gridcolor": "white",
             "linecolor": "white",
             "minorgridcolor": "white",
             "startlinecolor": "#2a3f5f"
            },
            "baxis": {
             "endlinecolor": "#2a3f5f",
             "gridcolor": "white",
             "linecolor": "white",
             "minorgridcolor": "white",
             "startlinecolor": "#2a3f5f"
            },
            "type": "carpet"
           }
          ],
          "choropleth": [
           {
            "colorbar": {
             "outlinewidth": 0,
             "ticks": ""
            },
            "type": "choropleth"
           }
          ],
          "contour": [
           {
            "colorbar": {
             "outlinewidth": 0,
             "ticks": ""
            },
            "colorscale": [
             [
              0,
              "#0d0887"
             ],
             [
              0.1111111111111111,
              "#46039f"
             ],
             [
              0.2222222222222222,
              "#7201a8"
             ],
             [
              0.3333333333333333,
              "#9c179e"
             ],
             [
              0.4444444444444444,
              "#bd3786"
             ],
             [
              0.5555555555555556,
              "#d8576b"
             ],
             [
              0.6666666666666666,
              "#ed7953"
             ],
             [
              0.7777777777777778,
              "#fb9f3a"
             ],
             [
              0.8888888888888888,
              "#fdca26"
             ],
             [
              1,
              "#f0f921"
             ]
            ],
            "type": "contour"
           }
          ],
          "contourcarpet": [
           {
            "colorbar": {
             "outlinewidth": 0,
             "ticks": ""
            },
            "type": "contourcarpet"
           }
          ],
          "heatmap": [
           {
            "colorbar": {
             "outlinewidth": 0,
             "ticks": ""
            },
            "colorscale": [
             [
              0,
              "#0d0887"
             ],
             [
              0.1111111111111111,
              "#46039f"
             ],
             [
              0.2222222222222222,
              "#7201a8"
             ],
             [
              0.3333333333333333,
              "#9c179e"
             ],
             [
              0.4444444444444444,
              "#bd3786"
             ],
             [
              0.5555555555555556,
              "#d8576b"
             ],
             [
              0.6666666666666666,
              "#ed7953"
             ],
             [
              0.7777777777777778,
              "#fb9f3a"
             ],
             [
              0.8888888888888888,
              "#fdca26"
             ],
             [
              1,
              "#f0f921"
             ]
            ],
            "type": "heatmap"
           }
          ],
          "heatmapgl": [
           {
            "colorbar": {
             "outlinewidth": 0,
             "ticks": ""
            },
            "colorscale": [
             [
              0,
              "#0d0887"
             ],
             [
              0.1111111111111111,
              "#46039f"
             ],
             [
              0.2222222222222222,
              "#7201a8"
             ],
             [
              0.3333333333333333,
              "#9c179e"
             ],
             [
              0.4444444444444444,
              "#bd3786"
             ],
             [
              0.5555555555555556,
              "#d8576b"
             ],
             [
              0.6666666666666666,
              "#ed7953"
             ],
             [
              0.7777777777777778,
              "#fb9f3a"
             ],
             [
              0.8888888888888888,
              "#fdca26"
             ],
             [
              1,
              "#f0f921"
             ]
            ],
            "type": "heatmapgl"
           }
          ],
          "histogram": [
           {
            "marker": {
             "pattern": {
              "fillmode": "overlay",
              "size": 10,
              "solidity": 0.2
             }
            },
            "type": "histogram"
           }
          ],
          "histogram2d": [
           {
            "colorbar": {
             "outlinewidth": 0,
             "ticks": ""
            },
            "colorscale": [
             [
              0,
              "#0d0887"
             ],
             [
              0.1111111111111111,
              "#46039f"
             ],
             [
              0.2222222222222222,
              "#7201a8"
             ],
             [
              0.3333333333333333,
              "#9c179e"
             ],
             [
              0.4444444444444444,
              "#bd3786"
             ],
             [
              0.5555555555555556,
              "#d8576b"
             ],
             [
              0.6666666666666666,
              "#ed7953"
             ],
             [
              0.7777777777777778,
              "#fb9f3a"
             ],
             [
              0.8888888888888888,
              "#fdca26"
             ],
             [
              1,
              "#f0f921"
             ]
            ],
            "type": "histogram2d"
           }
          ],
          "histogram2dcontour": [
           {
            "colorbar": {
             "outlinewidth": 0,
             "ticks": ""
            },
            "colorscale": [
             [
              0,
              "#0d0887"
             ],
             [
              0.1111111111111111,
              "#46039f"
             ],
             [
              0.2222222222222222,
              "#7201a8"
             ],
             [
              0.3333333333333333,
              "#9c179e"
             ],
             [
              0.4444444444444444,
              "#bd3786"
             ],
             [
              0.5555555555555556,
              "#d8576b"
             ],
             [
              0.6666666666666666,
              "#ed7953"
             ],
             [
              0.7777777777777778,
              "#fb9f3a"
             ],
             [
              0.8888888888888888,
              "#fdca26"
             ],
             [
              1,
              "#f0f921"
             ]
            ],
            "type": "histogram2dcontour"
           }
          ],
          "mesh3d": [
           {
            "colorbar": {
             "outlinewidth": 0,
             "ticks": ""
            },
            "type": "mesh3d"
           }
          ],
          "parcoords": [
           {
            "line": {
             "colorbar": {
              "outlinewidth": 0,
              "ticks": ""
             }
            },
            "type": "parcoords"
           }
          ],
          "pie": [
           {
            "automargin": true,
            "type": "pie"
           }
          ],
          "scatter": [
           {
            "fillpattern": {
             "fillmode": "overlay",
             "size": 10,
             "solidity": 0.2
            },
            "type": "scatter"
           }
          ],
          "scatter3d": [
           {
            "line": {
             "colorbar": {
              "outlinewidth": 0,
              "ticks": ""
             }
            },
            "marker": {
             "colorbar": {
              "outlinewidth": 0,
              "ticks": ""
             }
            },
            "type": "scatter3d"
           }
          ],
          "scattercarpet": [
           {
            "marker": {
             "colorbar": {
              "outlinewidth": 0,
              "ticks": ""
             }
            },
            "type": "scattercarpet"
           }
          ],
          "scattergeo": [
           {
            "marker": {
             "colorbar": {
              "outlinewidth": 0,
              "ticks": ""
             }
            },
            "type": "scattergeo"
           }
          ],
          "scattergl": [
           {
            "marker": {
             "colorbar": {
              "outlinewidth": 0,
              "ticks": ""
             }
            },
            "type": "scattergl"
           }
          ],
          "scattermapbox": [
           {
            "marker": {
             "colorbar": {
              "outlinewidth": 0,
              "ticks": ""
             }
            },
            "type": "scattermapbox"
           }
          ],
          "scatterpolar": [
           {
            "marker": {
             "colorbar": {
              "outlinewidth": 0,
              "ticks": ""
             }
            },
            "type": "scatterpolar"
           }
          ],
          "scatterpolargl": [
           {
            "marker": {
             "colorbar": {
              "outlinewidth": 0,
              "ticks": ""
             }
            },
            "type": "scatterpolargl"
           }
          ],
          "scatterternary": [
           {
            "marker": {
             "colorbar": {
              "outlinewidth": 0,
              "ticks": ""
             }
            },
            "type": "scatterternary"
           }
          ],
          "surface": [
           {
            "colorbar": {
             "outlinewidth": 0,
             "ticks": ""
            },
            "colorscale": [
             [
              0,
              "#0d0887"
             ],
             [
              0.1111111111111111,
              "#46039f"
             ],
             [
              0.2222222222222222,
              "#7201a8"
             ],
             [
              0.3333333333333333,
              "#9c179e"
             ],
             [
              0.4444444444444444,
              "#bd3786"
             ],
             [
              0.5555555555555556,
              "#d8576b"
             ],
             [
              0.6666666666666666,
              "#ed7953"
             ],
             [
              0.7777777777777778,
              "#fb9f3a"
             ],
             [
              0.8888888888888888,
              "#fdca26"
             ],
             [
              1,
              "#f0f921"
             ]
            ],
            "type": "surface"
           }
          ],
          "table": [
           {
            "cells": {
             "fill": {
              "color": "#EBF0F8"
             },
             "line": {
              "color": "white"
             }
            },
            "header": {
             "fill": {
              "color": "#C8D4E3"
             },
             "line": {
              "color": "white"
             }
            },
            "type": "table"
           }
          ]
         },
         "layout": {
          "annotationdefaults": {
           "arrowcolor": "#2a3f5f",
           "arrowhead": 0,
           "arrowwidth": 1
          },
          "autotypenumbers": "strict",
          "coloraxis": {
           "colorbar": {
            "outlinewidth": 0,
            "ticks": ""
           }
          },
          "colorscale": {
           "diverging": [
            [
             0,
             "#8e0152"
            ],
            [
             0.1,
             "#c51b7d"
            ],
            [
             0.2,
             "#de77ae"
            ],
            [
             0.3,
             "#f1b6da"
            ],
            [
             0.4,
             "#fde0ef"
            ],
            [
             0.5,
             "#f7f7f7"
            ],
            [
             0.6,
             "#e6f5d0"
            ],
            [
             0.7,
             "#b8e186"
            ],
            [
             0.8,
             "#7fbc41"
            ],
            [
             0.9,
             "#4d9221"
            ],
            [
             1,
             "#276419"
            ]
           ],
           "sequential": [
            [
             0,
             "#0d0887"
            ],
            [
             0.1111111111111111,
             "#46039f"
            ],
            [
             0.2222222222222222,
             "#7201a8"
            ],
            [
             0.3333333333333333,
             "#9c179e"
            ],
            [
             0.4444444444444444,
             "#bd3786"
            ],
            [
             0.5555555555555556,
             "#d8576b"
            ],
            [
             0.6666666666666666,
             "#ed7953"
            ],
            [
             0.7777777777777778,
             "#fb9f3a"
            ],
            [
             0.8888888888888888,
             "#fdca26"
            ],
            [
             1,
             "#f0f921"
            ]
           ],
           "sequentialminus": [
            [
             0,
             "#0d0887"
            ],
            [
             0.1111111111111111,
             "#46039f"
            ],
            [
             0.2222222222222222,
             "#7201a8"
            ],
            [
             0.3333333333333333,
             "#9c179e"
            ],
            [
             0.4444444444444444,
             "#bd3786"
            ],
            [
             0.5555555555555556,
             "#d8576b"
            ],
            [
             0.6666666666666666,
             "#ed7953"
            ],
            [
             0.7777777777777778,
             "#fb9f3a"
            ],
            [
             0.8888888888888888,
             "#fdca26"
            ],
            [
             1,
             "#f0f921"
            ]
           ]
          },
          "colorway": [
           "#636efa",
           "#EF553B",
           "#00cc96",
           "#ab63fa",
           "#FFA15A",
           "#19d3f3",
           "#FF6692",
           "#B6E880",
           "#FF97FF",
           "#FECB52"
          ],
          "font": {
           "color": "#2a3f5f"
          },
          "geo": {
           "bgcolor": "white",
           "lakecolor": "white",
           "landcolor": "#E5ECF6",
           "showlakes": true,
           "showland": true,
           "subunitcolor": "white"
          },
          "hoverlabel": {
           "align": "left"
          },
          "hovermode": "closest",
          "mapbox": {
           "style": "light"
          },
          "paper_bgcolor": "white",
          "plot_bgcolor": "#E5ECF6",
          "polar": {
           "angularaxis": {
            "gridcolor": "white",
            "linecolor": "white",
            "ticks": ""
           },
           "bgcolor": "#E5ECF6",
           "radialaxis": {
            "gridcolor": "white",
            "linecolor": "white",
            "ticks": ""
           }
          },
          "scene": {
           "xaxis": {
            "backgroundcolor": "#E5ECF6",
            "gridcolor": "white",
            "gridwidth": 2,
            "linecolor": "white",
            "showbackground": true,
            "ticks": "",
            "zerolinecolor": "white"
           },
           "yaxis": {
            "backgroundcolor": "#E5ECF6",
            "gridcolor": "white",
            "gridwidth": 2,
            "linecolor": "white",
            "showbackground": true,
            "ticks": "",
            "zerolinecolor": "white"
           },
           "zaxis": {
            "backgroundcolor": "#E5ECF6",
            "gridcolor": "white",
            "gridwidth": 2,
            "linecolor": "white",
            "showbackground": true,
            "ticks": "",
            "zerolinecolor": "white"
           }
          },
          "shapedefaults": {
           "line": {
            "color": "#2a3f5f"
           }
          },
          "ternary": {
           "aaxis": {
            "gridcolor": "white",
            "linecolor": "white",
            "ticks": ""
           },
           "baxis": {
            "gridcolor": "white",
            "linecolor": "white",
            "ticks": ""
           },
           "bgcolor": "#E5ECF6",
           "caxis": {
            "gridcolor": "white",
            "linecolor": "white",
            "ticks": ""
           }
          },
          "title": {
           "x": 0.05
          },
          "xaxis": {
           "automargin": true,
           "gridcolor": "white",
           "linecolor": "white",
           "ticks": "",
           "title": {
            "standoff": 15
           },
           "zerolinecolor": "white",
           "zerolinewidth": 2
          },
          "yaxis": {
           "automargin": true,
           "gridcolor": "white",
           "linecolor": "white",
           "ticks": "",
           "title": {
            "standoff": 15
           },
           "zerolinecolor": "white",
           "zerolinewidth": 2
          }
         }
        },
        "title": {
         "text": "Répartition des types d'hébergement"
        }
       }
      }
     },
     "metadata": {},
     "output_type": "display_data"
    }
   ],
   "source": [
    "#  nombre de voyages par type d'hébergement\n",
    "df = pd.read_csv('travel_data_modified.csv')\n",
    "\n",
    "trips_per_accommodation_type = df['Accommodation type'].value_counts()\n",
    "\n",
    "#  diagramme circulaire\n",
    "fig = px.pie(values=trips_per_accommodation_type.values, names=trips_per_accommodation_type.index,\n",
    "             title='Répartition des types d\\'hébergement')\n",
    "fig.show()\n"
   ]
  },
  {
   "cell_type": "markdown",
   "metadata": {},
   "source": [
    "Le graphique en camembert montre la répartition des choix d'hébergement des voyageurs. L'hôtel est le type d'hébergement le plus choisi, avec environ 39.1%, suivi de près par Airbnb avec 31.2%. Les autres types d'hébergement comme les resorts, les auberges, les villas, et les riads représentent des parts plus petites, mais restent présents.\n",
    "\n",
    "### <font color=\"red\">Conclusion </font>\n",
    "\n",
    "Les hôtels et Airbnb sont les options les plus populaires, ce qui suggère une préférence des voyageurs pour les hébergements classiques ou modernes, probablement en raison de leur confort et de leur commodité."
   ]
  },
  {
   "cell_type": "markdown",
   "metadata": {},
   "source": [
    "### ***Duree de Voyage vs Age des Voyageur***"
   ]
  },
  {
   "cell_type": "markdown",
   "metadata": {},
   "source": [
    "Analyser la durée du voyage en fonction de l'âge des voyageurs permet de déterminer si l'âge influence la longueur des séjours. Par exemple, les jeunes voyageurs pourraient avoir des séjours plus courts, tandis que les voyageurs plus âgés pourraient privilégier des voyages plus longs. Cela peut également révéler des différences dans les préférences d'hébergement ou de transport, influençant ainsi le coût global du voyage. Cette analyse permet de mieux comprendre comment l'âge affecte la durée des voyages et peut être utile pour adapter les offres de services touristiques."
   ]
  },
  {
   "cell_type": "code",
   "execution_count": 40,
   "metadata": {},
   "outputs": [
    {
     "data": {
      "application/vnd.plotly.v1+json": {
       "config": {
        "plotlyServerURL": "https://plot.ly"
       },
       "data": [
        {
         "hovertemplate": "Traveler gender=Female<br>Duration (days)=%{x}<br>Traveler age=%{y}<extra></extra>",
         "legendgroup": "Female",
         "marker": {
          "color": "#636efa",
          "symbol": "circle"
         },
         "mode": "markers",
         "name": "Female",
         "showlegend": true,
         "type": "scattergl",
         "x": [
          3,
          19,
          17,
          23,
          23,
          25,
          26,
          15,
          8,
          7,
          24,
          14,
          19,
          10,
          20,
          21,
          24,
          29,
          18,
          7,
          10,
          3,
          19,
          5,
          15,
          26,
          24,
          22,
          6,
          18,
          19,
          12,
          19,
          14,
          22,
          23,
          13,
          26,
          20,
          11,
          19,
          7,
          3,
          25,
          29,
          23,
          25,
          13,
          23,
          17,
          5,
          10,
          14,
          10,
          18,
          15,
          11,
          17,
          17,
          26,
          20,
          12,
          17,
          13,
          7,
          7,
          21,
          20,
          17,
          25,
          23,
          12,
          18,
          14,
          7,
          18,
          8,
          22,
          22,
          19,
          27,
          11,
          22,
          10,
          24,
          28,
          26,
          24,
          26,
          7,
          30,
          19,
          6,
          17,
          19,
          23,
          23,
          5,
          16,
          23,
          16,
          18,
          25,
          24,
          23,
          23,
          10,
          26,
          17,
          19,
          12,
          25,
          26,
          14,
          21,
          5,
          14,
          16,
          22,
          25,
          22,
          11,
          16,
          21,
          28,
          19,
          21,
          16,
          21,
          13,
          20,
          10,
          24,
          19,
          13,
          18,
          24,
          20,
          23,
          14,
          16,
          26,
          6,
          7,
          20,
          2,
          23,
          24,
          28,
          25,
          21,
          13,
          27,
          18,
          18,
          19,
          15,
          24,
          26,
          17,
          16,
          23,
          25,
          20,
          15,
          1,
          5,
          23,
          9,
          11,
          25,
          9,
          17,
          25,
          15,
          2,
          3,
          17,
          24,
          18,
          24,
          17,
          14,
          8,
          17,
          21,
          22,
          3,
          20,
          13,
          23,
          8,
          21,
          24,
          20,
          27,
          8,
          24,
          19,
          9,
          23,
          24,
          23,
          26,
          21,
          18,
          16,
          11,
          7,
          27,
          18,
          20,
          14,
          14,
          21,
          13,
          18,
          22,
          15,
          26,
          14,
          20,
          18,
          21,
          1,
          23,
          20,
          17,
          7,
          25,
          25,
          21,
          19,
          18,
          24,
          15,
          18,
          19,
          24,
          12,
          17,
          18,
          27,
          26,
          20,
          12,
          29,
          6,
          12,
          22,
          13,
          20,
          16,
          20,
          17,
          17,
          19,
          17,
          29,
          16,
          21,
          18,
          13,
          23,
          26,
          26,
          1,
          16,
          8,
          26,
          25,
          17,
          29,
          20,
          20,
          14,
          27,
          11,
          10,
          13,
          10,
          21,
          30,
          16,
          18,
          11,
          24,
          23,
          20,
          11,
          21,
          25,
          23,
          16,
          21,
          9,
          28,
          26,
          17,
          23,
          21,
          25,
          13,
          11,
          11,
          23,
          17,
          26,
          1,
          24,
          22,
          22,
          16,
          7,
          18,
          24,
          15,
          27,
          11,
          19,
          14,
          18,
          5,
          15,
          15,
          11,
          22,
          13,
          20,
          20,
          18,
          6,
          16,
          26,
          26,
          8,
          15,
          18,
          24,
          15,
          22,
          17,
          22,
          12,
          11,
          19,
          27,
          16,
          20,
          10,
          26,
          25,
          8,
          22,
          13,
          12,
          4,
          11,
          10,
          4,
          6,
          23,
          14,
          21,
          3,
          19,
          12,
          26,
          29,
          28,
          15,
          18,
          6,
          28,
          3,
          7,
          24,
          2,
          22,
          16,
          13,
          22,
          24,
          22,
          8,
          3,
          15,
          12,
          20,
          28,
          11,
          17,
          12,
          22,
          20,
          3,
          16,
          25,
          19,
          22,
          5,
          26,
          25,
          17,
          16,
          18,
          16,
          27,
          25,
          23,
          17,
          7,
          12,
          17,
          16,
          29,
          2,
          26,
          14,
          22,
          4,
          18,
          25,
          19,
          25,
          13,
          13,
          27,
          25,
          15,
          22,
          29,
          3,
          25,
          12,
          13,
          5,
          4,
          9,
          5,
          22,
          18,
          18,
          6,
          21,
          8,
          18,
          27,
          22,
          22,
          6,
          16,
          9,
          13,
          20,
          17,
          29,
          16,
          8,
          6,
          20,
          20,
          5,
          18,
          26,
          20,
          18,
          14,
          28,
          20,
          23,
          16,
          27,
          6,
          24,
          21,
          17,
          16,
          19,
          24,
          26,
          21,
          28,
          21,
          22,
          23,
          10,
          23,
          30,
          13,
          1,
          23,
          16,
          7,
          3,
          11,
          26,
          6,
          13,
          21,
          30,
          8,
          6,
          22,
          29,
          23,
          6,
          18,
          26,
          25,
          26,
          25,
          13,
          10,
          7,
          21,
          3,
          3,
          16,
          14,
          8,
          6,
          21,
          24,
          15,
          21,
          15,
          25,
          30,
          6,
          18,
          27,
          19,
          16,
          17,
          23,
          7,
          24,
          8,
          23,
          22,
          7,
          15,
          1,
          9,
          10,
          14,
          26,
          8,
          7,
          18,
          1,
          22,
          15,
          21,
          17,
          8,
          16,
          20,
          10,
          17,
          13,
          29,
          11,
          15,
          13,
          16,
          24,
          15,
          4,
          14,
          14,
          13,
          7,
          18,
          18,
          19,
          19,
          11,
          15,
          18,
          26,
          28,
          7,
          23,
          11,
          23,
          8,
          19,
          16,
          24,
          22,
          11,
          10,
          20,
          20,
          25,
          19,
          6,
          3,
          14,
          22,
          29,
          21,
          20,
          22,
          9,
          25,
          20,
          13,
          18,
          5,
          19,
          22,
          6,
          6,
          11,
          26,
          13,
          24,
          24,
          10,
          2,
          16,
          16,
          18,
          7,
          20,
          6,
          9,
          14,
          18,
          18,
          22,
          12,
          22,
          3,
          13,
          26,
          22,
          23,
          11,
          16,
          26,
          12,
          19,
          2,
          26,
          3,
          23,
          20,
          20,
          29,
          12,
          26,
          26,
          18,
          19,
          18,
          1,
          27,
          13,
          24,
          20,
          16,
          11,
          10,
          18,
          25,
          24,
          6,
          20,
          13,
          24,
          25,
          17,
          17,
          6,
          23,
          25,
          1,
          9,
          25,
          19,
          23,
          14,
          13,
          16,
          19,
          10,
          16,
          29,
          18,
          25,
          20,
          24,
          11,
          6,
          5,
          21,
          7,
          24,
          17,
          24,
          20,
          7,
          16,
          9,
          15,
          15,
          26,
          23,
          23,
          9,
          18,
          12,
          17,
          21,
          21,
          20,
          15,
          11,
          19,
          6,
          26,
          24,
          12,
          2,
          19,
          13,
          15,
          24,
          16,
          6,
          23,
          30,
          6,
          17,
          18,
          23,
          5,
          15,
          17,
          28,
          18,
          6,
          5,
          3,
          13,
          20,
          11,
          16,
          19,
          19,
          24,
          18,
          26,
          19,
          13,
          21,
          23,
          16,
          24,
          6,
          13,
          15,
          27,
          4,
          22,
          15,
          12,
          15,
          28,
          20,
          20,
          5,
          15,
          17,
          15,
          18,
          19,
          18,
          29,
          16,
          6,
          13,
          19,
          15,
          12,
          7,
          17,
          24,
          20,
          18,
          5,
          10,
          10,
          5,
          30,
          16,
          22,
          26,
          14,
          19,
          20,
          26,
          22,
          18,
          13,
          6,
          19,
          26,
          25,
          9,
          22,
          23,
          19,
          30,
          29,
          24,
          3,
          4,
          7,
          4,
          22,
          26,
          22,
          10,
          20,
          25,
          25,
          26,
          21,
          9,
          14,
          6,
          25,
          11,
          14,
          17,
          17,
          13,
          17,
          24,
          14,
          25,
          17,
          24,
          7,
          19,
          7,
          12,
          18,
          13,
          14,
          25,
          1,
          30,
          14,
          22,
          8,
          4,
          21,
          18,
          20,
          23,
          10,
          20,
          22,
          16,
          3,
          21,
          28,
          26,
          15,
          22,
          21,
          25,
          29,
          18,
          2,
          26,
          23,
          18,
          26,
          19,
          24,
          13,
          26,
          10,
          19,
          15,
          22,
          22,
          16,
          12,
          24,
          1,
          10,
          23,
          19,
          13,
          15,
          9,
          14,
          15,
          5,
          5,
          20,
          9,
          3,
          2,
          19,
          27,
          13,
          12,
          5,
          28,
          19,
          6,
          19,
          11,
          30,
          8,
          15,
          18,
          20,
          15,
          14,
          18,
          13,
          24,
          15,
          6,
          6,
          8,
          21,
          19,
          16,
          11,
          28,
          14,
          5,
          17,
          30,
          15,
          25,
          20,
          24,
          18,
          19,
          13,
          8,
          14,
          20,
          23,
          27,
          14
         ],
         "xaxis": "x",
         "y": [
          58,
          77,
          37,
          21,
          52,
          25,
          44,
          80,
          26,
          20,
          73,
          19,
          75,
          47,
          19,
          56,
          38,
          20,
          56,
          74,
          78,
          26,
          59,
          37,
          35,
          49,
          21,
          23,
          27,
          50,
          58,
          63,
          45,
          23,
          76,
          59,
          47,
          61,
          27,
          73,
          68,
          52,
          36,
          42,
          18,
          21,
          47,
          68,
          34,
          20,
          47,
          39,
          43,
          47,
          38,
          21,
          46,
          73,
          66,
          32,
          29,
          21,
          64,
          25,
          67,
          63,
          46,
          36,
          72,
          42,
          56,
          70,
          61,
          52,
          80,
          68,
          19,
          67,
          32,
          59,
          38,
          63,
          35,
          67,
          74,
          56,
          45,
          61,
          67,
          78,
          74,
          56,
          61,
          64,
          71,
          62,
          34,
          44,
          45,
          58,
          28,
          79,
          49,
          73,
          56,
          27,
          45,
          18,
          43,
          38,
          39,
          53,
          30,
          34,
          44,
          22,
          37,
          65,
          66,
          72,
          71,
          37,
          46,
          28,
          36,
          80,
          34,
          43,
          33,
          25,
          71,
          54,
          67,
          24,
          46,
          62,
          70,
          70,
          52,
          58,
          51,
          55,
          66,
          24,
          43,
          66,
          38,
          59,
          54,
          29,
          40,
          29,
          49,
          22,
          62,
          63,
          23,
          80,
          60,
          28,
          50,
          32,
          37,
          50,
          24,
          63,
          34,
          36,
          41,
          70,
          75,
          67,
          67,
          61,
          77,
          45,
          80,
          41,
          38,
          74,
          68,
          55,
          24,
          75,
          48,
          44,
          39,
          74,
          28,
          37,
          43,
          31,
          36,
          44,
          47,
          52,
          47,
          41,
          79,
          34,
          71,
          23,
          78,
          61,
          58,
          19,
          24,
          49,
          31,
          26,
          71,
          27,
          71,
          49,
          77,
          50,
          59,
          44,
          62,
          61,
          50,
          79,
          74,
          43,
          34,
          36,
          26,
          51,
          50,
          23,
          49,
          54,
          24,
          27,
          39,
          27,
          71,
          24,
          67,
          33,
          79,
          79,
          40,
          27,
          25,
          74,
          70,
          59,
          35,
          65,
          47,
          76,
          51,
          67,
          29,
          23,
          61,
          36,
          48,
          78,
          34,
          32,
          37,
          23,
          42,
          80,
          47,
          72,
          23,
          48,
          74,
          20,
          68,
          53,
          48,
          36,
          19,
          50,
          24,
          52,
          30,
          24,
          27,
          22,
          33,
          41,
          19,
          23,
          79,
          45,
          79,
          65,
          24,
          37,
          26,
          63,
          18,
          56,
          34,
          35,
          57,
          60,
          79,
          34,
          52,
          47,
          54,
          22,
          38,
          33,
          79,
          69,
          22,
          28,
          50,
          47,
          32,
          51,
          54,
          46,
          72,
          18,
          65,
          56,
          66,
          71,
          60,
          61,
          76,
          44,
          27,
          33,
          32,
          22,
          38,
          37,
          44,
          19,
          37,
          67,
          23,
          31,
          54,
          35,
          26,
          58,
          78,
          66,
          47,
          53,
          79,
          50,
          40,
          28,
          54,
          25,
          61,
          78,
          42,
          32,
          77,
          54,
          36,
          53,
          28,
          49,
          80,
          54,
          35,
          37,
          21,
          24,
          24,
          34,
          76,
          56,
          62,
          38,
          30,
          25,
          38,
          23,
          57,
          46,
          23,
          48,
          77,
          38,
          24,
          33,
          63,
          44,
          50,
          61,
          65,
          27,
          44,
          51,
          70,
          45,
          68,
          63,
          79,
          51,
          80,
          55,
          37,
          51,
          79,
          65,
          45,
          67,
          77,
          47,
          68,
          20,
          50,
          62,
          52,
          23,
          62,
          44,
          80,
          27,
          41,
          20,
          60,
          19,
          37,
          40,
          32,
          56,
          44,
          39,
          64,
          33,
          31,
          70,
          52,
          34,
          53,
          40,
          45,
          44,
          21,
          74,
          54,
          42,
          52,
          76,
          70,
          28,
          74,
          61,
          24,
          70,
          80,
          74,
          31,
          53,
          64,
          51,
          25,
          35,
          50,
          40,
          34,
          50,
          22,
          75,
          55,
          66,
          76,
          45,
          31,
          28,
          74,
          59,
          50,
          34,
          23,
          42,
          26,
          24,
          54,
          74,
          76,
          47,
          58,
          73,
          65,
          53,
          53,
          32,
          43,
          44,
          70,
          59,
          46,
          47,
          42,
          26,
          38,
          64,
          42,
          49,
          18,
          30,
          31,
          66,
          59,
          31,
          26,
          64,
          44,
          53,
          56,
          25,
          19,
          78,
          47,
          63,
          50,
          26,
          29,
          61,
          77,
          66,
          52,
          73,
          26,
          51,
          74,
          29,
          79,
          53,
          20,
          23,
          42,
          72,
          65,
          63,
          43,
          53,
          73,
          72,
          59,
          36,
          66,
          66,
          41,
          76,
          56,
          40,
          37,
          24,
          63,
          46,
          30,
          64,
          55,
          33,
          36,
          71,
          72,
          33,
          45,
          73,
          74,
          76,
          70,
          78,
          23,
          40,
          30,
          59,
          22,
          29,
          28,
          22,
          39,
          46,
          32,
          38,
          34,
          79,
          22,
          60,
          23,
          41,
          19,
          38,
          48,
          76,
          72,
          62,
          65,
          18,
          58,
          58,
          30,
          37,
          61,
          67,
          23,
          22,
          70,
          62,
          37,
          42,
          56,
          24,
          56,
          76,
          67,
          59,
          27,
          79,
          40,
          49,
          18,
          47,
          26,
          23,
          31,
          20,
          36,
          60,
          45,
          54,
          54,
          32,
          25,
          18,
          79,
          56,
          62,
          58,
          74,
          29,
          53,
          18,
          74,
          45,
          36,
          59,
          72,
          75,
          65,
          39,
          65,
          42,
          76,
          43,
          76,
          54,
          30,
          48,
          65,
          38,
          39,
          69,
          68,
          49,
          69,
          20,
          20,
          57,
          27,
          39,
          20,
          31,
          28,
          72,
          76,
          21,
          69,
          75,
          76,
          29,
          73,
          24,
          51,
          73,
          77,
          79,
          28,
          34,
          28,
          29,
          72,
          26,
          33,
          63,
          72,
          21,
          18,
          76,
          78,
          78,
          21,
          58,
          29,
          31,
          25,
          30,
          68,
          38,
          72,
          42,
          63,
          27,
          56,
          35,
          21,
          26,
          57,
          66,
          69,
          49,
          79,
          60,
          48,
          65,
          63,
          72,
          59,
          31,
          52,
          69,
          39,
          61,
          48,
          54,
          55,
          76,
          37,
          26,
          72,
          72,
          59,
          59,
          38,
          29,
          67,
          71,
          51,
          54,
          38,
          38,
          41,
          67,
          58,
          78,
          19,
          35,
          39,
          57,
          36,
          67,
          23,
          76,
          54,
          47,
          74,
          77,
          60,
          76,
          34,
          34,
          35,
          30,
          65,
          62,
          76,
          22,
          77,
          34,
          26,
          46,
          76,
          29,
          34,
          80,
          45,
          61,
          79,
          38,
          20,
          35,
          41,
          22,
          29,
          70,
          29,
          56,
          19,
          71,
          41,
          79,
          27,
          80,
          19,
          40,
          26,
          60,
          49,
          49,
          41,
          65,
          28,
          18,
          36,
          55,
          43,
          39,
          60,
          22,
          60,
          68,
          54,
          48,
          54,
          50,
          20,
          37,
          35,
          20,
          22,
          46,
          41,
          75,
          72,
          76,
          23,
          34,
          44,
          47,
          27,
          59,
          47,
          22,
          71,
          31,
          29,
          55,
          49,
          26,
          21,
          71,
          80,
          45,
          28,
          44,
          37,
          39,
          39,
          29,
          35,
          55,
          73,
          46,
          27,
          79,
          21,
          28,
          80,
          58,
          47,
          80,
          30,
          70,
          19,
          21,
          37,
          33,
          38,
          34,
          19,
          31,
          46,
          70,
          46,
          46,
          37,
          26,
          39,
          75,
          33,
          18,
          75,
          49,
          64,
          77,
          59,
          64,
          42,
          75,
          75,
          23,
          27,
          19,
          44,
          32,
          52,
          34,
          21,
          66,
          29,
          51,
          34,
          30,
          48,
          34,
          70,
          49,
          77,
          28,
          32,
          63,
          72,
          37,
          55,
          62,
          63,
          64,
          44,
          41,
          45,
          43,
          27,
          77,
          61,
          72,
          45,
          64,
          70,
          37,
          50,
          62,
          19,
          56,
          60,
          43,
          35,
          62,
          78,
          61,
          32,
          42,
          32,
          28,
          23,
          25,
          54,
          53,
          64,
          78
         ],
         "yaxis": "y"
        },
        {
         "hovertemplate": "Traveler gender=Male<br>Duration (days)=%{x}<br>Traveler age=%{y}<extra></extra>",
         "legendgroup": "Male",
         "marker": {
          "color": "#EF553B",
          "symbol": "circle"
         },
         "mode": "markers",
         "name": "Male",
         "showlegend": true,
         "type": "scattergl",
         "x": [
          17,
          25,
          17,
          11,
          24,
          16,
          21,
          22,
          4,
          28,
          21,
          11,
          23,
          18,
          11,
          19,
          18,
          14,
          19,
          9,
          4,
          24,
          14,
          12,
          22,
          25,
          10,
          17,
          19,
          4,
          16,
          21,
          19,
          25,
          19,
          27,
          25,
          21,
          9,
          19,
          6,
          22,
          6,
          16,
          23,
          17,
          18,
          13,
          13,
          16,
          24,
          5,
          16,
          25,
          22,
          22,
          15,
          3,
          25,
          11,
          17,
          18,
          3,
          22,
          14,
          25,
          8,
          23,
          7,
          13,
          16,
          21,
          10,
          18,
          3,
          5,
          13,
          22,
          20,
          22,
          22,
          19,
          21,
          16,
          25,
          16,
          8,
          14,
          26,
          25,
          21,
          24,
          19,
          10,
          6,
          17,
          19,
          17,
          28,
          16,
          24,
          14,
          17,
          20,
          17,
          23,
          16,
          26,
          20,
          8,
          3,
          6,
          15,
          2,
          23,
          20,
          21,
          14,
          14,
          17,
          16,
          14,
          16,
          25,
          28,
          17,
          21,
          2,
          23,
          11,
          24,
          13,
          29,
          19,
          17,
          21,
          20,
          25,
          1,
          22,
          5,
          3,
          23,
          23,
          6,
          8,
          16,
          17,
          14,
          14,
          25,
          19,
          20,
          26,
          18,
          8,
          11,
          18,
          15,
          19,
          11,
          23,
          20,
          21,
          20,
          19,
          1,
          25,
          18,
          25,
          2,
          11,
          15,
          24,
          24,
          24,
          22,
          22,
          17,
          8,
          8,
          19,
          22,
          22,
          24,
          18,
          17,
          11,
          9,
          22,
          16,
          1,
          21,
          19,
          20,
          16,
          25,
          23,
          19,
          16,
          14,
          18,
          10,
          24,
          7,
          25,
          15,
          28,
          13,
          13,
          24,
          29,
          20,
          29,
          19,
          19,
          9,
          22,
          20,
          11,
          23,
          24,
          6,
          30,
          11,
          27,
          1,
          14,
          5,
          9,
          15,
          26,
          8,
          21,
          16,
          3,
          23,
          24,
          24,
          8,
          13,
          7,
          9,
          14,
          10,
          5,
          19,
          15,
          13,
          17,
          22,
          26,
          17,
          5,
          1,
          20,
          18,
          7,
          21,
          22,
          25,
          20,
          25,
          20,
          11,
          23,
          20,
          4,
          21,
          17,
          22,
          28,
          23,
          13,
          22,
          21,
          27,
          26,
          7,
          6,
          10,
          14,
          16,
          28,
          23,
          21,
          7,
          20,
          18,
          14,
          29,
          3,
          24,
          13,
          23,
          16,
          19,
          19,
          27,
          8,
          25,
          17,
          24,
          28,
          25,
          7,
          13,
          17,
          10,
          27,
          22,
          17,
          13,
          27,
          7,
          20,
          17,
          17,
          13,
          13,
          20,
          6,
          22,
          14,
          23,
          11,
          11,
          5,
          21,
          1,
          20,
          26,
          27,
          24,
          25,
          27,
          25,
          18,
          28,
          27,
          12,
          21,
          19,
          11,
          12,
          25,
          1,
          23,
          16,
          6,
          20,
          13,
          16,
          21,
          14,
          15,
          14,
          17,
          8,
          22,
          26,
          15,
          4,
          16,
          24,
          16,
          14,
          20,
          17,
          10,
          27,
          16,
          16,
          20,
          19,
          26,
          23,
          6,
          16,
          6,
          17,
          23,
          15,
          14,
          22,
          14,
          18,
          16,
          13,
          25,
          14,
          18,
          23,
          7,
          11,
          23,
          16,
          11,
          8,
          1,
          18,
          26,
          16,
          10,
          18,
          27,
          25,
          10,
          15,
          10,
          18,
          18,
          20,
          2,
          13,
          26,
          18,
          15,
          6,
          17,
          21,
          18,
          19,
          14,
          27,
          12,
          9,
          6,
          15,
          13,
          14,
          11,
          5,
          22,
          3,
          24,
          19,
          12,
          25,
          23,
          23,
          11,
          20,
          17,
          9,
          3,
          9,
          16,
          27,
          13,
          3,
          6,
          22,
          15,
          10,
          1,
          13,
          24,
          4,
          22,
          15,
          5,
          24,
          24,
          17,
          22,
          23,
          9,
          21,
          27,
          21,
          16,
          9,
          20,
          23,
          14,
          19,
          6,
          14,
          23,
          8,
          23,
          28,
          16,
          17,
          14,
          21,
          26,
          28,
          15,
          12,
          10,
          17,
          22,
          13,
          9,
          23,
          18,
          20,
          17,
          11,
          10,
          24,
          11,
          13,
          25,
          27,
          14,
          25,
          24,
          14,
          28,
          19,
          1,
          25,
          28,
          23,
          26,
          17,
          26,
          13,
          17,
          15,
          15,
          15,
          26,
          9,
          19,
          15,
          26,
          7,
          15,
          14,
          17,
          1,
          12,
          24,
          19,
          26,
          16,
          21,
          19,
          5,
          11,
          3,
          21,
          22,
          23,
          21,
          2,
          18,
          14,
          14,
          13,
          24,
          17,
          29,
          1,
          25,
          6,
          9,
          5,
          2,
          18,
          13,
          15,
          14,
          3,
          14,
          25,
          16,
          20,
          13,
          17,
          15,
          23,
          7,
          18,
          16,
          23,
          21,
          24,
          1,
          23,
          20,
          18,
          16,
          23,
          10,
          26,
          14,
          20,
          29,
          19,
          24,
          15,
          19,
          21,
          9,
          15,
          15,
          17,
          8,
          18,
          24,
          13,
          22,
          22,
          19,
          15,
          11,
          26,
          20,
          22,
          12,
          30,
          13,
          29,
          23,
          22,
          20,
          18,
          17,
          26,
          7,
          18,
          5,
          21,
          22,
          21,
          22,
          14,
          28,
          20,
          11,
          12,
          12,
          25,
          15,
          20,
          19,
          29,
          2,
          24,
          6,
          24,
          15,
          7,
          12,
          30,
          24,
          18,
          5,
          25,
          6,
          9,
          10,
          11,
          17,
          14,
          14,
          2,
          18,
          20,
          23,
          17,
          19,
          6,
          20,
          13,
          17,
          5,
          8,
          2,
          21,
          17,
          5,
          26,
          13,
          26,
          16,
          16,
          14,
          15,
          1,
          14,
          20,
          19,
          26,
          16,
          30,
          2,
          9,
          18,
          26,
          16,
          16,
          23,
          25,
          26,
          20,
          18,
          9,
          15,
          17,
          28,
          12,
          25,
          14,
          6,
          14,
          19,
          23,
          19,
          25,
          10,
          18,
          23,
          18,
          29,
          9,
          24,
          21,
          28,
          18,
          20,
          20,
          2,
          19,
          12,
          25,
          23,
          10,
          1,
          10,
          25,
          25,
          10,
          9,
          24,
          19,
          6,
          19,
          7,
          11,
          13,
          16,
          18,
          19,
          7,
          24,
          24,
          6,
          14,
          26,
          13,
          9,
          22,
          13,
          18,
          20,
          5,
          26,
          2,
          19,
          26,
          23,
          7,
          14,
          21,
          25,
          14,
          27,
          23,
          5,
          18,
          16,
          1,
          13,
          22,
          6,
          14,
          25,
          10,
          6,
          20,
          19,
          14,
          21,
          16,
          22,
          10,
          16,
          21,
          19,
          15,
          29,
          21,
          19,
          17,
          15,
          20,
          19,
          16,
          24,
          17,
          15,
          17,
          29,
          15,
          11,
          18,
          28,
          15,
          24,
          8,
          20,
          11,
          29,
          8,
          14,
          23,
          23,
          12,
          22,
          7,
          27,
          24,
          22,
          29,
          18,
          21,
          29,
          16,
          23,
          26,
          17,
          16,
          17,
          25,
          28,
          4,
          8,
          25,
          17,
          26,
          1,
          13,
          6,
          11,
          15,
          15,
          23,
          15,
          26,
          24,
          22,
          27,
          14,
          15,
          26,
          13,
          13,
          14,
          24,
          6,
          25,
          21,
          26,
          8,
          30,
          19,
          19,
          17,
          7,
          28,
          21,
          28,
          14,
          26,
          22,
          23,
          14,
          14,
          26,
          21,
          16,
          11,
          22,
          17,
          20,
          24,
          26,
          20,
          18,
          12,
          1,
          23,
          8,
          21,
          5,
          20,
          22,
          17,
          24,
          9,
          15,
          15,
          17,
          16,
          11,
          17,
          22,
          13,
          26,
          18,
          14,
          6,
          16,
          27,
          19,
          22,
          13,
          19,
          26,
          22,
          29,
          17,
          17,
          13,
          22,
          24,
          23,
          16,
          12,
          22,
          8,
          8,
          10,
          29,
          7,
          19,
          12,
          24,
          29,
          24,
          13,
          7,
          3,
          18,
          5,
          26,
          25,
          23,
          24,
          2,
          25,
          1
         ],
         "xaxis": "x",
         "y": [
          33,
          48,
          52,
          41,
          48,
          61,
          58,
          43,
          76,
          49,
          68,
          49,
          39,
          26,
          57,
          80,
          34,
          58,
          49,
          57,
          33,
          31,
          27,
          43,
          67,
          61,
          35,
          58,
          78,
          45,
          45,
          33,
          33,
          60,
          43,
          65,
          46,
          40,
          33,
          53,
          48,
          46,
          47,
          77,
          46,
          57,
          51,
          62,
          53,
          20,
          34,
          61,
          67,
          51,
          30,
          65,
          59,
          50,
          26,
          66,
          20,
          58,
          38,
          72,
          59,
          49,
          27,
          54,
          20,
          50,
          20,
          39,
          79,
          34,
          45,
          72,
          19,
          45,
          52,
          63,
          37,
          32,
          72,
          20,
          68,
          59,
          32,
          79,
          27,
          52,
          52,
          78,
          72,
          64,
          68,
          61,
          67,
          34,
          31,
          32,
          60,
          50,
          28,
          54,
          48,
          19,
          64,
          39,
          55,
          62,
          26,
          49,
          42,
          64,
          23,
          47,
          74,
          65,
          79,
          36,
          22,
          32,
          41,
          44,
          45,
          25,
          70,
          42,
          43,
          25,
          61,
          29,
          68,
          35,
          61,
          76,
          44,
          50,
          30,
          18,
          77,
          39,
          29,
          48,
          38,
          55,
          44,
          45,
          46,
          18,
          27,
          75,
          26,
          50,
          79,
          38,
          37,
          24,
          79,
          45,
          59,
          68,
          33,
          45,
          32,
          50,
          61,
          59,
          27,
          60,
          60,
          21,
          63,
          69,
          42,
          28,
          47,
          61,
          25,
          22,
          44,
          20,
          79,
          39,
          42,
          80,
          70,
          47,
          31,
          30,
          42,
          73,
          36,
          21,
          65,
          75,
          63,
          64,
          42,
          54,
          60,
          28,
          21,
          65,
          39,
          43,
          68,
          42,
          36,
          39,
          37,
          72,
          51,
          51,
          75,
          74,
          61,
          44,
          44,
          24,
          25,
          38,
          41,
          48,
          57,
          44,
          60,
          65,
          33,
          41,
          67,
          24,
          40,
          79,
          27,
          53,
          35,
          77,
          31,
          59,
          28,
          39,
          65,
          59,
          69,
          28,
          33,
          26,
          72,
          31,
          20,
          57,
          46,
          61,
          30,
          60,
          60,
          59,
          53,
          18,
          38,
          43,
          69,
          43,
          45,
          32,
          50,
          51,
          25,
          38,
          73,
          60,
          56,
          62,
          23,
          58,
          23,
          56,
          56,
          47,
          63,
          38,
          33,
          76,
          57,
          24,
          39,
          77,
          39,
          42,
          62,
          31,
          61,
          28,
          58,
          37,
          45,
          24,
          40,
          39,
          26,
          25,
          34,
          29,
          65,
          68,
          18,
          67,
          34,
          20,
          23,
          78,
          77,
          62,
          28,
          37,
          58,
          19,
          43,
          27,
          49,
          54,
          27,
          68,
          54,
          43,
          28,
          79,
          34,
          48,
          72,
          74,
          57,
          48,
          68,
          67,
          73,
          52,
          60,
          68,
          48,
          51,
          54,
          62,
          27,
          30,
          22,
          74,
          44,
          23,
          34,
          66,
          49,
          26,
          45,
          37,
          33,
          32,
          45,
          63,
          34,
          74,
          77,
          66,
          53,
          22,
          26,
          74,
          29,
          65,
          76,
          49,
          27,
          62,
          52,
          23,
          78,
          61,
          65,
          36,
          75,
          79,
          69,
          20,
          44,
          63,
          37,
          73,
          63,
          33,
          48,
          41,
          41,
          46,
          72,
          56,
          60,
          55,
          32,
          46,
          45,
          33,
          49,
          61,
          40,
          49,
          33,
          40,
          24,
          48,
          34,
          80,
          47,
          41,
          63,
          41,
          26,
          79,
          80,
          25,
          36,
          57,
          41,
          35,
          39,
          73,
          75,
          52,
          55,
          41,
          31,
          25,
          73,
          65,
          25,
          43,
          75,
          76,
          48,
          44,
          62,
          48,
          35,
          78,
          28,
          36,
          24,
          31,
          47,
          79,
          42,
          68,
          40,
          63,
          22,
          79,
          33,
          58,
          22,
          57,
          76,
          22,
          45,
          66,
          32,
          74,
          38,
          48,
          62,
          52,
          34,
          25,
          70,
          33,
          41,
          56,
          61,
          23,
          28,
          21,
          61,
          80,
          32,
          50,
          52,
          44,
          24,
          30,
          77,
          80,
          66,
          76,
          69,
          45,
          33,
          46,
          46,
          46,
          78,
          25,
          66,
          21,
          75,
          57,
          62,
          51,
          45,
          30,
          48,
          61,
          34,
          41,
          77,
          62,
          20,
          52,
          18,
          29,
          23,
          72,
          45,
          58,
          41,
          59,
          72,
          44,
          52,
          57,
          37,
          51,
          20,
          32,
          56,
          36,
          58,
          19,
          63,
          45,
          69,
          35,
          42,
          26,
          59,
          42,
          77,
          72,
          77,
          49,
          64,
          23,
          80,
          24,
          54,
          47,
          43,
          43,
          33,
          64,
          28,
          45,
          53,
          18,
          55,
          59,
          55,
          68,
          50,
          44,
          38,
          43,
          18,
          28,
          61,
          46,
          30,
          66,
          40,
          55,
          46,
          60,
          63,
          56,
          36,
          70,
          68,
          40,
          20,
          37,
          51,
          73,
          59,
          50,
          43,
          18,
          68,
          60,
          18,
          53,
          27,
          58,
          56,
          28,
          25,
          24,
          62,
          74,
          37,
          55,
          72,
          65,
          52,
          53,
          21,
          25,
          55,
          24,
          59,
          76,
          22,
          65,
          26,
          72,
          63,
          55,
          19,
          45,
          69,
          72,
          26,
          74,
          43,
          79,
          53,
          72,
          51,
          56,
          48,
          50,
          22,
          62,
          18,
          64,
          66,
          80,
          58,
          61,
          18,
          52,
          59,
          59,
          52,
          59,
          71,
          72,
          38,
          22,
          49,
          38,
          30,
          69,
          63,
          28,
          30,
          54,
          57,
          65,
          22,
          52,
          50,
          66,
          53,
          32,
          19,
          62,
          52,
          30,
          35,
          48,
          43,
          80,
          71,
          55,
          57,
          58,
          27,
          65,
          70,
          65,
          66,
          19,
          47,
          24,
          18,
          21,
          44,
          18,
          28,
          60,
          42,
          72,
          41,
          22,
          73,
          74,
          73,
          66,
          58,
          22,
          33,
          50,
          26,
          64,
          27,
          30,
          28,
          34,
          30,
          58,
          48,
          59,
          70,
          66,
          72,
          69,
          33,
          69,
          34,
          69,
          58,
          22,
          56,
          18,
          29,
          23,
          46,
          37,
          77,
          41,
          57,
          52,
          59,
          34,
          74,
          34,
          78,
          79,
          63,
          78,
          79,
          18,
          63,
          64,
          61,
          27,
          37,
          58,
          25,
          59,
          58,
          30,
          28,
          30,
          22,
          67,
          62,
          28,
          49,
          80,
          37,
          64,
          46,
          62,
          31,
          19,
          31,
          53,
          22,
          38,
          37,
          42,
          27,
          73,
          80,
          25,
          56,
          73,
          65,
          21,
          55,
          76,
          40,
          36,
          45,
          69,
          50,
          74,
          45,
          48,
          32,
          54,
          80,
          33,
          35,
          21,
          37,
          70,
          62,
          47,
          79,
          51,
          74,
          31,
          55,
          49,
          43,
          22,
          78,
          74,
          43,
          32,
          41,
          41,
          29,
          74,
          61,
          29,
          80,
          42,
          54,
          30,
          49,
          27,
          43,
          25,
          54,
          57,
          26,
          56,
          38,
          32,
          27,
          49,
          31,
          47,
          47,
          46,
          49,
          59,
          55,
          39,
          42,
          45,
          32,
          42,
          37,
          77,
          59,
          75,
          73,
          77,
          54,
          58,
          31,
          36,
          57,
          43,
          18,
          54,
          38,
          77,
          76,
          76,
          59,
          72,
          40,
          66,
          20,
          32,
          48,
          75,
          29,
          36,
          69,
          45,
          26,
          66,
          63,
          71,
          80,
          68,
          20,
          31,
          63,
          57,
          43,
          34,
          73,
          33,
          72,
          73,
          32,
          69,
          59,
          28,
          28,
          38,
          24,
          45,
          48,
          52,
          56,
          28,
          19,
          65,
          69,
          42,
          77,
          34,
          26,
          77,
          37,
          44,
          57,
          31,
          70,
          75,
          67,
          23,
          61,
          51,
          54,
          74,
          25,
          27,
          28,
          70,
          23,
          26,
          25,
          66,
          26,
          41,
          71,
          22,
          37,
          79,
          31,
          54,
          45,
          64,
          67,
          34,
          69,
          23,
          58,
          69,
          32,
          67
         ],
         "yaxis": "y"
        }
       ],
       "layout": {
        "legend": {
         "title": {
          "text": "Traveler gender"
         },
         "tracegroupgap": 0
        },
        "template": {
         "data": {
          "bar": [
           {
            "error_x": {
             "color": "#2a3f5f"
            },
            "error_y": {
             "color": "#2a3f5f"
            },
            "marker": {
             "line": {
              "color": "#E5ECF6",
              "width": 0.5
             },
             "pattern": {
              "fillmode": "overlay",
              "size": 10,
              "solidity": 0.2
             }
            },
            "type": "bar"
           }
          ],
          "barpolar": [
           {
            "marker": {
             "line": {
              "color": "#E5ECF6",
              "width": 0.5
             },
             "pattern": {
              "fillmode": "overlay",
              "size": 10,
              "solidity": 0.2
             }
            },
            "type": "barpolar"
           }
          ],
          "carpet": [
           {
            "aaxis": {
             "endlinecolor": "#2a3f5f",
             "gridcolor": "white",
             "linecolor": "white",
             "minorgridcolor": "white",
             "startlinecolor": "#2a3f5f"
            },
            "baxis": {
             "endlinecolor": "#2a3f5f",
             "gridcolor": "white",
             "linecolor": "white",
             "minorgridcolor": "white",
             "startlinecolor": "#2a3f5f"
            },
            "type": "carpet"
           }
          ],
          "choropleth": [
           {
            "colorbar": {
             "outlinewidth": 0,
             "ticks": ""
            },
            "type": "choropleth"
           }
          ],
          "contour": [
           {
            "colorbar": {
             "outlinewidth": 0,
             "ticks": ""
            },
            "colorscale": [
             [
              0,
              "#0d0887"
             ],
             [
              0.1111111111111111,
              "#46039f"
             ],
             [
              0.2222222222222222,
              "#7201a8"
             ],
             [
              0.3333333333333333,
              "#9c179e"
             ],
             [
              0.4444444444444444,
              "#bd3786"
             ],
             [
              0.5555555555555556,
              "#d8576b"
             ],
             [
              0.6666666666666666,
              "#ed7953"
             ],
             [
              0.7777777777777778,
              "#fb9f3a"
             ],
             [
              0.8888888888888888,
              "#fdca26"
             ],
             [
              1,
              "#f0f921"
             ]
            ],
            "type": "contour"
           }
          ],
          "contourcarpet": [
           {
            "colorbar": {
             "outlinewidth": 0,
             "ticks": ""
            },
            "type": "contourcarpet"
           }
          ],
          "heatmap": [
           {
            "colorbar": {
             "outlinewidth": 0,
             "ticks": ""
            },
            "colorscale": [
             [
              0,
              "#0d0887"
             ],
             [
              0.1111111111111111,
              "#46039f"
             ],
             [
              0.2222222222222222,
              "#7201a8"
             ],
             [
              0.3333333333333333,
              "#9c179e"
             ],
             [
              0.4444444444444444,
              "#bd3786"
             ],
             [
              0.5555555555555556,
              "#d8576b"
             ],
             [
              0.6666666666666666,
              "#ed7953"
             ],
             [
              0.7777777777777778,
              "#fb9f3a"
             ],
             [
              0.8888888888888888,
              "#fdca26"
             ],
             [
              1,
              "#f0f921"
             ]
            ],
            "type": "heatmap"
           }
          ],
          "heatmapgl": [
           {
            "colorbar": {
             "outlinewidth": 0,
             "ticks": ""
            },
            "colorscale": [
             [
              0,
              "#0d0887"
             ],
             [
              0.1111111111111111,
              "#46039f"
             ],
             [
              0.2222222222222222,
              "#7201a8"
             ],
             [
              0.3333333333333333,
              "#9c179e"
             ],
             [
              0.4444444444444444,
              "#bd3786"
             ],
             [
              0.5555555555555556,
              "#d8576b"
             ],
             [
              0.6666666666666666,
              "#ed7953"
             ],
             [
              0.7777777777777778,
              "#fb9f3a"
             ],
             [
              0.8888888888888888,
              "#fdca26"
             ],
             [
              1,
              "#f0f921"
             ]
            ],
            "type": "heatmapgl"
           }
          ],
          "histogram": [
           {
            "marker": {
             "pattern": {
              "fillmode": "overlay",
              "size": 10,
              "solidity": 0.2
             }
            },
            "type": "histogram"
           }
          ],
          "histogram2d": [
           {
            "colorbar": {
             "outlinewidth": 0,
             "ticks": ""
            },
            "colorscale": [
             [
              0,
              "#0d0887"
             ],
             [
              0.1111111111111111,
              "#46039f"
             ],
             [
              0.2222222222222222,
              "#7201a8"
             ],
             [
              0.3333333333333333,
              "#9c179e"
             ],
             [
              0.4444444444444444,
              "#bd3786"
             ],
             [
              0.5555555555555556,
              "#d8576b"
             ],
             [
              0.6666666666666666,
              "#ed7953"
             ],
             [
              0.7777777777777778,
              "#fb9f3a"
             ],
             [
              0.8888888888888888,
              "#fdca26"
             ],
             [
              1,
              "#f0f921"
             ]
            ],
            "type": "histogram2d"
           }
          ],
          "histogram2dcontour": [
           {
            "colorbar": {
             "outlinewidth": 0,
             "ticks": ""
            },
            "colorscale": [
             [
              0,
              "#0d0887"
             ],
             [
              0.1111111111111111,
              "#46039f"
             ],
             [
              0.2222222222222222,
              "#7201a8"
             ],
             [
              0.3333333333333333,
              "#9c179e"
             ],
             [
              0.4444444444444444,
              "#bd3786"
             ],
             [
              0.5555555555555556,
              "#d8576b"
             ],
             [
              0.6666666666666666,
              "#ed7953"
             ],
             [
              0.7777777777777778,
              "#fb9f3a"
             ],
             [
              0.8888888888888888,
              "#fdca26"
             ],
             [
              1,
              "#f0f921"
             ]
            ],
            "type": "histogram2dcontour"
           }
          ],
          "mesh3d": [
           {
            "colorbar": {
             "outlinewidth": 0,
             "ticks": ""
            },
            "type": "mesh3d"
           }
          ],
          "parcoords": [
           {
            "line": {
             "colorbar": {
              "outlinewidth": 0,
              "ticks": ""
             }
            },
            "type": "parcoords"
           }
          ],
          "pie": [
           {
            "automargin": true,
            "type": "pie"
           }
          ],
          "scatter": [
           {
            "fillpattern": {
             "fillmode": "overlay",
             "size": 10,
             "solidity": 0.2
            },
            "type": "scatter"
           }
          ],
          "scatter3d": [
           {
            "line": {
             "colorbar": {
              "outlinewidth": 0,
              "ticks": ""
             }
            },
            "marker": {
             "colorbar": {
              "outlinewidth": 0,
              "ticks": ""
             }
            },
            "type": "scatter3d"
           }
          ],
          "scattercarpet": [
           {
            "marker": {
             "colorbar": {
              "outlinewidth": 0,
              "ticks": ""
             }
            },
            "type": "scattercarpet"
           }
          ],
          "scattergeo": [
           {
            "marker": {
             "colorbar": {
              "outlinewidth": 0,
              "ticks": ""
             }
            },
            "type": "scattergeo"
           }
          ],
          "scattergl": [
           {
            "marker": {
             "colorbar": {
              "outlinewidth": 0,
              "ticks": ""
             }
            },
            "type": "scattergl"
           }
          ],
          "scattermapbox": [
           {
            "marker": {
             "colorbar": {
              "outlinewidth": 0,
              "ticks": ""
             }
            },
            "type": "scattermapbox"
           }
          ],
          "scatterpolar": [
           {
            "marker": {
             "colorbar": {
              "outlinewidth": 0,
              "ticks": ""
             }
            },
            "type": "scatterpolar"
           }
          ],
          "scatterpolargl": [
           {
            "marker": {
             "colorbar": {
              "outlinewidth": 0,
              "ticks": ""
             }
            },
            "type": "scatterpolargl"
           }
          ],
          "scatterternary": [
           {
            "marker": {
             "colorbar": {
              "outlinewidth": 0,
              "ticks": ""
             }
            },
            "type": "scatterternary"
           }
          ],
          "surface": [
           {
            "colorbar": {
             "outlinewidth": 0,
             "ticks": ""
            },
            "colorscale": [
             [
              0,
              "#0d0887"
             ],
             [
              0.1111111111111111,
              "#46039f"
             ],
             [
              0.2222222222222222,
              "#7201a8"
             ],
             [
              0.3333333333333333,
              "#9c179e"
             ],
             [
              0.4444444444444444,
              "#bd3786"
             ],
             [
              0.5555555555555556,
              "#d8576b"
             ],
             [
              0.6666666666666666,
              "#ed7953"
             ],
             [
              0.7777777777777778,
              "#fb9f3a"
             ],
             [
              0.8888888888888888,
              "#fdca26"
             ],
             [
              1,
              "#f0f921"
             ]
            ],
            "type": "surface"
           }
          ],
          "table": [
           {
            "cells": {
             "fill": {
              "color": "#EBF0F8"
             },
             "line": {
              "color": "white"
             }
            },
            "header": {
             "fill": {
              "color": "#C8D4E3"
             },
             "line": {
              "color": "white"
             }
            },
            "type": "table"
           }
          ]
         },
         "layout": {
          "annotationdefaults": {
           "arrowcolor": "#2a3f5f",
           "arrowhead": 0,
           "arrowwidth": 1
          },
          "autotypenumbers": "strict",
          "coloraxis": {
           "colorbar": {
            "outlinewidth": 0,
            "ticks": ""
           }
          },
          "colorscale": {
           "diverging": [
            [
             0,
             "#8e0152"
            ],
            [
             0.1,
             "#c51b7d"
            ],
            [
             0.2,
             "#de77ae"
            ],
            [
             0.3,
             "#f1b6da"
            ],
            [
             0.4,
             "#fde0ef"
            ],
            [
             0.5,
             "#f7f7f7"
            ],
            [
             0.6,
             "#e6f5d0"
            ],
            [
             0.7,
             "#b8e186"
            ],
            [
             0.8,
             "#7fbc41"
            ],
            [
             0.9,
             "#4d9221"
            ],
            [
             1,
             "#276419"
            ]
           ],
           "sequential": [
            [
             0,
             "#0d0887"
            ],
            [
             0.1111111111111111,
             "#46039f"
            ],
            [
             0.2222222222222222,
             "#7201a8"
            ],
            [
             0.3333333333333333,
             "#9c179e"
            ],
            [
             0.4444444444444444,
             "#bd3786"
            ],
            [
             0.5555555555555556,
             "#d8576b"
            ],
            [
             0.6666666666666666,
             "#ed7953"
            ],
            [
             0.7777777777777778,
             "#fb9f3a"
            ],
            [
             0.8888888888888888,
             "#fdca26"
            ],
            [
             1,
             "#f0f921"
            ]
           ],
           "sequentialminus": [
            [
             0,
             "#0d0887"
            ],
            [
             0.1111111111111111,
             "#46039f"
            ],
            [
             0.2222222222222222,
             "#7201a8"
            ],
            [
             0.3333333333333333,
             "#9c179e"
            ],
            [
             0.4444444444444444,
             "#bd3786"
            ],
            [
             0.5555555555555556,
             "#d8576b"
            ],
            [
             0.6666666666666666,
             "#ed7953"
            ],
            [
             0.7777777777777778,
             "#fb9f3a"
            ],
            [
             0.8888888888888888,
             "#fdca26"
            ],
            [
             1,
             "#f0f921"
            ]
           ]
          },
          "colorway": [
           "#636efa",
           "#EF553B",
           "#00cc96",
           "#ab63fa",
           "#FFA15A",
           "#19d3f3",
           "#FF6692",
           "#B6E880",
           "#FF97FF",
           "#FECB52"
          ],
          "font": {
           "color": "#2a3f5f"
          },
          "geo": {
           "bgcolor": "white",
           "lakecolor": "white",
           "landcolor": "#E5ECF6",
           "showlakes": true,
           "showland": true,
           "subunitcolor": "white"
          },
          "hoverlabel": {
           "align": "left"
          },
          "hovermode": "closest",
          "mapbox": {
           "style": "light"
          },
          "paper_bgcolor": "white",
          "plot_bgcolor": "#E5ECF6",
          "polar": {
           "angularaxis": {
            "gridcolor": "white",
            "linecolor": "white",
            "ticks": ""
           },
           "bgcolor": "#E5ECF6",
           "radialaxis": {
            "gridcolor": "white",
            "linecolor": "white",
            "ticks": ""
           }
          },
          "scene": {
           "xaxis": {
            "backgroundcolor": "#E5ECF6",
            "gridcolor": "white",
            "gridwidth": 2,
            "linecolor": "white",
            "showbackground": true,
            "ticks": "",
            "zerolinecolor": "white"
           },
           "yaxis": {
            "backgroundcolor": "#E5ECF6",
            "gridcolor": "white",
            "gridwidth": 2,
            "linecolor": "white",
            "showbackground": true,
            "ticks": "",
            "zerolinecolor": "white"
           },
           "zaxis": {
            "backgroundcolor": "#E5ECF6",
            "gridcolor": "white",
            "gridwidth": 2,
            "linecolor": "white",
            "showbackground": true,
            "ticks": "",
            "zerolinecolor": "white"
           }
          },
          "shapedefaults": {
           "line": {
            "color": "#2a3f5f"
           }
          },
          "ternary": {
           "aaxis": {
            "gridcolor": "white",
            "linecolor": "white",
            "ticks": ""
           },
           "baxis": {
            "gridcolor": "white",
            "linecolor": "white",
            "ticks": ""
           },
           "bgcolor": "#E5ECF6",
           "caxis": {
            "gridcolor": "white",
            "linecolor": "white",
            "ticks": ""
           }
          },
          "title": {
           "x": 0.05
          },
          "xaxis": {
           "automargin": true,
           "gridcolor": "white",
           "linecolor": "white",
           "ticks": "",
           "title": {
            "standoff": 15
           },
           "zerolinecolor": "white",
           "zerolinewidth": 2
          },
          "yaxis": {
           "automargin": true,
           "gridcolor": "white",
           "linecolor": "white",
           "ticks": "",
           "title": {
            "standoff": 15
           },
           "zerolinecolor": "white",
           "zerolinewidth": 2
          }
         }
        },
        "title": {
         "text": "Duree de Voyage vs Age des Voyageur"
        },
        "xaxis": {
         "anchor": "y",
         "domain": [
          0,
          1
         ],
         "title": {
          "text": "Duration (days)"
         }
        },
        "yaxis": {
         "anchor": "x",
         "domain": [
          0,
          1
         ],
         "title": {
          "text": "Traveler age"
         }
        }
       }
      }
     },
     "metadata": {},
     "output_type": "display_data"
    }
   ],
   "source": [
    "fig = px.scatter(df, x='Duration (days)', y='Traveler age', color='Traveler gender',\n",
    "                    title='Duree de Voyage vs Age des Voyageur')\n",
    "fig.show()"
   ]
  },
  {
   "cell_type": "markdown",
   "metadata": {},
   "source": [
    "Ce graphique montre la relation entre l'âge des voyageurs et la durée de leurs voyages, différenciée par sexe. On observe une dispersion assez large des données, avec des voyages allant de 1 à 30 jours. Les points bleus (hommes) et rouges (femmes) sont dispersés de manière similaire, sans tendance évidente en fonction du sexe.\n",
    "\n",
    "### <font color=\"red\">Conclusion </font>\n",
    "\n",
    "Il n'y a pas de différence significative dans la durée des voyages entre les hommes et les femmes. Les voyageurs, indépendamment de leur sexe, ont tendance à choisir des voyages de durée similaire, bien que l'âge puisse jouer un rôle dans la durée du séjour.\n"
   ]
  },
  {
   "cell_type": "markdown",
   "metadata": {},
   "source": [
    "### ***Nationalités des Voyageur***"
   ]
  },
  {
   "cell_type": "markdown",
   "metadata": {},
   "source": [
    "Analyser les nationalités des voyageurs permet de comprendre comment les choix d'hébergement, de transport, ainsi que la durée et le coût des voyages varient en fonction de la nationalité. Par exemple, certaines nationalités peuvent privilégier des destinations spécifiques, des types d'hébergement ou des modes de transport plus coûteux. Cela peut aussi révéler des tendances culturelles ou économiques, offrant des insights sur les comportements des voyageurs en fonction de leur origine, ce qui peut influencer la durée et le coût des voyages."
   ]
  },
  {
   "cell_type": "code",
   "execution_count": 41,
   "metadata": {},
   "outputs": [
    {
     "data": {
      "application/vnd.plotly.v1+json": {
       "config": {
        "plotlyServerURL": "https://plot.ly"
       },
       "data": [
        {
         "type": "bar",
         "x": [
          "Portuguese",
          "German",
          "American",
          "Japanese",
          "Irish",
          "Singaporean",
          "French",
          "South Korean",
          "Mexican",
          "Turkish",
          "Emirati",
          "Italian",
          "Dutch",
          "Brazilian",
          "Spanish",
          "Australian",
          "British",
          "Thai",
          "Canadian",
          "Norwegian",
          "Argentinian",
          "Egyptian",
          "Russian",
          "Vietnamese",
          "Greek",
          "South African",
          "Swiss",
          "Peruvian",
          "Indonesian"
         ],
         "y": [
          108,
          107,
          105,
          101,
          99,
          97,
          97,
          96,
          89,
          87,
          87,
          85,
          84,
          79,
          77,
          76,
          71,
          70,
          69,
          37,
          31,
          28,
          27,
          27,
          25,
          24,
          14,
          10,
          9
         ]
        }
       ],
       "layout": {
        "template": {
         "data": {
          "bar": [
           {
            "error_x": {
             "color": "#2a3f5f"
            },
            "error_y": {
             "color": "#2a3f5f"
            },
            "marker": {
             "line": {
              "color": "#E5ECF6",
              "width": 0.5
             },
             "pattern": {
              "fillmode": "overlay",
              "size": 10,
              "solidity": 0.2
             }
            },
            "type": "bar"
           }
          ],
          "barpolar": [
           {
            "marker": {
             "line": {
              "color": "#E5ECF6",
              "width": 0.5
             },
             "pattern": {
              "fillmode": "overlay",
              "size": 10,
              "solidity": 0.2
             }
            },
            "type": "barpolar"
           }
          ],
          "carpet": [
           {
            "aaxis": {
             "endlinecolor": "#2a3f5f",
             "gridcolor": "white",
             "linecolor": "white",
             "minorgridcolor": "white",
             "startlinecolor": "#2a3f5f"
            },
            "baxis": {
             "endlinecolor": "#2a3f5f",
             "gridcolor": "white",
             "linecolor": "white",
             "minorgridcolor": "white",
             "startlinecolor": "#2a3f5f"
            },
            "type": "carpet"
           }
          ],
          "choropleth": [
           {
            "colorbar": {
             "outlinewidth": 0,
             "ticks": ""
            },
            "type": "choropleth"
           }
          ],
          "contour": [
           {
            "colorbar": {
             "outlinewidth": 0,
             "ticks": ""
            },
            "colorscale": [
             [
              0,
              "#0d0887"
             ],
             [
              0.1111111111111111,
              "#46039f"
             ],
             [
              0.2222222222222222,
              "#7201a8"
             ],
             [
              0.3333333333333333,
              "#9c179e"
             ],
             [
              0.4444444444444444,
              "#bd3786"
             ],
             [
              0.5555555555555556,
              "#d8576b"
             ],
             [
              0.6666666666666666,
              "#ed7953"
             ],
             [
              0.7777777777777778,
              "#fb9f3a"
             ],
             [
              0.8888888888888888,
              "#fdca26"
             ],
             [
              1,
              "#f0f921"
             ]
            ],
            "type": "contour"
           }
          ],
          "contourcarpet": [
           {
            "colorbar": {
             "outlinewidth": 0,
             "ticks": ""
            },
            "type": "contourcarpet"
           }
          ],
          "heatmap": [
           {
            "colorbar": {
             "outlinewidth": 0,
             "ticks": ""
            },
            "colorscale": [
             [
              0,
              "#0d0887"
             ],
             [
              0.1111111111111111,
              "#46039f"
             ],
             [
              0.2222222222222222,
              "#7201a8"
             ],
             [
              0.3333333333333333,
              "#9c179e"
             ],
             [
              0.4444444444444444,
              "#bd3786"
             ],
             [
              0.5555555555555556,
              "#d8576b"
             ],
             [
              0.6666666666666666,
              "#ed7953"
             ],
             [
              0.7777777777777778,
              "#fb9f3a"
             ],
             [
              0.8888888888888888,
              "#fdca26"
             ],
             [
              1,
              "#f0f921"
             ]
            ],
            "type": "heatmap"
           }
          ],
          "heatmapgl": [
           {
            "colorbar": {
             "outlinewidth": 0,
             "ticks": ""
            },
            "colorscale": [
             [
              0,
              "#0d0887"
             ],
             [
              0.1111111111111111,
              "#46039f"
             ],
             [
              0.2222222222222222,
              "#7201a8"
             ],
             [
              0.3333333333333333,
              "#9c179e"
             ],
             [
              0.4444444444444444,
              "#bd3786"
             ],
             [
              0.5555555555555556,
              "#d8576b"
             ],
             [
              0.6666666666666666,
              "#ed7953"
             ],
             [
              0.7777777777777778,
              "#fb9f3a"
             ],
             [
              0.8888888888888888,
              "#fdca26"
             ],
             [
              1,
              "#f0f921"
             ]
            ],
            "type": "heatmapgl"
           }
          ],
          "histogram": [
           {
            "marker": {
             "pattern": {
              "fillmode": "overlay",
              "size": 10,
              "solidity": 0.2
             }
            },
            "type": "histogram"
           }
          ],
          "histogram2d": [
           {
            "colorbar": {
             "outlinewidth": 0,
             "ticks": ""
            },
            "colorscale": [
             [
              0,
              "#0d0887"
             ],
             [
              0.1111111111111111,
              "#46039f"
             ],
             [
              0.2222222222222222,
              "#7201a8"
             ],
             [
              0.3333333333333333,
              "#9c179e"
             ],
             [
              0.4444444444444444,
              "#bd3786"
             ],
             [
              0.5555555555555556,
              "#d8576b"
             ],
             [
              0.6666666666666666,
              "#ed7953"
             ],
             [
              0.7777777777777778,
              "#fb9f3a"
             ],
             [
              0.8888888888888888,
              "#fdca26"
             ],
             [
              1,
              "#f0f921"
             ]
            ],
            "type": "histogram2d"
           }
          ],
          "histogram2dcontour": [
           {
            "colorbar": {
             "outlinewidth": 0,
             "ticks": ""
            },
            "colorscale": [
             [
              0,
              "#0d0887"
             ],
             [
              0.1111111111111111,
              "#46039f"
             ],
             [
              0.2222222222222222,
              "#7201a8"
             ],
             [
              0.3333333333333333,
              "#9c179e"
             ],
             [
              0.4444444444444444,
              "#bd3786"
             ],
             [
              0.5555555555555556,
              "#d8576b"
             ],
             [
              0.6666666666666666,
              "#ed7953"
             ],
             [
              0.7777777777777778,
              "#fb9f3a"
             ],
             [
              0.8888888888888888,
              "#fdca26"
             ],
             [
              1,
              "#f0f921"
             ]
            ],
            "type": "histogram2dcontour"
           }
          ],
          "mesh3d": [
           {
            "colorbar": {
             "outlinewidth": 0,
             "ticks": ""
            },
            "type": "mesh3d"
           }
          ],
          "parcoords": [
           {
            "line": {
             "colorbar": {
              "outlinewidth": 0,
              "ticks": ""
             }
            },
            "type": "parcoords"
           }
          ],
          "pie": [
           {
            "automargin": true,
            "type": "pie"
           }
          ],
          "scatter": [
           {
            "fillpattern": {
             "fillmode": "overlay",
             "size": 10,
             "solidity": 0.2
            },
            "type": "scatter"
           }
          ],
          "scatter3d": [
           {
            "line": {
             "colorbar": {
              "outlinewidth": 0,
              "ticks": ""
             }
            },
            "marker": {
             "colorbar": {
              "outlinewidth": 0,
              "ticks": ""
             }
            },
            "type": "scatter3d"
           }
          ],
          "scattercarpet": [
           {
            "marker": {
             "colorbar": {
              "outlinewidth": 0,
              "ticks": ""
             }
            },
            "type": "scattercarpet"
           }
          ],
          "scattergeo": [
           {
            "marker": {
             "colorbar": {
              "outlinewidth": 0,
              "ticks": ""
             }
            },
            "type": "scattergeo"
           }
          ],
          "scattergl": [
           {
            "marker": {
             "colorbar": {
              "outlinewidth": 0,
              "ticks": ""
             }
            },
            "type": "scattergl"
           }
          ],
          "scattermapbox": [
           {
            "marker": {
             "colorbar": {
              "outlinewidth": 0,
              "ticks": ""
             }
            },
            "type": "scattermapbox"
           }
          ],
          "scatterpolar": [
           {
            "marker": {
             "colorbar": {
              "outlinewidth": 0,
              "ticks": ""
             }
            },
            "type": "scatterpolar"
           }
          ],
          "scatterpolargl": [
           {
            "marker": {
             "colorbar": {
              "outlinewidth": 0,
              "ticks": ""
             }
            },
            "type": "scatterpolargl"
           }
          ],
          "scatterternary": [
           {
            "marker": {
             "colorbar": {
              "outlinewidth": 0,
              "ticks": ""
             }
            },
            "type": "scatterternary"
           }
          ],
          "surface": [
           {
            "colorbar": {
             "outlinewidth": 0,
             "ticks": ""
            },
            "colorscale": [
             [
              0,
              "#0d0887"
             ],
             [
              0.1111111111111111,
              "#46039f"
             ],
             [
              0.2222222222222222,
              "#7201a8"
             ],
             [
              0.3333333333333333,
              "#9c179e"
             ],
             [
              0.4444444444444444,
              "#bd3786"
             ],
             [
              0.5555555555555556,
              "#d8576b"
             ],
             [
              0.6666666666666666,
              "#ed7953"
             ],
             [
              0.7777777777777778,
              "#fb9f3a"
             ],
             [
              0.8888888888888888,
              "#fdca26"
             ],
             [
              1,
              "#f0f921"
             ]
            ],
            "type": "surface"
           }
          ],
          "table": [
           {
            "cells": {
             "fill": {
              "color": "#EBF0F8"
             },
             "line": {
              "color": "white"
             }
            },
            "header": {
             "fill": {
              "color": "#C8D4E3"
             },
             "line": {
              "color": "white"
             }
            },
            "type": "table"
           }
          ]
         },
         "layout": {
          "annotationdefaults": {
           "arrowcolor": "#2a3f5f",
           "arrowhead": 0,
           "arrowwidth": 1
          },
          "autotypenumbers": "strict",
          "coloraxis": {
           "colorbar": {
            "outlinewidth": 0,
            "ticks": ""
           }
          },
          "colorscale": {
           "diverging": [
            [
             0,
             "#8e0152"
            ],
            [
             0.1,
             "#c51b7d"
            ],
            [
             0.2,
             "#de77ae"
            ],
            [
             0.3,
             "#f1b6da"
            ],
            [
             0.4,
             "#fde0ef"
            ],
            [
             0.5,
             "#f7f7f7"
            ],
            [
             0.6,
             "#e6f5d0"
            ],
            [
             0.7,
             "#b8e186"
            ],
            [
             0.8,
             "#7fbc41"
            ],
            [
             0.9,
             "#4d9221"
            ],
            [
             1,
             "#276419"
            ]
           ],
           "sequential": [
            [
             0,
             "#0d0887"
            ],
            [
             0.1111111111111111,
             "#46039f"
            ],
            [
             0.2222222222222222,
             "#7201a8"
            ],
            [
             0.3333333333333333,
             "#9c179e"
            ],
            [
             0.4444444444444444,
             "#bd3786"
            ],
            [
             0.5555555555555556,
             "#d8576b"
            ],
            [
             0.6666666666666666,
             "#ed7953"
            ],
            [
             0.7777777777777778,
             "#fb9f3a"
            ],
            [
             0.8888888888888888,
             "#fdca26"
            ],
            [
             1,
             "#f0f921"
            ]
           ],
           "sequentialminus": [
            [
             0,
             "#0d0887"
            ],
            [
             0.1111111111111111,
             "#46039f"
            ],
            [
             0.2222222222222222,
             "#7201a8"
            ],
            [
             0.3333333333333333,
             "#9c179e"
            ],
            [
             0.4444444444444444,
             "#bd3786"
            ],
            [
             0.5555555555555556,
             "#d8576b"
            ],
            [
             0.6666666666666666,
             "#ed7953"
            ],
            [
             0.7777777777777778,
             "#fb9f3a"
            ],
            [
             0.8888888888888888,
             "#fdca26"
            ],
            [
             1,
             "#f0f921"
            ]
           ]
          },
          "colorway": [
           "#636efa",
           "#EF553B",
           "#00cc96",
           "#ab63fa",
           "#FFA15A",
           "#19d3f3",
           "#FF6692",
           "#B6E880",
           "#FF97FF",
           "#FECB52"
          ],
          "font": {
           "color": "#2a3f5f"
          },
          "geo": {
           "bgcolor": "white",
           "lakecolor": "white",
           "landcolor": "#E5ECF6",
           "showlakes": true,
           "showland": true,
           "subunitcolor": "white"
          },
          "hoverlabel": {
           "align": "left"
          },
          "hovermode": "closest",
          "mapbox": {
           "style": "light"
          },
          "paper_bgcolor": "white",
          "plot_bgcolor": "#E5ECF6",
          "polar": {
           "angularaxis": {
            "gridcolor": "white",
            "linecolor": "white",
            "ticks": ""
           },
           "bgcolor": "#E5ECF6",
           "radialaxis": {
            "gridcolor": "white",
            "linecolor": "white",
            "ticks": ""
           }
          },
          "scene": {
           "xaxis": {
            "backgroundcolor": "#E5ECF6",
            "gridcolor": "white",
            "gridwidth": 2,
            "linecolor": "white",
            "showbackground": true,
            "ticks": "",
            "zerolinecolor": "white"
           },
           "yaxis": {
            "backgroundcolor": "#E5ECF6",
            "gridcolor": "white",
            "gridwidth": 2,
            "linecolor": "white",
            "showbackground": true,
            "ticks": "",
            "zerolinecolor": "white"
           },
           "zaxis": {
            "backgroundcolor": "#E5ECF6",
            "gridcolor": "white",
            "gridwidth": 2,
            "linecolor": "white",
            "showbackground": true,
            "ticks": "",
            "zerolinecolor": "white"
           }
          },
          "shapedefaults": {
           "line": {
            "color": "#2a3f5f"
           }
          },
          "ternary": {
           "aaxis": {
            "gridcolor": "white",
            "linecolor": "white",
            "ticks": ""
           },
           "baxis": {
            "gridcolor": "white",
            "linecolor": "white",
            "ticks": ""
           },
           "bgcolor": "#E5ECF6",
           "caxis": {
            "gridcolor": "white",
            "linecolor": "white",
            "ticks": ""
           }
          },
          "title": {
           "x": 0.05
          },
          "xaxis": {
           "automargin": true,
           "gridcolor": "white",
           "linecolor": "white",
           "ticks": "",
           "title": {
            "standoff": 15
           },
           "zerolinecolor": "white",
           "zerolinewidth": 2
          },
          "yaxis": {
           "automargin": true,
           "gridcolor": "white",
           "linecolor": "white",
           "ticks": "",
           "title": {
            "standoff": 15
           },
           "zerolinecolor": "white",
           "zerolinewidth": 2
          }
         }
        },
        "title": {
         "text": "Nationalités des Voyageur"
        }
       }
      }
     },
     "metadata": {},
     "output_type": "display_data"
    }
   ],
   "source": [
    "\n",
    "\n",
    "\n",
    "nationalities = df['Traveler nationality'].value_counts()\n",
    "\n",
    "fig = go.Figure(data=[go.Bar(x=nationalities.index, y=nationalities.values)])\n",
    "\n",
    "fig.update_layout(title='Nationalités des Voyageur')\n",
    "\n",
    "fig.show()"
   ]
  },
  {
   "cell_type": "markdown",
   "metadata": {},
   "source": [
    "### ***Coûts par type d hébergement***"
   ]
  },
  {
   "cell_type": "markdown",
   "metadata": {},
   "source": [
    "Analyser les coûts par type d'hébergement permet de comparer les dépenses liées à différents types d'hébergement (comme les hôtels, Airbnb, resorts, etc.) et de comprendre comment ces choix influencent le coût total du voyage. Par exemple, certains types d'hébergement peuvent être plus coûteux que d'autres, et cela peut être lié à des facteurs comme le confort, l'emplacement ou les services proposés. Cette analyse aide à identifier des tendances dans les préférences des voyageurs et montre comment ces choix affectent à la fois la durée et le coût du voyage."
   ]
  },
  {
   "cell_type": "code",
   "execution_count": 42,
   "metadata": {},
   "outputs": [
    {
     "data": {
      "application/vnd.plotly.v1+json": {
       "config": {
        "plotlyServerURL": "https://plot.ly"
       },
       "data": [
        {
         "name": "Airbnb",
         "type": "box",
         "y": [
          "42.36",
          "1127.4",
          "291.73",
          "290.03",
          "563.95",
          "1331.58",
          "860.94",
          "812.45",
          "867.08",
          "1119.78",
          "1140.19",
          "53.98",
          "866.69",
          "684.28",
          "1101.17",
          "1176.34",
          "185.53 USD",
          "1223.09",
          "939.52",
          "676.95",
          "718.34",
          "1051.13",
          "1343.19",
          "918.6",
          "102.66",
          "326.81",
          "143.37",
          "349.04",
          "197.98",
          "1041.95",
          "1217.47",
          "229.96",
          "377.44",
          "215.27",
          "114.37",
          "40.08",
          "281.66",
          "786.97",
          "1413.67",
          "1334.52",
          "274.16",
          "364.65",
          "724.32",
          "107.12",
          "761.77",
          "1493.69",
          "787.23",
          "875.79",
          "1,049.24 USD",
          "1276.98",
          "591.4",
          "1351.6",
          "1009.66",
          "1272.16",
          "373.22",
          "894.47",
          "1404.01",
          "1,104.36 USD",
          "297.29",
          "934.53",
          "25.66",
          "1157.8",
          "682.36",
          "1427.84",
          "588.41",
          "718.94",
          "1,074.3 USD",
          "1490.95",
          "329.31",
          "435.27",
          "727.06",
          "872.28",
          "166.26",
          "871.0",
          "1118.89",
          "616.05",
          "1062.01",
          "1404.03",
          "458.88",
          "287.54",
          "591.67",
          null,
          "350.71",
          "570.35",
          "68.8",
          "1411.1",
          "663.8",
          "431.69",
          "586.63",
          "405.6",
          "403.5",
          "1051.45",
          "36.02",
          "81.62",
          "546.87",
          "430.92",
          "537.56",
          "580.74",
          "1440.51",
          "84.37",
          "1060.6",
          "970.08",
          "1111.37",
          "158.84 USD",
          null,
          "109.0",
          "914.56",
          "1134.03",
          "767.34",
          "427.41 USD",
          "1051.12",
          "920.75",
          "787.06",
          "337.85 USD",
          "125.77",
          "182.06",
          "1393.74",
          "96.84",
          "1460.33",
          "1054.73",
          "404.91",
          "374.59",
          "516.78",
          "1178.73",
          "207.05",
          "228.99",
          "990.75",
          "1321.58",
          "1496.05",
          "339.44",
          "1085.96",
          "848.15",
          "662.07",
          "1134.32",
          "117.94",
          "1320.27",
          "1158.97",
          "308.49",
          "1296.38",
          "1416.49",
          "1091.61",
          "505.88",
          "940.51",
          "381.97",
          "777.94",
          "746.43",
          "1224.21",
          "658.76",
          "755.94",
          null,
          "134.18",
          "1104.78",
          "824.3",
          "793.93",
          "697.44",
          "1181.35",
          "327.85",
          "449.93",
          "866.58",
          "531.84",
          "37.42",
          "777.49",
          "355.77",
          "598.52",
          "951.31",
          "608.41",
          "1067.9",
          "328.85",
          "360.98",
          "1215.7",
          "292.44",
          "1291.95",
          "425.27",
          "125.89",
          "604.63",
          "897.64",
          "1493.55",
          "337.97",
          "546.88 USD",
          "420.98",
          "972.13",
          "1,006.85 USD",
          "510.97",
          "258.25",
          "1129.66",
          "258.99",
          "1345.51",
          "729.1",
          "442.84",
          "1090.99",
          "296.57",
          "163.02",
          "1499.86",
          "1189.33",
          "1034.97",
          null,
          "301.77",
          "888.94",
          "1281.2",
          "786.19",
          "729.69",
          "117.99",
          "1232.72",
          "392.79",
          "630.39",
          "1155.78",
          "1238.9",
          "952.85",
          "273.23",
          "1050.26",
          "891.05",
          "284.5",
          "68.26",
          "297.12",
          "1075.43",
          "620.05",
          "1314.95",
          "1012.63",
          "987.03",
          "48.88",
          "150.81",
          "1036.11",
          "193.67",
          "1222.91",
          "1476.53",
          "1193.01",
          "1299.04",
          "1283.51",
          "249.43",
          "1498.68",
          "1353.69",
          "565.88",
          "1214.58",
          "1477.48",
          "1132.64",
          "894.85",
          "307.28",
          "1276.79",
          "1008.45",
          "932.2",
          "1173.59",
          "1295.91",
          "1035.55",
          "1406.84",
          "175.94",
          "309.63",
          "1366.15",
          "346.33",
          "1124.67",
          "221.74",
          "271.39",
          "43.13",
          "865.84",
          "668.72",
          "1297.88",
          "1231.5",
          "474.56",
          "407.34",
          "751.02",
          "1182.68",
          "499.12",
          "196.48",
          "219.29",
          "1226.17",
          "434.67",
          "510.25",
          "1252.31",
          "1109.44",
          "261.54",
          "1184.5",
          "915.6",
          "82.22",
          "1129.41",
          "949.67",
          "190.89",
          "590.03",
          "382.47",
          "561.03",
          "607.42",
          "925.43",
          "1,125.59 USD",
          "1322.14",
          "520.38",
          "1330.34",
          "430.24",
          "1020.66",
          "1154.73",
          null,
          "1254.27",
          "950.14",
          "754.58",
          "513.23",
          "299.98",
          "542.31",
          "90.94",
          "875.57",
          null,
          "1188.02",
          "1367.08",
          "1091.57",
          "201.3",
          "495.22",
          "431.51",
          "1096.04",
          "1198.41",
          "1206.86",
          "519.52",
          "1360.51",
          "458.71",
          "256.63",
          "556.0",
          "1473.52",
          "1,318.5 USD",
          "56.98",
          "1487.96",
          "1430.42",
          "166.56",
          "927.24 USD",
          "577.79",
          "1239.38",
          "253.83",
          "662.49",
          "46.69",
          "533.24",
          "1479.45",
          "951.69",
          "71.32",
          "243.07",
          "880.53",
          "179.92",
          "89.1",
          "173.22",
          "1340.96",
          "1081.5",
          "394.24",
          "351.02",
          "867.72",
          "1463.24",
          "1026.81",
          "736.41",
          "478.48",
          "272.88",
          "857.77",
          "864.77",
          "373.59 USD",
          "576.78",
          "412.34",
          "853.45",
          "1169.07",
          "876.57",
          "715.25",
          "1486.99",
          "1268.11",
          "1144.16",
          "673.25",
          "891.92",
          "554.51",
          "1,064.44 USD",
          "269.69",
          "270.31",
          "966.0",
          "1210.55",
          "1426.32",
          "1087.17",
          "367.58",
          "698.5",
          "37.12",
          "571.66",
          "1394.23",
          "758.77",
          "1287.02",
          "1499.91",
          "225.91",
          "59.48",
          "1379.35",
          "170.62",
          "403.11",
          "35.58",
          null,
          "1339.68",
          "156.7",
          "791.2",
          "281.0",
          "1421.47",
          "1166.87",
          "910.02",
          "345.01",
          "164.75",
          "791.69",
          "208.51",
          "976.12",
          "269.72",
          "782.5",
          null,
          "139.38",
          "505.35",
          "70.44",
          "928.11",
          "1469.56",
          "577.39",
          "1385.13",
          "1451.92",
          "523.28",
          "981.37",
          "536.13",
          "733.18",
          "136.89",
          "1433.77",
          "1168.72",
          "667.66",
          "803.57",
          "1316.22",
          "1209.89",
          "1,021.89 USD",
          "377.35",
          "262.49",
          "949.64",
          "794.61",
          "378.52",
          "701.79",
          "553.92",
          "1397.22",
          "1127.56",
          "464.25",
          "785.19",
          "845.5",
          "770.16",
          "1028.92",
          "282.59",
          "584.36",
          "871.35",
          "1118.96",
          "1359.69",
          "1076.2",
          "382.36",
          "1084.99",
          "1134.44",
          "796.83 USD",
          "868.58 USD",
          "822.5",
          "745.71",
          "132.48",
          "99.3",
          "1299.98",
          "928.65",
          "525.26 USD",
          "837.45 USD",
          "398.85",
          "704.26",
          "532.4",
          "1442.92",
          "1203.56",
          "594.56",
          "393.89 USD",
          "1168.84",
          "396.58",
          "818.38",
          "1148.52",
          "687.78",
          "468.04",
          "1091.99",
          "985.53",
          "351.07",
          "388.4",
          "823.32",
          "126.97",
          "1184.55",
          "1177.2",
          "493.18",
          "897.18",
          "1385.42",
          "509.48",
          "1089.38",
          "169.82",
          "819.75",
          "1350.63",
          "1453.73",
          "1413.84",
          "1278.18",
          "1069.92",
          "131.68",
          "946.31",
          "1213.57",
          "1140.25",
          "792.05",
          "961.85",
          "155.43",
          "439.37",
          "1496.74",
          "1422.01",
          "525.9",
          "782.35",
          "1114.81",
          "1213.98",
          "630.2",
          "54.33",
          "218.84",
          "675.14",
          "861.26",
          "154.53",
          "1183.75",
          "40.24",
          "86.73",
          "512.45",
          "585.97",
          "35.85",
          "198.27",
          "1042.25",
          "487.33",
          "49.24",
          "741.67",
          "526.9",
          "485.54",
          "257.42",
          "1458.34",
          "468.26",
          "90.19",
          "1310.51",
          "731.74",
          "634.6",
          "1080.03",
          "665.52",
          "613.18",
          "1231.73",
          "1411.07",
          "103.21",
          "481.17",
          "1340.49",
          "1139.71",
          "320.93",
          "281.79",
          "923.16",
          "20.96",
          "386.82",
          "1176.99",
          "1013.5",
          "131.3",
          "651.46",
          "141.77",
          "509.45",
          "1162.39",
          "827.71",
          "253.7",
          "453.78",
          "556.9",
          "1070.58",
          "1480.35",
          "1396.11",
          "148.87",
          "1028.74",
          "408.12",
          "1008.3",
          "759.31",
          "228.68",
          "1231.74",
          null,
          "103.07",
          "168.03",
          "1362.86",
          "345.6",
          "223.87",
          "431.66",
          "1298.36",
          "109.56",
          "409.5",
          "1495.53",
          "881.34",
          "1474.95",
          "1033.44",
          "273.73",
          "695.02",
          "1220.76",
          "224.23",
          "1267.53",
          "1459.42",
          "100.66",
          "1063.69",
          "1373.48",
          "799.13 USD",
          "130.56",
          "524.72",
          "85.3",
          "1,040.13 USD",
          "653.1 USD",
          "857.42",
          "1,322.11 USD",
          "1499.52",
          "1490.22",
          "1356.17",
          "1498.75",
          null,
          "890.01 USD",
          null,
          "848.59"
         ]
        },
        {
         "name": "Hotel",
         "type": "box",
         "y": [
          "502.06",
          "253.9",
          "697.69",
          "422.36",
          "777.05",
          "354.56",
          "1351.79",
          "837.25",
          "462.16",
          "558.69",
          "1155.04",
          "592.1",
          "976.3",
          "779.85",
          "1368.41",
          "595.69",
          "526.24",
          "858.25 USD",
          "612.91",
          "1158.05",
          "97.59",
          "643.9",
          "696.48",
          "488.09",
          "1288.05",
          "1434.69",
          "824.44",
          "1,163.92 USD",
          "422.51",
          "1109.48",
          "1,312.09 USD",
          "1435.76",
          "264.2",
          "1276.27",
          "701.34",
          "442.46",
          "978.1",
          "80.9",
          "50.54 USD",
          "88.79",
          "463.88",
          "716.14",
          "1446.05",
          "664.71",
          "201.49",
          "1247.37",
          "142.87",
          "842.9",
          "382.42",
          "1299.74",
          "171.38",
          "642.98",
          "285.56",
          "551.93",
          "38.86",
          "127.18",
          "756.46",
          "1186.27",
          "1333.7",
          "1484.23",
          "244.17",
          "1114.47",
          "737.33",
          "149.39",
          "313.17",
          "1246.98",
          "38.0",
          "554.79",
          "519.34",
          "631.24",
          "1324.25",
          "581.72",
          "890.59",
          "548.18",
          "1287.28",
          "1076.88",
          "1065.96",
          "1189.86",
          "974.27",
          "752.36",
          "654.06",
          null,
          "986.42",
          "1112.56",
          "112.17",
          "402.18",
          "462.62",
          "894.37",
          "1010.72",
          "653.11",
          "633.66",
          "269.51",
          "1147.26",
          "848.71",
          "567.9",
          "124.1",
          "1158.14",
          "787.2",
          "47.81",
          "883.35 USD",
          "1106.99",
          "1284.23",
          "1178.71",
          "1104.19",
          "451.95",
          "1072.41",
          "1096.22",
          "1250.13",
          "249.78",
          "219.88",
          "572.72",
          "477.33",
          "1097.93",
          "822.94",
          "926.35",
          null,
          "604.89",
          "633.77",
          "1208.66",
          "1001.19",
          "826.72",
          "1334.74",
          "1104.0",
          "1464.45",
          "1,479.4 USD",
          "931.44",
          "230.01",
          "656.36",
          "89.71",
          "1133.5",
          "1005.68",
          null,
          "990.67",
          "1219.35",
          "360.49",
          "595.18",
          "1288.73",
          "282.79",
          "544.01",
          "1317.27",
          "1383.76",
          "1065.19",
          "1363.55",
          "1269.91",
          "428.18",
          "345.69",
          "424.33",
          "1284.45",
          "827.17",
          "602.68",
          "943.28",
          "248.66",
          "348.56 USD",
          "1092.22",
          "126.0",
          "247.83",
          "1312.02",
          "602.7",
          "1134.13",
          "930.93",
          "279.37",
          "1163.93",
          "402.4",
          "1040.29",
          "1,189.11 USD",
          null,
          "125.87",
          "1242.79",
          "408.59",
          null,
          "1057.09",
          "1371.79",
          "379.77",
          "464.32",
          "560.53",
          "1127.86",
          "904.23",
          "473.66",
          "85.81",
          "536.95",
          "696.32",
          "1369.8",
          "247.56",
          "1379.48",
          "151.2",
          "715.54",
          "1330.19",
          "119.68",
          "275.61",
          "183.19",
          "1055.65",
          "71.24",
          "470.79",
          "644.69",
          "1438.28",
          "274.07",
          "1208.6",
          "53.65",
          "1341.2",
          "1244.28",
          "1371.69",
          "54.55",
          "184.74",
          "385.93",
          "1175.46",
          "1166.12",
          "836.35",
          "445.79",
          "1,036.71 USD",
          "1028.89",
          "637.76",
          "1302.4",
          "84.96",
          "117.75 USD",
          "996.85",
          "684.26",
          "825.62",
          "980.8",
          "990.44",
          "886.3",
          "982.7",
          "1337.18",
          "56.31",
          "1237.2",
          "675.57 USD",
          "333.5",
          "1091.73",
          "552.94",
          "758.12",
          "1105.82",
          "210.18",
          "1476.14",
          "399.11",
          "723.11",
          "776.79",
          "1423.27",
          null,
          "554.52",
          "726.65",
          "1,483.56 USD",
          "964.08 USD",
          "1355.59",
          "240.08",
          "879.34",
          "1482.16",
          "1226.19",
          "489.74",
          "1085.91",
          "347.68",
          null,
          "137.11",
          "289.81",
          "1275.42",
          "1230.56",
          "216.38",
          "210.44 USD",
          "957.56",
          "317.51",
          "44.63",
          "812.81",
          "996.59",
          "391.56",
          "873.83",
          "59.54",
          "1188.92",
          "416.77",
          "1170.4",
          "1110.74",
          "493.48",
          "933.08",
          "413.5",
          "132.46",
          "213.26",
          "619.18",
          null,
          "130.27",
          "498.62",
          "1008.42",
          "412.96",
          "711.46",
          "803.96",
          "1097.31",
          "162.51",
          "997.09",
          "293.79",
          "523.14",
          "416.76",
          "915.38",
          "689.0",
          "395.66",
          "434.0",
          "461.87",
          "636.36",
          "111.83",
          "1045.83",
          "1427.39",
          "1327.59",
          "64.96",
          "362.44",
          "1060.57",
          "311.88",
          "371.27",
          "162.86",
          "502.11",
          "875.38",
          "551.04",
          "1260.47",
          "195.22",
          "1180.53",
          "1,462.61 USD",
          "555.35",
          "139.14 USD",
          "224.89",
          "1487.08",
          "386.55",
          "912.95",
          "1148.04",
          "1227.43",
          "182.67",
          "468.59",
          "660.19",
          "711.3",
          "396.91",
          "1108.35",
          "586.44",
          "1036.88",
          "958.37 USD",
          "233.81",
          "118.43",
          "1356.35",
          "1092.8",
          "1006.27",
          "757.53",
          "82.34",
          "909.68",
          "638.92",
          "1231.06",
          "782.47",
          "1105.01",
          "1249.41",
          "1,261.67 USD",
          "1291.09",
          "339.63",
          "1255.71",
          "174.42",
          "800.26",
          "1075.26",
          "360.04",
          "800.43",
          "647.88",
          "631.72",
          "1328.08",
          "1373.55",
          "775.75",
          "427.51",
          "373.81",
          "1277.03",
          "264.99",
          "1251.86",
          "882.47",
          "1458.45",
          "1331.25",
          "1249.31",
          "533.33",
          "1265.97",
          "803.8",
          "994.84",
          "30.92",
          "572.5",
          "100.25",
          "182.63",
          "426.61",
          "1061.65",
          "554.46",
          "1242.4",
          "1346.85",
          "502.18",
          "1064.3",
          "235.41",
          "972.01",
          "326.22 USD",
          "45.3",
          "827.19",
          "906.78",
          "648.66",
          "447.89",
          "370.64",
          "433.11 USD",
          "208.9",
          "600.49",
          "1222.09",
          null,
          "97.39",
          "67.87",
          "1056.76",
          "650.59",
          "177.45",
          "331.97",
          "113.31",
          "765.46",
          "947.13",
          "650.95",
          "848.4",
          "1404.84",
          "662.66",
          "219.1",
          "124.29",
          "1118.99",
          "1456.45",
          "1219.54",
          "512.08",
          "688.39",
          "1045.06",
          "1,151.7 USD",
          "884.0",
          "889.95",
          "756.3",
          "311.52",
          "739.73",
          "818.33",
          "257.36",
          "1113.94",
          "978.9",
          "735.42",
          "1047.33",
          null,
          "633.62",
          "1231.04",
          "714.94",
          "884.78",
          "1478.66",
          "1304.29",
          "219.18",
          "173.02",
          "1088.97",
          "490.93",
          "1398.73",
          "99.14",
          "173.51",
          "447.23",
          "1222.01",
          "243.25",
          "615.97",
          "169.01",
          "1310.25",
          "907.91",
          "131.38",
          "1313.81",
          "1205.44",
          "307.34",
          "736.81",
          "1385.01",
          null,
          "1402.26",
          "888.51",
          "726.92",
          "275.92",
          "1327.7",
          "326.67",
          "870.87",
          "989.48",
          "718.08",
          "1349.15",
          "727.7",
          "125.32",
          "761.38",
          null,
          "611.47",
          "633.88",
          "703.16",
          "1378.96",
          "62.95",
          "275.35",
          "251.65",
          "36.55",
          "1358.41",
          "318.89",
          "720.84",
          "1223.29",
          "1340.95",
          "279.87",
          "1,106.27 USD",
          "1237.68",
          "196.45",
          "555.47",
          "1028.93",
          "778.22",
          "801.47",
          "1148.0",
          "1488.56",
          "1175.88",
          "562.63",
          "829.63",
          "945.95",
          "576.8",
          "62.81",
          "1369.3",
          "704.14",
          "1157.51",
          "955.94",
          "989.81",
          "169.44",
          "1399.23",
          "194.67",
          "384.54",
          "649.63",
          "1250.66",
          "359.52",
          "163.53",
          "232.57",
          "1019.15",
          "1499.92",
          "447.32",
          "972.16",
          "117.82",
          "1182.27",
          "950.95",
          "1462.16",
          "793.5",
          "264.67 USD",
          "1304.67",
          "851.68",
          "888.29",
          "550.56",
          "643.65",
          "1402.99",
          "352.13",
          "630.64",
          "117.03",
          "356.99",
          "787.16",
          "564.46 USD",
          null,
          "986.19",
          null,
          "864.31",
          "1369.53",
          "1044.59",
          "884.28",
          "1380.25",
          "456.03",
          "1053.57",
          "1478.54",
          "90.87",
          "516.01",
          "468.63",
          "1164.67",
          "287.68",
          "1291.73",
          "1161.92",
          "975.25",
          "1341.4",
          "435.89",
          "51.56",
          "1317.94",
          "430.65",
          "1313.2",
          "183.03",
          "289.96",
          "519.19",
          "591.19",
          "247.98",
          "396.05",
          "520.6",
          "573.66",
          "548.73",
          "1473.89",
          "661.9",
          "128.47 USD",
          "829.37",
          "1420.11",
          "1253.93",
          "1216.26",
          "946.24",
          "559.46",
          "399.04",
          "1058.04",
          "992.44",
          "189.59",
          "1114.68",
          "436.34",
          "434.96",
          "726.13",
          "948.87",
          "1184.85",
          "1454.6",
          "471.68",
          "1313.17",
          "577.73",
          "618.25",
          "799.9",
          "835.68",
          "763.11",
          "687.42",
          "689.94",
          "1377.33",
          "68.14",
          "376.38",
          "155.32",
          "1429.36",
          "545.73",
          "947.87",
          "326.68",
          "1220.81",
          "663.55",
          "409.67",
          "1070.05",
          "784.5",
          "245.74",
          "328.31",
          "68.42",
          "341.23",
          "1434.81",
          "1218.41",
          "570.26",
          "1461.16",
          "864.49",
          "897.46",
          "880.18",
          "1286.7",
          "1446.61",
          "753.11",
          "625.33",
          "1249.84",
          "1346.37",
          "628.32",
          "994.24",
          "1398.92",
          "636.49",
          "647.05",
          "810.7",
          "677.52",
          "222.29",
          "1373.27",
          "798.91",
          "69.48",
          "878.5",
          "1473.11",
          "1228.27",
          "227.52",
          "527.16",
          "1453.76",
          "1183.84",
          "90.21",
          "1178.27",
          "964.58",
          "575.0",
          "551.85",
          "934.62",
          "1187.18",
          "783.32",
          "98.27",
          "1492.63",
          "533.78",
          "793.91",
          "888.31",
          "1486.75",
          "104.64",
          "839.84",
          "1339.81",
          "1148.79",
          "1482.15",
          "596.4",
          "1465.04",
          "923.72",
          "912.19",
          "1023.14",
          "175.63",
          "647.34",
          "689.94",
          "1349.72",
          "1224.63",
          "1108.13",
          "482.73 USD",
          "525.05",
          "953.88",
          "372.94",
          "1312.76",
          "1090.57",
          "1494.58",
          "628.07",
          "655.55",
          "1123.03",
          "998.28",
          "344.71",
          "985.75",
          "23.13",
          "810.66",
          "107.53",
          "1,495.77 USD",
          "583.34",
          "151.92",
          "960.96",
          "1174.27",
          "1,455.43 USD",
          "262.2",
          null,
          "1133.23",
          "134.82",
          "576.43",
          "1007.87",
          "634.72 USD",
          "1280.48",
          "567.84 USD",
          "1280.13",
          "1264.77",
          "1026.14",
          "158.91",
          "838.45",
          "1287.34",
          "1298.92",
          "1341.19",
          "334.9",
          "911.56",
          "1420.95",
          "1333.89",
          "384.71",
          "735.39",
          "64.59",
          "679.36",
          "1174.39",
          "949.29",
          "367.63",
          "86.64",
          "434.56",
          "291.21",
          "1307.52",
          "256.22",
          "449.17",
          "1,150.07 USD",
          "1250.79",
          "976.89",
          "545.85",
          "810.85",
          "1486.29",
          "939.47",
          "1441.05",
          "1164.68",
          "689.97",
          "423.32",
          "652.85",
          "1299.06",
          "1316.17",
          "506.47",
          "1111.05",
          "1342.1",
          "376.92",
          "284.38",
          "1349.34",
          "343.98",
          "75.97"
         ]
        },
        {
         "name": "Resort",
         "type": "box",
         "y": [
          "969.8",
          "769.83",
          "668.79",
          "1056.97",
          "423.07",
          "338.08",
          "70.3",
          null,
          "715.01",
          "897.6",
          "691.98",
          "148.02 USD",
          "1275.97",
          "1130.35",
          "1045.15",
          "342.4",
          "1393.85",
          "1388.7",
          "510.58",
          "117.16",
          "932.41",
          "1035.47",
          "156.75",
          "291.51",
          "1093.27",
          "187.2",
          "1018.19",
          "508.01",
          "913.03",
          "103.0",
          "721.81",
          "1202.16",
          "332.94",
          "236.82",
          "1005.15",
          "547.57",
          "1186.07",
          "244.6",
          "178.15",
          "221.87",
          "993.44",
          null,
          "128.22",
          "77.33",
          "216.21",
          "71.25",
          "937.02",
          "568.36",
          null,
          "769.25",
          "495.54",
          "1385.04",
          "705.86",
          "147.96",
          "1469.69",
          "544.75",
          "195.93",
          "347.61",
          "32.31",
          "684.97",
          "1186.6",
          "1245.63",
          "1481.64",
          "737.65 USD",
          "1314.65",
          "45.39",
          "874.19",
          "463.46",
          "893.22",
          "1315.62",
          null,
          "659.83",
          null,
          "1043.0",
          "1435.69",
          "508.31",
          "1402.26",
          "898.7",
          "1039.35",
          null,
          "312.18",
          "1045.46",
          "198.06",
          "439.32",
          "161.54",
          "1095.5",
          "656.97",
          "1231.19",
          "1442.98",
          "1215.34",
          "915.06",
          "338.62",
          "21.86",
          "701.11",
          null,
          "438.05",
          "393.21",
          "559.4",
          "711.0",
          "1272.64",
          "443.6",
          "972.33",
          "1446.93",
          "1188.52",
          "604.43",
          "157.47",
          "1165.7",
          "1498.78",
          "1366.63",
          "792.23",
          "248.27",
          "1407.69",
          "517.74",
          "464.01",
          "1461.14",
          "1392.93",
          "768.07",
          "691.49",
          "1000.32",
          "333.98",
          "1163.11",
          "1275.28",
          "1378.82",
          "1259.14",
          "1450.09",
          "127.6",
          "181.01 USD",
          "492.19",
          "610.45",
          "1289.65",
          "986.86",
          "244.19",
          "235.18",
          null,
          "1151.82",
          "1419.31",
          "1014.34",
          "345.73",
          "797.69",
          "264.08",
          "555.97",
          null,
          "1480.6",
          "192.5",
          "133.36",
          "1125.02",
          "559.32",
          "442.11",
          "486.24",
          "1099.07",
          "1421.31",
          "999.0",
          "1235.65",
          "1455.04",
          "631.22",
          "100.91",
          "175.34",
          "506.23",
          "150.26",
          "30.2",
          null,
          "363.44",
          "569.55",
          "933.52",
          "469.24",
          "1128.9",
          "933.05",
          "1019.11",
          "1012.17",
          "1161.56",
          "1282.0",
          "755.8",
          "140.15",
          "1077.35",
          "192.91",
          "311.13",
          "1172.99",
          "783.49",
          "191.11",
          "200.44",
          "304.46",
          "1319.53",
          "786.05",
          "1211.41",
          "1144.14",
          "832.57",
          "244.79",
          "359.1",
          "888.23 USD",
          "1416.09",
          "383.18",
          "128.83",
          "347.63",
          null,
          "220.33",
          "99.43",
          "153.29",
          "546.25",
          "211.84",
          "344.15",
          "395.21 USD",
          "681.28",
          "898.07",
          "385.93",
          "967.49",
          "369.15",
          "235.74 USD",
          "685.08",
          "74.93",
          "1181.05",
          "586.2",
          "867.72",
          null,
          "75.08",
          "298.78",
          "1327.34",
          "936.78",
          "879.05",
          "1289.23",
          "1151.93",
          "376.64",
          "851.84",
          "837.89",
          "127.3",
          "246.76",
          "284.89",
          "895.56",
          "1260.0",
          "1460.19",
          "1231.07",
          "921.11",
          "550.41",
          "263.27",
          "1087.39",
          "1194.43",
          "325.55 USD",
          "797.73",
          "1,476.03 USD",
          "532.72",
          "172.07",
          "1409.16",
          "273.99",
          "1268.04",
          "824.66",
          "185.39",
          "112.48",
          "1479.61",
          "294.15",
          "1012.33",
          "1079.71",
          "443.58",
          "936.55",
          "964.78",
          "1247.8",
          "1040.48",
          "362.14",
          "750.58",
          "425.77",
          "1424.68",
          "1383.48",
          "445.09",
          "1469.32",
          "716.09",
          "124.9 USD",
          "492.32",
          "441.49",
          "1452.79",
          "164.68",
          "479.51",
          "1236.56",
          "1106.21",
          "1466.61",
          "678.73",
          "502.66",
          "673.32",
          "478.54",
          "1307.31",
          "414.62",
          "824.82",
          "597.88",
          "354.09"
         ]
        },
        {
         "name": "Hostel",
         "type": "box",
         "y": [
          "1407.36",
          "1091.74",
          "920.32",
          "946.56",
          "420.21",
          "369.31",
          "1178.13",
          "664.9",
          "1468.4",
          "136.2 USD",
          "521.29",
          "1018.94",
          "1447.35",
          "771.84",
          "251.51",
          "380.32",
          "44.6",
          "86.93 USD",
          "520.14",
          "247.45",
          "830.3",
          "1216.53",
          "975.04",
          "331.73",
          "980.61",
          "1337.1",
          "1384.97",
          "428.81",
          "920.86",
          "185.35",
          "1230.12",
          "751.14",
          "1170.24",
          "976.03",
          "1086.39",
          "1143.31",
          "90.81",
          "449.91",
          "1267.63",
          "670.07",
          "468.34",
          "1335.11",
          "840.37",
          "634.83",
          null,
          "806.23",
          "1300.2",
          "879.16",
          "860.22",
          "149.62",
          "1084.89",
          "617.11",
          "511.04",
          "1272.88",
          "186.84",
          "175.0",
          "532.24",
          "665.04",
          "1,247.75 USD",
          "1206.61",
          "637.65",
          "576.13",
          "1374.94",
          "361.29",
          "663.22",
          "1003.96",
          "749.54",
          "1360.39",
          "1318.41",
          "1103.93",
          "1378.16",
          "190.99",
          "1206.17",
          "1305.61",
          "547.5 USD",
          "508.46",
          "232.43",
          "1490.98",
          "1085.69",
          "162.67",
          "185.38",
          "712.69",
          "314.59",
          "400.54",
          "139.19",
          "112.81",
          "977.83 USD",
          "1482.2",
          "107.58",
          "1288.59",
          "1241.27",
          "1204.55",
          "128.02",
          "486.85",
          "726.99",
          "276.33",
          "880.57",
          "588.26",
          "692.97",
          "1331.56",
          "729.53",
          "33.32",
          "704.5",
          "824.7",
          "1499.57",
          "1401.57",
          "1107.89",
          "1051.64",
          "278.14",
          null,
          "587.63",
          "952.0",
          "1096.64",
          "234.27",
          "537.92",
          "1301.74",
          "1051.77",
          "484.17",
          "762.22",
          "248.88 USD",
          "1329.5",
          "1230.48",
          "398.76",
          "704.12 USD",
          "888.34",
          "214.39",
          "348.13",
          "219.44",
          "1455.06",
          "1237.18",
          "750.73",
          "782.6",
          "599.52",
          "1071.91",
          "367.01",
          "1262.4",
          "1379.08",
          "1316.48",
          "299.63",
          "432.91",
          "396.78",
          "93.91",
          "145.9",
          "32.06",
          "714.12",
          "598.68",
          "930.72",
          "965.82",
          "1294.55",
          "35.72",
          "1159.35",
          "576.29",
          "1206.29",
          "93.02",
          "1209.93",
          "1,024.5 USD",
          "26.78",
          "1044.89",
          "119.03",
          "522.64",
          "711.96",
          "682.79",
          "24.54",
          "686.7",
          "764.48",
          "606.59",
          "48.27",
          "627.96",
          "1043.1",
          "887.42",
          "477.05",
          "914.2",
          "337.5",
          "1,242.25 USD",
          "191.11",
          "981.75",
          "1239.97",
          "604.31 USD",
          "1394.62",
          "109.67",
          "1239.88"
         ]
        },
        {
         "name": "Villa",
         "type": "box",
         "y": [
          "1152.55",
          "1357.86",
          "80.01",
          null,
          "1126.19",
          "1397.8",
          "1492.73",
          "309.56 USD",
          "520.19",
          "579.03",
          "285.7",
          "1423.38",
          "278.12",
          "1373.7",
          "709.45 USD",
          "1220.37",
          "414.07",
          "85.93",
          "556.08",
          "93.97",
          "1257.51",
          "1418.81",
          "75.01",
          "1192.64",
          "369.14",
          "239.36",
          "649.05",
          "901.69",
          "534.62",
          "143.26",
          "442.85",
          "1067.3",
          "1201.65",
          "126.99",
          "159.98",
          "514.9",
          "511.09",
          "813.66",
          "548.73",
          "345.33",
          "993.24",
          "331.06",
          "660.46",
          "1230.31",
          "833.92",
          "632.13",
          "415.24",
          "653.44",
          "105.76",
          "1243.44",
          "848.75",
          "912.7",
          "534.14",
          "210.08",
          "434.7",
          "471.74",
          "1332.28",
          "871.34",
          "251.22 USD",
          "300.19",
          "87.86",
          "234.23",
          "1167.95",
          "1288.49",
          null,
          "1376.68",
          "1499.43",
          "838.35",
          "42.71",
          "1044.35",
          "1057.49",
          "229.39",
          "176.0",
          "278.53",
          "1384.47"
         ]
        },
        {
         "name": "Riad",
         "type": "box",
         "y": [
          "1335.53",
          "752.84",
          "285.93",
          "1457.65",
          "843.89",
          "821.26",
          "1282.51",
          "791.39",
          "271.47",
          "1408.81",
          "320.96",
          "1493.45",
          "635.58",
          "26.61",
          null,
          "503.01"
         ]
        },
        {
         "name": "Guesthouse",
         "type": "box",
         "y": [
          "94.07",
          "945.23",
          "311.12",
          "1361.21",
          "689.3",
          "1192.06",
          "144.2",
          null,
          "1177.38",
          null,
          "943.37",
          "359.28",
          "1420.42",
          "1093.01",
          "582.49",
          "93.48",
          "833.62",
          "739.61"
         ]
        }
       ],
       "layout": {
        "template": {
         "data": {
          "bar": [
           {
            "error_x": {
             "color": "#2a3f5f"
            },
            "error_y": {
             "color": "#2a3f5f"
            },
            "marker": {
             "line": {
              "color": "#E5ECF6",
              "width": 0.5
             },
             "pattern": {
              "fillmode": "overlay",
              "size": 10,
              "solidity": 0.2
             }
            },
            "type": "bar"
           }
          ],
          "barpolar": [
           {
            "marker": {
             "line": {
              "color": "#E5ECF6",
              "width": 0.5
             },
             "pattern": {
              "fillmode": "overlay",
              "size": 10,
              "solidity": 0.2
             }
            },
            "type": "barpolar"
           }
          ],
          "carpet": [
           {
            "aaxis": {
             "endlinecolor": "#2a3f5f",
             "gridcolor": "white",
             "linecolor": "white",
             "minorgridcolor": "white",
             "startlinecolor": "#2a3f5f"
            },
            "baxis": {
             "endlinecolor": "#2a3f5f",
             "gridcolor": "white",
             "linecolor": "white",
             "minorgridcolor": "white",
             "startlinecolor": "#2a3f5f"
            },
            "type": "carpet"
           }
          ],
          "choropleth": [
           {
            "colorbar": {
             "outlinewidth": 0,
             "ticks": ""
            },
            "type": "choropleth"
           }
          ],
          "contour": [
           {
            "colorbar": {
             "outlinewidth": 0,
             "ticks": ""
            },
            "colorscale": [
             [
              0,
              "#0d0887"
             ],
             [
              0.1111111111111111,
              "#46039f"
             ],
             [
              0.2222222222222222,
              "#7201a8"
             ],
             [
              0.3333333333333333,
              "#9c179e"
             ],
             [
              0.4444444444444444,
              "#bd3786"
             ],
             [
              0.5555555555555556,
              "#d8576b"
             ],
             [
              0.6666666666666666,
              "#ed7953"
             ],
             [
              0.7777777777777778,
              "#fb9f3a"
             ],
             [
              0.8888888888888888,
              "#fdca26"
             ],
             [
              1,
              "#f0f921"
             ]
            ],
            "type": "contour"
           }
          ],
          "contourcarpet": [
           {
            "colorbar": {
             "outlinewidth": 0,
             "ticks": ""
            },
            "type": "contourcarpet"
           }
          ],
          "heatmap": [
           {
            "colorbar": {
             "outlinewidth": 0,
             "ticks": ""
            },
            "colorscale": [
             [
              0,
              "#0d0887"
             ],
             [
              0.1111111111111111,
              "#46039f"
             ],
             [
              0.2222222222222222,
              "#7201a8"
             ],
             [
              0.3333333333333333,
              "#9c179e"
             ],
             [
              0.4444444444444444,
              "#bd3786"
             ],
             [
              0.5555555555555556,
              "#d8576b"
             ],
             [
              0.6666666666666666,
              "#ed7953"
             ],
             [
              0.7777777777777778,
              "#fb9f3a"
             ],
             [
              0.8888888888888888,
              "#fdca26"
             ],
             [
              1,
              "#f0f921"
             ]
            ],
            "type": "heatmap"
           }
          ],
          "heatmapgl": [
           {
            "colorbar": {
             "outlinewidth": 0,
             "ticks": ""
            },
            "colorscale": [
             [
              0,
              "#0d0887"
             ],
             [
              0.1111111111111111,
              "#46039f"
             ],
             [
              0.2222222222222222,
              "#7201a8"
             ],
             [
              0.3333333333333333,
              "#9c179e"
             ],
             [
              0.4444444444444444,
              "#bd3786"
             ],
             [
              0.5555555555555556,
              "#d8576b"
             ],
             [
              0.6666666666666666,
              "#ed7953"
             ],
             [
              0.7777777777777778,
              "#fb9f3a"
             ],
             [
              0.8888888888888888,
              "#fdca26"
             ],
             [
              1,
              "#f0f921"
             ]
            ],
            "type": "heatmapgl"
           }
          ],
          "histogram": [
           {
            "marker": {
             "pattern": {
              "fillmode": "overlay",
              "size": 10,
              "solidity": 0.2
             }
            },
            "type": "histogram"
           }
          ],
          "histogram2d": [
           {
            "colorbar": {
             "outlinewidth": 0,
             "ticks": ""
            },
            "colorscale": [
             [
              0,
              "#0d0887"
             ],
             [
              0.1111111111111111,
              "#46039f"
             ],
             [
              0.2222222222222222,
              "#7201a8"
             ],
             [
              0.3333333333333333,
              "#9c179e"
             ],
             [
              0.4444444444444444,
              "#bd3786"
             ],
             [
              0.5555555555555556,
              "#d8576b"
             ],
             [
              0.6666666666666666,
              "#ed7953"
             ],
             [
              0.7777777777777778,
              "#fb9f3a"
             ],
             [
              0.8888888888888888,
              "#fdca26"
             ],
             [
              1,
              "#f0f921"
             ]
            ],
            "type": "histogram2d"
           }
          ],
          "histogram2dcontour": [
           {
            "colorbar": {
             "outlinewidth": 0,
             "ticks": ""
            },
            "colorscale": [
             [
              0,
              "#0d0887"
             ],
             [
              0.1111111111111111,
              "#46039f"
             ],
             [
              0.2222222222222222,
              "#7201a8"
             ],
             [
              0.3333333333333333,
              "#9c179e"
             ],
             [
              0.4444444444444444,
              "#bd3786"
             ],
             [
              0.5555555555555556,
              "#d8576b"
             ],
             [
              0.6666666666666666,
              "#ed7953"
             ],
             [
              0.7777777777777778,
              "#fb9f3a"
             ],
             [
              0.8888888888888888,
              "#fdca26"
             ],
             [
              1,
              "#f0f921"
             ]
            ],
            "type": "histogram2dcontour"
           }
          ],
          "mesh3d": [
           {
            "colorbar": {
             "outlinewidth": 0,
             "ticks": ""
            },
            "type": "mesh3d"
           }
          ],
          "parcoords": [
           {
            "line": {
             "colorbar": {
              "outlinewidth": 0,
              "ticks": ""
             }
            },
            "type": "parcoords"
           }
          ],
          "pie": [
           {
            "automargin": true,
            "type": "pie"
           }
          ],
          "scatter": [
           {
            "fillpattern": {
             "fillmode": "overlay",
             "size": 10,
             "solidity": 0.2
            },
            "type": "scatter"
           }
          ],
          "scatter3d": [
           {
            "line": {
             "colorbar": {
              "outlinewidth": 0,
              "ticks": ""
             }
            },
            "marker": {
             "colorbar": {
              "outlinewidth": 0,
              "ticks": ""
             }
            },
            "type": "scatter3d"
           }
          ],
          "scattercarpet": [
           {
            "marker": {
             "colorbar": {
              "outlinewidth": 0,
              "ticks": ""
             }
            },
            "type": "scattercarpet"
           }
          ],
          "scattergeo": [
           {
            "marker": {
             "colorbar": {
              "outlinewidth": 0,
              "ticks": ""
             }
            },
            "type": "scattergeo"
           }
          ],
          "scattergl": [
           {
            "marker": {
             "colorbar": {
              "outlinewidth": 0,
              "ticks": ""
             }
            },
            "type": "scattergl"
           }
          ],
          "scattermapbox": [
           {
            "marker": {
             "colorbar": {
              "outlinewidth": 0,
              "ticks": ""
             }
            },
            "type": "scattermapbox"
           }
          ],
          "scatterpolar": [
           {
            "marker": {
             "colorbar": {
              "outlinewidth": 0,
              "ticks": ""
             }
            },
            "type": "scatterpolar"
           }
          ],
          "scatterpolargl": [
           {
            "marker": {
             "colorbar": {
              "outlinewidth": 0,
              "ticks": ""
             }
            },
            "type": "scatterpolargl"
           }
          ],
          "scatterternary": [
           {
            "marker": {
             "colorbar": {
              "outlinewidth": 0,
              "ticks": ""
             }
            },
            "type": "scatterternary"
           }
          ],
          "surface": [
           {
            "colorbar": {
             "outlinewidth": 0,
             "ticks": ""
            },
            "colorscale": [
             [
              0,
              "#0d0887"
             ],
             [
              0.1111111111111111,
              "#46039f"
             ],
             [
              0.2222222222222222,
              "#7201a8"
             ],
             [
              0.3333333333333333,
              "#9c179e"
             ],
             [
              0.4444444444444444,
              "#bd3786"
             ],
             [
              0.5555555555555556,
              "#d8576b"
             ],
             [
              0.6666666666666666,
              "#ed7953"
             ],
             [
              0.7777777777777778,
              "#fb9f3a"
             ],
             [
              0.8888888888888888,
              "#fdca26"
             ],
             [
              1,
              "#f0f921"
             ]
            ],
            "type": "surface"
           }
          ],
          "table": [
           {
            "cells": {
             "fill": {
              "color": "#EBF0F8"
             },
             "line": {
              "color": "white"
             }
            },
            "header": {
             "fill": {
              "color": "#C8D4E3"
             },
             "line": {
              "color": "white"
             }
            },
            "type": "table"
           }
          ]
         },
         "layout": {
          "annotationdefaults": {
           "arrowcolor": "#2a3f5f",
           "arrowhead": 0,
           "arrowwidth": 1
          },
          "autotypenumbers": "strict",
          "coloraxis": {
           "colorbar": {
            "outlinewidth": 0,
            "ticks": ""
           }
          },
          "colorscale": {
           "diverging": [
            [
             0,
             "#8e0152"
            ],
            [
             0.1,
             "#c51b7d"
            ],
            [
             0.2,
             "#de77ae"
            ],
            [
             0.3,
             "#f1b6da"
            ],
            [
             0.4,
             "#fde0ef"
            ],
            [
             0.5,
             "#f7f7f7"
            ],
            [
             0.6,
             "#e6f5d0"
            ],
            [
             0.7,
             "#b8e186"
            ],
            [
             0.8,
             "#7fbc41"
            ],
            [
             0.9,
             "#4d9221"
            ],
            [
             1,
             "#276419"
            ]
           ],
           "sequential": [
            [
             0,
             "#0d0887"
            ],
            [
             0.1111111111111111,
             "#46039f"
            ],
            [
             0.2222222222222222,
             "#7201a8"
            ],
            [
             0.3333333333333333,
             "#9c179e"
            ],
            [
             0.4444444444444444,
             "#bd3786"
            ],
            [
             0.5555555555555556,
             "#d8576b"
            ],
            [
             0.6666666666666666,
             "#ed7953"
            ],
            [
             0.7777777777777778,
             "#fb9f3a"
            ],
            [
             0.8888888888888888,
             "#fdca26"
            ],
            [
             1,
             "#f0f921"
            ]
           ],
           "sequentialminus": [
            [
             0,
             "#0d0887"
            ],
            [
             0.1111111111111111,
             "#46039f"
            ],
            [
             0.2222222222222222,
             "#7201a8"
            ],
            [
             0.3333333333333333,
             "#9c179e"
            ],
            [
             0.4444444444444444,
             "#bd3786"
            ],
            [
             0.5555555555555556,
             "#d8576b"
            ],
            [
             0.6666666666666666,
             "#ed7953"
            ],
            [
             0.7777777777777778,
             "#fb9f3a"
            ],
            [
             0.8888888888888888,
             "#fdca26"
            ],
            [
             1,
             "#f0f921"
            ]
           ]
          },
          "colorway": [
           "#636efa",
           "#EF553B",
           "#00cc96",
           "#ab63fa",
           "#FFA15A",
           "#19d3f3",
           "#FF6692",
           "#B6E880",
           "#FF97FF",
           "#FECB52"
          ],
          "font": {
           "color": "#2a3f5f"
          },
          "geo": {
           "bgcolor": "white",
           "lakecolor": "white",
           "landcolor": "#E5ECF6",
           "showlakes": true,
           "showland": true,
           "subunitcolor": "white"
          },
          "hoverlabel": {
           "align": "left"
          },
          "hovermode": "closest",
          "mapbox": {
           "style": "light"
          },
          "paper_bgcolor": "white",
          "plot_bgcolor": "#E5ECF6",
          "polar": {
           "angularaxis": {
            "gridcolor": "white",
            "linecolor": "white",
            "ticks": ""
           },
           "bgcolor": "#E5ECF6",
           "radialaxis": {
            "gridcolor": "white",
            "linecolor": "white",
            "ticks": ""
           }
          },
          "scene": {
           "xaxis": {
            "backgroundcolor": "#E5ECF6",
            "gridcolor": "white",
            "gridwidth": 2,
            "linecolor": "white",
            "showbackground": true,
            "ticks": "",
            "zerolinecolor": "white"
           },
           "yaxis": {
            "backgroundcolor": "#E5ECF6",
            "gridcolor": "white",
            "gridwidth": 2,
            "linecolor": "white",
            "showbackground": true,
            "ticks": "",
            "zerolinecolor": "white"
           },
           "zaxis": {
            "backgroundcolor": "#E5ECF6",
            "gridcolor": "white",
            "gridwidth": 2,
            "linecolor": "white",
            "showbackground": true,
            "ticks": "",
            "zerolinecolor": "white"
           }
          },
          "shapedefaults": {
           "line": {
            "color": "#2a3f5f"
           }
          },
          "ternary": {
           "aaxis": {
            "gridcolor": "white",
            "linecolor": "white",
            "ticks": ""
           },
           "baxis": {
            "gridcolor": "white",
            "linecolor": "white",
            "ticks": ""
           },
           "bgcolor": "#E5ECF6",
           "caxis": {
            "gridcolor": "white",
            "linecolor": "white",
            "ticks": ""
           }
          },
          "title": {
           "x": 0.05
          },
          "xaxis": {
           "automargin": true,
           "gridcolor": "white",
           "linecolor": "white",
           "ticks": "",
           "title": {
            "standoff": 15
           },
           "zerolinecolor": "white",
           "zerolinewidth": 2
          },
          "yaxis": {
           "automargin": true,
           "gridcolor": "white",
           "linecolor": "white",
           "ticks": "",
           "title": {
            "standoff": 15
           },
           "zerolinecolor": "white",
           "zerolinewidth": 2
          }
         }
        },
        "title": {
         "text": "Coûts par type d hébergement"
        },
        "yaxis": {
         "title": {
          "text": "Transportation cost"
         }
        }
       }
      }
     },
     "metadata": {},
     "output_type": "display_data"
    }
   ],
   "source": [
    "df = pd.read_csv('travel_data_modified.csv')\n",
    "\n",
    "fig = go.Figure()\n",
    "\n",
    "for accommodation_type in df['Accommodation type'].unique():\n",
    "    fig.add_trace(go.Box(y=df[df['Accommodation type']==accommodation_type]['Transportation cost'],\n",
    "                         name=accommodation_type))\n",
    "\n",
    "fig.update_layout(title='Coûts par type d hébergement',\n",
    "                  yaxis_title='Transportation cost')\n",
    "\n",
    "fig.show()"
   ]
  },
  {
   "cell_type": "markdown",
   "metadata": {},
   "source": [
    "\n",
    "Cette visualisation montre la variation des coûts de transport en fonction du type d'hébergement. On observe que les hôtels et les complexes de vacances (Resorts) ont des coûts de transport relativement élevés, tandis que les autres types d'hébergement, comme les chambres d'hôtes (Guesthouse), les villas et les riads, ont des coûts plus bas. Le type Airbnb semble avoir une grande variabilité, ce qui pourrait suggérer des différences significatives dans les choix des voyageurs en fonction de l’emplacement ou du type d’hébergement choisi.\n",
    "\n",
    "### <font color=\"red\">Conclusion </font>\n",
    "Les choix d'hébergement influencent directement les coûts de transport et d’hébergement. Les voyageurs qui choisissent des hôtels et des resorts (qui ont tendance à avoir des coûts de transport plus élevés) ont tendance à privilégier le confort ou la proximité des attractions, ce qui pourrait augmenter leur durée de séjour et leurs dépenses. En revanche, les voyageurs optant pour des hébergements plus abordables, comme les guesthouses ou les riads, semblent pouvoir réduire leurs dépenses en transport, ce qui pourrait entraîner des séjours plus courts ou des choix de voyage moins coûteux. Les caractéristiques des voyageurs, comme leur budget ou leurs priorités en matière de confort, influencent donc à la fois la durée et le coût du voyage."
   ]
  },
  {
   "cell_type": "markdown",
   "metadata": {},
   "source": [
    "### ***Nombre de voyage par genre***"
   ]
  },
  {
   "cell_type": "markdown",
   "metadata": {},
   "source": [
    "Analyser le nombre de voyages par genre permet de voir s'il existe des différences entre les hommes et les femmes en termes de fréquence de voyages. Cela peut aussi révéler si les choix d'hébergement, de transport, ainsi que la durée et le coût des voyages varient en fonction du genre. Par exemple, cela peut aider à comprendre si les hommes ou les femmes préfèrent certains types de voyages ou destinations, ce qui peut influencer la durée et le coût."
   ]
  },
  {
   "cell_type": "code",
   "execution_count": 43,
   "metadata": {},
   "outputs": [
    {
     "data": {
      "application/vnd.plotly.v1+json": {
       "config": {
        "plotlyServerURL": "https://plot.ly"
       },
       "data": [
        {
         "labels": [
          "Female",
          "Male"
         ],
         "type": "pie",
         "values": [
          958,
          958
         ]
        }
       ],
       "layout": {
        "template": {
         "data": {
          "bar": [
           {
            "error_x": {
             "color": "#2a3f5f"
            },
            "error_y": {
             "color": "#2a3f5f"
            },
            "marker": {
             "line": {
              "color": "#E5ECF6",
              "width": 0.5
             },
             "pattern": {
              "fillmode": "overlay",
              "size": 10,
              "solidity": 0.2
             }
            },
            "type": "bar"
           }
          ],
          "barpolar": [
           {
            "marker": {
             "line": {
              "color": "#E5ECF6",
              "width": 0.5
             },
             "pattern": {
              "fillmode": "overlay",
              "size": 10,
              "solidity": 0.2
             }
            },
            "type": "barpolar"
           }
          ],
          "carpet": [
           {
            "aaxis": {
             "endlinecolor": "#2a3f5f",
             "gridcolor": "white",
             "linecolor": "white",
             "minorgridcolor": "white",
             "startlinecolor": "#2a3f5f"
            },
            "baxis": {
             "endlinecolor": "#2a3f5f",
             "gridcolor": "white",
             "linecolor": "white",
             "minorgridcolor": "white",
             "startlinecolor": "#2a3f5f"
            },
            "type": "carpet"
           }
          ],
          "choropleth": [
           {
            "colorbar": {
             "outlinewidth": 0,
             "ticks": ""
            },
            "type": "choropleth"
           }
          ],
          "contour": [
           {
            "colorbar": {
             "outlinewidth": 0,
             "ticks": ""
            },
            "colorscale": [
             [
              0,
              "#0d0887"
             ],
             [
              0.1111111111111111,
              "#46039f"
             ],
             [
              0.2222222222222222,
              "#7201a8"
             ],
             [
              0.3333333333333333,
              "#9c179e"
             ],
             [
              0.4444444444444444,
              "#bd3786"
             ],
             [
              0.5555555555555556,
              "#d8576b"
             ],
             [
              0.6666666666666666,
              "#ed7953"
             ],
             [
              0.7777777777777778,
              "#fb9f3a"
             ],
             [
              0.8888888888888888,
              "#fdca26"
             ],
             [
              1,
              "#f0f921"
             ]
            ],
            "type": "contour"
           }
          ],
          "contourcarpet": [
           {
            "colorbar": {
             "outlinewidth": 0,
             "ticks": ""
            },
            "type": "contourcarpet"
           }
          ],
          "heatmap": [
           {
            "colorbar": {
             "outlinewidth": 0,
             "ticks": ""
            },
            "colorscale": [
             [
              0,
              "#0d0887"
             ],
             [
              0.1111111111111111,
              "#46039f"
             ],
             [
              0.2222222222222222,
              "#7201a8"
             ],
             [
              0.3333333333333333,
              "#9c179e"
             ],
             [
              0.4444444444444444,
              "#bd3786"
             ],
             [
              0.5555555555555556,
              "#d8576b"
             ],
             [
              0.6666666666666666,
              "#ed7953"
             ],
             [
              0.7777777777777778,
              "#fb9f3a"
             ],
             [
              0.8888888888888888,
              "#fdca26"
             ],
             [
              1,
              "#f0f921"
             ]
            ],
            "type": "heatmap"
           }
          ],
          "heatmapgl": [
           {
            "colorbar": {
             "outlinewidth": 0,
             "ticks": ""
            },
            "colorscale": [
             [
              0,
              "#0d0887"
             ],
             [
              0.1111111111111111,
              "#46039f"
             ],
             [
              0.2222222222222222,
              "#7201a8"
             ],
             [
              0.3333333333333333,
              "#9c179e"
             ],
             [
              0.4444444444444444,
              "#bd3786"
             ],
             [
              0.5555555555555556,
              "#d8576b"
             ],
             [
              0.6666666666666666,
              "#ed7953"
             ],
             [
              0.7777777777777778,
              "#fb9f3a"
             ],
             [
              0.8888888888888888,
              "#fdca26"
             ],
             [
              1,
              "#f0f921"
             ]
            ],
            "type": "heatmapgl"
           }
          ],
          "histogram": [
           {
            "marker": {
             "pattern": {
              "fillmode": "overlay",
              "size": 10,
              "solidity": 0.2
             }
            },
            "type": "histogram"
           }
          ],
          "histogram2d": [
           {
            "colorbar": {
             "outlinewidth": 0,
             "ticks": ""
            },
            "colorscale": [
             [
              0,
              "#0d0887"
             ],
             [
              0.1111111111111111,
              "#46039f"
             ],
             [
              0.2222222222222222,
              "#7201a8"
             ],
             [
              0.3333333333333333,
              "#9c179e"
             ],
             [
              0.4444444444444444,
              "#bd3786"
             ],
             [
              0.5555555555555556,
              "#d8576b"
             ],
             [
              0.6666666666666666,
              "#ed7953"
             ],
             [
              0.7777777777777778,
              "#fb9f3a"
             ],
             [
              0.8888888888888888,
              "#fdca26"
             ],
             [
              1,
              "#f0f921"
             ]
            ],
            "type": "histogram2d"
           }
          ],
          "histogram2dcontour": [
           {
            "colorbar": {
             "outlinewidth": 0,
             "ticks": ""
            },
            "colorscale": [
             [
              0,
              "#0d0887"
             ],
             [
              0.1111111111111111,
              "#46039f"
             ],
             [
              0.2222222222222222,
              "#7201a8"
             ],
             [
              0.3333333333333333,
              "#9c179e"
             ],
             [
              0.4444444444444444,
              "#bd3786"
             ],
             [
              0.5555555555555556,
              "#d8576b"
             ],
             [
              0.6666666666666666,
              "#ed7953"
             ],
             [
              0.7777777777777778,
              "#fb9f3a"
             ],
             [
              0.8888888888888888,
              "#fdca26"
             ],
             [
              1,
              "#f0f921"
             ]
            ],
            "type": "histogram2dcontour"
           }
          ],
          "mesh3d": [
           {
            "colorbar": {
             "outlinewidth": 0,
             "ticks": ""
            },
            "type": "mesh3d"
           }
          ],
          "parcoords": [
           {
            "line": {
             "colorbar": {
              "outlinewidth": 0,
              "ticks": ""
             }
            },
            "type": "parcoords"
           }
          ],
          "pie": [
           {
            "automargin": true,
            "type": "pie"
           }
          ],
          "scatter": [
           {
            "fillpattern": {
             "fillmode": "overlay",
             "size": 10,
             "solidity": 0.2
            },
            "type": "scatter"
           }
          ],
          "scatter3d": [
           {
            "line": {
             "colorbar": {
              "outlinewidth": 0,
              "ticks": ""
             }
            },
            "marker": {
             "colorbar": {
              "outlinewidth": 0,
              "ticks": ""
             }
            },
            "type": "scatter3d"
           }
          ],
          "scattercarpet": [
           {
            "marker": {
             "colorbar": {
              "outlinewidth": 0,
              "ticks": ""
             }
            },
            "type": "scattercarpet"
           }
          ],
          "scattergeo": [
           {
            "marker": {
             "colorbar": {
              "outlinewidth": 0,
              "ticks": ""
             }
            },
            "type": "scattergeo"
           }
          ],
          "scattergl": [
           {
            "marker": {
             "colorbar": {
              "outlinewidth": 0,
              "ticks": ""
             }
            },
            "type": "scattergl"
           }
          ],
          "scattermapbox": [
           {
            "marker": {
             "colorbar": {
              "outlinewidth": 0,
              "ticks": ""
             }
            },
            "type": "scattermapbox"
           }
          ],
          "scatterpolar": [
           {
            "marker": {
             "colorbar": {
              "outlinewidth": 0,
              "ticks": ""
             }
            },
            "type": "scatterpolar"
           }
          ],
          "scatterpolargl": [
           {
            "marker": {
             "colorbar": {
              "outlinewidth": 0,
              "ticks": ""
             }
            },
            "type": "scatterpolargl"
           }
          ],
          "scatterternary": [
           {
            "marker": {
             "colorbar": {
              "outlinewidth": 0,
              "ticks": ""
             }
            },
            "type": "scatterternary"
           }
          ],
          "surface": [
           {
            "colorbar": {
             "outlinewidth": 0,
             "ticks": ""
            },
            "colorscale": [
             [
              0,
              "#0d0887"
             ],
             [
              0.1111111111111111,
              "#46039f"
             ],
             [
              0.2222222222222222,
              "#7201a8"
             ],
             [
              0.3333333333333333,
              "#9c179e"
             ],
             [
              0.4444444444444444,
              "#bd3786"
             ],
             [
              0.5555555555555556,
              "#d8576b"
             ],
             [
              0.6666666666666666,
              "#ed7953"
             ],
             [
              0.7777777777777778,
              "#fb9f3a"
             ],
             [
              0.8888888888888888,
              "#fdca26"
             ],
             [
              1,
              "#f0f921"
             ]
            ],
            "type": "surface"
           }
          ],
          "table": [
           {
            "cells": {
             "fill": {
              "color": "#EBF0F8"
             },
             "line": {
              "color": "white"
             }
            },
            "header": {
             "fill": {
              "color": "#C8D4E3"
             },
             "line": {
              "color": "white"
             }
            },
            "type": "table"
           }
          ]
         },
         "layout": {
          "annotationdefaults": {
           "arrowcolor": "#2a3f5f",
           "arrowhead": 0,
           "arrowwidth": 1
          },
          "autotypenumbers": "strict",
          "coloraxis": {
           "colorbar": {
            "outlinewidth": 0,
            "ticks": ""
           }
          },
          "colorscale": {
           "diverging": [
            [
             0,
             "#8e0152"
            ],
            [
             0.1,
             "#c51b7d"
            ],
            [
             0.2,
             "#de77ae"
            ],
            [
             0.3,
             "#f1b6da"
            ],
            [
             0.4,
             "#fde0ef"
            ],
            [
             0.5,
             "#f7f7f7"
            ],
            [
             0.6,
             "#e6f5d0"
            ],
            [
             0.7,
             "#b8e186"
            ],
            [
             0.8,
             "#7fbc41"
            ],
            [
             0.9,
             "#4d9221"
            ],
            [
             1,
             "#276419"
            ]
           ],
           "sequential": [
            [
             0,
             "#0d0887"
            ],
            [
             0.1111111111111111,
             "#46039f"
            ],
            [
             0.2222222222222222,
             "#7201a8"
            ],
            [
             0.3333333333333333,
             "#9c179e"
            ],
            [
             0.4444444444444444,
             "#bd3786"
            ],
            [
             0.5555555555555556,
             "#d8576b"
            ],
            [
             0.6666666666666666,
             "#ed7953"
            ],
            [
             0.7777777777777778,
             "#fb9f3a"
            ],
            [
             0.8888888888888888,
             "#fdca26"
            ],
            [
             1,
             "#f0f921"
            ]
           ],
           "sequentialminus": [
            [
             0,
             "#0d0887"
            ],
            [
             0.1111111111111111,
             "#46039f"
            ],
            [
             0.2222222222222222,
             "#7201a8"
            ],
            [
             0.3333333333333333,
             "#9c179e"
            ],
            [
             0.4444444444444444,
             "#bd3786"
            ],
            [
             0.5555555555555556,
             "#d8576b"
            ],
            [
             0.6666666666666666,
             "#ed7953"
            ],
            [
             0.7777777777777778,
             "#fb9f3a"
            ],
            [
             0.8888888888888888,
             "#fdca26"
            ],
            [
             1,
             "#f0f921"
            ]
           ]
          },
          "colorway": [
           "#636efa",
           "#EF553B",
           "#00cc96",
           "#ab63fa",
           "#FFA15A",
           "#19d3f3",
           "#FF6692",
           "#B6E880",
           "#FF97FF",
           "#FECB52"
          ],
          "font": {
           "color": "#2a3f5f"
          },
          "geo": {
           "bgcolor": "white",
           "lakecolor": "white",
           "landcolor": "#E5ECF6",
           "showlakes": true,
           "showland": true,
           "subunitcolor": "white"
          },
          "hoverlabel": {
           "align": "left"
          },
          "hovermode": "closest",
          "mapbox": {
           "style": "light"
          },
          "paper_bgcolor": "white",
          "plot_bgcolor": "#E5ECF6",
          "polar": {
           "angularaxis": {
            "gridcolor": "white",
            "linecolor": "white",
            "ticks": ""
           },
           "bgcolor": "#E5ECF6",
           "radialaxis": {
            "gridcolor": "white",
            "linecolor": "white",
            "ticks": ""
           }
          },
          "scene": {
           "xaxis": {
            "backgroundcolor": "#E5ECF6",
            "gridcolor": "white",
            "gridwidth": 2,
            "linecolor": "white",
            "showbackground": true,
            "ticks": "",
            "zerolinecolor": "white"
           },
           "yaxis": {
            "backgroundcolor": "#E5ECF6",
            "gridcolor": "white",
            "gridwidth": 2,
            "linecolor": "white",
            "showbackground": true,
            "ticks": "",
            "zerolinecolor": "white"
           },
           "zaxis": {
            "backgroundcolor": "#E5ECF6",
            "gridcolor": "white",
            "gridwidth": 2,
            "linecolor": "white",
            "showbackground": true,
            "ticks": "",
            "zerolinecolor": "white"
           }
          },
          "shapedefaults": {
           "line": {
            "color": "#2a3f5f"
           }
          },
          "ternary": {
           "aaxis": {
            "gridcolor": "white",
            "linecolor": "white",
            "ticks": ""
           },
           "baxis": {
            "gridcolor": "white",
            "linecolor": "white",
            "ticks": ""
           },
           "bgcolor": "#E5ECF6",
           "caxis": {
            "gridcolor": "white",
            "linecolor": "white",
            "ticks": ""
           }
          },
          "title": {
           "x": 0.05
          },
          "xaxis": {
           "automargin": true,
           "gridcolor": "white",
           "linecolor": "white",
           "ticks": "",
           "title": {
            "standoff": 15
           },
           "zerolinecolor": "white",
           "zerolinewidth": 2
          },
          "yaxis": {
           "automargin": true,
           "gridcolor": "white",
           "linecolor": "white",
           "ticks": "",
           "title": {
            "standoff": 15
           },
           "zerolinecolor": "white",
           "zerolinewidth": 2
          }
         }
        },
        "title": {
         "text": "Nombre de voyage par genre"
        }
       }
      }
     },
     "metadata": {},
     "output_type": "display_data"
    }
   ],
   "source": [
    "df = pd.read_csv('travel_data_modified.csv')\n",
    "\n",
    "gender_counts = df['Traveler gender'].value_counts()\n",
    "\n",
    "fig = go.Figure(data=[go.Pie(labels=gender_counts.index, values=gender_counts.values)])\n",
    "\n",
    "fig.update_layout(title='Nombre de voyage par genre')\n",
    "\n",
    "fig.show()"
   ]
  },
  {
   "cell_type": "markdown",
   "metadata": {},
   "source": [
    "Cette visualisation présente la répartition des voyages selon le genre des voyageurs, avec deux pourcentages (40% et 60%) associés aux catégories \"Male\" (Hommes) et \"Female\" (Femmes). Les femmes semblent représenter la majorité des voyageurs (60%), tandis que les hommes correspondent à 40% des déplacements.\n",
    "\n",
    "\n",
    "### <font color=\"red\">Conclusion :</font>\n",
    "Les hommes dominent légèrement dans cette répartition, avec une proportion de voyages supérieure de 20 points de pourcentage par rapport aux femmes. Cette différence pourrait refléter des tendances sociodémographiques, des préférences de voyage."
   ]
  },
  {
   "cell_type": "markdown",
   "metadata": {},
   "source": [
    "### ***Durée de Voyage par Rapport au Genre et Nationalité***"
   ]
  },
  {
   "cell_type": "code",
   "execution_count": 44,
   "metadata": {},
   "outputs": [
    {
     "data": {
      "application/vnd.plotly.v1+json": {
       "config": {
        "plotlyServerURL": "https://plot.ly"
       },
       "data": [
        {
         "alignmentgroup": "True",
         "hovertemplate": "Nationalité=Spanish<br>Genre=%{x}<br>Durée de Voyage=%{y}<extra></extra>",
         "legendgroup": "Spanish",
         "marker": {
          "color": "#636efa",
          "pattern": {
           "shape": ""
          }
         },
         "name": "Spanish",
         "offsetgroup": "Spanish",
         "orientation": "v",
         "showlegend": true,
         "textposition": "auto",
         "type": "bar",
         "x": [
          "Female",
          "Male",
          "Male",
          "Male",
          "Female",
          "Female",
          "Male",
          "Female",
          "Male",
          "Male",
          "Male",
          "Female",
          "Male",
          "Female",
          "Female",
          "Female",
          "Male",
          "Female",
          "Male",
          "Female",
          "Male",
          "Male",
          "Male",
          "Female",
          "Female",
          "Male",
          "Male",
          "Male",
          "Male",
          "Female",
          "Female",
          "Male",
          "Female",
          "Male",
          "Male",
          "Female",
          "Female",
          "Male",
          "Female",
          "Male",
          "Male",
          "Female",
          "Male",
          "Male",
          "Female",
          "Male",
          "Female",
          "Female",
          "Female",
          "Male",
          "Male",
          "Male",
          "Male",
          "Female",
          "Male",
          "Female",
          "Female",
          "Male",
          "Female",
          "Female",
          "Female",
          "Female",
          "Male",
          "Male",
          "Male",
          "Female",
          "Female",
          "Female",
          "Male",
          "Female",
          "Male",
          "Female",
          "Female",
          "Male",
          "Female",
          "Female",
          "Female"
         ],
         "xaxis": "x",
         "y": [
          3,
          28,
          23,
          25,
          7,
          29,
          5,
          14,
          14,
          23,
          17,
          21,
          14,
          20,
          27,
          18,
          7,
          5,
          22,
          22,
          13,
          17,
          14,
          22,
          25,
          15,
          6,
          12,
          3,
          23,
          30,
          14,
          24,
          25,
          28,
          24,
          14,
          21,
          7,
          25,
          15,
          22,
          15,
          12,
          23,
          24,
          18,
          24,
          17,
          10,
          14,
          17,
          16,
          21,
          12,
          6,
          2,
          29,
          18,
          3,
          18,
          21,
          14,
          19,
          29,
          25,
          21,
          11,
          11,
          15,
          25,
          1,
          23,
          23,
          5,
          11,
          11
         ],
         "yaxis": "y"
        },
        {
         "alignmentgroup": "True",
         "hovertemplate": "Nationalité=Brazilian<br>Genre=%{x}<br>Durée de Voyage=%{y}<extra></extra>",
         "legendgroup": "Brazilian",
         "marker": {
          "color": "#EF553B",
          "pattern": {
           "shape": ""
          }
         },
         "name": "Brazilian",
         "offsetgroup": "Brazilian",
         "orientation": "v",
         "showlegend": true,
         "textposition": "auto",
         "type": "bar",
         "x": [
          "Male",
          "Male",
          "Female",
          "Female",
          "Female",
          "Male",
          "Male",
          "Female",
          "Male",
          "Male",
          "Male",
          "Female",
          "Female",
          "Male",
          "Female",
          "Male",
          "Female",
          "Male",
          "Female",
          "Male",
          "Male",
          "Male",
          "Male",
          "Male",
          "Male",
          "Male",
          "Female",
          "Female",
          "Male",
          "Male",
          "Female",
          "Female",
          "Female",
          "Female",
          "Male",
          "Female",
          "Male",
          "Male",
          "Female",
          "Male",
          "Female",
          "Female",
          "Female",
          "Female",
          "Male",
          "Female",
          "Male",
          "Male",
          "Female",
          "Female",
          "Male",
          "Male",
          "Female",
          "Male",
          "Male",
          "Male",
          "Female",
          "Male",
          "Male",
          "Female",
          "Male",
          "Male",
          "Male",
          "Female",
          "Male",
          "Female",
          "Male",
          "Female",
          "Female",
          "Female",
          "Female",
          "Female",
          "Female",
          "Female",
          "Male",
          "Male",
          "Male",
          "Male",
          "Male"
         ],
         "xaxis": "x",
         "y": [
          17,
          10,
          19,
          17,
          13,
          7,
          8,
          22,
          17,
          19,
          25,
          24,
          14,
          16,
          27,
          26,
          24,
          29,
          13,
          26,
          13,
          25,
          11,
          13,
          27,
          8,
          13,
          1,
          5,
          26,
          22,
          4,
          16,
          17,
          7,
          5,
          16,
          25,
          19,
          17,
          9,
          29,
          20,
          23,
          17,
          15,
          23,
          17,
          13,
          16,
          9,
          16,
          22,
          30,
          12,
          19,
          20,
          13,
          26,
          20,
          26,
          30,
          18,
          6,
          26,
          26,
          15,
          25,
          14,
          25,
          21,
          10,
          15,
          12,
          22,
          26,
          22,
          6,
          18
         ],
         "yaxis": "y"
        },
        {
         "alignmentgroup": "True",
         "hovertemplate": "Nationalité=Mexican<br>Genre=%{x}<br>Durée de Voyage=%{y}<extra></extra>",
         "legendgroup": "Mexican",
         "marker": {
          "color": "#00cc96",
          "pattern": {
           "shape": ""
          }
         },
         "name": "Mexican",
         "offsetgroup": "Mexican",
         "orientation": "v",
         "showlegend": true,
         "textposition": "auto",
         "type": "bar",
         "x": [
          "Male",
          "Male",
          "Male",
          "Female",
          "Female",
          "Male",
          "Male",
          "Female",
          "Male",
          "Female",
          "Female",
          "Female",
          "Female",
          "Female",
          "Male",
          "Female",
          "Female",
          "Male",
          "Male",
          "Male",
          "Male",
          "Female",
          "Male",
          "Male",
          "Male",
          "Male",
          "Male",
          "Male",
          "Female",
          "Male",
          "Male",
          "Female",
          "Male",
          "Female",
          "Male",
          "Female",
          "Female",
          "Male",
          "Male",
          "Male",
          "Female",
          "Female",
          "Male",
          "Male",
          "Male",
          "Female",
          "Male",
          "Male",
          "Male",
          "Male",
          "Female",
          "Male",
          "Female",
          "Male",
          "Female",
          "Male",
          "Male",
          "Female",
          "Male",
          "Female",
          "Female",
          "Male",
          "Female",
          "Female",
          "Male",
          "Male",
          "Male",
          "Male",
          "Female",
          "Male",
          "Female",
          "Male",
          "Male",
          "Female",
          "Female",
          "Female",
          "Male",
          "Male",
          "Male",
          "Male",
          "Male",
          "Female",
          "Female",
          "Female",
          "Male",
          "Male",
          "Male",
          "Male",
          "Female"
         ],
         "xaxis": "x",
         "y": [
          25,
          14,
          24,
          3,
          19,
          19,
          10,
          17,
          3,
          12,
          26,
          30,
          25,
          22,
          21,
          16,
          18,
          22,
          9,
          19,
          23,
          26,
          16,
          20,
          4,
          17,
          22,
          14,
          13,
          23,
          19,
          26,
          13,
          16,
          21,
          13,
          19,
          16,
          17,
          23,
          12,
          26,
          26,
          18,
          5,
          21,
          23,
          22,
          13,
          22,
          19,
          21,
          4,
          29,
          29,
          26,
          9,
          16,
          7,
          25,
          18,
          14,
          23,
          9,
          26,
          19,
          23,
          19,
          23,
          22,
          15,
          23,
          25,
          10,
          5,
          22,
          11,
          18,
          12,
          22,
          23,
          22,
          2,
          13,
          17,
          14,
          20,
          17,
          16
         ],
         "yaxis": "y"
        },
        {
         "alignmentgroup": "True",
         "hovertemplate": "Nationalité=German<br>Genre=%{x}<br>Durée de Voyage=%{y}<extra></extra>",
         "legendgroup": "German",
         "marker": {
          "color": "#ab63fa",
          "pattern": {
           "shape": ""
          }
         },
         "name": "German",
         "offsetgroup": "German",
         "orientation": "v",
         "showlegend": true,
         "textposition": "auto",
         "type": "bar",
         "x": [
          "Male",
          "Female",
          "Male",
          "Male",
          "Female",
          "Female",
          "Male",
          "Female",
          "Female",
          "Female",
          "Male",
          "Female",
          "Male",
          "Male",
          "Male",
          "Female",
          "Female",
          "Female",
          "Male",
          "Male",
          "Female",
          "Female",
          "Male",
          "Male",
          "Male",
          "Female",
          "Female",
          "Female",
          "Male",
          "Female",
          "Female",
          "Female",
          "Female",
          "Female",
          "Female",
          "Female",
          "Male",
          "Female",
          "Male",
          "Female",
          "Male",
          "Female",
          "Female",
          "Male",
          "Female",
          "Male",
          "Female",
          "Female",
          "Male",
          "Male",
          "Female",
          "Female",
          "Female",
          "Male",
          "Male",
          "Female",
          "Female",
          "Male",
          "Female",
          "Male",
          "Male",
          "Male",
          "Male",
          "Male",
          "Female",
          "Female",
          "Male",
          "Male",
          "Female",
          "Male",
          "Female",
          "Male",
          "Male",
          "Female",
          "Male",
          "Male",
          "Male",
          "Male",
          "Male",
          "Male",
          "Female",
          "Female",
          "Male",
          "Male",
          "Female",
          "Male",
          "Female",
          "Female",
          "Male",
          "Male",
          "Female",
          "Male",
          "Male",
          "Male",
          "Male",
          "Male",
          "Male",
          "Male",
          "Male",
          "Female",
          "Female",
          "Female",
          "Female",
          "Male",
          "Male",
          "Female",
          "Male"
         ],
         "xaxis": "x",
         "y": [
          17,
          23,
          11,
          19,
          5,
          17,
          18,
          17,
          16,
          16,
          2,
          14,
          16,
          25,
          1,
          23,
          13,
          24,
          15,
          17,
          27,
          8,
          16,
          24,
          7,
          23,
          26,
          16,
          13,
          15,
          20,
          19,
          18,
          20,
          20,
          14,
          28,
          17,
          20,
          20,
          17,
          12,
          25,
          20,
          9,
          21,
          30,
          21,
          23,
          23,
          25,
          13,
          6,
          22,
          11,
          16,
          10,
          17,
          1,
          19,
          15,
          14,
          5,
          21,
          18,
          23,
          3,
          1,
          25,
          20,
          16,
          20,
          17,
          3,
          11,
          12,
          18,
          2,
          17,
          5,
          7,
          24,
          16,
          16,
          20,
          25,
          19,
          13,
          5,
          1,
          17,
          19,
          20,
          16,
          24,
          29,
          14,
          27,
          21,
          12,
          16,
          13,
          20,
          23,
          18,
          15,
          7
         ],
         "yaxis": "y"
        },
        {
         "alignmentgroup": "True",
         "hovertemplate": "Nationalité=Norwegian<br>Genre=%{x}<br>Durée de Voyage=%{y}<extra></extra>",
         "legendgroup": "Norwegian",
         "marker": {
          "color": "#FFA15A",
          "pattern": {
           "shape": ""
          }
         },
         "name": "Norwegian",
         "offsetgroup": "Norwegian",
         "orientation": "v",
         "showlegend": true,
         "textposition": "auto",
         "type": "bar",
         "x": [
          "Female",
          "Female",
          "Male",
          "Female",
          "Male",
          "Female",
          "Female",
          "Male",
          "Male",
          "Male",
          "Female",
          "Male",
          "Female",
          "Female",
          "Male",
          "Male",
          "Female",
          "Male",
          "Female",
          "Female",
          "Male",
          "Male",
          "Male",
          "Male",
          "Female",
          "Female",
          "Female",
          "Female",
          "Male",
          "Female",
          "Male",
          "Male",
          "Male",
          "Female",
          "Female",
          "Male",
          "Female"
         ],
         "xaxis": "x",
         "y": [
          19,
          15,
          8,
          19,
          8,
          18,
          5,
          23,
          25,
          22,
          23,
          15,
          22,
          8,
          13,
          14,
          6,
          16,
          21,
          14,
          22,
          25,
          21,
          17,
          24,
          16,
          22,
          12,
          6,
          24,
          16,
          1,
          22,
          26,
          18,
          22,
          13
         ],
         "yaxis": "y"
        },
        {
         "alignmentgroup": "True",
         "hovertemplate": "Nationalité=Turkish<br>Genre=%{x}<br>Durée de Voyage=%{y}<extra></extra>",
         "legendgroup": "Turkish",
         "marker": {
          "color": "#19d3f3",
          "pattern": {
           "shape": ""
          }
         },
         "name": "Turkish",
         "offsetgroup": "Turkish",
         "orientation": "v",
         "showlegend": true,
         "textposition": "auto",
         "type": "bar",
         "x": [
          "Male",
          "Male",
          "Female",
          "Male",
          "Female",
          "Female",
          "Male",
          "Male",
          "Male",
          "Male",
          "Male",
          "Male",
          "Male",
          "Female",
          "Female",
          "Male",
          "Female",
          "Male",
          "Male",
          "Male",
          "Male",
          "Male",
          "Male",
          "Male",
          "Male",
          "Female",
          "Female",
          "Male",
          "Female",
          "Male",
          "Female",
          "Female",
          "Female",
          "Male",
          "Female",
          "Female",
          "Female",
          "Female",
          "Female",
          "Male",
          "Female",
          "Female",
          "Female",
          "Female",
          "Female",
          "Male",
          "Male",
          "Male",
          "Female",
          "Male",
          "Female",
          "Male",
          "Female",
          "Female",
          "Female",
          "Male",
          "Male",
          "Female",
          "Female",
          "Male",
          "Male",
          "Male",
          "Female",
          "Male",
          "Female",
          "Male",
          "Male",
          "Male",
          "Female",
          "Female",
          "Male",
          "Male",
          "Female",
          "Male",
          "Male",
          "Male",
          "Male",
          "Male",
          "Female",
          "Male",
          "Female",
          "Male",
          "Male",
          "Male",
          "Female",
          "Female",
          "Female"
         ],
         "xaxis": "x",
         "y": [
          11,
          22,
          24,
          27,
          18,
          11,
          14,
          20,
          24,
          6,
          17,
          20,
          15,
          16,
          21,
          18,
          11,
          9,
          1,
          9,
          17,
          20,
          16,
          13,
          13,
          15,
          10,
          12,
          7,
          14,
          18,
          27,
          17,
          10,
          16,
          22,
          4,
          22,
          18,
          22,
          11,
          29,
          14,
          27,
          17,
          26,
          13,
          17,
          16,
          15,
          11,
          26,
          13,
          22,
          6,
          14,
          13,
          26,
          26,
          22,
          21,
          24,
          1,
          13,
          6,
          9,
          18,
          21,
          6,
          15,
          24,
          20,
          6,
          21,
          18,
          24,
          13,
          24,
          10,
          15,
          26,
          21,
          24,
          24,
          28,
          17,
          19
         ],
         "yaxis": "y"
        },
        {
         "alignmentgroup": "True",
         "hovertemplate": "Nationalité=Thai<br>Genre=%{x}<br>Durée de Voyage=%{y}<extra></extra>",
         "legendgroup": "Thai",
         "marker": {
          "color": "#FF6692",
          "pattern": {
           "shape": ""
          }
         },
         "name": "Thai",
         "offsetgroup": "Thai",
         "orientation": "v",
         "showlegend": true,
         "textposition": "auto",
         "type": "bar",
         "x": [
          "Female",
          "Female",
          "Male",
          "Female",
          "Male",
          "Female",
          "Male",
          "Female",
          "Male",
          "Male",
          "Male",
          "Female",
          "Male",
          "Female",
          "Female",
          "Male",
          "Female",
          "Female",
          "Female",
          "Female",
          "Female",
          "Male",
          "Female",
          "Male",
          "Male",
          "Male",
          "Male",
          "Female",
          "Male",
          "Female",
          "Female",
          "Female",
          "Male",
          "Female",
          "Male",
          "Female",
          "Male",
          "Male",
          "Female",
          "Male",
          "Female",
          "Male",
          "Female",
          "Male",
          "Female",
          "Male",
          "Male",
          "Female",
          "Female",
          "Male",
          "Female",
          "Female",
          "Male",
          "Male",
          "Male",
          "Male",
          "Male",
          "Male",
          "Female",
          "Male",
          "Male",
          "Male",
          "Female",
          "Male",
          "Female",
          "Male",
          "Male",
          "Female",
          "Female",
          "Male"
         ],
         "xaxis": "x",
         "y": [
          17,
          8,
          9,
          21,
          16,
          5,
          25,
          20,
          23,
          21,
          21,
          19,
          18,
          11,
          15,
          15,
          1,
          17,
          13,
          18,
          11,
          23,
          11,
          24,
          28,
          4,
          16,
          28,
          23,
          12,
          2,
          25,
          24,
          6,
          20,
          24,
          18,
          14,
          28,
          20,
          18,
          11,
          22,
          12,
          14,
          26,
          20,
          15,
          24,
          18,
          30,
          23,
          25,
          19,
          18,
          22,
          14,
          10,
          10,
          8,
          29,
          15,
          19,
          19,
          8,
          19,
          29,
          24,
          19,
          8
         ],
         "yaxis": "y"
        },
        {
         "alignmentgroup": "True",
         "hovertemplate": "Nationalité=Portuguese<br>Genre=%{x}<br>Durée de Voyage=%{y}<extra></extra>",
         "legendgroup": "Portuguese",
         "marker": {
          "color": "#B6E880",
          "pattern": {
           "shape": ""
          }
         },
         "name": "Portuguese",
         "offsetgroup": "Portuguese",
         "orientation": "v",
         "showlegend": true,
         "textposition": "auto",
         "type": "bar",
         "x": [
          "Male",
          "Female",
          "Female",
          "Male",
          "Female",
          "Male",
          "Female",
          "Male",
          "Female",
          "Male",
          "Female",
          "Male",
          "Female",
          "Female",
          "Male",
          "Male",
          "Male",
          "Male",
          "Male",
          "Female",
          "Male",
          "Male",
          "Female",
          "Female",
          "Female",
          "Female",
          "Female",
          "Female",
          "Male",
          "Female",
          "Male",
          "Female",
          "Female",
          "Female",
          "Female",
          "Female",
          "Male",
          "Male",
          "Female",
          "Female",
          "Male",
          "Male",
          "Male",
          "Male",
          "Female",
          "Female",
          "Female",
          "Male",
          "Female",
          "Female",
          "Male",
          "Female",
          "Male",
          "Female",
          "Female",
          "Male",
          "Male",
          "Male",
          "Male",
          "Male",
          "Female",
          "Male",
          "Male",
          "Female",
          "Female",
          "Male",
          "Female",
          "Female",
          "Male",
          "Male",
          "Male",
          "Female",
          "Female",
          "Female",
          "Male",
          "Male",
          "Female",
          "Male",
          "Female",
          "Female",
          "Female",
          "Male",
          "Female",
          "Female",
          "Female",
          "Male",
          "Male",
          "Male",
          "Male",
          "Female",
          "Female",
          "Female",
          "Male",
          "Female",
          "Female",
          "Male",
          "Male",
          "Male",
          "Female",
          "Male",
          "Male",
          "Male",
          "Male",
          "Male",
          "Female",
          "Male",
          "Male",
          "Male"
         ],
         "xaxis": "x",
         "y": [
          24,
          23,
          14,
          18,
          14,
          22,
          26,
          17,
          23,
          17,
          17,
          17,
          11,
          28,
          19,
          15,
          8,
          18,
          24,
          23,
          15,
          24,
          26,
          12,
          22,
          20,
          17,
          10,
          24,
          21,
          19,
          23,
          11,
          24,
          15,
          26,
          25,
          24,
          18,
          3,
          16,
          18,
          19,
          14,
          22,
          17,
          6,
          9,
          13,
          1,
          12,
          25,
          1,
          22,
          11,
          6,
          23,
          16,
          23,
          20,
          5,
          15,
          18,
          24,
          22,
          29,
          26,
          20,
          25,
          15,
          24,
          20,
          7,
          15,
          18,
          25,
          19,
          13,
          28,
          17,
          18,
          26,
          19,
          24,
          13,
          17,
          19,
          17,
          24,
          25,
          26,
          17,
          18,
          7,
          13,
          27,
          26,
          13,
          26,
          26,
          5,
          17,
          26,
          16,
          15,
          8,
          29,
          23
         ],
         "yaxis": "y"
        },
        {
         "alignmentgroup": "True",
         "hovertemplate": "Nationalité=Vietnamese<br>Genre=%{x}<br>Durée de Voyage=%{y}<extra></extra>",
         "legendgroup": "Vietnamese",
         "marker": {
          "color": "#FF97FF",
          "pattern": {
           "shape": ""
          }
         },
         "name": "Vietnamese",
         "offsetgroup": "Vietnamese",
         "orientation": "v",
         "showlegend": true,
         "textposition": "auto",
         "type": "bar",
         "x": [
          "Male",
          "Male",
          "Male",
          "Male",
          "Female",
          "Male",
          "Male",
          "Male",
          "Female",
          "Female",
          "Female",
          "Male",
          "Female",
          "Male",
          "Female",
          "Male",
          "Female",
          "Female",
          "Female",
          "Female",
          "Female",
          "Male",
          "Female",
          "Female",
          "Male",
          "Female",
          "Female"
         ],
         "xaxis": "x",
         "y": [
          16,
          3,
          8,
          22,
          9,
          19,
          7,
          5,
          23,
          11,
          16,
          18,
          20,
          17,
          22,
          27,
          18,
          17,
          3,
          29,
          26,
          29,
          2,
          14,
          29,
          20,
          14
         ],
         "yaxis": "y"
        },
        {
         "alignmentgroup": "True",
         "hovertemplate": "Nationalité=Canadian<br>Genre=%{x}<br>Durée de Voyage=%{y}<extra></extra>",
         "legendgroup": "Canadian",
         "marker": {
          "color": "#FECB52",
          "pattern": {
           "shape": ""
          }
         },
         "name": "Canadian",
         "offsetgroup": "Canadian",
         "orientation": "v",
         "showlegend": true,
         "textposition": "auto",
         "type": "bar",
         "x": [
          "Male",
          "Female",
          "Male",
          "Male",
          "Female",
          "Female",
          "Female",
          "Male",
          "Male",
          "Male",
          "Male",
          "Female",
          "Male",
          "Female",
          "Male",
          "Female",
          "Female",
          "Male",
          "Male",
          "Female",
          "Male",
          "Female",
          "Female",
          "Female",
          "Female",
          "Female",
          "Female",
          "Female",
          "Male",
          "Female",
          "Female",
          "Female",
          "Male",
          "Male",
          "Female",
          "Female",
          "Male",
          "Female",
          "Female",
          "Female",
          "Male",
          "Female",
          "Female",
          "Male",
          "Male",
          "Female",
          "Female",
          "Male",
          "Female",
          "Female",
          "Female",
          "Female",
          "Male",
          "Female",
          "Male",
          "Female",
          "Male",
          "Female",
          "Female",
          "Male",
          "Female",
          "Male",
          "Female",
          "Female",
          "Male",
          "Female",
          "Male",
          "Male",
          "Male"
         ],
         "xaxis": "x",
         "y": [
          21,
          20,
          9,
          25,
          18,
          24,
          10,
          16,
          13,
          22,
          20,
          17,
          2,
          20,
          24,
          15,
          24,
          10,
          19,
          29,
          20,
          26,
          9,
          26,
          21,
          25,
          24,
          18,
          21,
          8,
          28,
          11,
          18,
          27,
          5,
          8,
          25,
          17,
          16,
          26,
          14,
          7,
          26,
          2,
          23,
          14,
          20,
          15,
          27,
          10,
          24,
          23,
          1,
          24,
          6,
          23,
          9,
          20,
          7,
          14,
          18,
          26,
          20,
          29,
          21,
          10,
          16,
          13,
          25
         ],
         "yaxis": "y"
        },
        {
         "alignmentgroup": "True",
         "hovertemplate": "Nationalité=Russian<br>Genre=%{x}<br>Durée de Voyage=%{y}<extra></extra>",
         "legendgroup": "Russian",
         "marker": {
          "color": "#636efa",
          "pattern": {
           "shape": ""
          }
         },
         "name": "Russian",
         "offsetgroup": "Russian",
         "orientation": "v",
         "showlegend": true,
         "textposition": "auto",
         "type": "bar",
         "x": [
          "Male",
          "Male",
          "Female",
          "Male",
          "Male",
          "Female",
          "Female",
          "Female",
          "Female",
          "Female",
          "Female",
          "Female",
          "Male",
          "Female",
          "Female",
          "Female",
          "Male",
          "Female",
          "Female",
          "Female",
          "Female",
          "Female",
          "Female",
          "Male",
          "Female",
          "Male",
          "Male"
         ],
         "xaxis": "x",
         "y": [
          4,
          12,
          12,
          20,
          23,
          23,
          19,
          17,
          14,
          27,
          20,
          10,
          13,
          19,
          13,
          21,
          9,
          8,
          21,
          9,
          26,
          24,
          13,
          23,
          11,
          6,
          19
         ],
         "yaxis": "y"
        },
        {
         "alignmentgroup": "True",
         "hovertemplate": "Nationalité=Italian<br>Genre=%{x}<br>Durée de Voyage=%{y}<extra></extra>",
         "legendgroup": "Italian",
         "marker": {
          "color": "#EF553B",
          "pattern": {
           "shape": ""
          }
         },
         "name": "Italian",
         "offsetgroup": "Italian",
         "orientation": "v",
         "showlegend": true,
         "textposition": "auto",
         "type": "bar",
         "x": [
          "Female",
          "Female",
          "Male",
          "Male",
          "Female",
          "Female",
          "Female",
          "Female",
          "Female",
          "Male",
          "Female",
          "Male",
          "Female",
          "Male",
          "Female",
          "Male",
          "Female",
          "Female",
          "Female",
          "Male",
          "Female",
          "Male",
          "Female",
          "Female",
          "Male",
          "Male",
          "Female",
          "Female",
          "Female",
          "Female",
          "Female",
          "Male",
          "Male",
          "Male",
          "Male",
          "Male",
          "Male",
          "Male",
          "Male",
          "Male",
          "Female",
          "Male",
          "Male",
          "Female",
          "Female",
          "Female",
          "Female",
          "Male",
          "Female",
          "Female",
          "Male",
          "Male",
          "Female",
          "Male",
          "Male",
          "Female",
          "Male",
          "Male",
          "Male",
          "Female",
          "Male",
          "Male",
          "Female",
          "Male",
          "Female",
          "Female",
          "Female",
          "Female",
          "Female",
          "Female",
          "Male",
          "Male",
          "Male",
          "Male",
          "Male",
          "Male",
          "Male",
          "Female",
          "Female",
          "Female",
          "Female",
          "Male",
          "Female",
          "Male",
          "Female"
         ],
         "xaxis": "x",
         "y": [
          25,
          24,
          4,
          16,
          22,
          7,
          3,
          10,
          17,
          11,
          25,
          22,
          18,
          16,
          8,
          14,
          11,
          26,
          5,
          19,
          23,
          25,
          25,
          17,
          21,
          8,
          18,
          24,
          6,
          17,
          21,
          20,
          28,
          21,
          17,
          27,
          7,
          1,
          25,
          26,
          26,
          20,
          15,
          15,
          3,
          16,
          29,
          9,
          27,
          16,
          3,
          9,
          23,
          16,
          24,
          22,
          13,
          15,
          8,
          10,
          22,
          19,
          12,
          26,
          26,
          1,
          19,
          6,
          5,
          24,
          14,
          23,
          16,
          21,
          15,
          17,
          23,
          9,
          1,
          4,
          14,
          12,
          6,
          10,
          14
         ],
         "yaxis": "y"
        },
        {
         "alignmentgroup": "True",
         "hovertemplate": "Nationalité=American<br>Genre=%{x}<br>Durée de Voyage=%{y}<extra></extra>",
         "legendgroup": "American",
         "marker": {
          "color": "#00cc96",
          "pattern": {
           "shape": ""
          }
         },
         "name": "American",
         "offsetgroup": "American",
         "orientation": "v",
         "showlegend": true,
         "textposition": "auto",
         "type": "bar",
         "x": [
          "Female",
          "Male",
          "Female",
          "Male",
          "Male",
          "Female",
          "Female",
          "Female",
          "Male",
          "Male",
          "Female",
          "Male",
          "Female",
          "Female",
          "Female",
          "Male",
          "Male",
          "Male",
          "Female",
          "Male",
          "Male",
          "Male",
          "Female",
          "Male",
          "Male",
          "Male",
          "Male",
          "Female",
          "Male",
          "Female",
          "Male",
          "Male",
          "Female",
          "Male",
          "Female",
          "Male",
          "Male",
          "Male",
          "Female",
          "Male",
          "Male",
          "Female",
          "Female",
          "Male",
          "Female",
          "Male",
          "Female",
          "Female",
          "Female",
          "Male",
          "Male",
          "Female",
          "Female",
          "Male",
          "Male",
          "Male",
          "Female",
          "Female",
          "Male",
          "Female",
          "Female",
          "Female",
          "Male",
          "Female",
          "Female",
          "Female",
          "Female",
          "Male",
          "Male",
          "Male",
          "Female",
          "Female",
          "Male",
          "Female",
          "Male",
          "Female",
          "Female",
          "Female",
          "Male",
          "Female",
          "Female",
          "Female",
          "Male",
          "Female",
          "Male",
          "Male",
          "Male",
          "Male",
          "Female",
          "Female",
          "Female",
          "Female",
          "Male",
          "Female",
          "Female",
          "Female",
          "Female",
          "Male",
          "Female",
          "Male",
          "Male",
          "Male",
          "Female",
          "Male",
          "Female"
         ],
         "xaxis": "x",
         "y": [
          26,
          22,
          23,
          13,
          22,
          27,
          22,
          23,
          28,
          6,
          26,
          18,
          23,
          17,
          20,
          25,
          19,
          20,
          17,
          5,
          1,
          17,
          24,
          20,
          27,
          16,
          20,
          12,
          14,
          14,
          26,
          23,
          22,
          1,
          4,
          11,
          20,
          17,
          20,
          1,
          14,
          6,
          23,
          28,
          21,
          10,
          6,
          7,
          7,
          1,
          14,
          19,
          7,
          17,
          18,
          23,
          13,
          6,
          22,
          13,
          19,
          10,
          16,
          20,
          16,
          15,
          26,
          25,
          17,
          28,
          11,
          12,
          10,
          15,
          25,
          13,
          15,
          19,
          7,
          13,
          30,
          26,
          20,
          13,
          16,
          23,
          25,
          28,
          18,
          21,
          19,
          24,
          8,
          19,
          3,
          19,
          19,
          15,
          19,
          11,
          17,
          13,
          25,
          24,
          8
         ],
         "yaxis": "y"
        },
        {
         "alignmentgroup": "True",
         "hovertemplate": "Nationalité=Greek<br>Genre=%{x}<br>Durée de Voyage=%{y}<extra></extra>",
         "legendgroup": "Greek",
         "marker": {
          "color": "#ab63fa",
          "pattern": {
           "shape": ""
          }
         },
         "name": "Greek",
         "offsetgroup": "Greek",
         "orientation": "v",
         "showlegend": true,
         "textposition": "auto",
         "type": "bar",
         "x": [
          "Female",
          "Female",
          "Male",
          "Female",
          "Female",
          "Female",
          "Female",
          "Female",
          "Female",
          "Male",
          "Female",
          "Female",
          "Female",
          "Male",
          "Male",
          "Male",
          "Male",
          "Female",
          "Male",
          "Male",
          "Female",
          "Female",
          "Male",
          "Female",
          "Male"
         ],
         "xaxis": "x",
         "y": [
          15,
          20,
          13,
          24,
          21,
          26,
          15,
          13,
          18,
          4,
          27,
          24,
          21,
          28,
          9,
          26,
          7,
          20,
          29,
          24,
          17,
          7,
          8,
          15,
          19
         ],
         "yaxis": "y"
        },
        {
         "alignmentgroup": "True",
         "hovertemplate": "Nationalité=Irish<br>Genre=%{x}<br>Durée de Voyage=%{y}<extra></extra>",
         "legendgroup": "Irish",
         "marker": {
          "color": "#FFA15A",
          "pattern": {
           "shape": ""
          }
         },
         "name": "Irish",
         "offsetgroup": "Irish",
         "orientation": "v",
         "showlegend": true,
         "textposition": "auto",
         "type": "bar",
         "x": [
          "Male",
          "Female",
          "Female",
          "Female",
          "Male",
          "Female",
          "Male",
          "Male",
          "Female",
          "Male",
          "Male",
          "Female",
          "Male",
          "Female",
          "Male",
          "Female",
          "Male",
          "Male",
          "Male",
          "Female",
          "Male",
          "Male",
          "Female",
          "Female",
          "Female",
          "Female",
          "Female",
          "Male",
          "Male",
          "Female",
          "Male",
          "Female",
          "Female",
          "Male",
          "Female",
          "Male",
          "Female",
          "Female",
          "Female",
          "Female",
          "Male",
          "Male",
          "Male",
          "Female",
          "Male",
          "Male",
          "Female",
          "Male",
          "Female",
          "Female",
          "Female",
          "Female",
          "Female",
          "Female",
          "Male",
          "Male",
          "Male",
          "Male",
          "Female",
          "Female",
          "Male",
          "Female",
          "Female",
          "Male",
          "Female",
          "Male",
          "Female",
          "Female",
          "Female",
          "Female",
          "Female",
          "Female",
          "Male",
          "Female",
          "Female",
          "Female",
          "Female",
          "Male",
          "Female",
          "Female",
          "Female",
          "Female",
          "Female",
          "Female",
          "Male",
          "Female",
          "Male",
          "Male",
          "Male",
          "Male",
          "Male",
          "Male",
          "Female",
          "Female",
          "Female",
          "Female",
          "Male",
          "Male",
          "Male"
         ],
         "xaxis": "x",
         "y": [
          21,
          29,
          18,
          13,
          16,
          17,
          16,
          18,
          7,
          19,
          28,
          23,
          24,
          20,
          14,
          20,
          20,
          21,
          22,
          21,
          28,
          22,
          22,
          18,
          25,
          19,
          16,
          22,
          16,
          21,
          14,
          13,
          20,
          24,
          12,
          11,
          28,
          24,
          3,
          16,
          18,
          21,
          12,
          18,
          27,
          13,
          6,
          6,
          10,
          7,
          19,
          1,
          9,
          10,
          21,
          19,
          1,
          5,
          10,
          19,
          18,
          16,
          7,
          7,
          12,
          22,
          18,
          11,
          25,
          26,
          19,
          17,
          16,
          18,
          29,
          20,
          5,
          10,
          19,
          26,
          25,
          14,
          24,
          19,
          17,
          28,
          30,
          19,
          28,
          28,
          11,
          18,
          27,
          13,
          14,
          5,
          7,
          3,
          2
         ],
         "yaxis": "y"
        },
        {
         "alignmentgroup": "True",
         "hovertemplate": "Nationalité=Emirati<br>Genre=%{x}<br>Durée de Voyage=%{y}<extra></extra>",
         "legendgroup": "Emirati",
         "marker": {
          "color": "#19d3f3",
          "pattern": {
           "shape": ""
          }
         },
         "name": "Emirati",
         "offsetgroup": "Emirati",
         "orientation": "v",
         "showlegend": true,
         "textposition": "auto",
         "type": "bar",
         "x": [
          "Female",
          "Male",
          "Male",
          "Female",
          "Female",
          "Female",
          "Female",
          "Male",
          "Male",
          "Female",
          "Female",
          "Female",
          "Female",
          "Male",
          "Male",
          "Male",
          "Female",
          "Male",
          "Female",
          "Male",
          "Male",
          "Male",
          "Male",
          "Female",
          "Female",
          "Male",
          "Female",
          "Male",
          "Female",
          "Female",
          "Female",
          "Male",
          "Male",
          "Female",
          "Male",
          "Male",
          "Female",
          "Female",
          "Female",
          "Male",
          "Female",
          "Male",
          "Male",
          "Female",
          "Female",
          "Male",
          "Female",
          "Male",
          "Female",
          "Male",
          "Male",
          "Male",
          "Male",
          "Male",
          "Female",
          "Male",
          "Male",
          "Female",
          "Male",
          "Male",
          "Female",
          "Male",
          "Female",
          "Female",
          "Female",
          "Male",
          "Male",
          "Female",
          "Female",
          "Male",
          "Female",
          "Male",
          "Male",
          "Female",
          "Male",
          "Female",
          "Male",
          "Male",
          "Female",
          "Female",
          "Male",
          "Male",
          "Male",
          "Male",
          "Male",
          "Male",
          "Male"
         ],
         "xaxis": "x",
         "y": [
          7,
          19,
          17,
          25,
          11,
          22,
          10,
          16,
          26,
          12,
          24,
          20,
          13,
          16,
          20,
          20,
          18,
          6,
          7,
          14,
          26,
          23,
          21,
          26,
          16,
          21,
          17,
          25,
          11,
          8,
          27,
          6,
          16,
          10,
          8,
          18,
          23,
          22,
          3,
          15,
          18,
          22,
          3,
          16,
          26,
          23,
          26,
          16,
          3,
          15,
          11,
          15,
          19,
          17,
          24,
          16,
          10,
          14,
          22,
          23,
          16,
          23,
          17,
          28,
          15,
          6,
          2,
          4,
          22,
          6,
          3,
          13,
          6,
          22,
          26,
          15,
          21,
          26,
          5,
          6,
          9,
          15,
          14,
          13,
          22,
          24,
          5
         ],
         "yaxis": "y"
        },
        {
         "alignmentgroup": "True",
         "hovertemplate": "Nationalité=Dutch<br>Genre=%{x}<br>Durée de Voyage=%{y}<extra></extra>",
         "legendgroup": "Dutch",
         "marker": {
          "color": "#FF6692",
          "pattern": {
           "shape": ""
          }
         },
         "name": "Dutch",
         "offsetgroup": "Dutch",
         "orientation": "v",
         "showlegend": true,
         "textposition": "auto",
         "type": "bar",
         "x": [
          "Female",
          "Female",
          "Female",
          "Female",
          "Female",
          "Female",
          "Male",
          "Female",
          "Female",
          "Male",
          "Female",
          "Female",
          "Male",
          "Male",
          "Male",
          "Female",
          "Female",
          "Male",
          "Male",
          "Female",
          "Female",
          "Female",
          "Male",
          "Male",
          "Male",
          "Male",
          "Male",
          "Male",
          "Female",
          "Female",
          "Female",
          "Male",
          "Female",
          "Female",
          "Male",
          "Female",
          "Male",
          "Male",
          "Female",
          "Female",
          "Female",
          "Male",
          "Male",
          "Female",
          "Female",
          "Female",
          "Female",
          "Female",
          "Male",
          "Male",
          "Female",
          "Male",
          "Male",
          "Female",
          "Male",
          "Male",
          "Male",
          "Female",
          "Female",
          "Male",
          "Male",
          "Male",
          "Female",
          "Male",
          "Female",
          "Male",
          "Male",
          "Male",
          "Female",
          "Female",
          "Female",
          "Male",
          "Female",
          "Female",
          "Male",
          "Female",
          "Male",
          "Male",
          "Male",
          "Female",
          "Female",
          "Female",
          "Female",
          "Female"
         ],
         "xaxis": "x",
         "y": [
          24,
          19,
          20,
          24,
          19,
          26,
          14,
          22,
          10,
          23,
          18,
          26,
          23,
          24,
          22,
          8,
          22,
          13,
          5,
          29,
          13,
          26,
          7,
          10,
          29,
          3,
          17,
          6,
          15,
          18,
          25,
          21,
          4,
          21,
          10,
          16,
          11,
          10,
          27,
          5,
          20,
          5,
          27,
          7,
          3,
          8,
          22,
          16,
          13,
          24,
          18,
          14,
          21,
          13,
          13,
          21,
          14,
          19,
          13,
          18,
          14,
          2,
          17,
          15,
          15,
          27,
          13,
          21,
          9,
          22,
          17,
          15,
          16,
          22,
          14,
          9,
          20,
          20,
          8,
          13,
          28,
          20,
          23,
          27
         ],
         "yaxis": "y"
        },
        {
         "alignmentgroup": "True",
         "hovertemplate": "Nationalité=French<br>Genre=%{x}<br>Durée de Voyage=%{y}<extra></extra>",
         "legendgroup": "French",
         "marker": {
          "color": "#B6E880",
          "pattern": {
           "shape": ""
          }
         },
         "name": "French",
         "offsetgroup": "French",
         "orientation": "v",
         "showlegend": true,
         "textposition": "auto",
         "type": "bar",
         "x": [
          "Male",
          "Female",
          "Male",
          "Female",
          "Female",
          "Male",
          "Male",
          "Female",
          "Female",
          "Male",
          "Female",
          "Female",
          "Male",
          "Male",
          "Male",
          "Female",
          "Female",
          "Female",
          "Male",
          "Female",
          "Female",
          "Female",
          "Male",
          "Male",
          "Female",
          "Female",
          "Male",
          "Male",
          "Female",
          "Female",
          "Female",
          "Male",
          "Female",
          "Female",
          "Female",
          "Female",
          "Male",
          "Male",
          "Male",
          "Female",
          "Female",
          "Female",
          "Male",
          "Female",
          "Male",
          "Male",
          "Female",
          "Male",
          "Female",
          "Female",
          "Female",
          "Male",
          "Male",
          "Female",
          "Male",
          "Male",
          "Female",
          "Male",
          "Female",
          "Male",
          "Male",
          "Female",
          "Male",
          "Female",
          "Female",
          "Female",
          "Female",
          "Male",
          "Male",
          "Male",
          "Male",
          "Female",
          "Female",
          "Male",
          "Female",
          "Female",
          "Male",
          "Male",
          "Female",
          "Female",
          "Male",
          "Male",
          "Male",
          "Male",
          "Male",
          "Female",
          "Female",
          "Female",
          "Female",
          "Male",
          "Female",
          "Male",
          "Male",
          "Female",
          "Female",
          "Male",
          "Female"
         ],
         "xaxis": "x",
         "y": [
          11,
          10,
          25,
          13,
          26,
          6,
          15,
          7,
          21,
          19,
          19,
          19,
          8,
          20,
          23,
          13,
          24,
          15,
          11,
          1,
          3,
          21,
          11,
          3,
          17,
          19,
          27,
          26,
          20,
          24,
          28,
          28,
          22,
          15,
          27,
          3,
          6,
          6,
          22,
          25,
          26,
          7,
          27,
          12,
          19,
          9,
          8,
          15,
          20,
          10,
          16,
          20,
          23,
          26,
          10,
          13,
          23,
          15,
          8,
          16,
          23,
          19,
          14,
          11,
          18,
          6,
          2,
          28,
          20,
          25,
          6,
          23,
          13,
          5,
          18,
          21,
          20,
          19,
          19,
          19,
          10,
          24,
          7,
          13,
          19,
          12,
          19,
          6,
          17,
          7,
          26,
          7,
          16,
          12,
          18,
          16,
          15
         ],
         "yaxis": "y"
        },
        {
         "alignmentgroup": "True",
         "hovertemplate": "Nationalité=Japanese<br>Genre=%{x}<br>Durée de Voyage=%{y}<extra></extra>",
         "legendgroup": "Japanese",
         "marker": {
          "color": "#FF97FF",
          "pattern": {
           "shape": ""
          }
         },
         "name": "Japanese",
         "offsetgroup": "Japanese",
         "orientation": "v",
         "showlegend": true,
         "textposition": "auto",
         "type": "bar",
         "x": [
          "Male",
          "Male",
          "Female",
          "Male",
          "Male",
          "Male",
          "Female",
          "Male",
          "Male",
          "Male",
          "Male",
          "Female",
          "Female",
          "Male",
          "Male",
          "Female",
          "Female",
          "Female",
          "Female",
          "Female",
          "Male",
          "Male",
          "Male",
          "Female",
          "Male",
          "Female",
          "Male",
          "Male",
          "Female",
          "Male",
          "Male",
          "Male",
          "Male",
          "Female",
          "Female",
          "Male",
          "Male",
          "Female",
          "Female",
          "Female",
          "Female",
          "Female",
          "Female",
          "Female",
          "Male",
          "Female",
          "Male",
          "Male",
          "Female",
          "Female",
          "Female",
          "Female",
          "Female",
          "Male",
          "Male",
          "Female",
          "Female",
          "Female",
          "Male",
          "Female",
          "Female",
          "Male",
          "Male",
          "Female",
          "Female",
          "Female",
          "Female",
          "Female",
          "Female",
          "Female",
          "Female",
          "Female",
          "Male",
          "Male",
          "Male",
          "Male",
          "Female",
          "Male",
          "Male",
          "Male",
          "Female",
          "Male",
          "Female",
          "Male",
          "Female",
          "Female",
          "Female",
          "Female",
          "Female",
          "Female",
          "Male",
          "Female",
          "Male",
          "Male",
          "Female",
          "Male",
          "Male",
          "Female",
          "Male",
          "Female",
          "Male"
         ],
         "xaxis": "x",
         "y": [
          19,
          19,
          6,
          22,
          23,
          13,
          26,
          22,
          25,
          25,
          24,
          25,
          24,
          2,
          29,
          13,
          20,
          28,
          9,
          9,
          17,
          24,
          11,
          21,
          29,
          27,
          19,
          8,
          12,
          9,
          15,
          17,
          18,
          25,
          29,
          7,
          14,
          20,
          7,
          19,
          14,
          18,
          26,
          17,
          23,
          20,
          2,
          6,
          6,
          28,
          24,
          21,
          25,
          17,
          28,
          20,
          15,
          15,
          2,
          14,
          23,
          20,
          19,
          19,
          22,
          16,
          18,
          6,
          9,
          12,
          20,
          24,
          6,
          5,
          11,
          17,
          29,
          16,
          23,
          20,
          16,
          10,
          4,
          26,
          14,
          4,
          20,
          21,
          23,
          24,
          14,
          15,
          17,
          13,
          18,
          19,
          22,
          21,
          12,
          24,
          1
         ],
         "yaxis": "y"
        },
        {
         "alignmentgroup": "True",
         "hovertemplate": "Nationalité=South Korean<br>Genre=%{x}<br>Durée de Voyage=%{y}<extra></extra>",
         "legendgroup": "South Korean",
         "marker": {
          "color": "#FECB52",
          "pattern": {
           "shape": ""
          }
         },
         "name": "South Korean",
         "offsetgroup": "South Korean",
         "orientation": "v",
         "showlegend": true,
         "textposition": "auto",
         "type": "bar",
         "x": [
          "Male",
          "Male",
          "Female",
          "Male",
          "Male",
          "Female",
          "Male",
          "Female",
          "Male",
          "Male",
          "Female",
          "Male",
          "Male",
          "Female",
          "Female",
          "Female",
          "Male",
          "Male",
          "Female",
          "Male",
          "Female",
          "Female",
          "Male",
          "Male",
          "Female",
          "Male",
          "Female",
          "Male",
          "Female",
          "Female",
          "Male",
          "Male",
          "Female",
          "Female",
          "Male",
          "Male",
          "Male",
          "Male",
          "Female",
          "Male",
          "Male",
          "Female",
          "Female",
          "Female",
          "Female",
          "Male",
          "Female",
          "Male",
          "Female",
          "Female",
          "Male",
          "Male",
          "Male",
          "Male",
          "Female",
          "Male",
          "Female",
          "Female",
          "Male",
          "Male",
          "Male",
          "Female",
          "Male",
          "Male",
          "Male",
          "Female",
          "Male",
          "Male",
          "Male",
          "Male",
          "Female",
          "Male",
          "Female",
          "Male",
          "Male",
          "Male",
          "Female",
          "Female",
          "Male",
          "Female",
          "Male",
          "Male",
          "Male",
          "Male",
          "Female",
          "Male",
          "Female",
          "Male",
          "Male",
          "Male",
          "Female",
          "Male",
          "Male",
          "Male",
          "Female",
          "Male"
         ],
         "xaxis": "x",
         "y": [
          18,
          6,
          10,
          25,
          10,
          7,
          16,
          23,
          3,
          6,
          21,
          14,
          23,
          21,
          16,
          7,
          25,
          19,
          15,
          24,
          3,
          23,
          10,
          24,
          14,
          11,
          18,
          7,
          16,
          23,
          23,
          12,
          6,
          12,
          16,
          14,
          16,
          8,
          17,
          13,
          18,
          13,
          13,
          13,
          5,
          10,
          14,
          24,
          28,
          23,
          19,
          14,
          18,
          19,
          18,
          26,
          17,
          29,
          3,
          13,
          22,
          11,
          5,
          20,
          15,
          25,
          23,
          6,
          8,
          21,
          23,
          19,
          13,
          12,
          1,
          9,
          16,
          27,
          7,
          26,
          16,
          15,
          15,
          8,
          14,
          17,
          30,
          17,
          26,
          14,
          18,
          22,
          24,
          1,
          30,
          26
         ],
         "yaxis": "y"
        },
        {
         "alignmentgroup": "True",
         "hovertemplate": "Nationalité=Singaporean<br>Genre=%{x}<br>Durée de Voyage=%{y}<extra></extra>",
         "legendgroup": "Singaporean",
         "marker": {
          "color": "#636efa",
          "pattern": {
           "shape": ""
          }
         },
         "name": "Singaporean",
         "offsetgroup": "Singaporean",
         "orientation": "v",
         "showlegend": true,
         "textposition": "auto",
         "type": "bar",
         "x": [
          "Male",
          "Male",
          "Male",
          "Female",
          "Female",
          "Female",
          "Male",
          "Female",
          "Male",
          "Female",
          "Male",
          "Male",
          "Male",
          "Male",
          "Male",
          "Female",
          "Male",
          "Female",
          "Female",
          "Female",
          "Male",
          "Male",
          "Female",
          "Female",
          "Male",
          "Female",
          "Male",
          "Female",
          "Male",
          "Male",
          "Female",
          "Male",
          "Male",
          "Female",
          "Female",
          "Female",
          "Male",
          "Male",
          "Male",
          "Female",
          "Male",
          "Female",
          "Male",
          "Male",
          "Female",
          "Male",
          "Male",
          "Female",
          "Male",
          "Female",
          "Male",
          "Female",
          "Male",
          "Female",
          "Female",
          "Female",
          "Male",
          "Female",
          "Female",
          "Female",
          "Female",
          "Female",
          "Female",
          "Male",
          "Male",
          "Female",
          "Female",
          "Female",
          "Female",
          "Female",
          "Female",
          "Male",
          "Female",
          "Male",
          "Female",
          "Female",
          "Male",
          "Female",
          "Female",
          "Male",
          "Male",
          "Female",
          "Male",
          "Male",
          "Female",
          "Male",
          "Female",
          "Female",
          "Male",
          "Female",
          "Male",
          "Male",
          "Female",
          "Male",
          "Male",
          "Female",
          "Female"
         ],
         "xaxis": "x",
         "y": [
          4,
          17,
          25,
          14,
          22,
          23,
          24,
          15,
          17,
          23,
          13,
          22,
          22,
          19,
          20,
          21,
          17,
          25,
          24,
          14,
          1,
          25,
          18,
          14,
          23,
          21,
          14,
          12,
          13,
          22,
          16,
          20,
          23,
          8,
          11,
          30,
          10,
          27,
          17,
          18,
          17,
          15,
          11,
          19,
          22,
          15,
          14,
          23,
          22,
          6,
          27,
          17,
          18,
          15,
          29,
          25,
          13,
          6,
          18,
          13,
          21,
          15,
          30,
          25,
          15,
          13,
          11,
          25,
          21,
          20,
          18,
          18,
          23,
          18,
          25,
          11,
          2,
          21,
          16,
          18,
          20,
          20,
          10,
          24,
          16,
          14,
          29,
          3,
          28,
          25,
          29,
          4,
          23,
          24,
          17,
          6,
          20
         ],
         "yaxis": "y"
        },
        {
         "alignmentgroup": "True",
         "hovertemplate": "Nationalité=British<br>Genre=%{x}<br>Durée de Voyage=%{y}<extra></extra>",
         "legendgroup": "British",
         "marker": {
          "color": "#EF553B",
          "pattern": {
           "shape": ""
          }
         },
         "name": "British",
         "offsetgroup": "British",
         "orientation": "v",
         "showlegend": true,
         "textposition": "auto",
         "type": "bar",
         "x": [
          "Male",
          "Female",
          "Male",
          "Male",
          "Female",
          "Male",
          "Male",
          "Male",
          "Female",
          "Female",
          "Male",
          "Male",
          "Male",
          "Female",
          "Male",
          "Male",
          "Female",
          "Female",
          "Female",
          "Female",
          "Female",
          "Female",
          "Male",
          "Female",
          "Female",
          "Male",
          "Male",
          "Female",
          "Male",
          "Female",
          "Female",
          "Male",
          "Female",
          "Male",
          "Male",
          "Female",
          "Male",
          "Female",
          "Male",
          "Female",
          "Male",
          "Male",
          "Male",
          "Male",
          "Male",
          "Female",
          "Male",
          "Female",
          "Male",
          "Male",
          "Female",
          "Male",
          "Male",
          "Male",
          "Male",
          "Male",
          "Female",
          "Male",
          "Female",
          "Male",
          "Female",
          "Male",
          "Male",
          "Female",
          "Male",
          "Male",
          "Male",
          "Male",
          "Female",
          "Female",
          "Male"
         ],
         "xaxis": "x",
         "y": [
          14,
          10,
          21,
          19,
          12,
          16,
          26,
          21,
          23,
          5,
          14,
          3,
          14,
          17,
          11,
          19,
          24,
          19,
          23,
          18,
          25,
          16,
          25,
          11,
          22,
          27,
          25,
          22,
          16,
          20,
          25,
          23,
          16,
          21,
          26,
          8,
          17,
          15,
          23,
          8,
          26,
          11,
          2,
          9,
          20,
          9,
          19,
          24,
          25,
          24,
          26,
          19,
          11,
          9,
          25,
          16,
          20,
          21,
          23,
          15,
          30,
          11,
          22,
          25,
          21,
          17,
          22,
          22,
          8,
          30,
          26
         ],
         "yaxis": "y"
        },
        {
         "alignmentgroup": "True",
         "hovertemplate": "Nationalité=Argentinian<br>Genre=%{x}<br>Durée de Voyage=%{y}<extra></extra>",
         "legendgroup": "Argentinian",
         "marker": {
          "color": "#00cc96",
          "pattern": {
           "shape": ""
          }
         },
         "name": "Argentinian",
         "offsetgroup": "Argentinian",
         "orientation": "v",
         "showlegend": true,
         "textposition": "auto",
         "type": "bar",
         "x": [
          "Female",
          "Female",
          "Female",
          "Male",
          "Male",
          "Female",
          "Female",
          "Male",
          "Female",
          "Female",
          "Female",
          "Female",
          "Male",
          "Female",
          "Male",
          "Female",
          "Female",
          "Male",
          "Male",
          "Female",
          "Female",
          "Female",
          "Male",
          "Female",
          "Male",
          "Male",
          "Male",
          "Female",
          "Male",
          "Female",
          "Male"
         ],
         "xaxis": "x",
         "y": [
          26,
          25,
          7,
          17,
          25,
          7,
          21,
          6,
          20,
          6,
          16,
          22,
          26,
          14,
          6,
          26,
          18,
          24,
          15,
          18,
          3,
          23,
          29,
          6,
          17,
          6,
          13,
          14,
          26,
          14,
          15
         ],
         "yaxis": "y"
        },
        {
         "alignmentgroup": "True",
         "hovertemplate": "Nationalité=Australian<br>Genre=%{x}<br>Durée de Voyage=%{y}<extra></extra>",
         "legendgroup": "Australian",
         "marker": {
          "color": "#ab63fa",
          "pattern": {
           "shape": ""
          }
         },
         "name": "Australian",
         "offsetgroup": "Australian",
         "orientation": "v",
         "showlegend": true,
         "textposition": "auto",
         "type": "bar",
         "x": [
          "Female",
          "Female",
          "Male",
          "Female",
          "Male",
          "Female",
          "Male",
          "Female",
          "Male",
          "Female",
          "Female",
          "Male",
          "Male",
          "Female",
          "Male",
          "Male",
          "Female",
          "Male",
          "Female",
          "Male",
          "Female",
          "Female",
          "Male",
          "Male",
          "Male",
          "Male",
          "Female",
          "Male",
          "Male",
          "Male",
          "Female",
          "Female",
          "Male",
          "Male",
          "Female",
          "Male",
          "Male",
          "Female",
          "Male",
          "Female",
          "Male",
          "Female",
          "Male",
          "Male",
          "Female",
          "Female",
          "Female",
          "Female",
          "Male",
          "Male",
          "Female",
          "Female",
          "Male",
          "Male",
          "Female",
          "Male",
          "Female",
          "Female",
          "Male",
          "Female",
          "Male",
          "Female",
          "Female",
          "Male",
          "Female",
          "Female",
          "Female",
          "Male",
          "Female",
          "Female",
          "Female",
          "Male",
          "Female",
          "Female",
          "Male",
          "Female"
         ],
         "xaxis": "x",
         "y": [
          19,
          19,
          5,
          18,
          3,
          18,
          21,
          14,
          11,
          16,
          25,
          20,
          18,
          2,
          24,
          8,
          8,
          16,
          24,
          21,
          25,
          17,
          21,
          22,
          13,
          27,
          11,
          20,
          19,
          10,
          25,
          22,
          24,
          8,
          26,
          9,
          12,
          18,
          24,
          16,
          15,
          20,
          24,
          19,
          19,
          2,
          18,
          9,
          19,
          20,
          5,
          12,
          9,
          14,
          6,
          18,
          20,
          5,
          5,
          10,
          20,
          22,
          22,
          23,
          17,
          24,
          18,
          25,
          22,
          8,
          22,
          14,
          9,
          5,
          24,
          18
         ],
         "yaxis": "y"
        },
        {
         "alignmentgroup": "True",
         "hovertemplate": "Nationalité=Indonesian<br>Genre=%{x}<br>Durée de Voyage=%{y}<extra></extra>",
         "legendgroup": "Indonesian",
         "marker": {
          "color": "#FFA15A",
          "pattern": {
           "shape": ""
          }
         },
         "name": "Indonesian",
         "offsetgroup": "Indonesian",
         "orientation": "v",
         "showlegend": true,
         "textposition": "auto",
         "type": "bar",
         "x": [
          "Male",
          "Female",
          "Male",
          "Female",
          "Female",
          "Male",
          "Male",
          "Male",
          "Female"
         ],
         "xaxis": "x",
         "y": [
          21,
          6,
          11,
          20,
          23,
          23,
          7,
          15,
          5
         ],
         "yaxis": "y"
        },
        {
         "alignmentgroup": "True",
         "hovertemplate": "Nationalité=Egyptian<br>Genre=%{x}<br>Durée de Voyage=%{y}<extra></extra>",
         "legendgroup": "Egyptian",
         "marker": {
          "color": "#19d3f3",
          "pattern": {
           "shape": ""
          }
         },
         "name": "Egyptian",
         "offsetgroup": "Egyptian",
         "orientation": "v",
         "showlegend": true,
         "textposition": "auto",
         "type": "bar",
         "x": [
          "Male",
          "Female",
          "Male",
          "Male",
          "Female",
          "Female",
          "Male",
          "Male",
          "Female",
          "Female",
          "Female",
          "Female",
          "Male",
          "Male",
          "Male",
          "Female",
          "Male",
          "Female",
          "Female",
          "Male",
          "Male",
          "Female",
          "Female",
          "Male",
          "Female",
          "Female",
          "Female",
          "Male"
         ],
         "xaxis": "x",
         "y": [
          18,
          23,
          16,
          21,
          25,
          18,
          22,
          30,
          1,
          19,
          11,
          2,
          11,
          15,
          25,
          19,
          30,
          25,
          6,
          14,
          26,
          15,
          18,
          2,
          24,
          18,
          16,
          27
         ],
         "yaxis": "y"
        },
        {
         "alignmentgroup": "True",
         "hovertemplate": "Nationalité=South African<br>Genre=%{x}<br>Durée de Voyage=%{y}<extra></extra>",
         "legendgroup": "South African",
         "marker": {
          "color": "#FF6692",
          "pattern": {
           "shape": ""
          }
         },
         "name": "South African",
         "offsetgroup": "South African",
         "orientation": "v",
         "showlegend": true,
         "textposition": "auto",
         "type": "bar",
         "x": [
          "Female",
          "Female",
          "Male",
          "Male",
          "Female",
          "Male",
          "Male",
          "Male",
          "Female",
          "Female",
          "Male",
          "Male",
          "Male",
          "Female",
          "Male",
          "Male",
          "Female",
          "Female",
          "Female",
          "Male",
          "Male",
          "Female",
          "Male",
          "Male"
         ],
         "xaxis": "x",
         "y": [
          28,
          2,
          1,
          18,
          22,
          18,
          1,
          16,
          29,
          24,
          25,
          11,
          14,
          15,
          18,
          24,
          22,
          11,
          3,
          26,
          28,
          20,
          23,
          25
         ],
         "yaxis": "y"
        },
        {
         "alignmentgroup": "True",
         "hovertemplate": "Nationalité=Swiss<br>Genre=%{x}<br>Durée de Voyage=%{y}<extra></extra>",
         "legendgroup": "Swiss",
         "marker": {
          "color": "#B6E880",
          "pattern": {
           "shape": ""
          }
         },
         "name": "Swiss",
         "offsetgroup": "Swiss",
         "orientation": "v",
         "showlegend": true,
         "textposition": "auto",
         "type": "bar",
         "x": [
          "Female",
          "Male",
          "Female",
          "Female",
          "Female",
          "Male",
          "Male",
          "Male",
          "Female",
          "Male",
          "Male",
          "Female",
          "Female",
          "Male"
         ],
         "xaxis": "x",
         "y": [
          16,
          5,
          6,
          25,
          21,
          11,
          14,
          24,
          8,
          14,
          22,
          6,
          7,
          12
         ],
         "yaxis": "y"
        },
        {
         "alignmentgroup": "True",
         "hovertemplate": "Nationalité=Peruvian<br>Genre=%{x}<br>Durée de Voyage=%{y}<extra></extra>",
         "legendgroup": "Peruvian",
         "marker": {
          "color": "#FF97FF",
          "pattern": {
           "shape": ""
          }
         },
         "name": "Peruvian",
         "offsetgroup": "Peruvian",
         "orientation": "v",
         "showlegend": true,
         "textposition": "auto",
         "type": "bar",
         "x": [
          "Female",
          "Male",
          "Male",
          "Male",
          "Female",
          "Female",
          "Female",
          "Female",
          "Female",
          "Female"
         ],
         "xaxis": "x",
         "y": [
          19,
          27,
          20,
          13,
          15,
          20,
          13,
          17,
          15,
          19
         ],
         "yaxis": "y"
        }
       ],
       "layout": {
        "barmode": "group",
        "height": 400,
        "legend": {
         "title": {
          "text": "Nationalité"
         },
         "tracegroupgap": 0
        },
        "template": {
         "data": {
          "bar": [
           {
            "error_x": {
             "color": "#2a3f5f"
            },
            "error_y": {
             "color": "#2a3f5f"
            },
            "marker": {
             "line": {
              "color": "#E5ECF6",
              "width": 0.5
             },
             "pattern": {
              "fillmode": "overlay",
              "size": 10,
              "solidity": 0.2
             }
            },
            "type": "bar"
           }
          ],
          "barpolar": [
           {
            "marker": {
             "line": {
              "color": "#E5ECF6",
              "width": 0.5
             },
             "pattern": {
              "fillmode": "overlay",
              "size": 10,
              "solidity": 0.2
             }
            },
            "type": "barpolar"
           }
          ],
          "carpet": [
           {
            "aaxis": {
             "endlinecolor": "#2a3f5f",
             "gridcolor": "white",
             "linecolor": "white",
             "minorgridcolor": "white",
             "startlinecolor": "#2a3f5f"
            },
            "baxis": {
             "endlinecolor": "#2a3f5f",
             "gridcolor": "white",
             "linecolor": "white",
             "minorgridcolor": "white",
             "startlinecolor": "#2a3f5f"
            },
            "type": "carpet"
           }
          ],
          "choropleth": [
           {
            "colorbar": {
             "outlinewidth": 0,
             "ticks": ""
            },
            "type": "choropleth"
           }
          ],
          "contour": [
           {
            "colorbar": {
             "outlinewidth": 0,
             "ticks": ""
            },
            "colorscale": [
             [
              0,
              "#0d0887"
             ],
             [
              0.1111111111111111,
              "#46039f"
             ],
             [
              0.2222222222222222,
              "#7201a8"
             ],
             [
              0.3333333333333333,
              "#9c179e"
             ],
             [
              0.4444444444444444,
              "#bd3786"
             ],
             [
              0.5555555555555556,
              "#d8576b"
             ],
             [
              0.6666666666666666,
              "#ed7953"
             ],
             [
              0.7777777777777778,
              "#fb9f3a"
             ],
             [
              0.8888888888888888,
              "#fdca26"
             ],
             [
              1,
              "#f0f921"
             ]
            ],
            "type": "contour"
           }
          ],
          "contourcarpet": [
           {
            "colorbar": {
             "outlinewidth": 0,
             "ticks": ""
            },
            "type": "contourcarpet"
           }
          ],
          "heatmap": [
           {
            "colorbar": {
             "outlinewidth": 0,
             "ticks": ""
            },
            "colorscale": [
             [
              0,
              "#0d0887"
             ],
             [
              0.1111111111111111,
              "#46039f"
             ],
             [
              0.2222222222222222,
              "#7201a8"
             ],
             [
              0.3333333333333333,
              "#9c179e"
             ],
             [
              0.4444444444444444,
              "#bd3786"
             ],
             [
              0.5555555555555556,
              "#d8576b"
             ],
             [
              0.6666666666666666,
              "#ed7953"
             ],
             [
              0.7777777777777778,
              "#fb9f3a"
             ],
             [
              0.8888888888888888,
              "#fdca26"
             ],
             [
              1,
              "#f0f921"
             ]
            ],
            "type": "heatmap"
           }
          ],
          "heatmapgl": [
           {
            "colorbar": {
             "outlinewidth": 0,
             "ticks": ""
            },
            "colorscale": [
             [
              0,
              "#0d0887"
             ],
             [
              0.1111111111111111,
              "#46039f"
             ],
             [
              0.2222222222222222,
              "#7201a8"
             ],
             [
              0.3333333333333333,
              "#9c179e"
             ],
             [
              0.4444444444444444,
              "#bd3786"
             ],
             [
              0.5555555555555556,
              "#d8576b"
             ],
             [
              0.6666666666666666,
              "#ed7953"
             ],
             [
              0.7777777777777778,
              "#fb9f3a"
             ],
             [
              0.8888888888888888,
              "#fdca26"
             ],
             [
              1,
              "#f0f921"
             ]
            ],
            "type": "heatmapgl"
           }
          ],
          "histogram": [
           {
            "marker": {
             "pattern": {
              "fillmode": "overlay",
              "size": 10,
              "solidity": 0.2
             }
            },
            "type": "histogram"
           }
          ],
          "histogram2d": [
           {
            "colorbar": {
             "outlinewidth": 0,
             "ticks": ""
            },
            "colorscale": [
             [
              0,
              "#0d0887"
             ],
             [
              0.1111111111111111,
              "#46039f"
             ],
             [
              0.2222222222222222,
              "#7201a8"
             ],
             [
              0.3333333333333333,
              "#9c179e"
             ],
             [
              0.4444444444444444,
              "#bd3786"
             ],
             [
              0.5555555555555556,
              "#d8576b"
             ],
             [
              0.6666666666666666,
              "#ed7953"
             ],
             [
              0.7777777777777778,
              "#fb9f3a"
             ],
             [
              0.8888888888888888,
              "#fdca26"
             ],
             [
              1,
              "#f0f921"
             ]
            ],
            "type": "histogram2d"
           }
          ],
          "histogram2dcontour": [
           {
            "colorbar": {
             "outlinewidth": 0,
             "ticks": ""
            },
            "colorscale": [
             [
              0,
              "#0d0887"
             ],
             [
              0.1111111111111111,
              "#46039f"
             ],
             [
              0.2222222222222222,
              "#7201a8"
             ],
             [
              0.3333333333333333,
              "#9c179e"
             ],
             [
              0.4444444444444444,
              "#bd3786"
             ],
             [
              0.5555555555555556,
              "#d8576b"
             ],
             [
              0.6666666666666666,
              "#ed7953"
             ],
             [
              0.7777777777777778,
              "#fb9f3a"
             ],
             [
              0.8888888888888888,
              "#fdca26"
             ],
             [
              1,
              "#f0f921"
             ]
            ],
            "type": "histogram2dcontour"
           }
          ],
          "mesh3d": [
           {
            "colorbar": {
             "outlinewidth": 0,
             "ticks": ""
            },
            "type": "mesh3d"
           }
          ],
          "parcoords": [
           {
            "line": {
             "colorbar": {
              "outlinewidth": 0,
              "ticks": ""
             }
            },
            "type": "parcoords"
           }
          ],
          "pie": [
           {
            "automargin": true,
            "type": "pie"
           }
          ],
          "scatter": [
           {
            "fillpattern": {
             "fillmode": "overlay",
             "size": 10,
             "solidity": 0.2
            },
            "type": "scatter"
           }
          ],
          "scatter3d": [
           {
            "line": {
             "colorbar": {
              "outlinewidth": 0,
              "ticks": ""
             }
            },
            "marker": {
             "colorbar": {
              "outlinewidth": 0,
              "ticks": ""
             }
            },
            "type": "scatter3d"
           }
          ],
          "scattercarpet": [
           {
            "marker": {
             "colorbar": {
              "outlinewidth": 0,
              "ticks": ""
             }
            },
            "type": "scattercarpet"
           }
          ],
          "scattergeo": [
           {
            "marker": {
             "colorbar": {
              "outlinewidth": 0,
              "ticks": ""
             }
            },
            "type": "scattergeo"
           }
          ],
          "scattergl": [
           {
            "marker": {
             "colorbar": {
              "outlinewidth": 0,
              "ticks": ""
             }
            },
            "type": "scattergl"
           }
          ],
          "scattermapbox": [
           {
            "marker": {
             "colorbar": {
              "outlinewidth": 0,
              "ticks": ""
             }
            },
            "type": "scattermapbox"
           }
          ],
          "scatterpolar": [
           {
            "marker": {
             "colorbar": {
              "outlinewidth": 0,
              "ticks": ""
             }
            },
            "type": "scatterpolar"
           }
          ],
          "scatterpolargl": [
           {
            "marker": {
             "colorbar": {
              "outlinewidth": 0,
              "ticks": ""
             }
            },
            "type": "scatterpolargl"
           }
          ],
          "scatterternary": [
           {
            "marker": {
             "colorbar": {
              "outlinewidth": 0,
              "ticks": ""
             }
            },
            "type": "scatterternary"
           }
          ],
          "surface": [
           {
            "colorbar": {
             "outlinewidth": 0,
             "ticks": ""
            },
            "colorscale": [
             [
              0,
              "#0d0887"
             ],
             [
              0.1111111111111111,
              "#46039f"
             ],
             [
              0.2222222222222222,
              "#7201a8"
             ],
             [
              0.3333333333333333,
              "#9c179e"
             ],
             [
              0.4444444444444444,
              "#bd3786"
             ],
             [
              0.5555555555555556,
              "#d8576b"
             ],
             [
              0.6666666666666666,
              "#ed7953"
             ],
             [
              0.7777777777777778,
              "#fb9f3a"
             ],
             [
              0.8888888888888888,
              "#fdca26"
             ],
             [
              1,
              "#f0f921"
             ]
            ],
            "type": "surface"
           }
          ],
          "table": [
           {
            "cells": {
             "fill": {
              "color": "#EBF0F8"
             },
             "line": {
              "color": "white"
             }
            },
            "header": {
             "fill": {
              "color": "#C8D4E3"
             },
             "line": {
              "color": "white"
             }
            },
            "type": "table"
           }
          ]
         },
         "layout": {
          "annotationdefaults": {
           "arrowcolor": "#2a3f5f",
           "arrowhead": 0,
           "arrowwidth": 1
          },
          "autotypenumbers": "strict",
          "coloraxis": {
           "colorbar": {
            "outlinewidth": 0,
            "ticks": ""
           }
          },
          "colorscale": {
           "diverging": [
            [
             0,
             "#8e0152"
            ],
            [
             0.1,
             "#c51b7d"
            ],
            [
             0.2,
             "#de77ae"
            ],
            [
             0.3,
             "#f1b6da"
            ],
            [
             0.4,
             "#fde0ef"
            ],
            [
             0.5,
             "#f7f7f7"
            ],
            [
             0.6,
             "#e6f5d0"
            ],
            [
             0.7,
             "#b8e186"
            ],
            [
             0.8,
             "#7fbc41"
            ],
            [
             0.9,
             "#4d9221"
            ],
            [
             1,
             "#276419"
            ]
           ],
           "sequential": [
            [
             0,
             "#0d0887"
            ],
            [
             0.1111111111111111,
             "#46039f"
            ],
            [
             0.2222222222222222,
             "#7201a8"
            ],
            [
             0.3333333333333333,
             "#9c179e"
            ],
            [
             0.4444444444444444,
             "#bd3786"
            ],
            [
             0.5555555555555556,
             "#d8576b"
            ],
            [
             0.6666666666666666,
             "#ed7953"
            ],
            [
             0.7777777777777778,
             "#fb9f3a"
            ],
            [
             0.8888888888888888,
             "#fdca26"
            ],
            [
             1,
             "#f0f921"
            ]
           ],
           "sequentialminus": [
            [
             0,
             "#0d0887"
            ],
            [
             0.1111111111111111,
             "#46039f"
            ],
            [
             0.2222222222222222,
             "#7201a8"
            ],
            [
             0.3333333333333333,
             "#9c179e"
            ],
            [
             0.4444444444444444,
             "#bd3786"
            ],
            [
             0.5555555555555556,
             "#d8576b"
            ],
            [
             0.6666666666666666,
             "#ed7953"
            ],
            [
             0.7777777777777778,
             "#fb9f3a"
            ],
            [
             0.8888888888888888,
             "#fdca26"
            ],
            [
             1,
             "#f0f921"
            ]
           ]
          },
          "colorway": [
           "#636efa",
           "#EF553B",
           "#00cc96",
           "#ab63fa",
           "#FFA15A",
           "#19d3f3",
           "#FF6692",
           "#B6E880",
           "#FF97FF",
           "#FECB52"
          ],
          "font": {
           "color": "#2a3f5f"
          },
          "geo": {
           "bgcolor": "white",
           "lakecolor": "white",
           "landcolor": "#E5ECF6",
           "showlakes": true,
           "showland": true,
           "subunitcolor": "white"
          },
          "hoverlabel": {
           "align": "left"
          },
          "hovermode": "closest",
          "mapbox": {
           "style": "light"
          },
          "paper_bgcolor": "white",
          "plot_bgcolor": "#E5ECF6",
          "polar": {
           "angularaxis": {
            "gridcolor": "white",
            "linecolor": "white",
            "ticks": ""
           },
           "bgcolor": "#E5ECF6",
           "radialaxis": {
            "gridcolor": "white",
            "linecolor": "white",
            "ticks": ""
           }
          },
          "scene": {
           "xaxis": {
            "backgroundcolor": "#E5ECF6",
            "gridcolor": "white",
            "gridwidth": 2,
            "linecolor": "white",
            "showbackground": true,
            "ticks": "",
            "zerolinecolor": "white"
           },
           "yaxis": {
            "backgroundcolor": "#E5ECF6",
            "gridcolor": "white",
            "gridwidth": 2,
            "linecolor": "white",
            "showbackground": true,
            "ticks": "",
            "zerolinecolor": "white"
           },
           "zaxis": {
            "backgroundcolor": "#E5ECF6",
            "gridcolor": "white",
            "gridwidth": 2,
            "linecolor": "white",
            "showbackground": true,
            "ticks": "",
            "zerolinecolor": "white"
           }
          },
          "shapedefaults": {
           "line": {
            "color": "#2a3f5f"
           }
          },
          "ternary": {
           "aaxis": {
            "gridcolor": "white",
            "linecolor": "white",
            "ticks": ""
           },
           "baxis": {
            "gridcolor": "white",
            "linecolor": "white",
            "ticks": ""
           },
           "bgcolor": "#E5ECF6",
           "caxis": {
            "gridcolor": "white",
            "linecolor": "white",
            "ticks": ""
           }
          },
          "title": {
           "x": 0.05
          },
          "xaxis": {
           "automargin": true,
           "gridcolor": "white",
           "linecolor": "white",
           "ticks": "",
           "title": {
            "standoff": 15
           },
           "zerolinecolor": "white",
           "zerolinewidth": 2
          },
          "yaxis": {
           "automargin": true,
           "gridcolor": "white",
           "linecolor": "white",
           "ticks": "",
           "title": {
            "standoff": 15
           },
           "zerolinecolor": "white",
           "zerolinewidth": 2
          }
         }
        },
        "title": {
         "text": "Durée de Voyage par Rapport au Genre et Nationalité"
        },
        "xaxis": {
         "anchor": "y",
         "domain": [
          0,
          1
         ],
         "title": {
          "text": "Genre"
         }
        },
        "yaxis": {
         "anchor": "x",
         "domain": [
          0,
          1
         ],
         "title": {
          "text": "Durée de Voyage"
         }
        }
       }
      }
     },
     "metadata": {},
     "output_type": "display_data"
    }
   ],
   "source": [
    "# Charger les données\n",
    "df = pd.read_csv('travel_data_modified.csv')\n",
    "\n",
    "# Créer un graphique en barres de la durée de voyage par genre et nationalité\n",
    "fig = px.bar(df, \n",
    "             x='Traveler gender', \n",
    "             y='Duration (days)',  # Utiliser la colonne correcte pour la durée\n",
    "             color='Traveler nationality', \n",
    "             title='Durée de Voyage par Rapport au Genre et Nationalité',\n",
    "             labels={'Traveler gender': 'Genre', 'Duration (days)': 'Durée de Voyage', 'Traveler nationality': 'Nationalité'},\n",
    "             barmode='group',  # Permet d'afficher les barres côte à côte pour chaque nationalité\n",
    "             height=400)  # Ajuster la hauteur du graphique si nécessaire\n",
    "\n",
    "# Afficher le graphique\n",
    "fig.show()\n"
   ]
  },
  {
   "cell_type": "markdown",
   "metadata": {},
   "source": [
    "### <font color=\"red\">Conclusion </font>\n",
    "La nationalité est un facteur déterminant de la durée des voyages, avec des écarts importants liés à des contextes culturels ou économiques (ex. : pays nordiques privilégiant les longs séjours). Le genre influence aussi la durée, particulièrement dans certaines nationalités (ex. : femmes portugaises voyageant plus longtemps), ce qui pourrait refléter des rôles sociaux, des préférences de voyage ou des disponibilités différentes. Les données mettent en lumière des comportements de voyage genrés et géographiquement segmentés\n"
   ]
  },
  {
   "cell_type": "markdown",
   "metadata": {},
   "source": [
    "### ***Coût moyen de l’hébergement par ville***"
   ]
  },
  {
   "cell_type": "markdown",
   "metadata": {},
   "source": [
    "Analyser le coût moyen de l'hébergement par ville  permet de comparer les prix des logements dans différentes villes à travers le monde. Cela peut révéler des tendances sur la cherté des destinations, influençant ainsi le coût total des voyages. Par exemple, des villes comme New York ou Tokyo pourraient avoir un coût d'hébergement plus élevé que d'autres villes moins touristiques. Cette analyse permet également d'explorer comment les voyageurs ajustent la durée de leur séjour ou leur choix de transport en fonction du coût de l'hébergement dans ces villes."
   ]
  },
  {
   "cell_type": "code",
   "execution_count": 45,
   "metadata": {},
   "outputs": [
    {
     "data": {
      "application/vnd.plotly.v1+json": {
       "config": {
        "plotlyServerURL": "https://plot.ly"
       },
       "data": [
        {
         "geo": "geo",
         "hovertemplate": "<b>%{hovertext}</b><br><br>Accommodation cost=%{marker.color}<br>Latitude=%{lat}<br>Longitude=%{lon}<extra></extra>",
         "hovertext": [
          "Amsterdam",
          "Athens",
          "Bangkok",
          "Barcelona",
          "Berlin",
          "Buenos Aires",
          "Cairo",
          "Cape Town",
          "Dubai",
          "Dublin",
          "Hanoi",
          "Istanbul",
          "Jakarta",
          "Lima",
          "Lisbon",
          "London",
          "Los Angeles",
          "Miami",
          "Moscow",
          "New York",
          "Oslo",
          "Paris",
          "Prague",
          "Rome",
          "Seoul",
          "Singapore",
          "Sydney",
          "Tokyo",
          "Toronto",
          "Zurich"
         ],
         "lat": [
          52.3676,
          37.9838,
          13.7563,
          41.3784,
          52.52,
          -34.6037,
          30.0444,
          -33.9249,
          25.276987,
          53.3498,
          21.0285,
          41.0082,
          -6.2088,
          -12.0464,
          38.7223,
          51.5074,
          34.0522,
          25.7617,
          55.7558,
          40.7128,
          59.9139,
          48.8566,
          50.0755,
          41.9028,
          37.5665,
          1.3521,
          -33.8688,
          35.6895,
          43.65107,
          47.3769
         ],
         "legendgroup": "",
         "lon": [
          4.9041,
          23.7275,
          100.5018,
          2.1915,
          13.405,
          -58.3816,
          31.2357,
          18.4241,
          55.296249,
          -6.2603,
          105.8542,
          28.9784,
          106.8456,
          -77.0428,
          -9.1393,
          -0.1278,
          -118.2437,
          -80.1918,
          37.6173,
          -74.006,
          10.7522,
          2.3522,
          14.4378,
          12.4964,
          126.978,
          103.8198,
          151.2093,
          139.6917,
          -79.347015,
          8.5417
         ],
         "marker": {
          "color": [
           515.2008219178083,
           474.9407142857143,
           504.146,
           455.6825925925926,
           534.0247058823529,
           518.6633333333333,
           612.3103333333333,
           554.775652173913,
           460.26359999999994,
           564.3338596491228,
           535.2847058823529,
           484.9854285714286,
           574.8933333333333,
           502.84666666666664,
           534.5495945945946,
           517.5518604651163,
           539.5002564102564,
           522.3863529411765,
           493.6677272727273,
           516.9473493975903,
           472.02058823529416,
           512.5069333333333,
           499.2207407407407,
           534.8419277108434,
           588.28625,
           530.7789705882353,
           508.8071794871795,
           535.7350666666666,
           550.6602352941177,
           732.1633333333333
          ],
          "coloraxis": "coloraxis",
          "size": [
           515.2008219178083,
           474.9407142857143,
           504.146,
           455.6825925925926,
           534.0247058823529,
           518.6633333333333,
           612.3103333333333,
           554.775652173913,
           460.26359999999994,
           564.3338596491228,
           535.2847058823529,
           484.9854285714286,
           574.8933333333333,
           502.84666666666664,
           534.5495945945946,
           517.5518604651163,
           539.5002564102564,
           522.3863529411765,
           493.6677272727273,
           516.9473493975903,
           472.02058823529416,
           512.5069333333333,
           499.2207407407407,
           534.8419277108434,
           588.28625,
           530.7789705882353,
           508.8071794871795,
           535.7350666666666,
           550.6602352941177,
           732.1633333333333
          ],
          "sizemode": "area",
          "sizeref": 1.8304083333333332,
          "symbol": "circle"
         },
         "mode": "markers",
         "name": "",
         "showlegend": false,
         "type": "scattergeo"
        }
       ],
       "layout": {
        "coloraxis": {
         "colorbar": {
          "title": {
           "text": "Accommodation cost"
          }
         },
         "colorscale": [
          [
           0,
           "#440154"
          ],
          [
           0.1111111111111111,
           "#482878"
          ],
          [
           0.2222222222222222,
           "#3e4989"
          ],
          [
           0.3333333333333333,
           "#31688e"
          ],
          [
           0.4444444444444444,
           "#26828e"
          ],
          [
           0.5555555555555556,
           "#1f9e89"
          ],
          [
           0.6666666666666666,
           "#35b779"
          ],
          [
           0.7777777777777778,
           "#6ece58"
          ],
          [
           0.8888888888888888,
           "#b5de2b"
          ],
          [
           1,
           "#fde725"
          ]
         ]
        },
        "geo": {
         "center": {},
         "domain": {
          "x": [
           0,
           1
          ],
          "y": [
           0,
           1
          ]
         },
         "projection": {
          "type": "natural earth"
         }
        },
        "legend": {
         "itemsizing": "constant",
         "tracegroupgap": 0
        },
        "template": {
         "data": {
          "bar": [
           {
            "error_x": {
             "color": "#2a3f5f"
            },
            "error_y": {
             "color": "#2a3f5f"
            },
            "marker": {
             "line": {
              "color": "#E5ECF6",
              "width": 0.5
             },
             "pattern": {
              "fillmode": "overlay",
              "size": 10,
              "solidity": 0.2
             }
            },
            "type": "bar"
           }
          ],
          "barpolar": [
           {
            "marker": {
             "line": {
              "color": "#E5ECF6",
              "width": 0.5
             },
             "pattern": {
              "fillmode": "overlay",
              "size": 10,
              "solidity": 0.2
             }
            },
            "type": "barpolar"
           }
          ],
          "carpet": [
           {
            "aaxis": {
             "endlinecolor": "#2a3f5f",
             "gridcolor": "white",
             "linecolor": "white",
             "minorgridcolor": "white",
             "startlinecolor": "#2a3f5f"
            },
            "baxis": {
             "endlinecolor": "#2a3f5f",
             "gridcolor": "white",
             "linecolor": "white",
             "minorgridcolor": "white",
             "startlinecolor": "#2a3f5f"
            },
            "type": "carpet"
           }
          ],
          "choropleth": [
           {
            "colorbar": {
             "outlinewidth": 0,
             "ticks": ""
            },
            "type": "choropleth"
           }
          ],
          "contour": [
           {
            "colorbar": {
             "outlinewidth": 0,
             "ticks": ""
            },
            "colorscale": [
             [
              0,
              "#0d0887"
             ],
             [
              0.1111111111111111,
              "#46039f"
             ],
             [
              0.2222222222222222,
              "#7201a8"
             ],
             [
              0.3333333333333333,
              "#9c179e"
             ],
             [
              0.4444444444444444,
              "#bd3786"
             ],
             [
              0.5555555555555556,
              "#d8576b"
             ],
             [
              0.6666666666666666,
              "#ed7953"
             ],
             [
              0.7777777777777778,
              "#fb9f3a"
             ],
             [
              0.8888888888888888,
              "#fdca26"
             ],
             [
              1,
              "#f0f921"
             ]
            ],
            "type": "contour"
           }
          ],
          "contourcarpet": [
           {
            "colorbar": {
             "outlinewidth": 0,
             "ticks": ""
            },
            "type": "contourcarpet"
           }
          ],
          "heatmap": [
           {
            "colorbar": {
             "outlinewidth": 0,
             "ticks": ""
            },
            "colorscale": [
             [
              0,
              "#0d0887"
             ],
             [
              0.1111111111111111,
              "#46039f"
             ],
             [
              0.2222222222222222,
              "#7201a8"
             ],
             [
              0.3333333333333333,
              "#9c179e"
             ],
             [
              0.4444444444444444,
              "#bd3786"
             ],
             [
              0.5555555555555556,
              "#d8576b"
             ],
             [
              0.6666666666666666,
              "#ed7953"
             ],
             [
              0.7777777777777778,
              "#fb9f3a"
             ],
             [
              0.8888888888888888,
              "#fdca26"
             ],
             [
              1,
              "#f0f921"
             ]
            ],
            "type": "heatmap"
           }
          ],
          "heatmapgl": [
           {
            "colorbar": {
             "outlinewidth": 0,
             "ticks": ""
            },
            "colorscale": [
             [
              0,
              "#0d0887"
             ],
             [
              0.1111111111111111,
              "#46039f"
             ],
             [
              0.2222222222222222,
              "#7201a8"
             ],
             [
              0.3333333333333333,
              "#9c179e"
             ],
             [
              0.4444444444444444,
              "#bd3786"
             ],
             [
              0.5555555555555556,
              "#d8576b"
             ],
             [
              0.6666666666666666,
              "#ed7953"
             ],
             [
              0.7777777777777778,
              "#fb9f3a"
             ],
             [
              0.8888888888888888,
              "#fdca26"
             ],
             [
              1,
              "#f0f921"
             ]
            ],
            "type": "heatmapgl"
           }
          ],
          "histogram": [
           {
            "marker": {
             "pattern": {
              "fillmode": "overlay",
              "size": 10,
              "solidity": 0.2
             }
            },
            "type": "histogram"
           }
          ],
          "histogram2d": [
           {
            "colorbar": {
             "outlinewidth": 0,
             "ticks": ""
            },
            "colorscale": [
             [
              0,
              "#0d0887"
             ],
             [
              0.1111111111111111,
              "#46039f"
             ],
             [
              0.2222222222222222,
              "#7201a8"
             ],
             [
              0.3333333333333333,
              "#9c179e"
             ],
             [
              0.4444444444444444,
              "#bd3786"
             ],
             [
              0.5555555555555556,
              "#d8576b"
             ],
             [
              0.6666666666666666,
              "#ed7953"
             ],
             [
              0.7777777777777778,
              "#fb9f3a"
             ],
             [
              0.8888888888888888,
              "#fdca26"
             ],
             [
              1,
              "#f0f921"
             ]
            ],
            "type": "histogram2d"
           }
          ],
          "histogram2dcontour": [
           {
            "colorbar": {
             "outlinewidth": 0,
             "ticks": ""
            },
            "colorscale": [
             [
              0,
              "#0d0887"
             ],
             [
              0.1111111111111111,
              "#46039f"
             ],
             [
              0.2222222222222222,
              "#7201a8"
             ],
             [
              0.3333333333333333,
              "#9c179e"
             ],
             [
              0.4444444444444444,
              "#bd3786"
             ],
             [
              0.5555555555555556,
              "#d8576b"
             ],
             [
              0.6666666666666666,
              "#ed7953"
             ],
             [
              0.7777777777777778,
              "#fb9f3a"
             ],
             [
              0.8888888888888888,
              "#fdca26"
             ],
             [
              1,
              "#f0f921"
             ]
            ],
            "type": "histogram2dcontour"
           }
          ],
          "mesh3d": [
           {
            "colorbar": {
             "outlinewidth": 0,
             "ticks": ""
            },
            "type": "mesh3d"
           }
          ],
          "parcoords": [
           {
            "line": {
             "colorbar": {
              "outlinewidth": 0,
              "ticks": ""
             }
            },
            "type": "parcoords"
           }
          ],
          "pie": [
           {
            "automargin": true,
            "type": "pie"
           }
          ],
          "scatter": [
           {
            "fillpattern": {
             "fillmode": "overlay",
             "size": 10,
             "solidity": 0.2
            },
            "type": "scatter"
           }
          ],
          "scatter3d": [
           {
            "line": {
             "colorbar": {
              "outlinewidth": 0,
              "ticks": ""
             }
            },
            "marker": {
             "colorbar": {
              "outlinewidth": 0,
              "ticks": ""
             }
            },
            "type": "scatter3d"
           }
          ],
          "scattercarpet": [
           {
            "marker": {
             "colorbar": {
              "outlinewidth": 0,
              "ticks": ""
             }
            },
            "type": "scattercarpet"
           }
          ],
          "scattergeo": [
           {
            "marker": {
             "colorbar": {
              "outlinewidth": 0,
              "ticks": ""
             }
            },
            "type": "scattergeo"
           }
          ],
          "scattergl": [
           {
            "marker": {
             "colorbar": {
              "outlinewidth": 0,
              "ticks": ""
             }
            },
            "type": "scattergl"
           }
          ],
          "scattermapbox": [
           {
            "marker": {
             "colorbar": {
              "outlinewidth": 0,
              "ticks": ""
             }
            },
            "type": "scattermapbox"
           }
          ],
          "scatterpolar": [
           {
            "marker": {
             "colorbar": {
              "outlinewidth": 0,
              "ticks": ""
             }
            },
            "type": "scatterpolar"
           }
          ],
          "scatterpolargl": [
           {
            "marker": {
             "colorbar": {
              "outlinewidth": 0,
              "ticks": ""
             }
            },
            "type": "scatterpolargl"
           }
          ],
          "scatterternary": [
           {
            "marker": {
             "colorbar": {
              "outlinewidth": 0,
              "ticks": ""
             }
            },
            "type": "scatterternary"
           }
          ],
          "surface": [
           {
            "colorbar": {
             "outlinewidth": 0,
             "ticks": ""
            },
            "colorscale": [
             [
              0,
              "#0d0887"
             ],
             [
              0.1111111111111111,
              "#46039f"
             ],
             [
              0.2222222222222222,
              "#7201a8"
             ],
             [
              0.3333333333333333,
              "#9c179e"
             ],
             [
              0.4444444444444444,
              "#bd3786"
             ],
             [
              0.5555555555555556,
              "#d8576b"
             ],
             [
              0.6666666666666666,
              "#ed7953"
             ],
             [
              0.7777777777777778,
              "#fb9f3a"
             ],
             [
              0.8888888888888888,
              "#fdca26"
             ],
             [
              1,
              "#f0f921"
             ]
            ],
            "type": "surface"
           }
          ],
          "table": [
           {
            "cells": {
             "fill": {
              "color": "#EBF0F8"
             },
             "line": {
              "color": "white"
             }
            },
            "header": {
             "fill": {
              "color": "#C8D4E3"
             },
             "line": {
              "color": "white"
             }
            },
            "type": "table"
           }
          ]
         },
         "layout": {
          "annotationdefaults": {
           "arrowcolor": "#2a3f5f",
           "arrowhead": 0,
           "arrowwidth": 1
          },
          "autotypenumbers": "strict",
          "coloraxis": {
           "colorbar": {
            "outlinewidth": 0,
            "ticks": ""
           }
          },
          "colorscale": {
           "diverging": [
            [
             0,
             "#8e0152"
            ],
            [
             0.1,
             "#c51b7d"
            ],
            [
             0.2,
             "#de77ae"
            ],
            [
             0.3,
             "#f1b6da"
            ],
            [
             0.4,
             "#fde0ef"
            ],
            [
             0.5,
             "#f7f7f7"
            ],
            [
             0.6,
             "#e6f5d0"
            ],
            [
             0.7,
             "#b8e186"
            ],
            [
             0.8,
             "#7fbc41"
            ],
            [
             0.9,
             "#4d9221"
            ],
            [
             1,
             "#276419"
            ]
           ],
           "sequential": [
            [
             0,
             "#0d0887"
            ],
            [
             0.1111111111111111,
             "#46039f"
            ],
            [
             0.2222222222222222,
             "#7201a8"
            ],
            [
             0.3333333333333333,
             "#9c179e"
            ],
            [
             0.4444444444444444,
             "#bd3786"
            ],
            [
             0.5555555555555556,
             "#d8576b"
            ],
            [
             0.6666666666666666,
             "#ed7953"
            ],
            [
             0.7777777777777778,
             "#fb9f3a"
            ],
            [
             0.8888888888888888,
             "#fdca26"
            ],
            [
             1,
             "#f0f921"
            ]
           ],
           "sequentialminus": [
            [
             0,
             "#0d0887"
            ],
            [
             0.1111111111111111,
             "#46039f"
            ],
            [
             0.2222222222222222,
             "#7201a8"
            ],
            [
             0.3333333333333333,
             "#9c179e"
            ],
            [
             0.4444444444444444,
             "#bd3786"
            ],
            [
             0.5555555555555556,
             "#d8576b"
            ],
            [
             0.6666666666666666,
             "#ed7953"
            ],
            [
             0.7777777777777778,
             "#fb9f3a"
            ],
            [
             0.8888888888888888,
             "#fdca26"
            ],
            [
             1,
             "#f0f921"
            ]
           ]
          },
          "colorway": [
           "#636efa",
           "#EF553B",
           "#00cc96",
           "#ab63fa",
           "#FFA15A",
           "#19d3f3",
           "#FF6692",
           "#B6E880",
           "#FF97FF",
           "#FECB52"
          ],
          "font": {
           "color": "#2a3f5f"
          },
          "geo": {
           "bgcolor": "white",
           "lakecolor": "white",
           "landcolor": "#E5ECF6",
           "showlakes": true,
           "showland": true,
           "subunitcolor": "white"
          },
          "hoverlabel": {
           "align": "left"
          },
          "hovermode": "closest",
          "mapbox": {
           "style": "light"
          },
          "paper_bgcolor": "white",
          "plot_bgcolor": "#E5ECF6",
          "polar": {
           "angularaxis": {
            "gridcolor": "white",
            "linecolor": "white",
            "ticks": ""
           },
           "bgcolor": "#E5ECF6",
           "radialaxis": {
            "gridcolor": "white",
            "linecolor": "white",
            "ticks": ""
           }
          },
          "scene": {
           "xaxis": {
            "backgroundcolor": "#E5ECF6",
            "gridcolor": "white",
            "gridwidth": 2,
            "linecolor": "white",
            "showbackground": true,
            "ticks": "",
            "zerolinecolor": "white"
           },
           "yaxis": {
            "backgroundcolor": "#E5ECF6",
            "gridcolor": "white",
            "gridwidth": 2,
            "linecolor": "white",
            "showbackground": true,
            "ticks": "",
            "zerolinecolor": "white"
           },
           "zaxis": {
            "backgroundcolor": "#E5ECF6",
            "gridcolor": "white",
            "gridwidth": 2,
            "linecolor": "white",
            "showbackground": true,
            "ticks": "",
            "zerolinecolor": "white"
           }
          },
          "shapedefaults": {
           "line": {
            "color": "#2a3f5f"
           }
          },
          "ternary": {
           "aaxis": {
            "gridcolor": "white",
            "linecolor": "white",
            "ticks": ""
           },
           "baxis": {
            "gridcolor": "white",
            "linecolor": "white",
            "ticks": ""
           },
           "bgcolor": "#E5ECF6",
           "caxis": {
            "gridcolor": "white",
            "linecolor": "white",
            "ticks": ""
           }
          },
          "title": {
           "x": 0.05
          },
          "xaxis": {
           "automargin": true,
           "gridcolor": "white",
           "linecolor": "white",
           "ticks": "",
           "title": {
            "standoff": 15
           },
           "zerolinecolor": "white",
           "zerolinewidth": 2
          },
          "yaxis": {
           "automargin": true,
           "gridcolor": "white",
           "linecolor": "white",
           "ticks": "",
           "title": {
            "standoff": 15
           },
           "zerolinecolor": "white",
           "zerolinewidth": 2
          }
         }
        },
        "title": {
         "text": "Coût moyen de l’hébergement par ville (monde)"
        }
       }
      }
     },
     "metadata": {},
     "output_type": "display_data"
    }
   ],
   "source": [
    "# Charger les données\n",
    "df = pd.read_csv('travel_data_modified.csv')\n",
    "\n",
    "# Convertir le coût d'hébergement en numérique en gérant les erreurs\n",
    "df['Accommodation cost'] = pd.to_numeric(df['Accommodation cost'], errors='coerce')\n",
    "\n",
    "# Supprimer les lignes avec des valeurs NaN dans 'Accommodation cost'\n",
    "df = df.dropna(subset=['Accommodation cost'])\n",
    "\n",
    "# Calculer le coût moyen d'hébergement par destination\n",
    "avg_accommodation_cost_by_destination = df.groupby('Destination')['Accommodation cost'].mean().reset_index()\n",
    "\n",
    "# Dictionnaire de coordonnées \n",
    "city_coords = {\n",
    "    'Paris': (48.8566, 2.3522),\n",
    "    'London': (51.5074, -0.1278),\n",
    "    'New York': (40.7128, -74.0060),\n",
    "    'Tokyo': (35.6895, 139.6917),\n",
    "    'Sydney': (-33.8688, 151.2093),\n",
    "    'Berlin': (52.5200, 13.4050),\n",
    "    'Rome': (41.9028, 12.4964),\n",
    "    'Dubai': (25.276987, 55.296249),\n",
    "    'Moscow': (55.7558, 37.6173),\n",
    "    'Toronto': (43.651070, -79.347015),\n",
    "    'Bangkok': (13.7563, 100.5018),\n",
    "    'Istanbul': (41.0082, 28.9784),\n",
    "    'Singapore': (1.3521, 103.8198),\n",
    "    'Barcelona': (41.3784, 2.1915),\n",
    "    'Los Angeles': (34.0522, -118.2437),\n",
    "    'Lisbon': (38.7223, -9.1393),\n",
    "    'Miami': (25.7617, -80.1918),\n",
    "    'Prague': (50.0755, 14.4378),\n",
    "    'Amsterdam': (52.3676, 4.9041),\n",
    "    'Dublin': (53.3498, -6.2603),\n",
    "    'Seoul': (37.5665, 126.9780),\n",
    "    'Cairo': (30.0444, 31.2357),\n",
    "    'Buenos Aires': (-34.6037, -58.3816),\n",
    "    'Cape Town': (-33.9249, 18.4241),\n",
    "    'Hanoi': (21.0285, 105.8542),\n",
    "    'Oslo': (59.9139, 10.7522),\n",
    "    'Athens': (37.9838, 23.7275),\n",
    "    'Zurich': (47.3769, 8.5417),\n",
    "    'Jakarta': (-6.2088, 106.8456),\n",
    "    'Lima': (-12.0464, -77.0428)\n",
    "}\n",
    "\n",
    "# Ajouter les coordonnées au DataFrame\n",
    "avg_accommodation_cost_by_destination['Latitude'] = avg_accommodation_cost_by_destination['Destination'].map(lambda x: city_coords.get(x, (None, None))[0])\n",
    "avg_accommodation_cost_by_destination['Longitude'] = avg_accommodation_cost_by_destination['Destination'].map(lambda x: city_coords.get(x, (None, None))[1])\n",
    "\n",
    "# Supprimer les villes sans coordonnées\n",
    "avg_accommodation_cost_by_destination.dropna(subset=['Latitude', 'Longitude'], inplace=True)\n",
    "\n",
    "# Créer une carte avec les villes\n",
    "fig = px.scatter_geo(avg_accommodation_cost_by_destination,\n",
    "                     lat='Latitude',\n",
    "                     lon='Longitude',\n",
    "                     size='Accommodation cost',\n",
    "                     hover_name='Destination',\n",
    "                     color='Accommodation cost',\n",
    "                     color_continuous_scale='Viridis',\n",
    "                     title='Coût moyen de l’hébergement par ville (monde)')\n",
    "\n",
    "fig.update_geos(projection_type='natural earth')\n",
    "fig.show()\n"
   ]
  },
  {
   "cell_type": "markdown",
   "metadata": {},
   "source": [
    "Cette carte géographique met en lumière les coûts d’hébergement dans différentes villes à travers le monde. Les régions d'Asie, d'Afrique et de l'Amérique Latine semblent avoir des coûts relativement plus bas, tandis que certaines villes européennes et nord-américaines affichent des coûts d'hébergement plus élevés. Cela peut être dû à des facteurs tels que la demande touristique, les niveaux de développement économique et la popularité des destinations.\n",
    "\n",
    "### <font color=\"red\">Conclusion </font>\n",
    "Le coût moyen de l'hébergement varie selon les villes et, par extension, selon la destination choisie par les voyageurs. Les voyageurs qui choisissent des villes plus chères (en Europe ou en Amérique du Nord) auront des coûts d’hébergement plus élevés, ce qui pourrait allonger leur séjour ou les amener à ajuster d'autres aspects de leur voyage (comme le transport). À l'inverse, les voyageurs qui se rendent dans des villes avec un coût d’hébergement plus bas (Asie, Afrique) peuvent profiter de séjours plus longs ou choisir de dépenser davantage dans d'autres domaines (transport, activités), influençant ainsi la durée et le coût total du voyage."
   ]
  },
  {
   "cell_type": "markdown",
   "metadata": {},
   "source": [
    "### ***Durée du voyage, coût de l'hébergement et coût du transport***"
   ]
  },
  {
   "cell_type": "markdown",
   "metadata": {},
   "source": [
    "Analyser la durée du voyage, le coût de l'hébergement et le coût du transport selon le sexe du voyageur permet de déterminer s'il existe des différences entre les hommes et les femmes dans leurs choix de voyage. Par exemple, on peut observer si les femmes ont tendance à partir pour des séjours plus courts, ou si elles choisissent des hébergements moins coûteux que les hommes. De même, cela peut aider à comprendre si le sexe influence le mode de transport choisi, ce qui affecte à la fois la durée et le coût total du voyage. Cette analyse permet d'explorer comment les caractéristiques des voyageurs influencent leurs décisions de voyage."
   ]
  },
  {
   "cell_type": "code",
   "execution_count": 46,
   "metadata": {},
   "outputs": [
    {
     "data": {
      "application/vnd.plotly.v1+json": {
       "config": {
        "plotlyServerURL": "https://plot.ly"
       },
       "data": [
        {
         "customdata": [
          [
           "Moscow",
           "Austin Hancock"
          ],
          [
           "Toronto",
           "Jennifer Marquez"
          ],
          [
           "Sydney",
           "Craig Harrington"
          ],
          [
           "Toronto",
           "Oscar Holt"
          ],
          [
           "Athens",
           "Travis Khan"
          ],
          [
           "Toronto",
           "Glenn Herrera"
          ],
          [
           "Amsterdam",
           "Jorge Rivera"
          ],
          [
           "Lisbon",
           "Craig Moses"
          ],
          [
           "Seoul",
           "Ms. Cynthia James"
          ],
          [
           "London",
           "Patricia Singh"
          ],
          [
           "Lisbon",
           "Yolanda Barrett"
          ],
          [
           "Toronto",
           "Aaron Castillo"
          ],
          [
           "Sydney",
           "Nathaniel Freeman"
          ],
          [
           "Rome",
           "Nathaniel Sanchez"
          ],
          [
           "Barcelona",
           "Natalie Oliver"
          ],
          [
           "London",
           "Elaine Porter"
          ],
          [
           "New York",
           "Joan Carter"
          ],
          [
           "Toronto",
           "Lisa Jimenez"
          ],
          [
           "Seoul",
           "Laurie White"
          ],
          [
           "Lisbon",
           "Tamara Ryan"
          ],
          [
           "Paris",
           "Ronald Vargas"
          ],
          [
           "Cairo",
           "Robert Richmond"
          ],
          [
           "Tokyo",
           "Holly Robbins"
          ],
          [
           "Los Angeles",
           "Edward Duncan"
          ],
          [
           "Paris",
           "Bridget Clarke"
          ],
          [
           "Dubai",
           "Jasmine King"
          ],
          [
           "Toronto",
           "Lisa Miller"
          ],
          [
           "New York",
           "Mariah Salazar"
          ],
          [
           "Tokyo",
           "Thomas Chen"
          ],
          [
           "Barcelona",
           "Brooke Cook"
          ],
          [
           "Bangkok",
           "Whitney Wilson"
          ],
          [
           "Amsterdam",
           "Barry Livingston"
          ],
          [
           "Istanbul",
           "Daniel Miller"
          ],
          [
           "Tokyo",
           "Joseph Chan"
          ],
          [
           "Toronto",
           "Savannah Norris"
          ],
          [
           "Los Angeles",
           "Andrew Smith"
          ],
          [
           "Prague",
           "Roberto Scott"
          ],
          [
           "Bangkok",
           "Shaun Wright"
          ],
          [
           "Sydney",
           "George Allen"
          ],
          [
           "Oslo",
           "Nancy Terry"
          ],
          [
           "Prague",
           "Christina Rocha"
          ],
          [
           "New York",
           "Alexandra Schwartz"
          ],
          [
           "Seoul",
           "Jennifer Hoffman"
          ],
          [
           "Los Angeles",
           "Nicholas Flores"
          ],
          [
           "Singapore",
           "Matthew Henderson"
          ],
          [
           "Oslo",
           "Charles Lloyd"
          ],
          [
           "Istanbul",
           "Rachel Rocha"
          ],
          [
           "Athens",
           "Kyle Maldonado"
          ],
          [
           "Los Angeles",
           "Melanie Cortez"
          ],
          [
           "Rome",
           "Deanna Robertson"
          ],
          [
           "Berlin",
           "Emily Gonzalez"
          ],
          [
           "New York",
           "Ana May"
          ],
          [
           "Paris",
           "Brittney Holmes"
          ],
          [
           "Singapore",
           "Mark Sims"
          ],
          [
           "Berlin",
           "Evan Bauer"
          ],
          [
           "Dubai",
           "Dr. Maria Turner"
          ],
          [
           "Hanoi",
           "Kristen Peterson"
          ],
          [
           "Berlin",
           "Amy Price"
          ],
          [
           "Los Angeles",
           "Lori Sharp"
          ],
          [
           "Prague",
           "Jesse Garcia"
          ],
          [
           "London",
           "Tina Pierce"
          ],
          [
           "Los Angeles",
           "Charles Hernandez"
          ],
          [
           "Bangkok",
           "Alexis Thomas"
          ],
          [
           "Los Angeles",
           "Jeffery Hughes"
          ],
          [
           "Cape Town",
           "Tiffany Cole"
          ],
          [
           "London",
           "Janice Aguilar"
          ],
          [
           "Tokyo",
           "Sandra Williams"
          ],
          [
           "Sydney",
           "Michael Baker"
          ],
          [
           "Singapore",
           "Malik Hogan"
          ],
          [
           "Tokyo",
           "Steven Simmons"
          ],
          [
           "Prague",
           "Dr. John Hull II"
          ],
          [
           "Sydney",
           "Samantha Flores"
          ],
          [
           "Rome",
           "Charles Contreras"
          ],
          [
           "Miami",
           "Dr. Ashley Thompson MD"
          ],
          [
           "Toronto",
           "Elizabeth Peterson"
          ],
          [
           "Amsterdam",
           "Brian Diaz"
          ],
          [
           "Tokyo",
           "Shelby Smith"
          ],
          [
           "New York",
           "Alexandra Riggs"
          ],
          [
           "Dubai",
           "Rhonda Mullins"
          ],
          [
           "Oslo",
           "Luis Garcia"
          ],
          [
           "Istanbul",
           "Kathy Hawkins"
          ],
          [
           "Amsterdam",
           "Kristin Sanchez"
          ],
          [
           "Istanbul",
           "Lori Mccoy"
          ],
          [
           "Moscow",
           "Tanner Ortiz"
          ],
          [
           "Amsterdam",
           "Luis Barrett"
          ],
          [
           "Singapore",
           "Caitlin Scott"
          ],
          [
           "Dublin",
           "Jason Benjamin"
          ],
          [
           "Miami",
           "Hannah Mcgee"
          ],
          [
           "Paris",
           "Amber Taylor"
          ],
          [
           "Rome",
           "Tonya Brooks"
          ],
          [
           "Berlin",
           "Gabrielle Russell"
          ],
          [
           "Bangkok",
           "Michael Galloway"
          ],
          [
           "Toronto",
           "Julia Martin"
          ],
          [
           "Dubai",
           "Tyler Clark"
          ],
          [
           "London",
           "Jeffrey Bond"
          ],
          [
           "Dublin",
           "Kim Graves"
          ],
          [
           "Cairo",
           "Kathy Garcia PhD"
          ],
          [
           "Dublin",
           "Megan Medina"
          ],
          [
           "Berlin",
           "Brandy Mccoy"
          ],
          [
           "Los Angeles",
           "David Cowan"
          ],
          [
           "Singapore",
           "Michelle Myers"
          ],
          [
           "New York",
           "Jorge Smith"
          ],
          [
           "Paris",
           "Deanna Warner"
          ],
          [
           "Seoul",
           "Robert Watson"
          ],
          [
           "Cairo",
           "William Gray"
          ],
          [
           "Los Angeles",
           "Thomas Gomez"
          ],
          [
           "Miami",
           "Jessica Walker"
          ],
          [
           "Barcelona",
           "Jennifer Patrick MD"
          ],
          [
           "Istanbul",
           "Carol Khan"
          ],
          [
           "Rome",
           "Cathy Flowers"
          ],
          [
           "Istanbul",
           "Marcus Burgess"
          ],
          [
           "Los Angeles",
           "Danielle Price"
          ],
          [
           "Moscow",
           "James Martin"
          ],
          [
           "Toronto",
           "Devin Foley"
          ],
          [
           "Istanbul",
           "Aaron Quinn"
          ],
          [
           "Buenos Aires",
           "Cody Ross"
          ],
          [
           "Prague",
           "David Underwood"
          ],
          [
           "Miami",
           "Terri Allen"
          ],
          [
           "Barcelona",
           "Adam Rodriguez"
          ],
          [
           "Miami",
           "Sarah Davis"
          ],
          [
           "Tokyo",
           "Dustin Miller"
          ],
          [
           "Berlin",
           "Samantha Williams"
          ],
          [
           "Toronto",
           "Sarah Marquez"
          ],
          [
           "Singapore",
           "Daniel Miller"
          ],
          [
           "Istanbul",
           "Kenneth Flores"
          ],
          [
           "Tokyo",
           "Michael Cook"
          ],
          [
           "Amsterdam",
           "Devin Dunn"
          ],
          [
           "Miami",
           "Anthony Bennett"
          ],
          [
           "Los Angeles",
           "Joseph Burns"
          ],
          [
           "New York",
           "Craig Snow"
          ],
          [
           "Sydney",
           "Kimberly Mcdaniel"
          ],
          [
           "Bangkok",
           "Christopher Taylor"
          ],
          [
           "London",
           "Richard Diaz"
          ],
          [
           "Seoul",
           "Miguel Cohen"
          ],
          [
           "New York",
           "Marcus Knapp"
          ],
          [
           "London",
           "Patricia Perry"
          ],
          [
           "Bangkok",
           "Sandra Franco"
          ],
          [
           "New York",
           "Sara Riley"
          ],
          [
           "Seoul",
           "Mark Schmidt"
          ],
          [
           "Seoul",
           "Matthew Whitehead"
          ],
          [
           "Sydney",
           "Amanda Hamilton"
          ],
          [
           "Lisbon",
           "Emily Sanchez"
          ],
          [
           "Lisbon",
           "Taylor Barton"
          ],
          [
           "Barcelona",
           "Heather Hammond DVM"
          ],
          [
           "Prague",
           "Austin Bass"
          ],
          [
           "Cape Town",
           "Megan Alvarado"
          ],
          [
           "New York",
           "Dustin Smith"
          ],
          [
           "Bangkok",
           "Joshua Bennett"
          ],
          [
           "Rome",
           "Brittany Smith"
          ],
          [
           "Singapore",
           "Sara Carpenter"
          ],
          [
           "Istanbul",
           "Jessica White"
          ],
          [
           "Moscow",
           "Kathryn Leonard"
          ],
          [
           "Rome",
           "Jennifer Smith"
          ],
          [
           "London",
           "Parker Garcia"
          ],
          [
           "Cairo",
           "Timothy Clark"
          ],
          [
           "Los Angeles",
           "Gary Parker"
          ],
          [
           "Paris",
           "Tamara Sellers"
          ],
          [
           "Paris",
           "Manuel Hutchinson"
          ],
          [
           "Tokyo",
           "Joshua Wagner"
          ],
          [
           "Dubai",
           "Devin Leblanc"
          ],
          [
           "Istanbul",
           "Emily Nelson"
          ],
          [
           "Dubai",
           "David Riggs"
          ],
          [
           "Sydney",
           "Annette Conley"
          ],
          [
           "Sydney",
           "Richard Peterson"
          ],
          [
           "Prague",
           "Kevin Chandler"
          ],
          [
           "Singapore",
           "Jennifer Palmer"
          ],
          [
           "Zurich",
           "Eric Villegas"
          ],
          [
           "Lisbon",
           "Mrs. Andrea Reed"
          ],
          [
           "Amsterdam",
           "Rebecca Burns"
          ],
          [
           "Miami",
           "Joshua Campbell"
          ],
          [
           "Dubai",
           "Rebecca Rose"
          ],
          [
           "Miami",
           "Paul Parker"
          ],
          [
           "Rome",
           "Mario Williams"
          ],
          [
           "Oslo",
           "Bianca Good"
          ],
          [
           "Buenos Aires",
           "Robert Murphy"
          ],
          [
           "Istanbul",
           "Jennifer Carr"
          ],
          [
           "Lisbon",
           "Elizabeth Henry"
          ],
          [
           "Toronto",
           "Michael Frey"
          ],
          [
           "Sydney",
           "Chad Reid"
          ],
          [
           "Tokyo",
           "Debbie Hoffman"
          ],
          [
           "Barcelona",
           "Amanda Ramirez"
          ],
          [
           "Cairo",
           "Theresa Warner"
          ],
          [
           "Dubai",
           "John Miller"
          ],
          [
           "Dubai",
           "Elizabeth Warren"
          ],
          [
           "Amsterdam",
           "Elaine Schneider"
          ],
          [
           "Dublin",
           "Thomas Taylor"
          ],
          [
           "Dubai",
           "Johnathan Lloyd"
          ],
          [
           "Singapore",
           "Ronald Gomez DDS"
          ],
          [
           "Prague",
           "Sarah Price"
          ],
          [
           "Seoul",
           "Michelle Proctor DVM"
          ],
          [
           "Lisbon",
           "Timothy Boyd"
          ],
          [
           "Miami",
           "Monica Kaufman"
          ],
          [
           "Tokyo",
           "Angela Tyler"
          ],
          [
           "Rome",
           "Brittney Thompson"
          ],
          [
           "Singapore",
           "Vanessa Owen"
          ],
          [
           "Miami",
           "Elizabeth Smith"
          ],
          [
           "Lisbon",
           "Theresa Ballard"
          ],
          [
           "Paris",
           "William Meyer"
          ],
          [
           "Rome",
           "Krista Frederick"
          ],
          [
           "Lisbon",
           "Brandon Young"
          ],
          [
           "Paris",
           "Vicki Gonzalez"
          ],
          [
           "London",
           "Keith Campos"
          ],
          [
           "Amsterdam",
           "Annette Garcia"
          ],
          [
           "Sydney",
           "Dennis Fernandez"
          ],
          [
           "Istanbul",
           "Michael Barnett"
          ],
          [
           "Dubai",
           "John Nelson Jr."
          ],
          [
           "Seoul",
           "Kimberly Benson"
          ],
          [
           "Berlin",
           "April Diaz"
          ],
          [
           "Miami",
           "Charlene King"
          ],
          [
           "Sydney",
           "Denise Johnson"
          ],
          [
           "Lisbon",
           "Daniel Singleton"
          ],
          [
           "Miami",
           "Thomas Jefferson"
          ],
          [
           "Paris",
           "Jesse Bass"
          ],
          [
           "Amsterdam",
           "Eric Gonzalez"
          ],
          [
           "Rome",
           "Joseph Bishop"
          ],
          [
           "Barcelona",
           "Rebecca Adkins"
          ],
          [
           "Prague",
           "Meghan Watson"
          ],
          [
           "London",
           "Donna Black"
          ],
          [
           "Seoul",
           "Daniel Mejia"
          ],
          [
           "Bangkok",
           "Samuel Frazier"
          ],
          [
           "New York",
           "Jessica Santos"
          ],
          [
           "Seoul",
           "Sarah Little"
          ],
          [
           "Moscow",
           "Kristen Johnson"
          ],
          [
           "Barcelona",
           "Andrew Roberts"
          ],
          [
           "Sydney",
           "Abigail Hall"
          ],
          [
           "Miami",
           "David Morris"
          ],
          [
           "London",
           "Jennifer Perry"
          ],
          [
           "Toronto",
           "Angela Chandler"
          ],
          [
           "Athens",
           "Dave Wright"
          ],
          [
           "Toronto",
           "Mary Estrada"
          ],
          [
           "Tokyo",
           "Catherine Reeves"
          ],
          [
           "Dubai",
           "Jason Stephenson"
          ],
          [
           "Amsterdam",
           "Jennifer Mcknight"
          ],
          [
           "New York",
           "Katherine Carter"
          ],
          [
           "London",
           "Lisa Curry"
          ],
          [
           "Singapore",
           "Christine Jones DVM"
          ],
          [
           "Lisbon",
           "Roberto Rubio"
          ],
          [
           "London",
           "Kayla Barrett"
          ],
          [
           "Sydney",
           "Brett Parker"
          ],
          [
           "Barcelona",
           "Melissa Johnson"
          ],
          [
           "Seoul",
           "Lori Blankenship"
          ],
          [
           "Tokyo",
           "Robert Taylor"
          ],
          [
           "Berlin",
           "Theresa Espinoza"
          ],
          [
           "Dubai",
           "Heather Walker"
          ],
          [
           "Buenos Aires",
           "Amanda Smith"
          ],
          [
           "Miami",
           "Amy Howard"
          ],
          [
           "Amsterdam",
           "Charles Hodge"
          ],
          [
           "New York",
           "Taylor Pearson"
          ],
          [
           "Barcelona",
           "Robyn Murphy"
          ],
          [
           "Seoul",
           "Nicole Rose"
          ],
          [
           "Athens",
           "Jeffrey Brown"
          ],
          [
           "Rome",
           "Louis Lee"
          ],
          [
           "Barcelona",
           "Ashley Grant"
          ],
          [
           "Oslo",
           "Tiffany Griffin"
          ],
          [
           "Barcelona",
           "Steve Armstrong"
          ],
          [
           "Lima",
           "Sharon Richmond"
          ],
          [
           "Los Angeles",
           "Joseph Jones"
          ],
          [
           "Barcelona",
           "Tracy Becker"
          ],
          [
           "Cape Town",
           "Gloria Ball"
          ],
          [
           "Paris",
           "Samuel Dominguez"
          ],
          [
           "Miami",
           "Kenneth Miller"
          ],
          [
           "New York",
           "Joe Wallace"
          ],
          [
           "Dubai",
           "Michelle Lara"
          ],
          [
           "Paris",
           "Rebecca Bryant"
          ],
          [
           "Miami",
           "Dr. Stephen White"
          ],
          [
           "Seoul",
           "Danielle Lyons"
          ],
          [
           "Barcelona",
           "Jason Williams"
          ],
          [
           "Sydney",
           "Bob Burton"
          ],
          [
           "Los Angeles",
           "Bryan Jones"
          ],
          [
           "Seoul",
           "Matthew Smith"
          ],
          [
           "Lisbon",
           "Richard Greene"
          ],
          [
           "Barcelona",
           "Lindsey Frederick"
          ],
          [
           "Barcelona",
           "Travis Williams"
          ],
          [
           "Los Angeles",
           "Amber Myers"
          ],
          [
           "Seoul",
           "Beth Maldonado"
          ],
          [
           "London",
           "Jessica Le"
          ],
          [
           "London",
           "Emily Edwards"
          ],
          [
           "Los Angeles",
           "Joseph Graves"
          ],
          [
           "Berlin",
           "Sheri Olson"
          ],
          [
           "Prague",
           "Adam Lee"
          ],
          [
           "Miami",
           "Anna Dennis"
          ],
          [
           "Hanoi",
           "James Nichols"
          ],
          [
           "Dubai",
           "Alicia Williams"
          ],
          [
           "Rome",
           "Darren Alvarez"
          ],
          [
           "Dublin",
           "Tyler Dominguez"
          ],
          [
           "Athens",
           "Michelle Daugherty"
          ],
          [
           "Miami",
           "Thomas Campbell"
          ],
          [
           "Tokyo",
           "James Lyons"
          ],
          [
           "Bangkok",
           "Chad Ruiz"
          ],
          [
           "Berlin",
           "Kevin Henry"
          ],
          [
           "Bangkok",
           "Michael Osborne"
          ],
          [
           "Amsterdam",
           "Jennifer Madden"
          ],
          [
           "Prague",
           "Alexander Wright"
          ],
          [
           "Paris",
           "Lauren Perez"
          ],
          [
           "Cape Town",
           "Randall Davis"
          ],
          [
           "Rome",
           "Patty Jordan"
          ],
          [
           "Miami",
           "Wendy Flores"
          ],
          [
           "Los Angeles",
           "Laura Johnson"
          ],
          [
           "Sydney",
           "Kaylee Briggs"
          ],
          [
           "Prague",
           "Ryan Murray"
          ],
          [
           "New York",
           "Robin Tanner"
          ],
          [
           "Barcelona",
           "Tiffany Turner"
          ],
          [
           "Dubai",
           "Steven Winters"
          ],
          [
           "New York",
           "Jeremy Blackburn"
          ],
          [
           "Miami",
           "Francis Howe"
          ],
          [
           "Seoul",
           "Charles Stevenson"
          ],
          [
           "Dublin",
           "Colton Holt"
          ],
          [
           "Oslo",
           "Deborah Evans"
          ],
          [
           "Cairo",
           "Frank Foley"
          ],
          [
           "Seoul",
           "Heather Walker"
          ],
          [
           "Moscow",
           "Lori Price"
          ],
          [
           "Cairo",
           "David Obrien"
          ],
          [
           "London",
           "Brandon Page"
          ],
          [
           "Toronto",
           "Erin Peterson"
          ],
          [
           "Los Angeles",
           "Andrew Lee"
          ],
          [
           "Tokyo",
           "Zachary Pruitt"
          ],
          [
           "Paris",
           "Janet Pearson"
          ],
          [
           "Prague",
           "Christine Farmer"
          ],
          [
           "Los Angeles",
           "Lindsey Sloan"
          ],
          [
           "Amsterdam",
           "Gail Lynn"
          ],
          [
           "Berlin",
           "Colleen Mejia"
          ],
          [
           "New York",
           "Mary Wheeler"
          ],
          [
           "Barcelona",
           "Ashley Fox"
          ],
          [
           "Prague",
           "Laurie Jordan"
          ],
          [
           "Buenos Aires",
           "Heather Fleming"
          ],
          [
           "New York",
           "Lisa Morris"
          ],
          [
           "Singapore",
           "Patricia Thomas"
          ],
          [
           "Dubai",
           "Amanda Robinson"
          ],
          [
           "Rome",
           "Daniel Cabrera"
          ],
          [
           "New York",
           "Amy Barrett"
          ],
          [
           "Bangkok",
           "Mario Martin"
          ],
          [
           "Dublin",
           "Kathleen Allen"
          ],
          [
           "Tokyo",
           "Richard Jones"
          ],
          [
           "Sydney",
           "Matthew Chambers"
          ],
          [
           "Dublin",
           "Lisa Glover"
          ],
          [
           "Singapore",
           "Briana Diaz"
          ],
          [
           "London",
           "Jerry Hughes"
          ],
          [
           "Dubai",
           "Debra Powell"
          ],
          [
           "Sydney",
           "Jessica Long"
          ],
          [
           "Lisbon",
           "Andrew Brooks"
          ],
          [
           "Amsterdam",
           "Stacy Butler"
          ],
          [
           "Bangkok",
           "Brandi Williams"
          ],
          [
           "Miami",
           "Janice Frye"
          ],
          [
           "Miami",
           "Mark Shea"
          ],
          [
           "Istanbul",
           "Mrs. Jessica Fry MD"
          ],
          [
           "Cairo",
           "Jordan Rivera"
          ],
          [
           "Toronto",
           "Samantha Sanders"
          ],
          [
           "Bangkok",
           "Melissa Cochran"
          ],
          [
           "Rome",
           "Stephanie Harris"
          ],
          [
           "Prague",
           "Angela Rivera"
          ],
          [
           "Los Angeles",
           "Diana Young"
          ],
          [
           "Miami",
           "Adam Logan"
          ],
          [
           "Amsterdam",
           "Tina Miller"
          ],
          [
           "New York",
           "Andrea Deleon"
          ],
          [
           "Toronto",
           "Joseph Maxwell"
          ],
          [
           "Tokyo",
           "Kevin Peterson"
          ],
          [
           "Paris",
           "Lisa Wilson"
          ],
          [
           "Istanbul",
           "Ian Owens"
          ],
          [
           "Dubai",
           "Jose Marks"
          ],
          [
           "Dubai",
           "Catherine Flowers"
          ],
          [
           "Bangkok",
           "Tracey Cortez"
          ],
          [
           "Berlin",
           "David Burton"
          ],
          [
           "Prague",
           "Justin Oliver"
          ],
          [
           "Amsterdam",
           "George Miller"
          ],
          [
           "Buenos Aires",
           "Heather Khan"
          ],
          [
           "Jakarta",
           "Johnathan Wright"
          ],
          [
           "Bangkok",
           "Joseph Long"
          ],
          [
           "Prague",
           "Mary Wilson"
          ],
          [
           "Bangkok",
           "Susan Miller"
          ],
          [
           "Prague",
           "Wendy Weiss"
          ]
         ],
         "hovertemplate": "Traveler gender=Female<br>Duration (days)=%{x}<br>Accommodation cost=%{y}<br>Transportation cost=%{marker.size}<br>Destination=%{customdata[0]}<br>Traveler name=%{customdata[1]}<extra></extra>",
         "legendgroup": "Female",
         "marker": {
          "color": "#636efa",
          "opacity": 0.6,
          "size": [
           1249.41,
           782.6,
           895.56,
           918.6,
           1204.55,
           520.14,
           523.28,
           786.97,
           1096.64,
           381.97,
           326.81,
           318.89,
           1065.96,
           727.7,
           1103.93,
           309.56,
           1247.75,
           278.53,
           1124.67,
           373.81,
           378.52,
           1255.71,
           1363.55,
           502.18,
           1167.95,
           177.45,
           1402.99,
           54.55,
           1272.64,
           1446.61,
           826.72,
           1447.35,
           1075.26,
           848.71,
           1340.95,
           112.17,
           972.13,
           930.93,
           612.91,
           818.33,
           782.47,
           824.44,
           682.79,
           865.84,
           169.82,
           1402.26,
           299.98,
           986.42,
           395.66,
           933.05,
           884,
           1047.33,
           139.14,
           1035.47,
           803.8,
           1014.34,
           486.24,
           653.1,
           201.3,
           1477.48,
           1349.72,
           311.12,
           1057.49,
           1186.6,
           427.51,
           1434.81,
           1220.37,
           520.6,
           1275.97,
           183.03,
           857.77,
           1476.03,
           174.42,
           1479.61,
           568.36,
           281,
           675.14,
           887.42,
           1310.51,
           860.22,
           1133.5,
           1089.38,
           588.41,
           1310.25,
           1388.7,
           882.47,
           697.44,
           434.67,
           1442.92,
           715.01,
           879.34,
           716.09,
           1151.82,
           142.87,
           1499.92,
           386.55,
           750.73,
           531.84,
           1462.61,
           787.16,
           161.54,
           1288.05,
           1272.88,
           745.71,
           1371.79,
           395.21,
           100.25,
           227.52,
           600.49,
           1148,
           51.56,
           210.44,
           769.25,
           445.79,
           1333.89,
           143.26,
           751.02,
           345.01,
           25.66,
           219.88,
           23.13,
           1123.03,
           975.04,
           402.18,
           235.18,
           673.32,
           884.28,
           48.27,
           488.09,
           752.84,
           1226.19,
           1023.14,
           1040.29,
           271.47,
           433.11,
           632.13,
           1085.96,
           1157.51,
           1232.72,
           684.28,
           117.99,
           89.1,
           1264.77,
           1496.74,
           1482.16,
           858.25,
           130.56,
           1499.57,
           1272.16,
           1283.51,
           634.83,
           880.18,
           1469.32,
           125.77,
           604.43,
           1188.52,
           1418.81,
           1479.4,
           1366.63,
           1476.14,
           42.36,
           506.47,
           284.38,
           613.18,
           978.9,
           704.14,
           158.84,
           1076.2,
           1206.17,
           1224.21,
           1042.25,
           897.46,
           471.74,
           359.28,
           386.82,
           99.3,
           848.15,
           464.01,
           662.66,
           544.01,
           591.67,
           560.53,
           1402.26,
           993.24,
           229.39,
           1430.42,
           567.84,
           84.37,
           580.74,
           37.12,
           1368.41,
           958.37,
           53.98,
           1481.64,
           102.66,
           555.35,
           556.9,
           449.91,
           1230.12,
           925.43,
           435.27,
           1314.65,
           1367.08,
           688.39,
           114.37,
           157.47,
           592.1,
           1378.96,
           888.94,
           652.85,
           1040.13,
           373.22,
           1488.56,
           1209.89,
           85.3,
           1126.19,
           393.89,
           829.37,
           1312.02,
           716.14,
           422.36,
           720.84,
           492.32,
           799.9,
           1374.94,
           664.71,
           345.33,
           510.97,
           1435.76,
           1267.63,
           915.06,
           256.63,
           1056.76,
           59.48,
           715.54,
           273.99,
           939.47,
           364.65,
           1092.22,
           1379.48,
           770.16,
           827.71,
           1460.19,
           821.26,
           194.67,
           759.31,
           949.64,
           278.14,
           1051.64,
           1493.45,
           1081.5,
           1208.66,
           1236.56,
           964.58,
           1177.2,
           668.79,
           753.11,
           1312.09,
           304.46,
           495.54,
           559.4,
           175.94,
           320.96,
           97.39,
           40.08,
           377.35,
           1490.95,
           1164.67,
           637.65,
           1040.48,
           1134.03,
           109,
           1362.86,
           1473.89,
           1482.2,
           77.33,
           119.03,
           1060.6,
           663.22,
           951.69,
           616.05,
           1208.6,
           1483.56,
           1170.24,
           999,
           689.94,
           1398.92,
           810.85,
           1243.44,
           1129.66,
           458.71,
           1345.51,
           757.53,
           1312.76,
           1045.83,
           726.99,
           650.95,
           186.84,
           1466.61,
           596.4,
           754.58,
           1304.67,
           42.71,
           1495.77,
           522.64,
           1091.99,
           341.23,
           187.2,
           96.84,
           1478.54,
           548.73,
           737.65,
           1373.48,
           1453.73,
           1144.14,
           946.24,
           551.85,
           1039.35,
           818.38,
           794.61,
           1018.94,
           1163.92,
           643.9,
           258.25,
           276.33,
           362.44,
           1219.54,
           281.66,
           656.36,
           586.2,
           1041.95,
           264.99,
           875.38,
           393.21,
           1408.81,
           1420.42,
           1385.42,
           1118.99,
           334.9,
           726.13,
           1341.2,
           234.27,
           1319.53,
           1198.41,
           1009.66,
           1249.31,
           1499.86,
           1473.11,
           284.5,
           824.82,
           750.58,
           1313.17,
           948.87,
           85.81,
           1469.56,
           434.96,
           768.07,
           927.24,
           667.66,
           139.19,
           477.05,
           914.2,
           1360.51,
           1049.24,
           279.87,
           159.98,
           1334.74,
           1492.73,
           721.81,
           1446.93
          ],
          "sizemode": "area",
          "sizeref": 6.666311111111112,
          "symbol": "circle"
         },
         "mode": "markers",
         "name": "Female",
         "orientation": "v",
         "showlegend": true,
         "type": "scatter",
         "x": [
          13,
          20,
          19,
          20,
          6,
          8,
          19,
          17,
          18,
          17,
          3,
          2,
          22,
          29,
          17,
          10,
          11,
          13,
          7,
          27,
          1,
          22,
          20,
          16,
          20,
          10,
          14,
          16,
          15,
          18,
          24,
          10,
          13,
          10,
          14,
          17,
          23,
          7,
          5,
          10,
          22,
          22,
          24,
          26,
          15,
          18,
          21,
          30,
          3,
          11,
          16,
          15,
          20,
          11,
          6,
          1,
          27,
          6,
          11,
          2,
          18,
          17,
          17,
          24,
          21,
          13,
          13,
          15,
          29,
          12,
          17,
          24,
          29,
          17,
          23,
          6,
          20,
          23,
          12,
          26,
          26,
          13,
          25,
          7,
          17,
          9,
          6,
          4,
          26,
          15,
          24,
          13,
          10,
          11,
          6,
          22,
          19,
          20,
          15,
          19,
          11,
          19,
          10,
          23,
          15,
          1,
          28,
          29,
          13,
          22,
          6,
          26,
          20,
          23,
          19,
          25,
          27,
          10,
          12,
          19,
          26,
          25,
          16,
          23,
          21,
          28,
          24,
          26,
          12,
          25,
          27,
          22,
          20,
          5,
          7,
          3,
          27,
          24,
          11,
          10,
          15,
          1,
          2,
          12,
          15,
          19,
          13,
          17,
          16,
          15,
          20,
          17,
          10,
          22,
          12,
          20,
          23,
          23,
          3,
          11,
          3,
          20,
          8,
          14,
          1,
          27,
          17,
          7,
          19,
          24,
          22,
          7,
          23,
          17,
          28,
          9,
          14,
          3,
          21,
          17,
          2,
          18,
          25,
          8,
          25,
          6,
          9,
          9,
          5,
          20,
          18,
          25,
          19,
          9,
          7,
          12,
          19,
          3,
          28,
          20,
          16,
          18,
          23,
          6,
          13,
          21,
          20,
          19,
          14,
          15,
          6,
          25,
          11,
          24,
          15,
          25,
          16,
          23,
          26,
          5,
          17,
          16,
          5,
          27,
          24,
          10,
          8,
          11,
          19,
          8,
          21,
          25,
          18,
          22,
          18,
          14,
          14,
          12,
          19,
          19,
          16,
          26,
          10,
          8,
          10,
          9,
          6,
          4,
          16,
          5,
          26,
          19,
          8,
          25,
          18,
          8,
          5,
          11,
          16,
          15,
          19,
          20,
          6,
          22,
          7,
          17,
          22,
          17,
          8,
          23,
          17,
          15,
          27,
          30,
          16,
          20,
          14,
          11,
          11,
          7,
          14,
          13,
          16,
          18,
          22,
          15,
          14,
          11,
          13,
          16,
          26,
          9,
          16,
          21,
          26,
          3,
          21,
          11,
          15,
          7,
          20,
          9,
          3,
          13,
          13,
          20,
          16,
          19,
          20,
          26,
          6,
          24,
          14,
          20,
          12,
          18,
          25,
          26,
          17,
          25,
          17,
          26,
          22,
          21,
          3,
          28,
          30,
          20,
          27,
          6,
          17,
          22,
          22,
          11,
          20,
          6,
          16,
          15,
          5,
          13,
          19,
          18,
          7,
          6,
          5,
          29,
          17,
          9,
          10,
          18,
          22,
          24,
          21,
          20,
          12,
          19,
          23,
          24,
          11,
          20,
          19,
          15,
          25,
          19,
          18,
          3,
          20,
          18,
          14,
          16
         ],
         "xaxis": "x",
         "y": [
          159.65,
          639.67,
          439.61,
          329.39,
          600.63,
          790.23,
          979.03,
          664.35,
          739.17,
          940.39,
          632.85,
          696.16,
          412.8,
          249.78,
          362.77,
          165.6,
          911.61,
          773.41,
          624.63,
          103.4,
          278.62,
          709.33,
          998.91,
          792.67,
          175.9,
          264.8,
          367.43,
          747.09,
          425.32,
          285.8,
          103.92,
          666.6,
          116.46,
          643.21,
          454.33,
          287.11,
          993.17,
          489.7,
          417.88,
          917.88,
          643.91,
          905.45,
          813.47,
          915.37,
          421.07,
          850.36,
          511.46,
          662.61,
          597.29,
          173.72,
          909.69,
          188.5,
          130.32,
          425.88,
          817.1,
          504.22,
          846.01,
          598.39,
          515.41,
          781.82,
          200.89,
          690.11,
          409.88,
          658.87,
          524.79,
          975.52,
          385.67,
          468.12,
          457.24,
          575.88,
          84.65,
          154.68,
          301.05,
          597.55,
          574.77,
          744.97,
          924.62,
          508.79,
          153.19,
          237.31,
          467.63,
          825.29,
          471.54,
          819.41,
          148.95,
          690.81,
          166.05,
          81.9,
          524.78,
          243.4,
          96.62,
          811.54,
          695.43,
          500.9,
          964.89,
          992.53,
          329.35,
          946.08,
          529.12,
          831.26,
          90.75,
          381.79,
          948.18,
          121.53,
          471.41,
          252.15,
          962.64,
          671.08,
          307.03,
          160.63,
          137.45,
          842.22,
          314.07,
          385.21,
          550.85,
          846.4,
          562.4,
          618.22,
          365.99,
          894.05,
          407.35,
          772.83,
          841.84,
          198.2,
          55.83,
          342.81,
          146.38,
          183.91,
          780.05,
          468.95,
          456.21,
          699.94,
          186.35,
          145.9,
          567.06,
          744.56,
          614.56,
          940.61,
          990.18,
          353.64,
          459.7,
          568.27,
          931.14,
          398.58,
          402.81,
          995.49,
          325.1,
          450.16,
          654.59,
          83.51,
          409.38,
          328.58,
          365.91,
          949.95,
          607.12,
          693.64,
          86.6,
          424.1,
          83.98,
          170.86,
          352.81,
          786,
          975.99,
          373.62,
          353.44,
          308.54,
          509.45,
          100.27,
          56.96,
          741.81,
          148.54,
          215.82,
          955.47,
          425.04,
          505.94,
          652.67,
          145.39,
          799.89,
          839.36,
          342.36,
          412.57,
          736.32,
          177.08,
          992.98,
          542.7,
          340.83,
          303.8,
          880.99,
          281.44,
          351.71,
          270.17,
          452.17,
          610.13,
          927.11,
          250.12,
          845.28,
          439.67,
          379.18,
          981.12,
          612.34,
          405.26,
          466.98,
          375.38,
          398.32,
          69.03,
          180.92,
          966.53,
          253.87,
          590.29,
          857.99,
          335.81,
          362.41,
          683.88,
          395.33,
          626.49,
          119.47,
          81.91,
          948.12,
          488.66,
          94.26,
          696.49,
          242.32,
          535.51,
          840.73,
          419.4,
          316.04,
          913.88,
          189.45,
          59.8,
          991.66,
          381.24,
          562.55,
          211.32,
          820.81,
          375.4,
          645.09,
          153.44,
          93.21,
          167.7,
          707.98,
          489.72,
          353.73,
          322.44,
          144.96,
          168.96,
          655.6,
          361.59,
          422.14,
          560.98,
          115.01,
          468.54,
          955.57,
          549.79,
          745.4,
          856.27,
          364.02,
          921.31,
          523.35,
          279.62,
          385.36,
          251.41,
          132.57,
          436.96,
          981.2,
          922.59,
          742.4,
          66.35,
          360.65,
          579.75,
          676.09,
          922.34,
          148.62,
          334.4,
          285.75,
          624.79,
          64.54,
          772.77,
          723.14,
          964.01,
          781.32,
          157.04,
          249.84,
          138.5,
          180.35,
          681.82,
          481.43,
          853.09,
          381.52,
          516.83,
          71.57,
          356.85,
          753.94,
          86.04,
          953.16,
          742.33,
          621.82,
          935.11,
          649.61,
          283.27,
          54.83,
          212.03,
          741.98,
          306.11,
          462.78,
          398.81,
          642.63,
          995.75,
          276.86,
          803.06,
          823.5,
          402.4,
          394.27,
          523.13,
          440.96,
          428.64,
          463.62,
          223.51,
          182.05,
          424.65,
          307.7,
          863.05,
          382.47,
          588.36,
          721.32,
          962.46,
          454.15,
          607.12,
          780.77,
          394.2,
          56.57,
          122.93,
          847.17,
          398.29,
          705.41,
          570.9,
          188.98,
          984.8,
          873.91,
          143.78,
          259.1,
          863.2,
          807.93,
          949.02,
          74.78,
          980.07,
          820.59,
          372.36,
          701.09,
          849.06,
          408.31,
          208.5,
          936.44,
          432.16,
          127.11,
          974.51,
          637.97,
          745.74,
          620.98,
          661.63,
          634.64,
          406.56,
          306.03,
          628.93,
          291.1,
          285.76,
          209.57,
          265.36,
          58.41,
          490.24,
          524.35
         ],
         "yaxis": "y"
        },
        {
         "customdata": [
          [
           "Paris",
           "Nicole Phillips"
          ],
          [
           "Oslo",
           "Brian Hughes"
          ],
          [
           "Barcelona",
           "Shannon Wang"
          ],
          [
           "Cape Town",
           "Cynthia Bennett"
          ],
          [
           "Athens",
           "Brittany Thompson"
          ],
          [
           "Amsterdam",
           "Janet Kim"
          ],
          [
           "Amsterdam",
           "Ann Cooper"
          ],
          [
           "Sydney",
           "Ralph Blackwell"
          ],
          [
           "Bangkok",
           "Jacob Wilson"
          ],
          [
           "Lisbon",
           "Jessica Tucker"
          ],
          [
           "Bangkok",
           "Andrea White"
          ],
          [
           "Prague",
           "Karen Price"
          ],
          [
           "Miami",
           "Charles Patton"
          ],
          [
           "Toronto",
           "Katherine Hogan"
          ],
          [
           "Berlin",
           "Dustin Bolton"
          ],
          [
           "Rome",
           "Marcia Medina"
          ],
          [
           "Sydney",
           "Dakota Williams"
          ],
          [
           "Sydney",
           "Maria Gonzalez"
          ],
          [
           "Paris",
           "Tammy Smith"
          ],
          [
           "Barcelona",
           "Daniel Benitez"
          ],
          [
           "Istanbul",
           "Kristin Wilson"
          ],
          [
           "Amsterdam",
           "Lawrence Turner"
          ],
          [
           "Barcelona",
           "Jordan Brandt"
          ],
          [
           "Istanbul",
           "Edward Solis"
          ],
          [
           "Singapore",
           "Richard Nichols"
          ],
          [
           "Dublin",
           "Ashley Martinez"
          ],
          [
           "Rome",
           "William Gonzalez"
          ],
          [
           "London",
           "Richard Lewis"
          ],
          [
           "Dubai",
           "Douglas Moore"
          ],
          [
           "Lisbon",
           "Derek Cook"
          ],
          [
           "Barcelona",
           "Joseph Daniels"
          ],
          [
           "London",
           "Craig Powell"
          ],
          [
           "London",
           "Natasha Hayes"
          ],
          [
           "Jakarta",
           "Zachary Weaver"
          ],
          [
           "Istanbul",
           "Alicia Pittman"
          ],
          [
           "Berlin",
           "Christopher Kelly"
          ],
          [
           "Lisbon",
           "Brittany Williams"
          ],
          [
           "Paris",
           "David Douglas"
          ],
          [
           "New York",
           "Alejandro Thompson"
          ],
          [
           "Miami",
           "Laura Smith"
          ],
          [
           "Los Angeles",
           "Gordon Davis"
          ],
          [
           "New York",
           "Kim Garcia"
          ],
          [
           "Miami",
           "Allison Harris"
          ],
          [
           "Berlin",
           "Karen Wilson"
          ],
          [
           "Dublin",
           "Elizabeth Davenport"
          ],
          [
           "Dublin",
           "Kristin Marsh DDS"
          ],
          [
           "Barcelona",
           "Heather Ward"
          ],
          [
           "Dubai",
           "Joseph Bryant"
          ],
          [
           "Bangkok",
           "Amber Johns"
          ],
          [
           "Paris",
           "Joshua Hudson"
          ],
          [
           "Berlin",
           "Luke Zhang"
          ],
          [
           "Toronto",
           "Nathan Dixon"
          ],
          [
           "Singapore",
           "Alec Christensen"
          ],
          [
           "Bangkok",
           "Madeline Hood"
          ],
          [
           "Oslo",
           "Tracie Moore"
          ],
          [
           "Paris",
           "Dalton Coleman"
          ],
          [
           "Barcelona",
           "Bradley Ross"
          ],
          [
           "Seoul",
           "Tyler Jones"
          ],
          [
           "Toronto",
           "Caroline Flores"
          ],
          [
           "Prague",
           "Vickie Roberts"
          ],
          [
           "Buenos Aires",
           "Tyler Morrison"
          ],
          [
           "Paris",
           "Alicia Ferguson"
          ],
          [
           "Prague",
           "Angela Reed"
          ],
          [
           "Amsterdam",
           "Heather King"
          ],
          [
           "Hanoi",
           "Gary Ortiz"
          ],
          [
           "Prague",
           "Ryan Day"
          ],
          [
           "Dublin",
           "Anthony Barber"
          ],
          [
           "New York",
           "Charles Jones"
          ],
          [
           "Dublin",
           "Keith Kerr"
          ],
          [
           "Bangkok",
           "Wayne Jordan"
          ],
          [
           "Rome",
           "Robert Gonzalez"
          ],
          [
           "Dubai",
           "Olivia Reyes"
          ],
          [
           "Miami",
           "William Wilson"
          ],
          [
           "Tokyo",
           "Michelle Miller"
          ],
          [
           "Cairo",
           "Richard Coffey"
          ],
          [
           "Dublin",
           "Derek Anderson"
          ],
          [
           "Dublin",
           "Ashley Thomas"
          ],
          [
           "Toronto",
           "Rose Lopez"
          ],
          [
           "Paris",
           "Kim Munoz"
          ],
          [
           "Bangkok",
           "Kendra Nguyen"
          ],
          [
           "Istanbul",
           "Jason Smith"
          ],
          [
           "Oslo",
           "Helen Harmon"
          ],
          [
           "London",
           "Heather Lang"
          ],
          [
           "Amsterdam",
           "Ann Henry MD"
          ],
          [
           "Los Angeles",
           "Sergio Meyer"
          ],
          [
           "Moscow",
           "Anthony Leonard"
          ],
          [
           "Barcelona",
           "Alex Blackburn"
          ],
          [
           "Barcelona",
           "Lisa Johnson"
          ],
          [
           "Hanoi",
           "Tammie Cowan"
          ],
          [
           "Zurich",
           "Matthew Edwards"
          ],
          [
           "Miami",
           "Natasha Robinson"
          ],
          [
           "Bangkok",
           "Daniel Miller"
          ],
          [
           "Amsterdam",
           "Mary Chapman"
          ],
          [
           "London",
           "Richard Mendoza"
          ],
          [
           "Amsterdam",
           "Anna Leonard"
          ],
          [
           "Prague",
           "Kenneth Edwards"
          ],
          [
           "Tokyo",
           "Jeffrey Adams"
          ],
          [
           "Berlin",
           "Debra Brown"
          ],
          [
           "Dubai",
           "Brandon Collins"
          ],
          [
           "Berlin",
           "Mary Solomon"
          ],
          [
           "London",
           "Zoe Marquez"
          ],
          [
           "Paris",
           "Diane Crawford"
          ],
          [
           "New York",
           "Roberta Harris"
          ],
          [
           "Amsterdam",
           "Ross Morris"
          ],
          [
           "Lisbon",
           "Martin Hughes"
          ],
          [
           "Seoul",
           "Brandon Powers"
          ],
          [
           "Bangkok",
           "Hailey Thomas"
          ],
          [
           "New York",
           "Michelle Barnes"
          ],
          [
           "Dubai",
           "Mark Payne"
          ],
          [
           "Prague",
           "Monica Robinson"
          ],
          [
           "Dubai",
           "Julia Peters"
          ],
          [
           "Istanbul",
           "Nicole Adams"
          ],
          [
           "Dubai",
           "Michele Curry"
          ],
          [
           "Dublin",
           "Jessica Sanchez"
          ],
          [
           "Prague",
           "Andrew Miller"
          ],
          [
           "Sydney",
           "Matthew Hansen"
          ],
          [
           "Lima",
           "Sarah Mitchell"
          ],
          [
           "Tokyo",
           "Joanna Morales"
          ],
          [
           "Dublin",
           "Mark Meyer"
          ],
          [
           "Singapore",
           "Jimmy Anderson"
          ],
          [
           "Paris",
           "Jodi Patton"
          ],
          [
           "Miami",
           "Mackenzie George MD"
          ],
          [
           "Miami",
           "Jeffrey Hall"
          ],
          [
           "Lisbon",
           "Eddie Chung"
          ],
          [
           "Miami",
           "Bill Huerta"
          ],
          [
           "Istanbul",
           "Shawna Thompson"
          ],
          [
           "Sydney",
           "Mark Morales III"
          ],
          [
           "New York",
           "Robert Mack"
          ],
          [
           "Bangkok",
           "Paul Shaw"
          ],
          [
           "New York",
           "Robert Mccarthy"
          ],
          [
           "Los Angeles",
           "Jacqueline Carpenter"
          ],
          [
           "Istanbul",
           "Charles Reid"
          ],
          [
           "Paris",
           "John Miranda"
          ],
          [
           "Tokyo",
           "Carolyn Hensley"
          ],
          [
           "New York",
           "Timothy Colon"
          ],
          [
           "Athens",
           "Ricardo Carpenter"
          ],
          [
           "Rome",
           "Denise Mcdonald"
          ],
          [
           "Amsterdam",
           "Laura Alexander"
          ],
          [
           "Toronto",
           "David Curtis"
          ],
          [
           "London",
           "Jason Chavez"
          ],
          [
           "Bangkok",
           "Richard Patel"
          ],
          [
           "Seoul",
           "Karen Pittman"
          ],
          [
           "Seoul",
           "Brooke Meyer"
          ],
          [
           "Cairo",
           "Erica Brown"
          ],
          [
           "New York",
           "Todd Wood"
          ],
          [
           "Dublin",
           "Lisa Moore"
          ],
          [
           "Hanoi",
           "Sharon Carlson"
          ],
          [
           "Moscow",
           "Patrick King PhD"
          ],
          [
           "Barcelona",
           "James Valenzuela"
          ],
          [
           "New York",
           "Todd Martin"
          ],
          [
           "Miami",
           "Mckenzie Hayes"
          ],
          [
           "Toronto",
           "Mark Peterson"
          ],
          [
           "Tokyo",
           "Jeffrey Rosales"
          ],
          [
           "Sydney",
           "Michael Landry"
          ],
          [
           "Lisbon",
           "Kevin Griffin"
          ],
          [
           "Seoul",
           "Lori Jenkins"
          ],
          [
           "Athens",
           "Bobby Gardner"
          ],
          [
           "Sydney",
           "Larry Baker"
          ],
          [
           "Los Angeles",
           "Candace Johnson"
          ],
          [
           "Dubai",
           "Jeff Watkins"
          ],
          [
           "Dublin",
           "Leslie Phillips"
          ],
          [
           "Barcelona",
           "Wanda Lambert"
          ],
          [
           "Athens",
           "Melissa Moody"
          ],
          [
           "Amsterdam",
           "Mary Adams"
          ],
          [
           "Rome",
           "George Obrien"
          ],
          [
           "Amsterdam",
           "Tony Morgan"
          ],
          [
           "Singapore",
           "George Patterson"
          ],
          [
           "Bangkok",
           "Laura Collins"
          ],
          [
           "Bangkok",
           "Kelsey Bates"
          ],
          [
           "Paris",
           "Joseph Sanchez"
          ],
          [
           "Rome",
           "Erin Wilson"
          ],
          [
           "Berlin",
           "Kimberly Mueller"
          ],
          [
           "Cape Town",
           "Jennifer Snyder"
          ],
          [
           "Rome",
           "Jacob Webb"
          ],
          [
           "London",
           "Patrick Mcbride"
          ],
          [
           "Bangkok",
           "John Gomez"
          ],
          [
           "Seoul",
           "Anthony Gonzales"
          ],
          [
           "Cape Town",
           "Diana Rowland"
          ],
          [
           "Rome",
           "Mrs. Marissa Sullivan DVM"
          ],
          [
           "New York",
           "Judy Vargas"
          ],
          [
           "Paris",
           "Lauren Richards"
          ],
          [
           "Hanoi",
           "Travis Villa"
          ],
          [
           "Los Angeles",
           "Alexis Hernandez"
          ],
          [
           "Seoul",
           "Michele Garcia"
          ],
          [
           "Athens",
           "Marissa Swanson"
          ],
          [
           "Dubai",
           "Christopher Davis"
          ],
          [
           "Tokyo",
           "Joseph Holland"
          ],
          [
           "Singapore",
           "Christopher Mitchell"
          ],
          [
           "Dubai",
           "Jonathan Goodman"
          ],
          [
           "Cairo",
           "Tiffany Parker"
          ],
          [
           "Paris",
           "Brian Peterson"
          ],
          [
           "Prague",
           "Ronald Pena"
          ],
          [
           "Singapore",
           "Angela Rodriguez"
          ],
          [
           "Bangkok",
           "Ms. Melinda Walker"
          ],
          [
           "London",
           "Raymond Ross"
          ],
          [
           "Singapore",
           "Daniel Elliott"
          ],
          [
           "London",
           "Erik Scott"
          ],
          [
           "Barcelona",
           "Alexander Figueroa"
          ],
          [
           "Cairo",
           "Brian Rodriguez"
          ],
          [
           "London",
           "Anita Odom"
          ],
          [
           "Seoul",
           "Jennifer Morrow"
          ],
          [
           "Berlin",
           "Cody Hernandez"
          ],
          [
           "New York",
           "Mrs. Elizabeth Romero"
          ],
          [
           "New York",
           "Michael Allen"
          ],
          [
           "London",
           "Samantha White"
          ],
          [
           "Cape Town",
           "Nathan Johnson"
          ],
          [
           "Berlin",
           "Karen Reynolds"
          ],
          [
           "Amsterdam",
           "Patrick Kennedy"
          ],
          [
           "Lisbon",
           "Ernest Day"
          ],
          [
           "London",
           "Briana Martinez"
          ],
          [
           "Cairo",
           "Katherine Orr"
          ],
          [
           "Athens",
           "Crystal Kim"
          ],
          [
           "Athens",
           "Dakota Davis"
          ],
          [
           "Amsterdam",
           "Erica Nunez"
          ],
          [
           "Buenos Aires",
           "Max Woodward"
          ],
          [
           "Bangkok",
           "Lori Stafford"
          ],
          [
           "Lisbon",
           "Susan King"
          ],
          [
           "Seoul",
           "Wesley Hawkins"
          ],
          [
           "Lisbon",
           "Abigail Frank"
          ],
          [
           "Rome",
           "Janet Elliott"
          ],
          [
           "Bangkok",
           "Angela Short"
          ],
          [
           "Berlin",
           "Jennifer Martin"
          ],
          [
           "Prague",
           "Adam Farrell"
          ],
          [
           "Berlin",
           "Donna Phillips"
          ],
          [
           "Sydney",
           "Alexander Campbell"
          ],
          [
           "Amsterdam",
           "Steven Trujillo"
          ],
          [
           "Singapore",
           "Meghan Gibbs"
          ],
          [
           "Lisbon",
           "Mariah Mills MD"
          ],
          [
           "Toronto",
           "Parker Parker"
          ],
          [
           "Dubai",
           "John Valenzuela"
          ],
          [
           "Dublin",
           "Christine Juarez"
          ],
          [
           "Berlin",
           "Kevin Edwards"
          ],
          [
           "Prague",
           "Jared French"
          ],
          [
           "Barcelona",
           "Jason Maldonado"
          ],
          [
           "Istanbul",
           "Stephanie Harris"
          ],
          [
           "London",
           "Tina Harrison"
          ],
          [
           "Oslo",
           "Pamela Clark"
          ],
          [
           "Barcelona",
           "Regina Miller"
          ],
          [
           "Cairo",
           "Patrick Smith"
          ],
          [
           "Los Angeles",
           "Gregory Webb"
          ],
          [
           "Istanbul",
           "David Smith"
          ],
          [
           "Toronto",
           "Elizabeth Dean"
          ],
          [
           "Lisbon",
           "Jose Hernandez"
          ],
          [
           "Rome",
           "Amanda Thomas"
          ],
          [
           "Bangkok",
           "James Myers"
          ],
          [
           "Los Angeles",
           "Christina Smith"
          ],
          [
           "Lisbon",
           "Gregory Campbell"
          ],
          [
           "Berlin",
           "Kelly Jacobs"
          ],
          [
           "Sydney",
           "Amanda Thornton"
          ],
          [
           "Los Angeles",
           "Erika Keith"
          ],
          [
           "Cairo",
           "Stephanie Sherman"
          ],
          [
           "London",
           "Carolyn Lawrence"
          ],
          [
           "Prague",
           "Christopher Miller"
          ],
          [
           "Istanbul",
           "Taylor Moody"
          ],
          [
           "Athens",
           "Jerry Mcdonald"
          ],
          [
           "Bangkok",
           "Kathryn Sanchez"
          ],
          [
           "London",
           "Kaylee Black"
          ],
          [
           "Rome",
           "Donna Obrien"
          ],
          [
           "Dubai",
           "Tyler Ward"
          ],
          [
           "Prague",
           "Paul Mcdonald"
          ],
          [
           "Los Angeles",
           "Steven Walker"
          ],
          [
           "Bangkok",
           "James Weber"
          ],
          [
           "Seoul",
           "Robert Kim"
          ],
          [
           "Seoul",
           "Trevor Wells"
          ],
          [
           "Lisbon",
           "Melissa Wood"
          ],
          [
           "Singapore",
           "Stephanie Dickson"
          ],
          [
           "Oslo",
           "Patricia Morris"
          ],
          [
           "New York",
           "Judy Ramirez"
          ],
          [
           "Los Angeles",
           "Joshua Walker"
          ],
          [
           "Berlin",
           "Jose Day"
          ],
          [
           "Rome",
           "Michael Johnson"
          ],
          [
           "Seoul",
           "Steven Moore"
          ],
          [
           "Amsterdam",
           "Jennifer Simmons"
          ],
          [
           "Los Angeles",
           "Nicole Hunt"
          ],
          [
           "Dubai",
           "Patrick Allen"
          ],
          [
           "Singapore",
           "Erica Carter"
          ],
          [
           "Barcelona",
           "Christine Daniels"
          ],
          [
           "London",
           "Ryan Hicks"
          ],
          [
           "Lisbon",
           "Debbie Tucker"
          ],
          [
           "Toronto",
           "Vickie Waters"
          ],
          [
           "Dubai",
           "Ryan Castillo"
          ],
          [
           "London",
           "Meredith Gomez"
          ],
          [
           "Dubai",
           "Melvin Moore"
          ],
          [
           "Toronto",
           "Megan Powell"
          ],
          [
           "Dubai",
           "John Wright"
          ],
          [
           "Toronto",
           "Peggy Castillo"
          ],
          [
           "London",
           "Richard King"
          ],
          [
           "Berlin",
           "Manuel Porter"
          ],
          [
           "Barcelona",
           "Ashley Hancock"
          ],
          [
           "Miami",
           "Beth Savage"
          ],
          [
           "Barcelona",
           "Mary Ferguson"
          ],
          [
           "Los Angeles",
           "Dakota Mccarthy"
          ],
          [
           "Berlin",
           "Timothy Wade"
          ],
          [
           "Tokyo",
           "Jordan Wang"
          ],
          [
           "Toronto",
           "Michael Mack"
          ],
          [
           "Bangkok",
           "Jill Gross"
          ],
          [
           "Prague",
           "James Fuller"
          ],
          [
           "New York",
           "Christina Ruiz"
          ],
          [
           "Cairo",
           "Craig Delgado"
          ],
          [
           "Los Angeles",
           "Kimberly Barnes"
          ],
          [
           "Dubai",
           "Dr. Rachel Curry MD"
          ],
          [
           "Rome",
           "William Harris"
          ],
          [
           "Rome",
           "Julia Murray"
          ],
          [
           "Sydney",
           "Michael Colon"
          ],
          [
           "Seoul",
           "Barbara Davis"
          ],
          [
           "Rome",
           "Yvonne Wood"
          ],
          [
           "Paris",
           "Maria Bowman"
          ],
          [
           "New York",
           "Jonathan Anderson"
          ],
          [
           "Buenos Aires",
           "Marcus Clark"
          ],
          [
           "Bangkok",
           "Michele Lee"
          ],
          [
           "Miami",
           "Lauren Johnson"
          ],
          [
           "Berlin",
           "Kimberly Edwards"
          ],
          [
           "Istanbul",
           "Sandra Dodson"
          ],
          [
           "Hanoi",
           "Jared Hall"
          ],
          [
           "Lisbon",
           "Michael Davis"
          ],
          [
           "New York",
           "Kenneth Burgess"
          ],
          [
           "Lisbon",
           "Erin Jordan"
          ],
          [
           "Miami",
           "Rebecca Torres"
          ],
          [
           "Sydney",
           "Mary Howe"
          ],
          [
           "Bangkok",
           "Gregory Walls"
          ],
          [
           "Miami",
           "Ashley Short"
          ],
          [
           "Cape Town",
           "Matthew Little"
          ],
          [
           "Los Angeles",
           "Jesse Tran"
          ],
          [
           "Barcelona",
           "Kathryn Pena"
          ],
          [
           "Rome",
           "Lisa Weber"
          ],
          [
           "Hanoi",
           "Margaret Wagner"
          ],
          [
           "Dubai",
           "Eric Bennett"
          ],
          [
           "Sydney",
           "Eric Fuentes"
          ],
          [
           "Istanbul",
           "Benjamin Harmon"
          ],
          [
           "Barcelona",
           "Nathan Smith"
          ],
          [
           "Lisbon",
           "Amy Elliott"
          ],
          [
           "Sydney",
           "Mr. Cameron Mcclain"
          ],
          [
           "Seoul",
           "Madeline Rodriguez"
          ],
          [
           "Miami",
           "Jay Hale"
          ],
          [
           "Lisbon",
           "David Harrell"
          ],
          [
           "Seoul",
           "Deborah Tyler"
          ],
          [
           "Dublin",
           "Elizabeth Francis"
          ],
          [
           "Lima",
           "Rhonda Bush"
          ],
          [
           "Amsterdam",
           "Robert Mccarty"
          ],
          [
           "Prague",
           "Tasha Obrien"
          ],
          [
           "Sydney",
           "Anne Jackson"
          ],
          [
           "Toronto",
           "Whitney Bean"
          ],
          [
           "Paris",
           "Troy Walker"
          ],
          [
           "Berlin",
           "Leonard Ingram"
          ],
          [
           "Singapore",
           "Jacob Hardin"
          ],
          [
           "Amsterdam",
           "Stephen Duncan"
          ],
          [
           "Dubai",
           "Catherine Cantrell"
          ],
          [
           "Zurich",
           "Pamela Bennett"
          ],
          [
           "Miami",
           "Gabrielle Solis"
          ],
          [
           "Tokyo",
           "Fernando Holt"
          ],
          [
           "New York",
           "Eddie Holland"
          ],
          [
           "Moscow",
           "Joshua Marshall"
          ],
          [
           "Amsterdam",
           "Bradley Hardin"
          ],
          [
           "Barcelona",
           "Stephen Phillips"
          ],
          [
           "Dubai",
           "Tiffany Smith"
          ],
          [
           "London",
           "Bryan Fleming"
          ]
         ],
         "hovertemplate": "Traveler gender=Male<br>Duration (days)=%{x}<br>Accommodation cost=%{y}<br>Transportation cost=%{marker.size}<br>Destination=%{customdata[0]}<br>Traveler name=%{customdata[1]}<extra></extra>",
         "legendgroup": "Male",
         "marker": {
          "color": "#EF553B",
          "opacity": 0.6,
          "size": [
           835.68,
           192.91,
           149.39,
           945.23,
           489.74,
           104.64,
           634.6,
           156.7,
           1133.23,
           689.97,
           124.1,
           974.27,
           799.13,
           1206.86,
           558.69,
           215.27,
           210.18,
           154.53,
           793.93,
           516.78,
           109.56,
           758.12,
           100.66,
           348.13,
           993.44,
           1289.65,
           416.77,
           824.66,
           1161.92,
           240.08,
           191.11,
           559.46,
           119.68,
           317.51,
           479.51,
           951.31,
           26.78,
           1452.79,
           797.73,
           1420.95,
           1230.31,
           247.45,
           879.16,
           1409.16,
           1051.13,
           1036.71,
           1144.16,
           726.92,
           912.7,
           380.32,
           374.59,
           1213.57,
           90.87,
           253.9,
           510.58,
           597.88,
           923.72,
           244.79,
           554.52,
           257.36,
           420.98,
           347.61,
           462.62,
           1397.8,
           431.69,
           519.34,
           1106.21,
           232.43,
           1051.45,
           833.92,
           80.01,
           673.25,
           147.96,
           1222.09,
           1276.27,
           698.5,
           1163.11,
           451.95,
           752.36,
           577.79,
           155.43,
           873.83,
           662.49,
           976.3,
           1498.68,
           787.23,
           1186.27,
           219.18,
           192.5,
           891.92,
           981.37,
           1215.34,
           880.57,
           800.43,
           339.44,
           550.56,
           75.08,
           943.28,
           414.62,
           175.63,
           211.84,
           164.75,
           1392.93,
           791.69,
           1331.58,
           1332.28,
           576.78,
           396.58,
           705.86,
           136.2,
           631.24,
           348.56,
           313.17,
           1140.19,
           631.72,
           1159.35,
           1008.45,
           1045.06,
           851.68,
           1316.48,
           792.23,
           546.25,
           362.14,
           1456.45,
           1063.69,
           412.96,
           837.25,
           886.3,
           1164.68,
           1178.27,
           449.93,
           326.67,
           1028.93,
           1132.64,
           367.01,
           1287.28,
           633.88,
           724.32,
           1451.92,
           904.23,
           1018.19,
           176,
           221.87,
           54.33,
           997.09,
           428.81,
           333.5,
           520.38,
           648.66,
           1075.43,
           876.57,
           630.64,
           1070.58,
           1299.98,
           1170.4,
           586.44,
           521.29,
           1238.9,
           354.09,
           520.19,
           103,
           1174.27,
           486.85,
           326.22,
           449.17,
           1260,
           1376.68,
           782.5,
           126.99,
           542.31,
           668.72,
           602.7,
           1231.07,
           345.6,
           190.99,
           827.19,
           897.6,
           525.9,
           40.24,
           726.65,
           130.27,
           534.14,
           1353.69,
           1213.98,
           1433.77,
           982.7,
           909.68,
           874.19,
           344.15,
           689.94,
           739.61,
           125.87,
           1378.16,
           1289.23,
           1250.66,
           1139.71,
           769.83,
           1498.75,
           1056.97,
           1250.79,
           1307.31,
           964.78,
           1006.27,
           337.5,
           1327.59,
           1104.36,
           1498.78,
           1237.2,
           676.95,
           502.66,
           279.37,
           741.67,
           570.35,
           430.65,
           294.15,
           801.47,
           1181.05,
           1342.1,
           1044.89,
           839.84,
           263.27,
           200.44,
           1168.72,
           602.68,
           1067.3,
           264.08,
           588.26,
           175,
           930.72,
           934.53,
           1267.53,
           581.72,
           572.72,
           1239.97,
           229.96,
           787.06,
           1235.65,
           1244.28,
           1462.16,
           103.21,
           1420.11,
           1174.39,
           1044.59,
           482.73,
           1295.91,
           506.23,
           920.75,
           663.55,
           681.28,
           1327.34,
           888.34,
           474.56,
           1296.38,
           291.21,
           824.3,
           371.27,
           1158.97,
           1327.7,
           660.46,
           1224.63,
           1095.5,
           1008.3,
           1216.26,
           109.67,
           376.64,
           1125.02,
           369.15,
           1050.26,
           125.32,
           1096.22,
           1080.03,
           32.06,
           175.34,
           447.89,
           392.79,
           220.33,
           1299.06,
           575,
           776.79,
           1109.48,
           257.42,
           1288.49,
           633.66,
           897.18,
           296.57,
           481.17,
           777.49,
           512.08,
           533.24,
           354.56,
           679.36,
           913.03,
           155.32,
           173.22,
           470.79,
           403.5,
           647.34,
           989.81,
           173.02,
           550.41,
           1021.89,
           430.92,
           383.18,
           1490.22,
           737.33,
           1155.04,
           1393.74,
           264.2,
           1399.23,
           765.46,
           1282.51,
           85.93,
           196.45,
           376.92,
           493.48,
           644.69,
           424.33,
           1421.31,
           219.44,
           1284.23,
           502.06,
           1189.86,
           422.51,
           701.79,
           1184.85,
           1020.66,
           866.69,
           221.74,
           1404.84,
           1178.73,
           653.44,
           1441.05,
           1237.18,
           701.11,
           367.63,
           981.75,
           235.74,
           38.86,
           62.81,
           791.39,
           1176.34,
           1211.41,
           1460.33,
           987.03,
           536.95,
           1478.66,
           1305.61,
           1411.1,
           567.9,
           1302.4,
           976.12,
           934.62,
           595.69,
           1322.11,
           571.66,
           47.81
          ],
          "sizemode": "area",
          "sizeref": 6.666311111111112,
          "symbol": "circle"
         },
         "mode": "markers",
         "name": "Male",
         "orientation": "v",
         "showlegend": true,
         "type": "scatter",
         "x": [
          18,
          23,
          20,
          28,
          13,
          22,
          26,
          9,
          14,
          7,
          8,
          10,
          17,
          8,
          19,
          22,
          27,
          19,
          14,
          14,
          9,
          16,
          13,
          18,
          5,
          15,
          24,
          22,
          18,
          7,
          1,
          18,
          7,
          11,
          17,
          7,
          24,
          8,
          17,
          24,
          18,
          24,
          20,
          8,
          21,
          20,
          22,
          7,
          19,
          25,
          16,
          2,
          30,
          25,
          16,
          24,
          25,
          26,
          22,
          26,
          7,
          19,
          14,
          21,
          26,
          16,
          27,
          18,
          19,
          13,
          21,
          2,
          2,
          14,
          16,
          16,
          15,
          17,
          6,
          11,
          14,
          26,
          27,
          12,
          17,
          17,
          21,
          12,
          21,
          14,
          28,
          25,
          15,
          14,
          20,
          6,
          26,
          23,
          5,
          13,
          12,
          13,
          18,
          22,
          11,
          24,
          16,
          23,
          25,
          17,
          8,
          10,
          22,
          9,
          5,
          25,
          14,
          14,
          2,
          19,
          16,
          22,
          24,
          11,
          26,
          1,
          11,
          28,
          24,
          24,
          26,
          24,
          22,
          26,
          10,
          25,
          19,
          22,
          14,
          5,
          17,
          25,
          22,
          16,
          14,
          1,
          24,
          3,
          21,
          25,
          11,
          5,
          19,
          9,
          18,
          1,
          24,
          21,
          1,
          14,
          20,
          28,
          28,
          17,
          24,
          23,
          17,
          13,
          2,
          23,
          20,
          15,
          6,
          5,
          23,
          9,
          25,
          14,
          15,
          17,
          11,
          21,
          10,
          14,
          19,
          21,
          13,
          15,
          25,
          15,
          17,
          19,
          25,
          25,
          7,
          15,
          4,
          13,
          14,
          22,
          29,
          11,
          10,
          16,
          16,
          23,
          20,
          14,
          27,
          13,
          24,
          23,
          19,
          6,
          29,
          30,
          26,
          23,
          29,
          29,
          21,
          15,
          24,
          25,
          8,
          6,
          10,
          29,
          25,
          23,
          19,
          26,
          21,
          23,
          25,
          11,
          23,
          1,
          10,
          17,
          9,
          6,
          20,
          27,
          13,
          15,
          18,
          13,
          29,
          23,
          11,
          17,
          1,
          29,
          9,
          23,
          30,
          23,
          14,
          15,
          16,
          14,
          21,
          7,
          23,
          9,
          23,
          27,
          16,
          23,
          16,
          6,
          15,
          9,
          22,
          7,
          18,
          20,
          17,
          6,
          27,
          29,
          20,
          24,
          24,
          26,
          5,
          24,
          25,
          21,
          17,
          16,
          14,
          26,
          15,
          18,
          6,
          2,
          24,
          19,
          25,
          19,
          20,
          10,
          13,
          24,
          22,
          22,
          6,
          28,
          14,
          23,
          15,
          2,
          28,
          13,
          19,
          19,
          21,
          14,
          17,
          19,
          19,
          20,
          6,
          1,
          4,
          25,
          23,
          18,
          20,
          19,
          14,
          10,
          22,
          14,
          17,
          23,
          5,
          17,
          4,
          19,
          1,
          6,
          8,
          7,
          23,
          20,
          26,
          28,
          12,
          8,
          19,
          12,
          15,
          15
         ],
         "xaxis": "x",
         "y": [
          66.82,
          675.11,
          201.66,
          572.43,
          624.16,
          943.83,
          921.36,
          838.11,
          953.79,
          424.11,
          283.58,
          765.68,
          741.27,
          823.93,
          784.85,
          753.04,
          807.37,
          694.03,
          236.71,
          264.49,
          510.38,
          436.08,
          244.88,
          123.04,
          303.3,
          495.1,
          773.98,
          463.2,
          951.29,
          534.96,
          256.41,
          443.71,
          355.66,
          364.18,
          935.71,
          979.91,
          385.45,
          861.8,
          719.55,
          794.4,
          838.8,
          668.24,
          594.48,
          996.52,
          590.31,
          907.65,
          621.41,
          718.6,
          727.05,
          219.36,
          903.39,
          585.16,
          989.4,
          177.19,
          292.94,
          907.65,
          385.37,
          660.03,
          156.46,
          785.3,
          626.65,
          463.63,
          853.27,
          737.28,
          624.59,
          901.95,
          963.13,
          496.91,
          806.73,
          888.88,
          210.07,
          641.36,
          701.01,
          307.68,
          442.87,
          382.84,
          135.23,
          909.22,
          485.12,
          918.26,
          276.16,
          160.71,
          692.32,
          614.3,
          702.93,
          527.63,
          610.07,
          441.44,
          360.21,
          497.85,
          188.78,
          916.01,
          636.36,
          906.93,
          679.61,
          105.29,
          800.91,
          947.92,
          289.33,
          129.58,
          219.27,
          582.58,
          158.9,
          800.98,
          769.74,
          582.75,
          106.79,
          514.2,
          325.81,
          417.33,
          55.1,
          439.79,
          823.03,
          982.97,
          237.85,
          260.37,
          769.17,
          711.1,
          190.48,
          691.36,
          425.17,
          607.77,
          876.34,
          366.03,
          441.15,
          994.74,
          253.22,
          508.3,
          264.91,
          200.37,
          794.3,
          809.05,
          542.11,
          565.86,
          540.49,
          635.72,
          182.3,
          242.84,
          749.89,
          648.46,
          538.17,
          331.26,
          348.29,
          824.54,
          223.43,
          825.09,
          815.42,
          559.53,
          656.44,
          777.48,
          791.21,
          913.92,
          514.32,
          288.91,
          552.92,
          656.39,
          149.58,
          575.38,
          197.82,
          353.06,
          763.35,
          902.62,
          963.53,
          527.16,
          390.98,
          342.39,
          810.35,
          951.06,
          686.11,
          742.03,
          628.53,
          753.25,
          67.32,
          605.68,
          202.71,
          505.28,
          783.59,
          245.46,
          352.34,
          563.34,
          587.19,
          725.43,
          391.26,
          947.9,
          80.86,
          561.29,
          264.51,
          651.84,
          70.02,
          815.26,
          620.32,
          740.38,
          699.41,
          611.24,
          363.63,
          227.91,
          852.78,
          999.34,
          158.01,
          508.64,
          174.1,
          953.6,
          741.4,
          405.24,
          260.79,
          435.82,
          499.74,
          126.76,
          641.92,
          697.43,
          808.38,
          975.33,
          447.85,
          913.82,
          751.63,
          649.87,
          81.88,
          784.26,
          794.44,
          76.56,
          265.73,
          342.2,
          138.18,
          853.53,
          56.7,
          807.66,
          926.41,
          937.65,
          960.55,
          715.67,
          578.17,
          811.48,
          702.48,
          214.26,
          836.38,
          440.78,
          519.22,
          827.5,
          619.01,
          542.55,
          705.39,
          104.75,
          783.93,
          414.16,
          206.22,
          848.79,
          418.95,
          582.04,
          348.75,
          630.45,
          668.25,
          712.86,
          680.53,
          396.83,
          207.76,
          393.53,
          309.01,
          230.23,
          164.05,
          842.14,
          146.75,
          82.43,
          897.52,
          847.95,
          674.86,
          782.74,
          813.91,
          713.57,
          69.58,
          819.74,
          424.34,
          908.14,
          100.73,
          952.29,
          806.02,
          604.17,
          680.92,
          786.04,
          200.35,
          339.89,
          187.42,
          808.31,
          512.17,
          587.13,
          116.13,
          502.94,
          754.4,
          243.6,
          434.76,
          446.87,
          212.55,
          248.63,
          380.93,
          207.86,
          592.91,
          947.51,
          524.04,
          901.4,
          504.1,
          221.68,
          448.48,
          822.24,
          928.58,
          968.56,
          926.25,
          870.71,
          513.64,
          93.97,
          610.07,
          815.34,
          467.77,
          672.01,
          51.56,
          250.31,
          803.99,
          76.77,
          511.16,
          770.86,
          994.48,
          856.73,
          507.17,
          626.39,
          954.15,
          75.66,
          636.63,
          398.81,
          910.75,
          942.53,
          734.7,
          987,
          431.7,
          591.87,
          219.08,
          950.67,
          191.02,
          293.22,
          564.55,
          713.79,
          982.87,
          949.92,
          328.38,
          234.15,
          397.46,
          636.1,
          937.04,
          657.46,
          306.49,
          989.62,
          653.53,
          161.76,
          670.97,
          639.01,
          430.75,
          185.37,
          606.01,
          237.32
         ],
         "yaxis": "y"
        }
       ],
       "layout": {
        "legend": {
         "itemsizing": "constant",
         "title": {
          "text": "Traveler gender"
         },
         "tracegroupgap": 0
        },
        "margin": {
         "t": 60
        },
        "template": {
         "data": {
          "bar": [
           {
            "error_x": {
             "color": "#2a3f5f"
            },
            "error_y": {
             "color": "#2a3f5f"
            },
            "marker": {
             "line": {
              "color": "#E5ECF6",
              "width": 0.5
             },
             "pattern": {
              "fillmode": "overlay",
              "size": 10,
              "solidity": 0.2
             }
            },
            "type": "bar"
           }
          ],
          "barpolar": [
           {
            "marker": {
             "line": {
              "color": "#E5ECF6",
              "width": 0.5
             },
             "pattern": {
              "fillmode": "overlay",
              "size": 10,
              "solidity": 0.2
             }
            },
            "type": "barpolar"
           }
          ],
          "carpet": [
           {
            "aaxis": {
             "endlinecolor": "#2a3f5f",
             "gridcolor": "white",
             "linecolor": "white",
             "minorgridcolor": "white",
             "startlinecolor": "#2a3f5f"
            },
            "baxis": {
             "endlinecolor": "#2a3f5f",
             "gridcolor": "white",
             "linecolor": "white",
             "minorgridcolor": "white",
             "startlinecolor": "#2a3f5f"
            },
            "type": "carpet"
           }
          ],
          "choropleth": [
           {
            "colorbar": {
             "outlinewidth": 0,
             "ticks": ""
            },
            "type": "choropleth"
           }
          ],
          "contour": [
           {
            "colorbar": {
             "outlinewidth": 0,
             "ticks": ""
            },
            "colorscale": [
             [
              0,
              "#0d0887"
             ],
             [
              0.1111111111111111,
              "#46039f"
             ],
             [
              0.2222222222222222,
              "#7201a8"
             ],
             [
              0.3333333333333333,
              "#9c179e"
             ],
             [
              0.4444444444444444,
              "#bd3786"
             ],
             [
              0.5555555555555556,
              "#d8576b"
             ],
             [
              0.6666666666666666,
              "#ed7953"
             ],
             [
              0.7777777777777778,
              "#fb9f3a"
             ],
             [
              0.8888888888888888,
              "#fdca26"
             ],
             [
              1,
              "#f0f921"
             ]
            ],
            "type": "contour"
           }
          ],
          "contourcarpet": [
           {
            "colorbar": {
             "outlinewidth": 0,
             "ticks": ""
            },
            "type": "contourcarpet"
           }
          ],
          "heatmap": [
           {
            "colorbar": {
             "outlinewidth": 0,
             "ticks": ""
            },
            "colorscale": [
             [
              0,
              "#0d0887"
             ],
             [
              0.1111111111111111,
              "#46039f"
             ],
             [
              0.2222222222222222,
              "#7201a8"
             ],
             [
              0.3333333333333333,
              "#9c179e"
             ],
             [
              0.4444444444444444,
              "#bd3786"
             ],
             [
              0.5555555555555556,
              "#d8576b"
             ],
             [
              0.6666666666666666,
              "#ed7953"
             ],
             [
              0.7777777777777778,
              "#fb9f3a"
             ],
             [
              0.8888888888888888,
              "#fdca26"
             ],
             [
              1,
              "#f0f921"
             ]
            ],
            "type": "heatmap"
           }
          ],
          "heatmapgl": [
           {
            "colorbar": {
             "outlinewidth": 0,
             "ticks": ""
            },
            "colorscale": [
             [
              0,
              "#0d0887"
             ],
             [
              0.1111111111111111,
              "#46039f"
             ],
             [
              0.2222222222222222,
              "#7201a8"
             ],
             [
              0.3333333333333333,
              "#9c179e"
             ],
             [
              0.4444444444444444,
              "#bd3786"
             ],
             [
              0.5555555555555556,
              "#d8576b"
             ],
             [
              0.6666666666666666,
              "#ed7953"
             ],
             [
              0.7777777777777778,
              "#fb9f3a"
             ],
             [
              0.8888888888888888,
              "#fdca26"
             ],
             [
              1,
              "#f0f921"
             ]
            ],
            "type": "heatmapgl"
           }
          ],
          "histogram": [
           {
            "marker": {
             "pattern": {
              "fillmode": "overlay",
              "size": 10,
              "solidity": 0.2
             }
            },
            "type": "histogram"
           }
          ],
          "histogram2d": [
           {
            "colorbar": {
             "outlinewidth": 0,
             "ticks": ""
            },
            "colorscale": [
             [
              0,
              "#0d0887"
             ],
             [
              0.1111111111111111,
              "#46039f"
             ],
             [
              0.2222222222222222,
              "#7201a8"
             ],
             [
              0.3333333333333333,
              "#9c179e"
             ],
             [
              0.4444444444444444,
              "#bd3786"
             ],
             [
              0.5555555555555556,
              "#d8576b"
             ],
             [
              0.6666666666666666,
              "#ed7953"
             ],
             [
              0.7777777777777778,
              "#fb9f3a"
             ],
             [
              0.8888888888888888,
              "#fdca26"
             ],
             [
              1,
              "#f0f921"
             ]
            ],
            "type": "histogram2d"
           }
          ],
          "histogram2dcontour": [
           {
            "colorbar": {
             "outlinewidth": 0,
             "ticks": ""
            },
            "colorscale": [
             [
              0,
              "#0d0887"
             ],
             [
              0.1111111111111111,
              "#46039f"
             ],
             [
              0.2222222222222222,
              "#7201a8"
             ],
             [
              0.3333333333333333,
              "#9c179e"
             ],
             [
              0.4444444444444444,
              "#bd3786"
             ],
             [
              0.5555555555555556,
              "#d8576b"
             ],
             [
              0.6666666666666666,
              "#ed7953"
             ],
             [
              0.7777777777777778,
              "#fb9f3a"
             ],
             [
              0.8888888888888888,
              "#fdca26"
             ],
             [
              1,
              "#f0f921"
             ]
            ],
            "type": "histogram2dcontour"
           }
          ],
          "mesh3d": [
           {
            "colorbar": {
             "outlinewidth": 0,
             "ticks": ""
            },
            "type": "mesh3d"
           }
          ],
          "parcoords": [
           {
            "line": {
             "colorbar": {
              "outlinewidth": 0,
              "ticks": ""
             }
            },
            "type": "parcoords"
           }
          ],
          "pie": [
           {
            "automargin": true,
            "type": "pie"
           }
          ],
          "scatter": [
           {
            "fillpattern": {
             "fillmode": "overlay",
             "size": 10,
             "solidity": 0.2
            },
            "type": "scatter"
           }
          ],
          "scatter3d": [
           {
            "line": {
             "colorbar": {
              "outlinewidth": 0,
              "ticks": ""
             }
            },
            "marker": {
             "colorbar": {
              "outlinewidth": 0,
              "ticks": ""
             }
            },
            "type": "scatter3d"
           }
          ],
          "scattercarpet": [
           {
            "marker": {
             "colorbar": {
              "outlinewidth": 0,
              "ticks": ""
             }
            },
            "type": "scattercarpet"
           }
          ],
          "scattergeo": [
           {
            "marker": {
             "colorbar": {
              "outlinewidth": 0,
              "ticks": ""
             }
            },
            "type": "scattergeo"
           }
          ],
          "scattergl": [
           {
            "marker": {
             "colorbar": {
              "outlinewidth": 0,
              "ticks": ""
             }
            },
            "type": "scattergl"
           }
          ],
          "scattermapbox": [
           {
            "marker": {
             "colorbar": {
              "outlinewidth": 0,
              "ticks": ""
             }
            },
            "type": "scattermapbox"
           }
          ],
          "scatterpolar": [
           {
            "marker": {
             "colorbar": {
              "outlinewidth": 0,
              "ticks": ""
             }
            },
            "type": "scatterpolar"
           }
          ],
          "scatterpolargl": [
           {
            "marker": {
             "colorbar": {
              "outlinewidth": 0,
              "ticks": ""
             }
            },
            "type": "scatterpolargl"
           }
          ],
          "scatterternary": [
           {
            "marker": {
             "colorbar": {
              "outlinewidth": 0,
              "ticks": ""
             }
            },
            "type": "scatterternary"
           }
          ],
          "surface": [
           {
            "colorbar": {
             "outlinewidth": 0,
             "ticks": ""
            },
            "colorscale": [
             [
              0,
              "#0d0887"
             ],
             [
              0.1111111111111111,
              "#46039f"
             ],
             [
              0.2222222222222222,
              "#7201a8"
             ],
             [
              0.3333333333333333,
              "#9c179e"
             ],
             [
              0.4444444444444444,
              "#bd3786"
             ],
             [
              0.5555555555555556,
              "#d8576b"
             ],
             [
              0.6666666666666666,
              "#ed7953"
             ],
             [
              0.7777777777777778,
              "#fb9f3a"
             ],
             [
              0.8888888888888888,
              "#fdca26"
             ],
             [
              1,
              "#f0f921"
             ]
            ],
            "type": "surface"
           }
          ],
          "table": [
           {
            "cells": {
             "fill": {
              "color": "#EBF0F8"
             },
             "line": {
              "color": "white"
             }
            },
            "header": {
             "fill": {
              "color": "#C8D4E3"
             },
             "line": {
              "color": "white"
             }
            },
            "type": "table"
           }
          ]
         },
         "layout": {
          "annotationdefaults": {
           "arrowcolor": "#2a3f5f",
           "arrowhead": 0,
           "arrowwidth": 1
          },
          "autotypenumbers": "strict",
          "coloraxis": {
           "colorbar": {
            "outlinewidth": 0,
            "ticks": ""
           }
          },
          "colorscale": {
           "diverging": [
            [
             0,
             "#8e0152"
            ],
            [
             0.1,
             "#c51b7d"
            ],
            [
             0.2,
             "#de77ae"
            ],
            [
             0.3,
             "#f1b6da"
            ],
            [
             0.4,
             "#fde0ef"
            ],
            [
             0.5,
             "#f7f7f7"
            ],
            [
             0.6,
             "#e6f5d0"
            ],
            [
             0.7,
             "#b8e186"
            ],
            [
             0.8,
             "#7fbc41"
            ],
            [
             0.9,
             "#4d9221"
            ],
            [
             1,
             "#276419"
            ]
           ],
           "sequential": [
            [
             0,
             "#0d0887"
            ],
            [
             0.1111111111111111,
             "#46039f"
            ],
            [
             0.2222222222222222,
             "#7201a8"
            ],
            [
             0.3333333333333333,
             "#9c179e"
            ],
            [
             0.4444444444444444,
             "#bd3786"
            ],
            [
             0.5555555555555556,
             "#d8576b"
            ],
            [
             0.6666666666666666,
             "#ed7953"
            ],
            [
             0.7777777777777778,
             "#fb9f3a"
            ],
            [
             0.8888888888888888,
             "#fdca26"
            ],
            [
             1,
             "#f0f921"
            ]
           ],
           "sequentialminus": [
            [
             0,
             "#0d0887"
            ],
            [
             0.1111111111111111,
             "#46039f"
            ],
            [
             0.2222222222222222,
             "#7201a8"
            ],
            [
             0.3333333333333333,
             "#9c179e"
            ],
            [
             0.4444444444444444,
             "#bd3786"
            ],
            [
             0.5555555555555556,
             "#d8576b"
            ],
            [
             0.6666666666666666,
             "#ed7953"
            ],
            [
             0.7777777777777778,
             "#fb9f3a"
            ],
            [
             0.8888888888888888,
             "#fdca26"
            ],
            [
             1,
             "#f0f921"
            ]
           ]
          },
          "colorway": [
           "#636efa",
           "#EF553B",
           "#00cc96",
           "#ab63fa",
           "#FFA15A",
           "#19d3f3",
           "#FF6692",
           "#B6E880",
           "#FF97FF",
           "#FECB52"
          ],
          "font": {
           "color": "#2a3f5f"
          },
          "geo": {
           "bgcolor": "white",
           "lakecolor": "white",
           "landcolor": "#E5ECF6",
           "showlakes": true,
           "showland": true,
           "subunitcolor": "white"
          },
          "hoverlabel": {
           "align": "left"
          },
          "hovermode": "closest",
          "mapbox": {
           "style": "light"
          },
          "paper_bgcolor": "white",
          "plot_bgcolor": "#E5ECF6",
          "polar": {
           "angularaxis": {
            "gridcolor": "white",
            "linecolor": "white",
            "ticks": ""
           },
           "bgcolor": "#E5ECF6",
           "radialaxis": {
            "gridcolor": "white",
            "linecolor": "white",
            "ticks": ""
           }
          },
          "scene": {
           "xaxis": {
            "backgroundcolor": "#E5ECF6",
            "gridcolor": "white",
            "gridwidth": 2,
            "linecolor": "white",
            "showbackground": true,
            "ticks": "",
            "zerolinecolor": "white"
           },
           "yaxis": {
            "backgroundcolor": "#E5ECF6",
            "gridcolor": "white",
            "gridwidth": 2,
            "linecolor": "white",
            "showbackground": true,
            "ticks": "",
            "zerolinecolor": "white"
           },
           "zaxis": {
            "backgroundcolor": "#E5ECF6",
            "gridcolor": "white",
            "gridwidth": 2,
            "linecolor": "white",
            "showbackground": true,
            "ticks": "",
            "zerolinecolor": "white"
           }
          },
          "shapedefaults": {
           "line": {
            "color": "#2a3f5f"
           }
          },
          "ternary": {
           "aaxis": {
            "gridcolor": "white",
            "linecolor": "white",
            "ticks": ""
           },
           "baxis": {
            "gridcolor": "white",
            "linecolor": "white",
            "ticks": ""
           },
           "bgcolor": "#E5ECF6",
           "caxis": {
            "gridcolor": "white",
            "linecolor": "white",
            "ticks": ""
           }
          },
          "title": {
           "x": 0.05
          },
          "xaxis": {
           "automargin": true,
           "gridcolor": "white",
           "linecolor": "white",
           "ticks": "",
           "title": {
            "standoff": 15
           },
           "zerolinecolor": "white",
           "zerolinewidth": 2
          },
          "yaxis": {
           "automargin": true,
           "gridcolor": "white",
           "linecolor": "white",
           "ticks": "",
           "title": {
            "standoff": 15
           },
           "zerolinecolor": "white",
           "zerolinewidth": 2
          }
         }
        },
        "title": {
         "text": "Durée du voyage, coût de l'hébergement et coût du transport selon le sexe du voyageur"
        },
        "xaxis": {
         "anchor": "y",
         "domain": [
          0,
          1
         ],
         "title": {
          "text": "Duration (days)"
         }
        },
        "yaxis": {
         "anchor": "x",
         "domain": [
          0,
          1
         ],
         "title": {
          "text": "Accommodation cost"
         }
        }
       }
      }
     },
     "metadata": {},
     "output_type": "display_data"
    }
   ],
   "source": [
    "\n",
    "# Échantillonner les données\n",
    "sample_size = min(1000, len(df_cleaned))\n",
    "df_sample = df_cleaned.sample(sample_size, random_state=42)\n",
    "\n",
    "# Créer le graphique\n",
    "fig = px.scatter(df_sample, x='Duration (days)', y='Accommodation cost', color='Traveler gender',\n",
    "                 size='Transportation cost', hover_data=['Destination', 'Traveler name'],\n",
    "                 opacity=0.6, size_max=15)\n",
    "\n",
    "fig.update_layout(title=\"Durée du voyage, coût de l'hébergement et coût du transport selon le sexe du voyageur\",\n",
    "                  xaxis_title=\"Duration (days)\", yaxis_title=\"Accommodation cost\")\n",
    "\n",
    "fig.show()\n"
   ]
  },
  {
   "cell_type": "markdown",
   "metadata": {},
   "source": [
    "Cette visualisation illustre la relation entre la durée du voyage, les coûts d’hébergement et de transport, et le sexe des voyageurs. On remarque que les femmes et les hommes ont des comportements assez similaires en ce qui concerne la durée du voyage et les coûts associés, bien que les femmes semblent légèrement plus enclines à faire des dépenses plus faibles sur l’hébergement. Cela peut être un reflet des choix de voyage différents entre les sexes, peut-être en raison de préférences en matière de confort ou de budget\n",
    "\n",
    "### <font color=\"red\">Conclusion :</font>\n",
    "Les différences de sexe n’ont qu’un impact limité sur la durée du voyage, mais les femmes semblent opter pour des choix d’hébergement moins coûteux. Ce comportement pourrait affecter à la fois la durée et le coût des voyages, car les femmes, en privilégiant des options plus abordables, peuvent être plus susceptibles de partir pour des séjours plus longs ou de gérer leur budget de manière plus efficace. Ainsi, les caractéristiques des voyageurs, telles que le sexe, peuvent indirectement affecter la durée du voyage et le coût total en fonction de leurs préférences en matière d’hébergement et de transport."
   ]
  },
  {
   "cell_type": "markdown",
   "metadata": {},
   "source": [
    "### ***Durée moyenne de voyage pour chaque type d\\'hébergement***"
   ]
  },
  {
   "cell_type": "markdown",
   "metadata": {},
   "source": [
    "Analyser la durée moyenne de voyage pour chaque type d'hébergement permet de comprendre si certains types d'hébergement (hôtels, Airbnb, resorts, etc.) sont associés à des séjours plus longs ou plus courts. Par exemple, les voyageurs qui choisissent des hôtels peuvent avoir tendance à partir pour des séjours plus courts, tandis que ceux qui optent pour des resorts ou des maisons peuvent privilégier des voyages plus longs. Cette analyse aide à identifier des tendances et à comprendre comment le type d'hébergement influence la durée du voyage, ce qui peut également affecter le coût total du séjour."
   ]
  },
  {
   "cell_type": "code",
   "execution_count": 47,
   "metadata": {},
   "outputs": [
    {
     "data": {
      "application/vnd.plotly.v1+json": {
       "config": {
        "plotlyServerURL": "https://plot.ly"
       },
       "data": [
        {
         "alignmentgroup": "True",
         "hovertemplate": "Durée moyenne (jours)=%{x}<br>Type d'hébergement=%{y}<extra></extra>",
         "legendgroup": "",
         "marker": {
          "color": "#636efa",
          "pattern": {
           "shape": ""
          }
         },
         "name": "",
         "offsetgroup": "",
         "orientation": "h",
         "showlegend": false,
         "textposition": "auto",
         "type": "bar",
         "x": [
          16.848484848484848,
          18.61111111111111,
          16.895027624309392,
          16.937416777629828,
          17.419928825622776,
          16.9375,
          16.786666666666665
         ],
         "xaxis": "x",
         "y": [
          "Airbnb",
          "Guesthouse",
          "Hostel",
          "Hotel",
          "Resort",
          "Riad",
          "Villa"
         ],
         "yaxis": "y"
        }
       ],
       "layout": {
        "barmode": "relative",
        "legend": {
         "tracegroupgap": 0
        },
        "template": {
         "data": {
          "bar": [
           {
            "error_x": {
             "color": "#2a3f5f"
            },
            "error_y": {
             "color": "#2a3f5f"
            },
            "marker": {
             "line": {
              "color": "#E5ECF6",
              "width": 0.5
             },
             "pattern": {
              "fillmode": "overlay",
              "size": 10,
              "solidity": 0.2
             }
            },
            "type": "bar"
           }
          ],
          "barpolar": [
           {
            "marker": {
             "line": {
              "color": "#E5ECF6",
              "width": 0.5
             },
             "pattern": {
              "fillmode": "overlay",
              "size": 10,
              "solidity": 0.2
             }
            },
            "type": "barpolar"
           }
          ],
          "carpet": [
           {
            "aaxis": {
             "endlinecolor": "#2a3f5f",
             "gridcolor": "white",
             "linecolor": "white",
             "minorgridcolor": "white",
             "startlinecolor": "#2a3f5f"
            },
            "baxis": {
             "endlinecolor": "#2a3f5f",
             "gridcolor": "white",
             "linecolor": "white",
             "minorgridcolor": "white",
             "startlinecolor": "#2a3f5f"
            },
            "type": "carpet"
           }
          ],
          "choropleth": [
           {
            "colorbar": {
             "outlinewidth": 0,
             "ticks": ""
            },
            "type": "choropleth"
           }
          ],
          "contour": [
           {
            "colorbar": {
             "outlinewidth": 0,
             "ticks": ""
            },
            "colorscale": [
             [
              0,
              "#0d0887"
             ],
             [
              0.1111111111111111,
              "#46039f"
             ],
             [
              0.2222222222222222,
              "#7201a8"
             ],
             [
              0.3333333333333333,
              "#9c179e"
             ],
             [
              0.4444444444444444,
              "#bd3786"
             ],
             [
              0.5555555555555556,
              "#d8576b"
             ],
             [
              0.6666666666666666,
              "#ed7953"
             ],
             [
              0.7777777777777778,
              "#fb9f3a"
             ],
             [
              0.8888888888888888,
              "#fdca26"
             ],
             [
              1,
              "#f0f921"
             ]
            ],
            "type": "contour"
           }
          ],
          "contourcarpet": [
           {
            "colorbar": {
             "outlinewidth": 0,
             "ticks": ""
            },
            "type": "contourcarpet"
           }
          ],
          "heatmap": [
           {
            "colorbar": {
             "outlinewidth": 0,
             "ticks": ""
            },
            "colorscale": [
             [
              0,
              "#0d0887"
             ],
             [
              0.1111111111111111,
              "#46039f"
             ],
             [
              0.2222222222222222,
              "#7201a8"
             ],
             [
              0.3333333333333333,
              "#9c179e"
             ],
             [
              0.4444444444444444,
              "#bd3786"
             ],
             [
              0.5555555555555556,
              "#d8576b"
             ],
             [
              0.6666666666666666,
              "#ed7953"
             ],
             [
              0.7777777777777778,
              "#fb9f3a"
             ],
             [
              0.8888888888888888,
              "#fdca26"
             ],
             [
              1,
              "#f0f921"
             ]
            ],
            "type": "heatmap"
           }
          ],
          "heatmapgl": [
           {
            "colorbar": {
             "outlinewidth": 0,
             "ticks": ""
            },
            "colorscale": [
             [
              0,
              "#0d0887"
             ],
             [
              0.1111111111111111,
              "#46039f"
             ],
             [
              0.2222222222222222,
              "#7201a8"
             ],
             [
              0.3333333333333333,
              "#9c179e"
             ],
             [
              0.4444444444444444,
              "#bd3786"
             ],
             [
              0.5555555555555556,
              "#d8576b"
             ],
             [
              0.6666666666666666,
              "#ed7953"
             ],
             [
              0.7777777777777778,
              "#fb9f3a"
             ],
             [
              0.8888888888888888,
              "#fdca26"
             ],
             [
              1,
              "#f0f921"
             ]
            ],
            "type": "heatmapgl"
           }
          ],
          "histogram": [
           {
            "marker": {
             "pattern": {
              "fillmode": "overlay",
              "size": 10,
              "solidity": 0.2
             }
            },
            "type": "histogram"
           }
          ],
          "histogram2d": [
           {
            "colorbar": {
             "outlinewidth": 0,
             "ticks": ""
            },
            "colorscale": [
             [
              0,
              "#0d0887"
             ],
             [
              0.1111111111111111,
              "#46039f"
             ],
             [
              0.2222222222222222,
              "#7201a8"
             ],
             [
              0.3333333333333333,
              "#9c179e"
             ],
             [
              0.4444444444444444,
              "#bd3786"
             ],
             [
              0.5555555555555556,
              "#d8576b"
             ],
             [
              0.6666666666666666,
              "#ed7953"
             ],
             [
              0.7777777777777778,
              "#fb9f3a"
             ],
             [
              0.8888888888888888,
              "#fdca26"
             ],
             [
              1,
              "#f0f921"
             ]
            ],
            "type": "histogram2d"
           }
          ],
          "histogram2dcontour": [
           {
            "colorbar": {
             "outlinewidth": 0,
             "ticks": ""
            },
            "colorscale": [
             [
              0,
              "#0d0887"
             ],
             [
              0.1111111111111111,
              "#46039f"
             ],
             [
              0.2222222222222222,
              "#7201a8"
             ],
             [
              0.3333333333333333,
              "#9c179e"
             ],
             [
              0.4444444444444444,
              "#bd3786"
             ],
             [
              0.5555555555555556,
              "#d8576b"
             ],
             [
              0.6666666666666666,
              "#ed7953"
             ],
             [
              0.7777777777777778,
              "#fb9f3a"
             ],
             [
              0.8888888888888888,
              "#fdca26"
             ],
             [
              1,
              "#f0f921"
             ]
            ],
            "type": "histogram2dcontour"
           }
          ],
          "mesh3d": [
           {
            "colorbar": {
             "outlinewidth": 0,
             "ticks": ""
            },
            "type": "mesh3d"
           }
          ],
          "parcoords": [
           {
            "line": {
             "colorbar": {
              "outlinewidth": 0,
              "ticks": ""
             }
            },
            "type": "parcoords"
           }
          ],
          "pie": [
           {
            "automargin": true,
            "type": "pie"
           }
          ],
          "scatter": [
           {
            "fillpattern": {
             "fillmode": "overlay",
             "size": 10,
             "solidity": 0.2
            },
            "type": "scatter"
           }
          ],
          "scatter3d": [
           {
            "line": {
             "colorbar": {
              "outlinewidth": 0,
              "ticks": ""
             }
            },
            "marker": {
             "colorbar": {
              "outlinewidth": 0,
              "ticks": ""
             }
            },
            "type": "scatter3d"
           }
          ],
          "scattercarpet": [
           {
            "marker": {
             "colorbar": {
              "outlinewidth": 0,
              "ticks": ""
             }
            },
            "type": "scattercarpet"
           }
          ],
          "scattergeo": [
           {
            "marker": {
             "colorbar": {
              "outlinewidth": 0,
              "ticks": ""
             }
            },
            "type": "scattergeo"
           }
          ],
          "scattergl": [
           {
            "marker": {
             "colorbar": {
              "outlinewidth": 0,
              "ticks": ""
             }
            },
            "type": "scattergl"
           }
          ],
          "scattermapbox": [
           {
            "marker": {
             "colorbar": {
              "outlinewidth": 0,
              "ticks": ""
             }
            },
            "type": "scattermapbox"
           }
          ],
          "scatterpolar": [
           {
            "marker": {
             "colorbar": {
              "outlinewidth": 0,
              "ticks": ""
             }
            },
            "type": "scatterpolar"
           }
          ],
          "scatterpolargl": [
           {
            "marker": {
             "colorbar": {
              "outlinewidth": 0,
              "ticks": ""
             }
            },
            "type": "scatterpolargl"
           }
          ],
          "scatterternary": [
           {
            "marker": {
             "colorbar": {
              "outlinewidth": 0,
              "ticks": ""
             }
            },
            "type": "scatterternary"
           }
          ],
          "surface": [
           {
            "colorbar": {
             "outlinewidth": 0,
             "ticks": ""
            },
            "colorscale": [
             [
              0,
              "#0d0887"
             ],
             [
              0.1111111111111111,
              "#46039f"
             ],
             [
              0.2222222222222222,
              "#7201a8"
             ],
             [
              0.3333333333333333,
              "#9c179e"
             ],
             [
              0.4444444444444444,
              "#bd3786"
             ],
             [
              0.5555555555555556,
              "#d8576b"
             ],
             [
              0.6666666666666666,
              "#ed7953"
             ],
             [
              0.7777777777777778,
              "#fb9f3a"
             ],
             [
              0.8888888888888888,
              "#fdca26"
             ],
             [
              1,
              "#f0f921"
             ]
            ],
            "type": "surface"
           }
          ],
          "table": [
           {
            "cells": {
             "fill": {
              "color": "#EBF0F8"
             },
             "line": {
              "color": "white"
             }
            },
            "header": {
             "fill": {
              "color": "#C8D4E3"
             },
             "line": {
              "color": "white"
             }
            },
            "type": "table"
           }
          ]
         },
         "layout": {
          "annotationdefaults": {
           "arrowcolor": "#2a3f5f",
           "arrowhead": 0,
           "arrowwidth": 1
          },
          "autotypenumbers": "strict",
          "coloraxis": {
           "colorbar": {
            "outlinewidth": 0,
            "ticks": ""
           }
          },
          "colorscale": {
           "diverging": [
            [
             0,
             "#8e0152"
            ],
            [
             0.1,
             "#c51b7d"
            ],
            [
             0.2,
             "#de77ae"
            ],
            [
             0.3,
             "#f1b6da"
            ],
            [
             0.4,
             "#fde0ef"
            ],
            [
             0.5,
             "#f7f7f7"
            ],
            [
             0.6,
             "#e6f5d0"
            ],
            [
             0.7,
             "#b8e186"
            ],
            [
             0.8,
             "#7fbc41"
            ],
            [
             0.9,
             "#4d9221"
            ],
            [
             1,
             "#276419"
            ]
           ],
           "sequential": [
            [
             0,
             "#0d0887"
            ],
            [
             0.1111111111111111,
             "#46039f"
            ],
            [
             0.2222222222222222,
             "#7201a8"
            ],
            [
             0.3333333333333333,
             "#9c179e"
            ],
            [
             0.4444444444444444,
             "#bd3786"
            ],
            [
             0.5555555555555556,
             "#d8576b"
            ],
            [
             0.6666666666666666,
             "#ed7953"
            ],
            [
             0.7777777777777778,
             "#fb9f3a"
            ],
            [
             0.8888888888888888,
             "#fdca26"
            ],
            [
             1,
             "#f0f921"
            ]
           ],
           "sequentialminus": [
            [
             0,
             "#0d0887"
            ],
            [
             0.1111111111111111,
             "#46039f"
            ],
            [
             0.2222222222222222,
             "#7201a8"
            ],
            [
             0.3333333333333333,
             "#9c179e"
            ],
            [
             0.4444444444444444,
             "#bd3786"
            ],
            [
             0.5555555555555556,
             "#d8576b"
            ],
            [
             0.6666666666666666,
             "#ed7953"
            ],
            [
             0.7777777777777778,
             "#fb9f3a"
            ],
            [
             0.8888888888888888,
             "#fdca26"
            ],
            [
             1,
             "#f0f921"
            ]
           ]
          },
          "colorway": [
           "#636efa",
           "#EF553B",
           "#00cc96",
           "#ab63fa",
           "#FFA15A",
           "#19d3f3",
           "#FF6692",
           "#B6E880",
           "#FF97FF",
           "#FECB52"
          ],
          "font": {
           "color": "#2a3f5f"
          },
          "geo": {
           "bgcolor": "white",
           "lakecolor": "white",
           "landcolor": "#E5ECF6",
           "showlakes": true,
           "showland": true,
           "subunitcolor": "white"
          },
          "hoverlabel": {
           "align": "left"
          },
          "hovermode": "closest",
          "mapbox": {
           "style": "light"
          },
          "paper_bgcolor": "white",
          "plot_bgcolor": "#E5ECF6",
          "polar": {
           "angularaxis": {
            "gridcolor": "white",
            "linecolor": "white",
            "ticks": ""
           },
           "bgcolor": "#E5ECF6",
           "radialaxis": {
            "gridcolor": "white",
            "linecolor": "white",
            "ticks": ""
           }
          },
          "scene": {
           "xaxis": {
            "backgroundcolor": "#E5ECF6",
            "gridcolor": "white",
            "gridwidth": 2,
            "linecolor": "white",
            "showbackground": true,
            "ticks": "",
            "zerolinecolor": "white"
           },
           "yaxis": {
            "backgroundcolor": "#E5ECF6",
            "gridcolor": "white",
            "gridwidth": 2,
            "linecolor": "white",
            "showbackground": true,
            "ticks": "",
            "zerolinecolor": "white"
           },
           "zaxis": {
            "backgroundcolor": "#E5ECF6",
            "gridcolor": "white",
            "gridwidth": 2,
            "linecolor": "white",
            "showbackground": true,
            "ticks": "",
            "zerolinecolor": "white"
           }
          },
          "shapedefaults": {
           "line": {
            "color": "#2a3f5f"
           }
          },
          "ternary": {
           "aaxis": {
            "gridcolor": "white",
            "linecolor": "white",
            "ticks": ""
           },
           "baxis": {
            "gridcolor": "white",
            "linecolor": "white",
            "ticks": ""
           },
           "bgcolor": "#E5ECF6",
           "caxis": {
            "gridcolor": "white",
            "linecolor": "white",
            "ticks": ""
           }
          },
          "title": {
           "x": 0.05
          },
          "xaxis": {
           "automargin": true,
           "gridcolor": "white",
           "linecolor": "white",
           "ticks": "",
           "title": {
            "standoff": 15
           },
           "zerolinecolor": "white",
           "zerolinewidth": 2
          },
          "yaxis": {
           "automargin": true,
           "gridcolor": "white",
           "linecolor": "white",
           "ticks": "",
           "title": {
            "standoff": 15
           },
           "zerolinecolor": "white",
           "zerolinewidth": 2
          }
         }
        },
        "title": {
         "text": "Durée moyenne de voyage pour chaque type d'hébergement"
        },
        "xaxis": {
         "anchor": "y",
         "domain": [
          0,
          1
         ],
         "title": {
          "text": "Durée moyenne (jours)"
         }
        },
        "yaxis": {
         "anchor": "x",
         "domain": [
          0,
          1
         ],
         "title": {
          "text": "Type d'hébergement"
         }
        }
       }
      }
     },
     "metadata": {},
     "output_type": "display_data"
    }
   ],
   "source": [
    "df = pd.read_csv('travel_data_modified.csv')\n",
    "\n",
    "# Calculer la durée moyenne de voyage pour chaque type d'hébergement\n",
    "avg_duration_by_accommodation_type = df.groupby('Accommodation type')['Duration (days)'].mean().reset_index()\n",
    "\n",
    "#  graphique à barres horizontales \n",
    "fig = px.bar(avg_duration_by_accommodation_type, x='Duration (days)', y='Accommodation type', orientation='h',\n",
    "             title='Durée moyenne de voyage pour chaque type d\\'hébergement',\n",
    "             labels={'Duration (days)': 'Durée moyenne (jours)', 'Accommodation type': 'Type d\\'hébergement'})\n",
    "fig.show()\n",
    "\n"
   ]
  },
  {
   "cell_type": "markdown",
   "metadata": {},
   "source": [
    "### <font color=\"red\">Conclusion </font>\n",
    "Le type d'hébergement détermine fortement la durée des voyages : les logements spacieux ou autonomes (villas, Ahostel) favorisent des séjours prolongés, tandis que les options spécialisées ou économiques (Ride, Hostel) s’adaptent à des besoins courts ou urgents. La flexibilité et le confort semblent être des facteurs clés dans cette relation"
   ]
  },
  {
   "cell_type": "markdown",
   "metadata": {},
   "source": [
    "### ***Comparaison des Coûts Moyens d'Hébergement et de Transport par Nationalité***"
   ]
  },
  {
   "cell_type": "markdown",
   "metadata": {},
   "source": [
    "La comparaison des coûts moyens d'hébergement et de transport par nationalité permet d'analyser comment les voyageurs de différentes nationalités dépensent pour leur logement et leur transport. Par exemple, certains groupes nationaux peuvent privilégier des options d'hébergement plus coûteuses ou des modes de transport plus chers en fonction de leurs préférences culturelles, économiques ou de confort. Cette analyse peut également révéler si des différences économiques existent entre les nationalités, influençant la durée et le coût total des voyages. En comprenant ces différences, on peut mieux anticiper les besoins des voyageurs selon leur origine."
   ]
  },
  {
   "cell_type": "code",
   "execution_count": 48,
   "metadata": {},
   "outputs": [
    {
     "data": {
      "application/vnd.plotly.v1+json": {
       "config": {
        "plotlyServerURL": "https://plot.ly"
       },
       "data": [
        {
         "alignmentgroup": "True",
         "hovertemplate": "Type de Coût=Accommodation cost<br>Nationalité=%{x}<br>Coût=%{y}<extra></extra>",
         "legendgroup": "Accommodation cost",
         "marker": {
          "color": "#636efa",
          "pattern": {
           "shape": ""
          }
         },
         "name": "Accommodation cost",
         "offsetgroup": "Accommodation cost",
         "orientation": "v",
         "showlegend": true,
         "textposition": "auto",
         "type": "bar",
         "x": [
          "American",
          "Argentinian",
          "Australian",
          "Brazilian",
          "British",
          "Canadian",
          "Dutch",
          "Egyptian",
          "Emirati",
          "French",
          "German",
          "Greek",
          "Indonesian",
          "Irish",
          "Italian",
          "Japanese",
          "Mexican",
          "Norwegian",
          "Peruvian",
          "Portuguese",
          "Russian",
          "Singaporean",
          "South African",
          "South Korean",
          "Spanish",
          "Swiss",
          "Thai",
          "Turkish",
          "Vietnamese"
         ],
         "xaxis": "x",
         "y": [
          562.72,
          571.2544827586207,
          485.4693055555556,
          460.35027397260274,
          542.9192424242424,
          523.9678125,
          565.8245454545454,
          557.51,
          540.0806249999999,
          488.85159090909093,
          568.2982653061224,
          369.6581818181818,
          583.3688888888888,
          476.1605434782608,
          518.3458974358974,
          495.52624999999995,
          562.8852380952382,
          465.44928571428574,
          478.89375,
          532.3738383838385,
          531.863076923077,
          543.7523863636363,
          517.1266666666667,
          546.4823595505618,
          500.8110294117647,
          443.8669230769231,
          486.13890625,
          515.8481176470588,
          497.045
         ],
         "yaxis": "y"
        },
        {
         "alignmentgroup": "True",
         "hovertemplate": "Type de Coût=Transportation cost<br>Nationalité=%{x}<br>Coût=%{y}<extra></extra>",
         "legendgroup": "Transportation cost",
         "marker": {
          "color": "#EF553B",
          "pattern": {
           "shape": ""
          }
         },
         "name": "Transportation cost",
         "offsetgroup": "Transportation cost",
         "orientation": "v",
         "showlegend": true,
         "textposition": "auto",
         "type": "bar",
         "x": [
          "American",
          "Argentinian",
          "Australian",
          "Brazilian",
          "British",
          "Canadian",
          "Dutch",
          "Egyptian",
          "Emirati",
          "French",
          "German",
          "Greek",
          "Indonesian",
          "Irish",
          "Italian",
          "Japanese",
          "Mexican",
          "Norwegian",
          "Peruvian",
          "Portuguese",
          "Russian",
          "Singaporean",
          "South African",
          "South Korean",
          "Spanish",
          "Swiss",
          "Thai",
          "Turkish",
          "Vietnamese"
         ],
         "xaxis": "x",
         "y": [
          745.5228846153847,
          943.8823333333333,
          835.3714285714286,
          779.8988,
          758.954923076923,
          757.4021875,
          670.7907792207792,
          864.7107407407407,
          672.2770731707317,
          775.9967777777779,
          747.137,
          905.7091304347827,
          999.165,
          739.8185567010308,
          770.3593333333333,
          766.2614130434783,
          742.2242168674699,
          749.8874285714286,
          492.764,
          780.7138834951456,
          769.1282608695652,
          731.3892307692307,
          780.1865217391305,
          684.0782417582418,
          718.2187323943662,
          826.7766666666666,
          805.2570149253731,
          729.577,
          850.4756
         ],
         "yaxis": "y"
        }
       ],
       "layout": {
        "barmode": "group",
        "height": 400,
        "legend": {
         "title": {
          "text": "Type de Coût"
         },
         "tracegroupgap": 0
        },
        "template": {
         "data": {
          "bar": [
           {
            "error_x": {
             "color": "#2a3f5f"
            },
            "error_y": {
             "color": "#2a3f5f"
            },
            "marker": {
             "line": {
              "color": "#E5ECF6",
              "width": 0.5
             },
             "pattern": {
              "fillmode": "overlay",
              "size": 10,
              "solidity": 0.2
             }
            },
            "type": "bar"
           }
          ],
          "barpolar": [
           {
            "marker": {
             "line": {
              "color": "#E5ECF6",
              "width": 0.5
             },
             "pattern": {
              "fillmode": "overlay",
              "size": 10,
              "solidity": 0.2
             }
            },
            "type": "barpolar"
           }
          ],
          "carpet": [
           {
            "aaxis": {
             "endlinecolor": "#2a3f5f",
             "gridcolor": "white",
             "linecolor": "white",
             "minorgridcolor": "white",
             "startlinecolor": "#2a3f5f"
            },
            "baxis": {
             "endlinecolor": "#2a3f5f",
             "gridcolor": "white",
             "linecolor": "white",
             "minorgridcolor": "white",
             "startlinecolor": "#2a3f5f"
            },
            "type": "carpet"
           }
          ],
          "choropleth": [
           {
            "colorbar": {
             "outlinewidth": 0,
             "ticks": ""
            },
            "type": "choropleth"
           }
          ],
          "contour": [
           {
            "colorbar": {
             "outlinewidth": 0,
             "ticks": ""
            },
            "colorscale": [
             [
              0,
              "#0d0887"
             ],
             [
              0.1111111111111111,
              "#46039f"
             ],
             [
              0.2222222222222222,
              "#7201a8"
             ],
             [
              0.3333333333333333,
              "#9c179e"
             ],
             [
              0.4444444444444444,
              "#bd3786"
             ],
             [
              0.5555555555555556,
              "#d8576b"
             ],
             [
              0.6666666666666666,
              "#ed7953"
             ],
             [
              0.7777777777777778,
              "#fb9f3a"
             ],
             [
              0.8888888888888888,
              "#fdca26"
             ],
             [
              1,
              "#f0f921"
             ]
            ],
            "type": "contour"
           }
          ],
          "contourcarpet": [
           {
            "colorbar": {
             "outlinewidth": 0,
             "ticks": ""
            },
            "type": "contourcarpet"
           }
          ],
          "heatmap": [
           {
            "colorbar": {
             "outlinewidth": 0,
             "ticks": ""
            },
            "colorscale": [
             [
              0,
              "#0d0887"
             ],
             [
              0.1111111111111111,
              "#46039f"
             ],
             [
              0.2222222222222222,
              "#7201a8"
             ],
             [
              0.3333333333333333,
              "#9c179e"
             ],
             [
              0.4444444444444444,
              "#bd3786"
             ],
             [
              0.5555555555555556,
              "#d8576b"
             ],
             [
              0.6666666666666666,
              "#ed7953"
             ],
             [
              0.7777777777777778,
              "#fb9f3a"
             ],
             [
              0.8888888888888888,
              "#fdca26"
             ],
             [
              1,
              "#f0f921"
             ]
            ],
            "type": "heatmap"
           }
          ],
          "heatmapgl": [
           {
            "colorbar": {
             "outlinewidth": 0,
             "ticks": ""
            },
            "colorscale": [
             [
              0,
              "#0d0887"
             ],
             [
              0.1111111111111111,
              "#46039f"
             ],
             [
              0.2222222222222222,
              "#7201a8"
             ],
             [
              0.3333333333333333,
              "#9c179e"
             ],
             [
              0.4444444444444444,
              "#bd3786"
             ],
             [
              0.5555555555555556,
              "#d8576b"
             ],
             [
              0.6666666666666666,
              "#ed7953"
             ],
             [
              0.7777777777777778,
              "#fb9f3a"
             ],
             [
              0.8888888888888888,
              "#fdca26"
             ],
             [
              1,
              "#f0f921"
             ]
            ],
            "type": "heatmapgl"
           }
          ],
          "histogram": [
           {
            "marker": {
             "pattern": {
              "fillmode": "overlay",
              "size": 10,
              "solidity": 0.2
             }
            },
            "type": "histogram"
           }
          ],
          "histogram2d": [
           {
            "colorbar": {
             "outlinewidth": 0,
             "ticks": ""
            },
            "colorscale": [
             [
              0,
              "#0d0887"
             ],
             [
              0.1111111111111111,
              "#46039f"
             ],
             [
              0.2222222222222222,
              "#7201a8"
             ],
             [
              0.3333333333333333,
              "#9c179e"
             ],
             [
              0.4444444444444444,
              "#bd3786"
             ],
             [
              0.5555555555555556,
              "#d8576b"
             ],
             [
              0.6666666666666666,
              "#ed7953"
             ],
             [
              0.7777777777777778,
              "#fb9f3a"
             ],
             [
              0.8888888888888888,
              "#fdca26"
             ],
             [
              1,
              "#f0f921"
             ]
            ],
            "type": "histogram2d"
           }
          ],
          "histogram2dcontour": [
           {
            "colorbar": {
             "outlinewidth": 0,
             "ticks": ""
            },
            "colorscale": [
             [
              0,
              "#0d0887"
             ],
             [
              0.1111111111111111,
              "#46039f"
             ],
             [
              0.2222222222222222,
              "#7201a8"
             ],
             [
              0.3333333333333333,
              "#9c179e"
             ],
             [
              0.4444444444444444,
              "#bd3786"
             ],
             [
              0.5555555555555556,
              "#d8576b"
             ],
             [
              0.6666666666666666,
              "#ed7953"
             ],
             [
              0.7777777777777778,
              "#fb9f3a"
             ],
             [
              0.8888888888888888,
              "#fdca26"
             ],
             [
              1,
              "#f0f921"
             ]
            ],
            "type": "histogram2dcontour"
           }
          ],
          "mesh3d": [
           {
            "colorbar": {
             "outlinewidth": 0,
             "ticks": ""
            },
            "type": "mesh3d"
           }
          ],
          "parcoords": [
           {
            "line": {
             "colorbar": {
              "outlinewidth": 0,
              "ticks": ""
             }
            },
            "type": "parcoords"
           }
          ],
          "pie": [
           {
            "automargin": true,
            "type": "pie"
           }
          ],
          "scatter": [
           {
            "fillpattern": {
             "fillmode": "overlay",
             "size": 10,
             "solidity": 0.2
            },
            "type": "scatter"
           }
          ],
          "scatter3d": [
           {
            "line": {
             "colorbar": {
              "outlinewidth": 0,
              "ticks": ""
             }
            },
            "marker": {
             "colorbar": {
              "outlinewidth": 0,
              "ticks": ""
             }
            },
            "type": "scatter3d"
           }
          ],
          "scattercarpet": [
           {
            "marker": {
             "colorbar": {
              "outlinewidth": 0,
              "ticks": ""
             }
            },
            "type": "scattercarpet"
           }
          ],
          "scattergeo": [
           {
            "marker": {
             "colorbar": {
              "outlinewidth": 0,
              "ticks": ""
             }
            },
            "type": "scattergeo"
           }
          ],
          "scattergl": [
           {
            "marker": {
             "colorbar": {
              "outlinewidth": 0,
              "ticks": ""
             }
            },
            "type": "scattergl"
           }
          ],
          "scattermapbox": [
           {
            "marker": {
             "colorbar": {
              "outlinewidth": 0,
              "ticks": ""
             }
            },
            "type": "scattermapbox"
           }
          ],
          "scatterpolar": [
           {
            "marker": {
             "colorbar": {
              "outlinewidth": 0,
              "ticks": ""
             }
            },
            "type": "scatterpolar"
           }
          ],
          "scatterpolargl": [
           {
            "marker": {
             "colorbar": {
              "outlinewidth": 0,
              "ticks": ""
             }
            },
            "type": "scatterpolargl"
           }
          ],
          "scatterternary": [
           {
            "marker": {
             "colorbar": {
              "outlinewidth": 0,
              "ticks": ""
             }
            },
            "type": "scatterternary"
           }
          ],
          "surface": [
           {
            "colorbar": {
             "outlinewidth": 0,
             "ticks": ""
            },
            "colorscale": [
             [
              0,
              "#0d0887"
             ],
             [
              0.1111111111111111,
              "#46039f"
             ],
             [
              0.2222222222222222,
              "#7201a8"
             ],
             [
              0.3333333333333333,
              "#9c179e"
             ],
             [
              0.4444444444444444,
              "#bd3786"
             ],
             [
              0.5555555555555556,
              "#d8576b"
             ],
             [
              0.6666666666666666,
              "#ed7953"
             ],
             [
              0.7777777777777778,
              "#fb9f3a"
             ],
             [
              0.8888888888888888,
              "#fdca26"
             ],
             [
              1,
              "#f0f921"
             ]
            ],
            "type": "surface"
           }
          ],
          "table": [
           {
            "cells": {
             "fill": {
              "color": "#EBF0F8"
             },
             "line": {
              "color": "white"
             }
            },
            "header": {
             "fill": {
              "color": "#C8D4E3"
             },
             "line": {
              "color": "white"
             }
            },
            "type": "table"
           }
          ]
         },
         "layout": {
          "annotationdefaults": {
           "arrowcolor": "#2a3f5f",
           "arrowhead": 0,
           "arrowwidth": 1
          },
          "autotypenumbers": "strict",
          "coloraxis": {
           "colorbar": {
            "outlinewidth": 0,
            "ticks": ""
           }
          },
          "colorscale": {
           "diverging": [
            [
             0,
             "#8e0152"
            ],
            [
             0.1,
             "#c51b7d"
            ],
            [
             0.2,
             "#de77ae"
            ],
            [
             0.3,
             "#f1b6da"
            ],
            [
             0.4,
             "#fde0ef"
            ],
            [
             0.5,
             "#f7f7f7"
            ],
            [
             0.6,
             "#e6f5d0"
            ],
            [
             0.7,
             "#b8e186"
            ],
            [
             0.8,
             "#7fbc41"
            ],
            [
             0.9,
             "#4d9221"
            ],
            [
             1,
             "#276419"
            ]
           ],
           "sequential": [
            [
             0,
             "#0d0887"
            ],
            [
             0.1111111111111111,
             "#46039f"
            ],
            [
             0.2222222222222222,
             "#7201a8"
            ],
            [
             0.3333333333333333,
             "#9c179e"
            ],
            [
             0.4444444444444444,
             "#bd3786"
            ],
            [
             0.5555555555555556,
             "#d8576b"
            ],
            [
             0.6666666666666666,
             "#ed7953"
            ],
            [
             0.7777777777777778,
             "#fb9f3a"
            ],
            [
             0.8888888888888888,
             "#fdca26"
            ],
            [
             1,
             "#f0f921"
            ]
           ],
           "sequentialminus": [
            [
             0,
             "#0d0887"
            ],
            [
             0.1111111111111111,
             "#46039f"
            ],
            [
             0.2222222222222222,
             "#7201a8"
            ],
            [
             0.3333333333333333,
             "#9c179e"
            ],
            [
             0.4444444444444444,
             "#bd3786"
            ],
            [
             0.5555555555555556,
             "#d8576b"
            ],
            [
             0.6666666666666666,
             "#ed7953"
            ],
            [
             0.7777777777777778,
             "#fb9f3a"
            ],
            [
             0.8888888888888888,
             "#fdca26"
            ],
            [
             1,
             "#f0f921"
            ]
           ]
          },
          "colorway": [
           "#636efa",
           "#EF553B",
           "#00cc96",
           "#ab63fa",
           "#FFA15A",
           "#19d3f3",
           "#FF6692",
           "#B6E880",
           "#FF97FF",
           "#FECB52"
          ],
          "font": {
           "color": "#2a3f5f"
          },
          "geo": {
           "bgcolor": "white",
           "lakecolor": "white",
           "landcolor": "#E5ECF6",
           "showlakes": true,
           "showland": true,
           "subunitcolor": "white"
          },
          "hoverlabel": {
           "align": "left"
          },
          "hovermode": "closest",
          "mapbox": {
           "style": "light"
          },
          "paper_bgcolor": "white",
          "plot_bgcolor": "#E5ECF6",
          "polar": {
           "angularaxis": {
            "gridcolor": "white",
            "linecolor": "white",
            "ticks": ""
           },
           "bgcolor": "#E5ECF6",
           "radialaxis": {
            "gridcolor": "white",
            "linecolor": "white",
            "ticks": ""
           }
          },
          "scene": {
           "xaxis": {
            "backgroundcolor": "#E5ECF6",
            "gridcolor": "white",
            "gridwidth": 2,
            "linecolor": "white",
            "showbackground": true,
            "ticks": "",
            "zerolinecolor": "white"
           },
           "yaxis": {
            "backgroundcolor": "#E5ECF6",
            "gridcolor": "white",
            "gridwidth": 2,
            "linecolor": "white",
            "showbackground": true,
            "ticks": "",
            "zerolinecolor": "white"
           },
           "zaxis": {
            "backgroundcolor": "#E5ECF6",
            "gridcolor": "white",
            "gridwidth": 2,
            "linecolor": "white",
            "showbackground": true,
            "ticks": "",
            "zerolinecolor": "white"
           }
          },
          "shapedefaults": {
           "line": {
            "color": "#2a3f5f"
           }
          },
          "ternary": {
           "aaxis": {
            "gridcolor": "white",
            "linecolor": "white",
            "ticks": ""
           },
           "baxis": {
            "gridcolor": "white",
            "linecolor": "white",
            "ticks": ""
           },
           "bgcolor": "#E5ECF6",
           "caxis": {
            "gridcolor": "white",
            "linecolor": "white",
            "ticks": ""
           }
          },
          "title": {
           "x": 0.05
          },
          "xaxis": {
           "automargin": true,
           "gridcolor": "white",
           "linecolor": "white",
           "ticks": "",
           "title": {
            "standoff": 15
           },
           "zerolinecolor": "white",
           "zerolinewidth": 2
          },
          "yaxis": {
           "automargin": true,
           "gridcolor": "white",
           "linecolor": "white",
           "ticks": "",
           "title": {
            "standoff": 15
           },
           "zerolinecolor": "white",
           "zerolinewidth": 2
          }
         }
        },
        "title": {
         "text": "Comparaison des Coûts Moyens d'Hébergement et de Transport par Nationalité"
        },
        "xaxis": {
         "anchor": "y",
         "domain": [
          0,
          1
         ],
         "title": {
          "text": "Nationalité"
         }
        },
        "yaxis": {
         "anchor": "x",
         "domain": [
          0,
          1
         ],
         "title": {
          "text": "Coût"
         }
        }
       }
      }
     },
     "metadata": {},
     "output_type": "display_data"
    }
   ],
   "source": [
    "\n",
    "df = pd.read_csv('travel_data_modified.csv')\n",
    "\n",
    "# Assurez-vous que les colonnes 'Accommodation cost' et 'Transportation cost' sont de type numérique\n",
    "df['Accommodation cost'] = pd.to_numeric(df['Accommodation cost'], errors='coerce')\n",
    "df['Transportation cost'] = pd.to_numeric(df['Transportation cost'], errors='coerce')\n",
    "\n",
    "# Calculer les coûts moyens d'hébergement et de transport par nationalité\n",
    "costs_comparison = df.groupby('Traveler nationality').agg({\n",
    "    'Accommodation cost': 'mean',\n",
    "    'Transportation cost': 'mean'\n",
    "}).reset_index()\n",
    "\n",
    "# Créer un graphique en barres comparant les coûts moyens d'hébergement et de transport par nationalité\n",
    "fig = px.bar(costs_comparison,\n",
    "             x='Traveler nationality',\n",
    "             y=['Accommodation cost', 'Transportation cost'],\n",
    "             title=\"Comparaison des Coûts Moyens d'Hébergement et de Transport par Nationalité\",\n",
    "             labels={'Traveler nationality': 'Nationalité', 'value': 'Coût', 'variable': 'Type de Coût'},\n",
    "             barmode='group',  # Permet d'afficher les barres côte à côte pour chaque nationalité\n",
    "             height=400)\n",
    "\n",
    "# Afficher le graphique\n",
    "fig.show()\n"
   ]
  },
  {
   "cell_type": "markdown",
   "metadata": {},
   "source": [
    "\n",
    "Cette visualisation compare les coûts moyens d'hébergement et de transport par nationalité, ce qui permet d'explorer comment les caractéristiques des voyageurs (ici, leur nationalité) influencent leurs dépenses.\n",
    "\n",
    "### <font color=\"red\">Conclusion </font>\n",
    "La nationalité influence significativement les dépenses en hébergement et transport, reflétant des comportements de voyage distincts (budget, confort, urgence). Les coûts élevés en transport pourraient réduire la durée des séjours, tandis que les budgets hébergement varient selon les priorités culturelles ou économiques"
   ]
  },
  {
   "cell_type": "markdown",
   "metadata": {},
   "source": [
    "### ***Proportions des types de transport utilisés par les voyageurs***"
   ]
  },
  {
   "cell_type": "markdown",
   "metadata": {},
   "source": [
    "Analyser les proportions des types de transport utilisés par les voyageurs permet de comprendre quel mode de transport (avion, train, voiture, bus, etc.) est le plus couramment choisi par les voyageurs. Cela peut offrir des informations sur les préférences des voyageurs en fonction de la destination, de la durée du voyage ou même de leur budget. Par exemple, les voyageurs peuvent préférer l'avion pour des distances longues et le train ou la voiture pour des trajets plus courts. Cette analyse peut également montrer comment le choix du transport influence le coût total du voyage et sa durée."
   ]
  },
  {
   "cell_type": "code",
   "execution_count": 49,
   "metadata": {},
   "outputs": [
    {
     "data": {
      "application/vnd.plotly.v1+json": {
       "config": {
        "plotlyServerURL": "https://plot.ly"
       },
       "data": [
        {
         "customdata": [
          [
           "Bus"
          ],
          [
           "Plane"
          ],
          [
           "Car rental"
          ],
          [
           "Train"
          ],
          [
           "Boat"
          ]
         ],
         "domain": {
          "x": [
           0,
           1
          ],
          "y": [
           0,
           1
          ]
         },
         "hole": 0.3,
         "hovertemplate": "Transportation type=%{customdata[0]}<br>Count=%{value}<extra></extra>",
         "labels": [
          "Bus",
          "Plane",
          "Car rental",
          "Train",
          "Boat"
         ],
         "legendgroup": "",
         "marker": {
          "colors": [
           "rgb(102,194,165)",
           "rgb(252,141,98)",
           "rgb(141,160,203)",
           "rgb(231,138,195)",
           "rgb(166,216,84)"
          ]
         },
         "name": "",
         "showlegend": true,
         "type": "pie",
         "values": [
          402,
          397,
          378,
          376,
          363
         ]
        }
       ],
       "layout": {
        "legend": {
         "tracegroupgap": 0
        },
        "piecolorway": [
         "rgb(102,194,165)",
         "rgb(252,141,98)",
         "rgb(141,160,203)",
         "rgb(231,138,195)",
         "rgb(166,216,84)",
         "rgb(255,217,47)",
         "rgb(229,196,148)",
         "rgb(179,179,179)"
        ],
        "template": {
         "data": {
          "bar": [
           {
            "error_x": {
             "color": "#2a3f5f"
            },
            "error_y": {
             "color": "#2a3f5f"
            },
            "marker": {
             "line": {
              "color": "#E5ECF6",
              "width": 0.5
             },
             "pattern": {
              "fillmode": "overlay",
              "size": 10,
              "solidity": 0.2
             }
            },
            "type": "bar"
           }
          ],
          "barpolar": [
           {
            "marker": {
             "line": {
              "color": "#E5ECF6",
              "width": 0.5
             },
             "pattern": {
              "fillmode": "overlay",
              "size": 10,
              "solidity": 0.2
             }
            },
            "type": "barpolar"
           }
          ],
          "carpet": [
           {
            "aaxis": {
             "endlinecolor": "#2a3f5f",
             "gridcolor": "white",
             "linecolor": "white",
             "minorgridcolor": "white",
             "startlinecolor": "#2a3f5f"
            },
            "baxis": {
             "endlinecolor": "#2a3f5f",
             "gridcolor": "white",
             "linecolor": "white",
             "minorgridcolor": "white",
             "startlinecolor": "#2a3f5f"
            },
            "type": "carpet"
           }
          ],
          "choropleth": [
           {
            "colorbar": {
             "outlinewidth": 0,
             "ticks": ""
            },
            "type": "choropleth"
           }
          ],
          "contour": [
           {
            "colorbar": {
             "outlinewidth": 0,
             "ticks": ""
            },
            "colorscale": [
             [
              0,
              "#0d0887"
             ],
             [
              0.1111111111111111,
              "#46039f"
             ],
             [
              0.2222222222222222,
              "#7201a8"
             ],
             [
              0.3333333333333333,
              "#9c179e"
             ],
             [
              0.4444444444444444,
              "#bd3786"
             ],
             [
              0.5555555555555556,
              "#d8576b"
             ],
             [
              0.6666666666666666,
              "#ed7953"
             ],
             [
              0.7777777777777778,
              "#fb9f3a"
             ],
             [
              0.8888888888888888,
              "#fdca26"
             ],
             [
              1,
              "#f0f921"
             ]
            ],
            "type": "contour"
           }
          ],
          "contourcarpet": [
           {
            "colorbar": {
             "outlinewidth": 0,
             "ticks": ""
            },
            "type": "contourcarpet"
           }
          ],
          "heatmap": [
           {
            "colorbar": {
             "outlinewidth": 0,
             "ticks": ""
            },
            "colorscale": [
             [
              0,
              "#0d0887"
             ],
             [
              0.1111111111111111,
              "#46039f"
             ],
             [
              0.2222222222222222,
              "#7201a8"
             ],
             [
              0.3333333333333333,
              "#9c179e"
             ],
             [
              0.4444444444444444,
              "#bd3786"
             ],
             [
              0.5555555555555556,
              "#d8576b"
             ],
             [
              0.6666666666666666,
              "#ed7953"
             ],
             [
              0.7777777777777778,
              "#fb9f3a"
             ],
             [
              0.8888888888888888,
              "#fdca26"
             ],
             [
              1,
              "#f0f921"
             ]
            ],
            "type": "heatmap"
           }
          ],
          "heatmapgl": [
           {
            "colorbar": {
             "outlinewidth": 0,
             "ticks": ""
            },
            "colorscale": [
             [
              0,
              "#0d0887"
             ],
             [
              0.1111111111111111,
              "#46039f"
             ],
             [
              0.2222222222222222,
              "#7201a8"
             ],
             [
              0.3333333333333333,
              "#9c179e"
             ],
             [
              0.4444444444444444,
              "#bd3786"
             ],
             [
              0.5555555555555556,
              "#d8576b"
             ],
             [
              0.6666666666666666,
              "#ed7953"
             ],
             [
              0.7777777777777778,
              "#fb9f3a"
             ],
             [
              0.8888888888888888,
              "#fdca26"
             ],
             [
              1,
              "#f0f921"
             ]
            ],
            "type": "heatmapgl"
           }
          ],
          "histogram": [
           {
            "marker": {
             "pattern": {
              "fillmode": "overlay",
              "size": 10,
              "solidity": 0.2
             }
            },
            "type": "histogram"
           }
          ],
          "histogram2d": [
           {
            "colorbar": {
             "outlinewidth": 0,
             "ticks": ""
            },
            "colorscale": [
             [
              0,
              "#0d0887"
             ],
             [
              0.1111111111111111,
              "#46039f"
             ],
             [
              0.2222222222222222,
              "#7201a8"
             ],
             [
              0.3333333333333333,
              "#9c179e"
             ],
             [
              0.4444444444444444,
              "#bd3786"
             ],
             [
              0.5555555555555556,
              "#d8576b"
             ],
             [
              0.6666666666666666,
              "#ed7953"
             ],
             [
              0.7777777777777778,
              "#fb9f3a"
             ],
             [
              0.8888888888888888,
              "#fdca26"
             ],
             [
              1,
              "#f0f921"
             ]
            ],
            "type": "histogram2d"
           }
          ],
          "histogram2dcontour": [
           {
            "colorbar": {
             "outlinewidth": 0,
             "ticks": ""
            },
            "colorscale": [
             [
              0,
              "#0d0887"
             ],
             [
              0.1111111111111111,
              "#46039f"
             ],
             [
              0.2222222222222222,
              "#7201a8"
             ],
             [
              0.3333333333333333,
              "#9c179e"
             ],
             [
              0.4444444444444444,
              "#bd3786"
             ],
             [
              0.5555555555555556,
              "#d8576b"
             ],
             [
              0.6666666666666666,
              "#ed7953"
             ],
             [
              0.7777777777777778,
              "#fb9f3a"
             ],
             [
              0.8888888888888888,
              "#fdca26"
             ],
             [
              1,
              "#f0f921"
             ]
            ],
            "type": "histogram2dcontour"
           }
          ],
          "mesh3d": [
           {
            "colorbar": {
             "outlinewidth": 0,
             "ticks": ""
            },
            "type": "mesh3d"
           }
          ],
          "parcoords": [
           {
            "line": {
             "colorbar": {
              "outlinewidth": 0,
              "ticks": ""
             }
            },
            "type": "parcoords"
           }
          ],
          "pie": [
           {
            "automargin": true,
            "type": "pie"
           }
          ],
          "scatter": [
           {
            "fillpattern": {
             "fillmode": "overlay",
             "size": 10,
             "solidity": 0.2
            },
            "type": "scatter"
           }
          ],
          "scatter3d": [
           {
            "line": {
             "colorbar": {
              "outlinewidth": 0,
              "ticks": ""
             }
            },
            "marker": {
             "colorbar": {
              "outlinewidth": 0,
              "ticks": ""
             }
            },
            "type": "scatter3d"
           }
          ],
          "scattercarpet": [
           {
            "marker": {
             "colorbar": {
              "outlinewidth": 0,
              "ticks": ""
             }
            },
            "type": "scattercarpet"
           }
          ],
          "scattergeo": [
           {
            "marker": {
             "colorbar": {
              "outlinewidth": 0,
              "ticks": ""
             }
            },
            "type": "scattergeo"
           }
          ],
          "scattergl": [
           {
            "marker": {
             "colorbar": {
              "outlinewidth": 0,
              "ticks": ""
             }
            },
            "type": "scattergl"
           }
          ],
          "scattermapbox": [
           {
            "marker": {
             "colorbar": {
              "outlinewidth": 0,
              "ticks": ""
             }
            },
            "type": "scattermapbox"
           }
          ],
          "scatterpolar": [
           {
            "marker": {
             "colorbar": {
              "outlinewidth": 0,
              "ticks": ""
             }
            },
            "type": "scatterpolar"
           }
          ],
          "scatterpolargl": [
           {
            "marker": {
             "colorbar": {
              "outlinewidth": 0,
              "ticks": ""
             }
            },
            "type": "scatterpolargl"
           }
          ],
          "scatterternary": [
           {
            "marker": {
             "colorbar": {
              "outlinewidth": 0,
              "ticks": ""
             }
            },
            "type": "scatterternary"
           }
          ],
          "surface": [
           {
            "colorbar": {
             "outlinewidth": 0,
             "ticks": ""
            },
            "colorscale": [
             [
              0,
              "#0d0887"
             ],
             [
              0.1111111111111111,
              "#46039f"
             ],
             [
              0.2222222222222222,
              "#7201a8"
             ],
             [
              0.3333333333333333,
              "#9c179e"
             ],
             [
              0.4444444444444444,
              "#bd3786"
             ],
             [
              0.5555555555555556,
              "#d8576b"
             ],
             [
              0.6666666666666666,
              "#ed7953"
             ],
             [
              0.7777777777777778,
              "#fb9f3a"
             ],
             [
              0.8888888888888888,
              "#fdca26"
             ],
             [
              1,
              "#f0f921"
             ]
            ],
            "type": "surface"
           }
          ],
          "table": [
           {
            "cells": {
             "fill": {
              "color": "#EBF0F8"
             },
             "line": {
              "color": "white"
             }
            },
            "header": {
             "fill": {
              "color": "#C8D4E3"
             },
             "line": {
              "color": "white"
             }
            },
            "type": "table"
           }
          ]
         },
         "layout": {
          "annotationdefaults": {
           "arrowcolor": "#2a3f5f",
           "arrowhead": 0,
           "arrowwidth": 1
          },
          "autotypenumbers": "strict",
          "coloraxis": {
           "colorbar": {
            "outlinewidth": 0,
            "ticks": ""
           }
          },
          "colorscale": {
           "diverging": [
            [
             0,
             "#8e0152"
            ],
            [
             0.1,
             "#c51b7d"
            ],
            [
             0.2,
             "#de77ae"
            ],
            [
             0.3,
             "#f1b6da"
            ],
            [
             0.4,
             "#fde0ef"
            ],
            [
             0.5,
             "#f7f7f7"
            ],
            [
             0.6,
             "#e6f5d0"
            ],
            [
             0.7,
             "#b8e186"
            ],
            [
             0.8,
             "#7fbc41"
            ],
            [
             0.9,
             "#4d9221"
            ],
            [
             1,
             "#276419"
            ]
           ],
           "sequential": [
            [
             0,
             "#0d0887"
            ],
            [
             0.1111111111111111,
             "#46039f"
            ],
            [
             0.2222222222222222,
             "#7201a8"
            ],
            [
             0.3333333333333333,
             "#9c179e"
            ],
            [
             0.4444444444444444,
             "#bd3786"
            ],
            [
             0.5555555555555556,
             "#d8576b"
            ],
            [
             0.6666666666666666,
             "#ed7953"
            ],
            [
             0.7777777777777778,
             "#fb9f3a"
            ],
            [
             0.8888888888888888,
             "#fdca26"
            ],
            [
             1,
             "#f0f921"
            ]
           ],
           "sequentialminus": [
            [
             0,
             "#0d0887"
            ],
            [
             0.1111111111111111,
             "#46039f"
            ],
            [
             0.2222222222222222,
             "#7201a8"
            ],
            [
             0.3333333333333333,
             "#9c179e"
            ],
            [
             0.4444444444444444,
             "#bd3786"
            ],
            [
             0.5555555555555556,
             "#d8576b"
            ],
            [
             0.6666666666666666,
             "#ed7953"
            ],
            [
             0.7777777777777778,
             "#fb9f3a"
            ],
            [
             0.8888888888888888,
             "#fdca26"
            ],
            [
             1,
             "#f0f921"
            ]
           ]
          },
          "colorway": [
           "#636efa",
           "#EF553B",
           "#00cc96",
           "#ab63fa",
           "#FFA15A",
           "#19d3f3",
           "#FF6692",
           "#B6E880",
           "#FF97FF",
           "#FECB52"
          ],
          "font": {
           "color": "#2a3f5f"
          },
          "geo": {
           "bgcolor": "white",
           "lakecolor": "white",
           "landcolor": "#E5ECF6",
           "showlakes": true,
           "showland": true,
           "subunitcolor": "white"
          },
          "hoverlabel": {
           "align": "left"
          },
          "hovermode": "closest",
          "mapbox": {
           "style": "light"
          },
          "paper_bgcolor": "white",
          "plot_bgcolor": "#E5ECF6",
          "polar": {
           "angularaxis": {
            "gridcolor": "white",
            "linecolor": "white",
            "ticks": ""
           },
           "bgcolor": "#E5ECF6",
           "radialaxis": {
            "gridcolor": "white",
            "linecolor": "white",
            "ticks": ""
           }
          },
          "scene": {
           "xaxis": {
            "backgroundcolor": "#E5ECF6",
            "gridcolor": "white",
            "gridwidth": 2,
            "linecolor": "white",
            "showbackground": true,
            "ticks": "",
            "zerolinecolor": "white"
           },
           "yaxis": {
            "backgroundcolor": "#E5ECF6",
            "gridcolor": "white",
            "gridwidth": 2,
            "linecolor": "white",
            "showbackground": true,
            "ticks": "",
            "zerolinecolor": "white"
           },
           "zaxis": {
            "backgroundcolor": "#E5ECF6",
            "gridcolor": "white",
            "gridwidth": 2,
            "linecolor": "white",
            "showbackground": true,
            "ticks": "",
            "zerolinecolor": "white"
           }
          },
          "shapedefaults": {
           "line": {
            "color": "#2a3f5f"
           }
          },
          "ternary": {
           "aaxis": {
            "gridcolor": "white",
            "linecolor": "white",
            "ticks": ""
           },
           "baxis": {
            "gridcolor": "white",
            "linecolor": "white",
            "ticks": ""
           },
           "bgcolor": "#E5ECF6",
           "caxis": {
            "gridcolor": "white",
            "linecolor": "white",
            "ticks": ""
           }
          },
          "title": {
           "x": 0.05
          },
          "xaxis": {
           "automargin": true,
           "gridcolor": "white",
           "linecolor": "white",
           "ticks": "",
           "title": {
            "standoff": 15
           },
           "zerolinecolor": "white",
           "zerolinewidth": 2
          },
          "yaxis": {
           "automargin": true,
           "gridcolor": "white",
           "linecolor": "white",
           "ticks": "",
           "title": {
            "standoff": 15
           },
           "zerolinecolor": "white",
           "zerolinewidth": 2
          }
         }
        },
        "title": {
         "text": "Proportions des types de transport utilisés par les voyageurs"
        }
       }
      }
     },
     "metadata": {},
     "output_type": "display_data"
    }
   ],
   "source": [
    "df = pd.read_csv('travel_data_modified.csv')\n",
    "\n",
    "# Compter le nombre de fois que chaque type de transport est utilisé\n",
    "transport_counts = df['Transportation type'].value_counts().reset_index()\n",
    "transport_counts.columns = ['Transportation type', 'Count']\n",
    "\n",
    "# Créer un graphique en donut\n",
    "fig = px.pie(transport_counts,\n",
    "             names='Transportation type',\n",
    "             values='Count',\n",
    "             title='Proportions des types de transport utilisés par les voyageurs',\n",
    "             color='Transportation type',\n",
    "             color_discrete_sequence=px.colors.qualitative.Set2,\n",
    "             hole=0.3)  # Le paramètre hole crée l'effet donut\n",
    "\n",
    "\n",
    "fig.show()"
   ]
  },
  {
   "cell_type": "markdown",
   "metadata": {},
   "source": [
    "Cette visualisation présente la répartition des modes de transport privilégiés par les voyageurs, avec cinq pourcentages (16,4%, 14,5%, 7,99%, 5,38%, 55,7%,) associés aux catégories suivantes : Plane (avion), Train, bus, Car rental (location de voiture), et Boat (bateau).\n",
    "\n",
    "### <font color=\"red\">Conclusion :</font>\n",
    "L’avion est clairement privilégié, ce qui suggère que les voyageurs valorisent la rapidité et acceptent des coûts plus élevés pour gagner du temps. Le train et le bus complètent les besoins en transports économiques ou régionaux. La faible part de la location de voiture et du bateau souligne leur rôle niche. Ces choix impactent directement le coût total (avion = budget accru) et la durée (bus/train = voyages potentiellement plus longs). La dominance de l’avion pourrait aussi indiquer une prévalence de voyages internationaux ou professionnels."
   ]
  },
  {
   "cell_type": "markdown",
   "metadata": {},
   "source": [
    "# ***à retenir***"
   ]
  },
  {
   "cell_type": "markdown",
   "metadata": {},
   "source": [
    "Les caractéristiques des voyageurs (nationalité, genre) et leurs choix logistiques (hébergement, transport) façonnent simultanément la durée et le coût des voyages, selon les dynamiques suivantes :   \n",
    "Nationalité :          \n",
    "        Coût : Détermine les budgets alloués (ex. : dépenses élevées en hébergement/transport pour certaines nationalités), reflétant des priorités culturelles (luxe, confort) ou économiques (low-cost).          \n",
    "        Durée : Influence les séjours longs (ex. : Canadiens, Norvégiens) ou courts (ex. : Brésiliens, Vietnamiens), liés à des habitudes de voyage ou à des contraintes financières.    \n",
    "Genre :          \n",
    "        Durée : Dans certaines cultures (ex. : Espagnols, Turcs), les femmes voyagent plus longtemps, suggérant des rôles sociaux ou des préférences genrées (voyages familiaux, loisirs).\n",
    "Hébergement :          \n",
    "        Durée : Les logements autonomes (villas, Airbnb) ou confortables encouragent des séjours prolongés (16-18 jours), tandis que les options utilitaires (Ride, Hosté) correspondent à des besoins courts (2-6 jours).          \n",
    "        Coût : Les hébergements luxueux augmentent le budget, tandis que les choix économiques permettent d’équilibrer les dépenses.      \n",
    " Transport :          \n",
    "        Coût : L’avion (55,7%), bien que dominant pour sa rapidité, alourdit le budget.\n",
    "        Durée : Le bus ou le train, moins coûteux, rallongent souvent le temps de voyage, tandis que l’avion le réduit.  \n",
    "\n"
   ]
  },
  {
   "cell_type": "markdown",
   "metadata": {},
   "source": [
    " Synthèse Finale :\n",
    " \n",
    "Le coût total d’un voyage est principalement piloté par les choix de transport (priorité à la rapidité vs économie) et d’hébergement (luxe vs low-cost). La durée, quant à elle, dépend de l’interaction entre le type d’hébergement (confort vs praticité) et les contraintes de temps imposées par les transports. Les différences culturelles (nationalité) et sociales (genre) modulent ces choix, créant des profils de voyageurs distincts :               Voyageurs « rapidité-budget » : Avion + hébergement court, pour des séjours coûteux mais brefs.              Voyageurs « économie-durée » : Bus/train + Airbnb/guesthouse, pour des voyages longs à moindre coût.           Ainsi, la durée et le coût des voyages émergent d’un équilibre entre contraintes budgétaires, priorités culturelles, et stratégies individuelles d’optimisation. "
   ]
  }
 ],
 "metadata": {
  "kernelspec": {
   "display_name": "Python 3",
   "language": "python",
   "name": "python3"
  },
  "language_info": {
   "codemirror_mode": {
    "name": "ipython",
    "version": 3
   },
   "file_extension": ".py",
   "mimetype": "text/x-python",
   "name": "python",
   "nbconvert_exporter": "python",
   "pygments_lexer": "ipython3",
   "version": "3.11.6"
  }
 },
 "nbformat": 4,
 "nbformat_minor": 2
}
